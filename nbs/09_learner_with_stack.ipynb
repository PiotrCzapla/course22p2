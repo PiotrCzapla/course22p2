{
 "cells": [
  {
   "cell_type": "code",
   "execution_count": 1,
   "id": "da7e553f",
   "metadata": {},
   "outputs": [],
   "source": [
    "#| default_exp learner_with_stacktrace"
   ]
  },
  {
   "attachments": {},
   "cell_type": "markdown",
   "id": "2c996b3d",
   "metadata": {},
   "source": [
    "# Callbacks as generators + pylance support\n",
    "Here is a possible implementation of Callback system that:\n",
    "- let us use %debug to inspect every executed callback with all its local variables in case an exception was raised,\n",
    "- has minimal changes to the current Callback system, as it is as well based on generators,\n",
    "- adds pylance support (current notebook has 0 issues detected, compared to 60+),\n",
    "- removes circular dependency on learner in callbacks allowing learner to use reference counting for deallocation."
   ]
  },
  {
   "attachments": {},
   "cell_type": "markdown",
   "id": "89a1ad62",
   "metadata": {},
   "source": [
    "## Setup"
   ]
  },
  {
   "cell_type": "code",
   "execution_count": 29,
   "id": "c29af72f",
   "metadata": {},
   "outputs": [
    {
     "name": "stdout",
     "output_type": "stream",
     "text": [
      "env: OMP_NUM_THREADS=1\n"
     ]
    }
   ],
   "source": [
    "#Cannot set number of intraop threads after parallel work has started or after set_num_threads call when using native parallel backend (function set_num_threads)\n",
    "# seams to be issue not only related to torchaudio https://github.com/pytorch/pytorch/issues/46409\n",
    "%env OMP_NUM_THREADS=1"
   ]
  },
  {
   "cell_type": "code",
   "execution_count": 30,
   "id": "7e8f8491",
   "metadata": {},
   "outputs": [],
   "source": [
    "#|export\n",
    "import pickle,gzip,math,os,time,shutil,torch,matplotlib as mpl,numpy as np,matplotlib.pyplot as plt\n",
    "import fastcore.all as fc\n",
    "from collections.abc import Mapping\n",
    "from pathlib import Path\n",
    "from operator import attrgetter,itemgetter\n",
    "from functools import partial\n",
    "from copy import copy\n",
    "from contextlib import contextmanager\n",
    "from warnings import warn\n",
    "\n",
    "from torch import tensor,nn,optim\n",
    "from torch.utils.data import DataLoader,default_collate\n",
    "import torch.nn.functional as F\n",
    "import torchvision.transforms.functional as TF\n",
    "from datasets import load_dataset,load_dataset_builder # type: ignore\n",
    "from miniai.datasets import *\n",
    "from miniai.conv import *\n",
    "\n",
    "from fastprogress import progress_bar,master_bar"
   ]
  },
  {
   "cell_type": "code",
   "execution_count": 31,
   "id": "8f5eea66",
   "metadata": {},
   "outputs": [
    {
     "data": {
      "application/vnd.jupyter.widget-view+json": {
       "model_id": "5b5f80c7783b4bf6a4811f7059ef3fe2",
       "version_major": 2,
       "version_minor": 0
      },
      "text/plain": [
       "  0%|          | 0/2 [00:00<?, ?it/s]"
      ]
     },
     "metadata": {},
     "output_type": "display_data"
    }
   ],
   "source": [
    "# Init from 09_learner.ipynb\n",
    "from fastcore.test import test_close\n",
    "\n",
    "torch.set_printoptions(precision=2, linewidth=140, sci_mode=False)\n",
    "torch.manual_seed(1)\n",
    "mpl.rcParams['image.cmap'] = 'gray'\n",
    "\n",
    "import logging\n",
    "logging.disable(logging.WARNING)\n",
    "from torcheval.metrics import MulticlassAccuracy,Mean\n",
    "x,y = 'image','label'\n",
    "name = \"fashion_mnist\"\n",
    "dsd = load_dataset(name)\n",
    "@inplace\n",
    "def transformi(b): b[x] = [torch.flatten(TF.to_tensor(o)) for o in b[x]]\n",
    "bs = 1024\n",
    "tds = dsd.with_transform(transformi) # type: ignore\n",
    "from miniai.learner import *\n",
    "dls = DataLoaders.from_dd(tds, bs, num_workers=4)\n",
    "dt = dls.train\n",
    "xb,yb = next(iter(dt))\n",
    "m,nh = 28*28,50\n",
    "def get_model(): return nn.Sequential(nn.Linear(m,nh), nn.ReLU(), nn.Linear(nh,10))"
   ]
  },
  {
   "attachments": {},
   "cell_type": "markdown",
   "id": "3382722b",
   "metadata": {},
   "source": [
    "## New callbacks\n",
    "I figure out a way to achieve this with minimal changes to the current `Callbacks`, \n",
    "I'm using `yield from`  as a way to pass the execution flow retaining function on the stack.\n",
    "Callback looks like this now:\n",
    "\n",
    "```python\n",
    "class CompletionCB(CallbackBase):\n",
    "    def fit(self, learn):\n",
    "        # former before_fit method\n",
    "        self.count = 0 \n",
    "        yield from super().fit(learn) # passes execution to the next callback\n",
    "        # former after_fit method\n",
    "        print(f'Completed {self.count} batches')\n",
    "    def batch(self, learn): \n",
    "        yield from super().batch(learn) \n",
    "        # former after_batch method \n",
    "        self.count += 1\n",
    "```\n",
    "\n",
    "The use of yield from creates a nice stacktrace if we properly use `Generator.throw` to put in an exception catched in\n",
    "the `callback_ctx` context manager. Below minimal example that shows how it works in python\n",
    "For more experiments see [09_callback_stack.ipynb](09_callback_stack.ipynb)"
   ]
  },
  {
   "cell_type": "code",
   "execution_count": 2,
   "id": "aac39978",
   "metadata": {},
   "outputs": [
    {
     "name": "stdout",
     "output_type": "stream",
     "text": [
      "before cb1\n",
      "before cb2\n"
     ]
    },
    {
     "ename": "Exception",
     "evalue": "test",
     "output_type": "error",
     "traceback": [
      "\u001b[0;31m---------------------------------------------------------------------------\u001b[0m",
      "\u001b[0;31mException\u001b[0m                                 Traceback (most recent call last)",
      "Cell \u001b[0;32mIn[2], line 12\u001b[0m\n\u001b[1;32m     10\u001b[0m gen \u001b[39m=\u001b[39m cb1()\n\u001b[1;32m     11\u001b[0m \u001b[39mnext\u001b[39m(gen)\n\u001b[0;32m---> 12\u001b[0m gen\u001b[39m.\u001b[39;49mthrow(\u001b[39mException\u001b[39;49;00m(\u001b[39m'\u001b[39;49m\u001b[39mtest\u001b[39;49m\u001b[39m'\u001b[39;49m))\n",
      "Cell \u001b[0;32mIn[2], line 3\u001b[0m, in \u001b[0;36mcb1\u001b[0;34m(**kwargs)\u001b[0m\n\u001b[1;32m      1\u001b[0m \u001b[39mdef\u001b[39;00m \u001b[39mcb1\u001b[39m(\u001b[39m*\u001b[39m\u001b[39m*\u001b[39mkwargs):\n\u001b[1;32m      2\u001b[0m     \u001b[39mprint\u001b[39m(\u001b[39m'\u001b[39m\u001b[39mbefore cb1\u001b[39m\u001b[39m'\u001b[39m)\n\u001b[0;32m----> 3\u001b[0m     \u001b[39myield from\u001b[39;00m cb2(\u001b[39m*\u001b[39m\u001b[39m*\u001b[39mkwargs)\n\u001b[1;32m      4\u001b[0m     \u001b[39mprint\u001b[39m(\u001b[39m'\u001b[39m\u001b[39mafter cb1\u001b[39m\u001b[39m'\u001b[39m)\n",
      "Cell \u001b[0;32mIn[2], line 7\u001b[0m, in \u001b[0;36mcb2\u001b[0;34m(**kwargs)\u001b[0m\n\u001b[1;32m      5\u001b[0m \u001b[39mdef\u001b[39;00m \u001b[39mcb2\u001b[39m(\u001b[39m*\u001b[39m\u001b[39m*\u001b[39mkwargs):\n\u001b[1;32m      6\u001b[0m     \u001b[39mprint\u001b[39m(\u001b[39m'\u001b[39m\u001b[39mbefore cb2\u001b[39m\u001b[39m'\u001b[39m)\n\u001b[0;32m----> 7\u001b[0m     \u001b[39myield\u001b[39;00m \u001b[39m1\u001b[39m\n\u001b[1;32m      8\u001b[0m     \u001b[39mprint\u001b[39m(\u001b[39m'\u001b[39m\u001b[39mafter cb2\u001b[39m\u001b[39m'\u001b[39m)\n",
      "\u001b[0;31mException\u001b[0m: test"
     ]
    }
   ],
   "source": [
    "def cb1(**kwargs):\n",
    "    print('before cb1')\n",
    "    yield from cb2(**kwargs)\n",
    "    print('after cb1')\n",
    "def cb2(**kwargs):\n",
    "    print('before cb2')\n",
    "    yield 1\n",
    "    print('after cb2')\n",
    "\n",
    "gen = cb1()\n",
    "next(gen)\n",
    "gen.throw(Exception('test'))"
   ]
  },
  {
   "cell_type": "code",
   "execution_count": 3,
   "id": "bd420b2c",
   "metadata": {},
   "outputs": [
    {
     "name": "stdout",
     "output_type": "stream",
     "text": [
      "before cb1\n",
      "before cb2\n"
     ]
    },
    {
     "ename": "Exception",
     "evalue": "test",
     "output_type": "error",
     "traceback": [
      "\u001b[0;31m---------------------------------------------------------------------------\u001b[0m",
      "\u001b[0;31mException\u001b[0m                                 Traceback (most recent call last)",
      "Cell \u001b[0;32mIn[3], line 12\u001b[0m\n\u001b[1;32m     10\u001b[0m gen \u001b[39m=\u001b[39m cb1()\n\u001b[1;32m     11\u001b[0m \u001b[39mnext\u001b[39m(gen)\n\u001b[0;32m---> 12\u001b[0m gen\u001b[39m.\u001b[39;49mthrow(\u001b[39mException\u001b[39;49;00m(\u001b[39m'\u001b[39;49m\u001b[39mtest\u001b[39;49m\u001b[39m'\u001b[39;49m))\n",
      "Cell \u001b[0;32mIn[3], line 3\u001b[0m, in \u001b[0;36mcb1\u001b[0;34m(**kwargs)\u001b[0m\n\u001b[1;32m      1\u001b[0m \u001b[39mdef\u001b[39;00m \u001b[39mcb1\u001b[39m(\u001b[39m*\u001b[39m\u001b[39m*\u001b[39mkwargs):\n\u001b[1;32m      2\u001b[0m     \u001b[39mprint\u001b[39m(\u001b[39m'\u001b[39m\u001b[39mbefore cb1\u001b[39m\u001b[39m'\u001b[39m)\n\u001b[0;32m----> 3\u001b[0m     \u001b[39myield\u001b[39;00m \u001b[39mnext\u001b[39m(cb2(\u001b[39m*\u001b[39m\u001b[39m*\u001b[39mkwargs))\n\u001b[1;32m      4\u001b[0m     \u001b[39mprint\u001b[39m(\u001b[39m'\u001b[39m\u001b[39mafter cb1\u001b[39m\u001b[39m'\u001b[39m)\n",
      "\u001b[0;31mException\u001b[0m: test"
     ]
    }
   ],
   "source": [
    "def cb1(**kwargs):\n",
    "    print('before cb1')\n",
    "    yield next(cb2(**kwargs))\n",
    "    print('after cb1')\n",
    "def cb2(**kwargs):\n",
    "    print('before cb2')\n",
    "    yield 1\n",
    "    print('after cb2')\n",
    "\n",
    "gen = cb1()\n",
    "next(gen)\n",
    "gen.throw(Exception('test'))"
   ]
  },
  {
   "cell_type": "code",
   "execution_count": null,
   "id": "fb961c62",
   "metadata": {},
   "outputs": [],
   "source": []
  },
  {
   "attachments": {},
   "cell_type": "markdown",
   "id": "3649e289",
   "metadata": {},
   "source": [
    "\n",
    "\n",
    "\n",
    "\n",
    "\n",
    "### How yield from works to form a stacktrace in case of exception"
   ]
  },
  {
   "cell_type": "code",
   "execution_count": 32,
   "id": "37de3bb0",
   "metadata": {},
   "outputs": [
    {
     "name": "stdout",
     "output_type": "stream",
     "text": [
      "before any callbacks <generator object cb1 at 0x1509c2180>\n",
      "before cb1\n",
      "before cb2\n",
      "before yield 1 - Finishing a chain by yielding None\n",
      ">>> body of the with statement\n",
      "1.0\n",
      "after yield 1\n",
      "after cb2\n",
      "after cb1\n"
     ]
    }
   ],
   "source": [
    "def cb1(set_val=None,**kwargs):\n",
    "    print('before cb1')\n",
    "    if set_val is not None: kwargs['val']=set_val\n",
    "    yield from cb2(**kwargs)\n",
    "    print('after cb1')\n",
    "\n",
    "def cb2(throw_in_chain=False, **kwargs):\n",
    "    print('before cb2')\n",
    "    if throw_in_chain: raise Exception('error')\n",
    "    yield from end_of_chain(**kwargs)\n",
    "    print('after cb2')\n",
    "\n",
    "def end_of_chain(val, **kwargs):\n",
    "    print(f'before yield {val} - Finishing a chain by yielding None')\n",
    "    yield val\n",
    "    print(f'after yield {val}')\n",
    "\n",
    "import traceback\n",
    "@contextmanager\n",
    "def context(**kwargs):\n",
    "    gen = cb1(val=1, **kwargs) # callback not yet executed\n",
    "    print(\"before any callbacks\", gen)\n",
    "    try:\n",
    "        yield from gen # this executes the 'before' callbacks then body of with and then the 'after' callbacks\n",
    "    except Exception as e:\n",
    "        gen.throw(RuntimeError, e, e.__traceback__) # I need to change the exception type so that the traceback is not cut\n",
    "        list(gen) # this finish the chain of callbacks\n",
    "        \n",
    "with context() as val:\n",
    "    print('>>> body of the with statement') \n",
    "    print(1/val)\n"
   ]
  },
  {
   "cell_type": "code",
   "execution_count": 33,
   "id": "c5cc184f",
   "metadata": {},
   "outputs": [
    {
     "name": "stdout",
     "output_type": "stream",
     "text": [
      "before any callbacks <generator object cb1 at 0x1509c21f0>\n",
      "before cb1\n",
      "before cb2\n",
      "before yield 0 - Finishing a chain by yielding None\n",
      ">>> Body of the with statement\n",
      ">>> + exception\n"
     ]
    },
    {
     "ename": "RuntimeError",
     "evalue": "division by zero",
     "output_type": "error",
     "traceback": [
      "\u001b[0;31m---------------------------------------------------------------------------\u001b[0m",
      "\u001b[0;31mRuntimeError\u001b[0m                              Traceback (most recent call last)",
      "Cell \u001b[0;32mIn[33], line 1\u001b[0m\n\u001b[0;32m----> 1\u001b[0m \u001b[39mwith\u001b[39;00m context(set_val\u001b[39m=\u001b[39m\u001b[39m0\u001b[39m) \u001b[39mas\u001b[39;00m val:\n\u001b[1;32m      2\u001b[0m     \u001b[39mprint\u001b[39m(\u001b[39m'\u001b[39m\u001b[39m>>> Body of the with statement\u001b[39m\u001b[39m'\u001b[39m)\n\u001b[1;32m      3\u001b[0m     \u001b[39mprint\u001b[39m(\u001b[39m'\u001b[39m\u001b[39m>>> + exception\u001b[39m\u001b[39m'\u001b[39m)\n",
      "File \u001b[0;32m/opt/homebrew/Caskroom/miniforge/base/envs/miniai/lib/python3.10/contextlib.py:153\u001b[0m, in \u001b[0;36m_GeneratorContextManager.__exit__\u001b[0;34m(self, typ, value, traceback)\u001b[0m\n\u001b[1;32m    151\u001b[0m     value \u001b[39m=\u001b[39m typ()\n\u001b[1;32m    152\u001b[0m \u001b[39mtry\u001b[39;00m:\n\u001b[0;32m--> 153\u001b[0m     \u001b[39mself\u001b[39;49m\u001b[39m.\u001b[39;49mgen\u001b[39m.\u001b[39;49mthrow(typ, value, traceback)\n\u001b[1;32m    154\u001b[0m \u001b[39mexcept\u001b[39;00m \u001b[39mStopIteration\u001b[39;00m \u001b[39mas\u001b[39;00m exc:\n\u001b[1;32m    155\u001b[0m     \u001b[39m# Suppress StopIteration *unless* it's the same exception that\u001b[39;00m\n\u001b[1;32m    156\u001b[0m     \u001b[39m# was passed to throw().  This prevents a StopIteration\u001b[39;00m\n\u001b[1;32m    157\u001b[0m     \u001b[39m# raised inside the \"with\" statement from being suppressed.\u001b[39;00m\n\u001b[1;32m    158\u001b[0m     \u001b[39mreturn\u001b[39;00m exc \u001b[39mis\u001b[39;00m \u001b[39mnot\u001b[39;00m value\n",
      "Cell \u001b[0;32mIn[32], line 26\u001b[0m, in \u001b[0;36mcontext\u001b[0;34m(**kwargs)\u001b[0m\n\u001b[1;32m     24\u001b[0m     \u001b[39myield from\u001b[39;00m gen \u001b[39m# this executes the 'before' callbacks then body of with and then the 'after' callbacks\u001b[39;00m\n\u001b[1;32m     25\u001b[0m \u001b[39mexcept\u001b[39;00m \u001b[39mException\u001b[39;00m \u001b[39mas\u001b[39;00m e:\n\u001b[0;32m---> 26\u001b[0m     gen\u001b[39m.\u001b[39;49mthrow(\u001b[39mRuntimeError\u001b[39;49;00m, e, e\u001b[39m.\u001b[39;49m__traceback__) \u001b[39m# I need to change the exception type so that the traceback is not cut\u001b[39;00m\n\u001b[1;32m     27\u001b[0m     \u001b[39mlist\u001b[39m(gen)\n",
      "Cell \u001b[0;32mIn[32], line 24\u001b[0m, in \u001b[0;36mcontext\u001b[0;34m(**kwargs)\u001b[0m\n\u001b[1;32m     22\u001b[0m \u001b[39mprint\u001b[39m(\u001b[39m\"\u001b[39m\u001b[39mbefore any callbacks\u001b[39m\u001b[39m\"\u001b[39m, gen)\n\u001b[1;32m     23\u001b[0m \u001b[39mtry\u001b[39;00m:\n\u001b[0;32m---> 24\u001b[0m     \u001b[39myield from\u001b[39;00m gen \u001b[39m# this executes the 'before' callbacks then body of with and then the 'after' callbacks\u001b[39;00m\n\u001b[1;32m     25\u001b[0m \u001b[39mexcept\u001b[39;00m \u001b[39mException\u001b[39;00m \u001b[39mas\u001b[39;00m e:\n\u001b[1;32m     26\u001b[0m     gen\u001b[39m.\u001b[39mthrow(\u001b[39mRuntimeError\u001b[39;00m, e, e\u001b[39m.\u001b[39m__traceback__) \u001b[39m# I need to change the exception type so that the traceback is not cut\u001b[39;00m\n",
      "Cell \u001b[0;32mIn[32], line 4\u001b[0m, in \u001b[0;36mcb1\u001b[0;34m(set_val, **kwargs)\u001b[0m\n\u001b[1;32m      2\u001b[0m \u001b[39mprint\u001b[39m(\u001b[39m'\u001b[39m\u001b[39mbefore cb1\u001b[39m\u001b[39m'\u001b[39m)\n\u001b[1;32m      3\u001b[0m \u001b[39mif\u001b[39;00m set_val \u001b[39mis\u001b[39;00m \u001b[39mnot\u001b[39;00m \u001b[39mNone\u001b[39;00m: kwargs[\u001b[39m'\u001b[39m\u001b[39mval\u001b[39m\u001b[39m'\u001b[39m]\u001b[39m=\u001b[39mset_val\n\u001b[0;32m----> 4\u001b[0m \u001b[39myield from\u001b[39;00m cb2(\u001b[39m*\u001b[39m\u001b[39m*\u001b[39mkwargs)\n\u001b[1;32m      5\u001b[0m \u001b[39mprint\u001b[39m(\u001b[39m'\u001b[39m\u001b[39mafter cb1\u001b[39m\u001b[39m'\u001b[39m)\n",
      "Cell \u001b[0;32mIn[32], line 10\u001b[0m, in \u001b[0;36mcb2\u001b[0;34m(throw_in_chain, **kwargs)\u001b[0m\n\u001b[1;32m      8\u001b[0m \u001b[39mprint\u001b[39m(\u001b[39m'\u001b[39m\u001b[39mbefore cb2\u001b[39m\u001b[39m'\u001b[39m)\n\u001b[1;32m      9\u001b[0m \u001b[39mif\u001b[39;00m throw_in_chain: \u001b[39mraise\u001b[39;00m \u001b[39mException\u001b[39;00m(\u001b[39m'\u001b[39m\u001b[39merror\u001b[39m\u001b[39m'\u001b[39m)\n\u001b[0;32m---> 10\u001b[0m \u001b[39myield from\u001b[39;00m end_of_chain(\u001b[39m*\u001b[39m\u001b[39m*\u001b[39mkwargs)\n\u001b[1;32m     11\u001b[0m \u001b[39mprint\u001b[39m(\u001b[39m'\u001b[39m\u001b[39mafter cb2\u001b[39m\u001b[39m'\u001b[39m)\n",
      "Cell \u001b[0;32mIn[32], line 15\u001b[0m, in \u001b[0;36mend_of_chain\u001b[0;34m(val, **kwargs)\u001b[0m\n\u001b[1;32m     13\u001b[0m \u001b[39mdef\u001b[39;00m \u001b[39mend_of_chain\u001b[39m(val, \u001b[39m*\u001b[39m\u001b[39m*\u001b[39mkwargs):\n\u001b[1;32m     14\u001b[0m     \u001b[39mprint\u001b[39m(\u001b[39mf\u001b[39m\u001b[39m'\u001b[39m\u001b[39mbefore yield \u001b[39m\u001b[39m{\u001b[39;00mval\u001b[39m}\u001b[39;00m\u001b[39m - Finishing a chain by yielding None\u001b[39m\u001b[39m'\u001b[39m)\n\u001b[0;32m---> 15\u001b[0m     \u001b[39myield\u001b[39;00m val\n\u001b[1;32m     16\u001b[0m     \u001b[39mprint\u001b[39m(\u001b[39mf\u001b[39m\u001b[39m'\u001b[39m\u001b[39mafter yield \u001b[39m\u001b[39m{\u001b[39;00mval\u001b[39m}\u001b[39;00m\u001b[39m'\u001b[39m)\n",
      "Cell \u001b[0;32mIn[33], line 4\u001b[0m\n\u001b[1;32m      2\u001b[0m \u001b[39mprint\u001b[39m(\u001b[39m'\u001b[39m\u001b[39m>>> Body of the with statement\u001b[39m\u001b[39m'\u001b[39m)\n\u001b[1;32m      3\u001b[0m \u001b[39mprint\u001b[39m(\u001b[39m'\u001b[39m\u001b[39m>>> + exception\u001b[39m\u001b[39m'\u001b[39m)\n\u001b[0;32m----> 4\u001b[0m \u001b[39mprint\u001b[39m(\u001b[39m1\u001b[39;49m\u001b[39m/\u001b[39;49mval)\n",
      "\u001b[0;31mRuntimeError\u001b[0m: division by zero"
     ]
    }
   ],
   "source": [
    "with context(set_val=0) as val:\n",
    "    print('>>> Body of the with statement')\n",
    "    print('>>> + exception')\n",
    "    print(1/val)"
   ]
  },
  {
   "cell_type": "code",
   "execution_count": null,
   "id": "e6b2f18c",
   "metadata": {},
   "outputs": [
    {
     "name": "stdout",
     "output_type": "stream",
     "text": [
      "> \u001b[0;32m/var/folders/f2/nlr2kz4j2q542b5xz6z640500000gn/T/ipykernel_60935/154339608.py\u001b[0m(4)\u001b[0;36m<module>\u001b[0;34m()\u001b[0m\n",
      "\u001b[0;32m      1 \u001b[0;31m\u001b[0;32mwith\u001b[0m \u001b[0mcontext\u001b[0m\u001b[0;34m(\u001b[0m\u001b[0mset_val\u001b[0m\u001b[0;34m=\u001b[0m\u001b[0;36m0\u001b[0m\u001b[0;34m)\u001b[0m \u001b[0;32mas\u001b[0m \u001b[0mval\u001b[0m\u001b[0;34m:\u001b[0m\u001b[0;34m\u001b[0m\u001b[0;34m\u001b[0m\u001b[0m\n",
      "\u001b[0m\u001b[0;32m      2 \u001b[0;31m    \u001b[0mprint\u001b[0m\u001b[0;34m(\u001b[0m\u001b[0;34m'>>> Body of the with statement'\u001b[0m\u001b[0;34m)\u001b[0m\u001b[0;34m\u001b[0m\u001b[0;34m\u001b[0m\u001b[0m\n",
      "\u001b[0m\u001b[0;32m      3 \u001b[0;31m    \u001b[0mprint\u001b[0m\u001b[0;34m(\u001b[0m\u001b[0;34m'>>> + exception'\u001b[0m\u001b[0;34m)\u001b[0m\u001b[0;34m\u001b[0m\u001b[0;34m\u001b[0m\u001b[0m\n",
      "\u001b[0m\u001b[0;32m----> 4 \u001b[0;31m    \u001b[0mprint\u001b[0m\u001b[0;34m(\u001b[0m\u001b[0;36m1\u001b[0m\u001b[0;34m/\u001b[0m\u001b[0mval\u001b[0m\u001b[0;34m)\u001b[0m\u001b[0;34m\u001b[0m\u001b[0;34m\u001b[0m\u001b[0m\n",
      "\u001b[0m\n",
      "0\n",
      "> \u001b[0;32m/var/folders/f2/nlr2kz4j2q542b5xz6z640500000gn/T/ipykernel_60935/2020174593.py\u001b[0m(15)\u001b[0;36mend_of_chain\u001b[0;34m()\u001b[0m\n",
      "\u001b[0;32m     13 \u001b[0;31m\u001b[0;32mdef\u001b[0m \u001b[0mend_of_chain\u001b[0m\u001b[0;34m(\u001b[0m\u001b[0mval\u001b[0m\u001b[0;34m,\u001b[0m \u001b[0;34m**\u001b[0m\u001b[0mkwargs\u001b[0m\u001b[0;34m)\u001b[0m\u001b[0;34m:\u001b[0m\u001b[0;34m\u001b[0m\u001b[0;34m\u001b[0m\u001b[0m\n",
      "\u001b[0m\u001b[0;32m     14 \u001b[0;31m    \u001b[0mprint\u001b[0m\u001b[0;34m(\u001b[0m\u001b[0;34mf'before yield {val} - Finishing a chain by yielding None'\u001b[0m\u001b[0;34m)\u001b[0m\u001b[0;34m\u001b[0m\u001b[0;34m\u001b[0m\u001b[0m\n",
      "\u001b[0m\u001b[0;32m---> 15 \u001b[0;31m    \u001b[0;32myield\u001b[0m \u001b[0mval\u001b[0m\u001b[0;34m\u001b[0m\u001b[0;34m\u001b[0m\u001b[0m\n",
      "\u001b[0m\u001b[0;32m     16 \u001b[0;31m    \u001b[0mprint\u001b[0m\u001b[0;34m(\u001b[0m\u001b[0;34mf'after yield {val}'\u001b[0m\u001b[0;34m)\u001b[0m\u001b[0;34m\u001b[0m\u001b[0;34m\u001b[0m\u001b[0m\n",
      "\u001b[0m\u001b[0;32m     17 \u001b[0;31m\u001b[0;34m\u001b[0m\u001b[0m\n",
      "\u001b[0m\n",
      "> \u001b[0;32m/var/folders/f2/nlr2kz4j2q542b5xz6z640500000gn/T/ipykernel_60935/2020174593.py\u001b[0m(10)\u001b[0;36mcb2\u001b[0;34m()\u001b[0m\n",
      "\u001b[0;32m      8 \u001b[0;31m    \u001b[0mprint\u001b[0m\u001b[0;34m(\u001b[0m\u001b[0;34m'before cb2'\u001b[0m\u001b[0;34m)\u001b[0m\u001b[0;34m\u001b[0m\u001b[0;34m\u001b[0m\u001b[0m\n",
      "\u001b[0m\u001b[0;32m      9 \u001b[0;31m    \u001b[0;32mif\u001b[0m \u001b[0mthrow_in_chain\u001b[0m\u001b[0;34m:\u001b[0m \u001b[0;32mraise\u001b[0m \u001b[0mException\u001b[0m\u001b[0;34m(\u001b[0m\u001b[0;34m'error'\u001b[0m\u001b[0;34m)\u001b[0m\u001b[0;34m\u001b[0m\u001b[0;34m\u001b[0m\u001b[0m\n",
      "\u001b[0m\u001b[0;32m---> 10 \u001b[0;31m    \u001b[0;32myield\u001b[0m \u001b[0;32mfrom\u001b[0m \u001b[0mend_of_chain\u001b[0m\u001b[0;34m(\u001b[0m\u001b[0;34m**\u001b[0m\u001b[0mkwargs\u001b[0m\u001b[0;34m)\u001b[0m\u001b[0;34m\u001b[0m\u001b[0;34m\u001b[0m\u001b[0m\n",
      "\u001b[0m\u001b[0;32m     11 \u001b[0;31m    \u001b[0mprint\u001b[0m\u001b[0;34m(\u001b[0m\u001b[0;34m'after cb2'\u001b[0m\u001b[0;34m)\u001b[0m\u001b[0;34m\u001b[0m\u001b[0;34m\u001b[0m\u001b[0m\n",
      "\u001b[0m\u001b[0;32m     12 \u001b[0;31m\u001b[0;34m\u001b[0m\u001b[0m\n",
      "\u001b[0m\n",
      "{'val': 0}\n",
      "> \u001b[0;32m/var/folders/f2/nlr2kz4j2q542b5xz6z640500000gn/T/ipykernel_60935/2020174593.py\u001b[0m(4)\u001b[0;36mcb1\u001b[0;34m()\u001b[0m\n",
      "\u001b[0;32m      2 \u001b[0;31m    \u001b[0mprint\u001b[0m\u001b[0;34m(\u001b[0m\u001b[0;34m'before cb1'\u001b[0m\u001b[0;34m)\u001b[0m\u001b[0;34m\u001b[0m\u001b[0;34m\u001b[0m\u001b[0m\n",
      "\u001b[0m\u001b[0;32m      3 \u001b[0;31m    \u001b[0;32mif\u001b[0m \u001b[0mset_val\u001b[0m \u001b[0;32mis\u001b[0m \u001b[0;32mnot\u001b[0m \u001b[0;32mNone\u001b[0m\u001b[0;34m:\u001b[0m \u001b[0mkwargs\u001b[0m\u001b[0;34m[\u001b[0m\u001b[0;34m'val'\u001b[0m\u001b[0;34m]\u001b[0m\u001b[0;34m=\u001b[0m\u001b[0mset_val\u001b[0m\u001b[0;34m\u001b[0m\u001b[0;34m\u001b[0m\u001b[0m\n",
      "\u001b[0m\u001b[0;32m----> 4 \u001b[0;31m    \u001b[0;32myield\u001b[0m \u001b[0;32mfrom\u001b[0m \u001b[0mcb2\u001b[0m\u001b[0;34m(\u001b[0m\u001b[0;34m**\u001b[0m\u001b[0mkwargs\u001b[0m\u001b[0;34m)\u001b[0m\u001b[0;34m\u001b[0m\u001b[0;34m\u001b[0m\u001b[0m\n",
      "\u001b[0m\u001b[0;32m      5 \u001b[0;31m    \u001b[0mprint\u001b[0m\u001b[0;34m(\u001b[0m\u001b[0;34m'after cb1'\u001b[0m\u001b[0;34m)\u001b[0m\u001b[0;34m\u001b[0m\u001b[0;34m\u001b[0m\u001b[0m\n",
      "\u001b[0m\u001b[0;32m      6 \u001b[0;31m\u001b[0;34m\u001b[0m\u001b[0m\n",
      "\u001b[0m\n",
      "{'val': 0}\n",
      "0\n",
      "'set_val=0'\n"
     ]
    }
   ],
   "source": [
    "%debug"
   ]
  },
  {
   "attachments": {},
   "cell_type": "markdown",
   "id": "1569ec41",
   "metadata": {},
   "source": [
    "### Callbacks chain implementation"
   ]
  },
  {
   "cell_type": "code",
   "execution_count": 34,
   "id": "03007558",
   "metadata": {},
   "outputs": [],
   "source": [
    "import typing\n",
    "import dataclasses"
   ]
  },
  {
   "cell_type": "code",
   "execution_count": 35,
   "id": "e2aa416d",
   "metadata": {},
   "outputs": [
    {
     "data": {
      "text/plain": [
       "<miniai.learner.TrainCB at 0x1509c8ee0>"
      ]
     },
     "execution_count": 35,
     "metadata": {},
     "output_type": "execute_result"
    }
   ],
   "source": [
    "TrainCB().predict.__self__"
   ]
  },
  {
   "attachments": {},
   "cell_type": "markdown",
   "id": "87c38094",
   "metadata": {},
   "source": [
    "Note that the control flow exceptions like `CancelEpochException` are put on coresponding\n",
    "methods as `epoch.CancelException`. It let us avoid accessing `globals` via string names.\n",
    "And it is handy to cancel execution as you can simply type `raise super().epoch.CancelException()`"
   ]
  },
  {
   "cell_type": "code",
   "execution_count": 36,
   "id": "b1d23e9a",
   "metadata": {},
   "outputs": [],
   "source": [
    "def cb_wrapper(f):\n",
    "    name  = f.__name__\n",
    "    def _inner(*args, **kwargs):\n",
    "        gen = f(*args, **kwargs)\n",
    "        if gen is None: \n",
    "            return getattr(super(type(f.__self__), f.__self__), name)(*args, **kwargs)\n",
    "        return gen\n",
    "    return _inner\n",
    "\n",
    "class EndOfCallbackChain():\n",
    "    def end(self, learn): yield None\n",
    "    def __getattr__(self, name): return self.end\n",
    "    \n",
    "class CallbackBase():\n",
    "    order = 0\n",
    "    next:typing.Union[EndOfCallbackChain,'CallbackBase'] = EndOfCallbackChain()\n",
    "    def fit(self, learn): yield from cb_wrapper(self.next.fit)(learn)\n",
    "    def epoch(self, learn): yield from cb_wrapper(self.next.epoch)(learn)\n",
    "    def batch(self, learn): yield from cb_wrapper(self.next.batch)(learn)\n",
    "    def predict(self, learn): self.next.predict(learn)\n",
    "    def get_loss(self, learn): self.next.get_loss(learn)\n",
    "    def backward(self, learn): self.next.backward(learn)\n",
    "    def step(self, learn): self.next.step(learn)\n",
    "    def zero_grad(self, learn): self.next.zero_grad(learn)\n",
    "\n",
    "class CallbackChain(CallbackBase):\n",
    "    def __init__(self, cbs):\n",
    "        cbs = sorted(cbs, key=attrgetter('order'))\n",
    "        n = EndOfCallbackChain()\n",
    "        for cb in reversed(cbs): cb.next, n = n, cb\n",
    "        self.next = n"
   ]
  },
  {
   "cell_type": "code",
   "execution_count": 37,
   "id": "9ddaca18",
   "metadata": {},
   "outputs": [
    {
     "name": "stdout",
     "output_type": "stream",
     "text": [
      "before_fit action, without yield\n",
      "before_fit action, without yield\n"
     ]
    },
    {
     "data": {
      "text/plain": [
       "[None]"
      ]
     },
     "execution_count": 37,
     "metadata": {},
     "output_type": "execute_result"
    }
   ],
   "source": [
    "class BrokenCallback(CallbackBase):\n",
    "    order=100\n",
    "    def fit(self, learn): \n",
    "        print(\"before_fit action, without yield\")\n",
    "cb = CallbackChain([BrokenCallback(), BrokenCallback()])\n",
    "list(cb.fit(None))"
   ]
  },
  {
   "cell_type": "code",
   "execution_count": 38,
   "id": "65576d8a",
   "metadata": {},
   "outputs": [],
   "source": [
    "@dataclasses.dataclass\n",
    "class OldCBAdapter(CallbackBase):\n",
    "    old_cb:Callback\n",
    "    def as_gen(self, name, learn): \n",
    "        getattr(self.old_cb,f'before_{name}', id)(learn)    \n",
    "        yield from super().fit(learn)\n",
    "        getattr(self.old_cb,f'after_{name}', id)(learn)   \n",
    "\n",
    "    def __getattribute__(self, name): \n",
    "        if name in ('fit','epoch','batch'): \n",
    "            p = partial(self.as_gen, name)\n",
    "            p.__name__ = name\n",
    "            return p\n",
    "        if name in ('predict','get_loss','backward','step','zero_grad'): return getattr(self.old_cb, name)\n",
    "        return object.__getattribute__(self, name)\n",
    "    @classmethod\n",
    "    def wrap_if_old(cls, cb): \n",
    "        if isinstance(cb, Callback): return cls(cb)\n",
    "        return cb"
   ]
  },
  {
   "cell_type": "code",
   "execution_count": 39,
   "id": "facfbf26",
   "metadata": {},
   "outputs": [
    {
     "name": "stdout",
     "output_type": "stream",
     "text": [
      "before_fit action\n",
      "after_fit action\n"
     ]
    },
    {
     "data": {
      "text/plain": [
       "[None]"
      ]
     },
     "execution_count": 39,
     "metadata": {},
     "output_type": "execute_result"
    }
   ],
   "source": [
    "class TestOldCB(Callback):\n",
    "    def before_fit(self, learn): print('before_fit action')\n",
    "    def after_fit(self, learn): print('after_fit action')\n",
    "    def before_epoch(self, learn): print('before_epoch action')\n",
    "    def after_epoch(self, learn): print('after_epoch action')\n",
    "    def before_batch(self, learn): print('before_batch action')\n",
    "    def after_batch(self, learn): print('after_batch action')\n",
    "\n",
    "cb = OldCBAdapter(TestOldCB())\n",
    "list(cb.fit(None))"
   ]
  },
  {
   "cell_type": "code",
   "execution_count": 40,
   "id": "38f1afed",
   "metadata": {},
   "outputs": [],
   "source": [
    "class CallbackChain(CallbackBase):\n",
    "    def __init__(self, cbs):\n",
    "        cbs = sorted(map(OldCBAdapter.wrap_if_old, cbs), key=attrgetter('order'))\n",
    "        n = EndOfCallbackChain()\n",
    "        for cb in reversed(cbs): cb.next, n = n, cb\n",
    "        self.next = n"
   ]
  },
  {
   "cell_type": "code",
   "execution_count": 41,
   "id": "4564ee97",
   "metadata": {},
   "outputs": [
    {
     "name": "stdout",
     "output_type": "stream",
     "text": [
      "before_fit action\n",
      "before_fit action, without yield\n",
      "after_fit action\n"
     ]
    },
    {
     "data": {
      "text/plain": [
       "[None]"
      ]
     },
     "execution_count": 41,
     "metadata": {},
     "output_type": "execute_result"
    }
   ],
   "source": [
    "cb = CallbackChain([TestOldCB(), BrokenCallback()])\n",
    "list(cb.fit(None))"
   ]
  },
  {
   "attachments": {},
   "cell_type": "markdown",
   "id": "cb451ce1",
   "metadata": {},
   "source": [
    "End to end callback test with way to execute it"
   ]
  },
  {
   "cell_type": "code",
   "execution_count": 42,
   "id": "583ce114",
   "metadata": {},
   "outputs": [],
   "source": [
    "class CompletionCB(CallbackBase):\n",
    "    def fit(self, *_):\n",
    "        self.count = 0\n",
    "        yield from super().fit(*_)\n",
    "        print(f'Completed {self.count} batches')\n",
    "    def batch(self, *_): \n",
    "        yield from super().batch(*_)\n",
    "        self.count += 1"
   ]
  },
  {
   "cell_type": "code",
   "execution_count": 43,
   "id": "0766af29",
   "metadata": {},
   "outputs": [
    {
     "name": "stdout",
     "output_type": "stream",
     "text": [
      "Completed 3 batches\n"
     ]
    }
   ],
   "source": [
    "cb = CompletionCB()\n",
    "fit_cb = cb.fit(None) # nothing is run yet\n",
    "next(fit_cb) # next/send(None) run the before_fit\n",
    "for i in range(3): list(cb.batch(None)) # list run the before and after batch\n",
    "list(fit_cb); # run the after_fit. Using `list`` instead of `next` to avoid the StopIteration exception"
   ]
  },
  {
   "attachments": {},
   "cell_type": "markdown",
   "id": "9ff0b9ff",
   "metadata": {},
   "source": [
    "## Learner with new callbacks + support for pylance / type checkers\n",
    "\n",
    "Since I was changing the learner I also added support for pylance type checking. It is not a big deal, but it is nice to have.\n",
    "This notebook could have 0 issues detected if few functions would define type unions like to_device, to_cpu etc.\n",
    "The original notebook has 60 issues detected by pylance.\n",
    "I've did so by replacing `setattr` with `@dataclass`, and introduction of execution context (`learn.learn`)\n",
    "which stores variables produced during `fit` call, that previously landed on learn. \n",
    "Now the variables are part of learn.learn, and we can be easily passed between callbacks.\n",
    "\n",
    "I also enabled reference counting by adding `weakref` to `learn`, to free GPU memory instantly once learner goes out of scope.\n",
    "\n",
    "The learner code is about the same size as original one. I've put in the learner `TrainCB` to avoid complication in callbacksystem, as it seems this might be better off done via inheritance, which can be dynamically added in the future if needed."
   ]
  },
  {
   "cell_type": "code",
   "execution_count": 44,
   "id": "6ea397f0",
   "metadata": {},
   "outputs": [],
   "source": [
    "import dataclasses\n",
    "import weakref"
   ]
  },
  {
   "cell_type": "code",
   "execution_count": 57,
   "id": "ecf2123a",
   "metadata": {},
   "outputs": [],
   "source": [
    "#|export\n",
    "@dataclasses.dataclass # instead of setattr so pylance can see the fields\n",
    "class Learner:\n",
    "    model: nn.Module; dls: DataLoaders; loss_func: typing.Callable; lr: float|torch.Tensor; cbs: typing.Sequence[CallbackBase]\n",
    "    opt_func = optim.SGD\n",
    "    def __post_init__(self): self.cb_chain = CallbackChain(self.cbs)\n",
    "\n",
    "    @contextmanager\n",
    "    def callback_ctx(self, cb_attr):\n",
    "        nm = cb_attr.__name__\n",
    "        callbacks = getattr(self.cb_chain, nm)(self)\n",
    "        try:\n",
    "            yield from callbacks\n",
    "        except globals()[f'Cancel{nm.title()}Exception']: list(callbacks) # do the after callbacks\n",
    "        except Exception as e:\n",
    "            if e.__traceback__.tb_next is None: raise # type: ignore , not sure why it complains here\n",
    "            callbacks.throw(RuntimeError, e, e.__traceback__) # To make the exception appear in chain of callbacks\n",
    "\n",
    "    def one_epoch(self, train):\n",
    "        self.model.train(train)\n",
    "        self.dl = self.dls.train if train else self.dls.valid\n",
    "        with self.callback_ctx(CallbackBase.epoch):\n",
    "            for self.iter, self.batch in enumerate(self.dl):\n",
    "                with self.callback_ctx(CallbackBase.batch):\n",
    "                    self.predict()\n",
    "                    self.get_loss()\n",
    "                    if self.model.training:\n",
    "                        self.backward()\n",
    "                        self.step()\n",
    "                        self.zero_grad()\n",
    "    \n",
    "    def fit(self, n_epochs):\n",
    "        self.n_epochs = n_epochs\n",
    "        self.epochs = range(n_epochs)\n",
    "        self.opt = self.opt_func(self.model.parameters(), self.lr) # type: ignore , opt_func has wrong param type inferred\n",
    "        with self.callback_ctx(CallbackBase.fit):\n",
    "            for self.epoch in self.epochs:\n",
    "                self.one_epoch(True)\n",
    "                with torch.no_grad(): self.one_epoch(False)\n",
    "\n",
    "    def reset(self): self.clear()\n",
    "\n",
    "    def __getattr__(self, name):\n",
    "        if name in ('predict','get_loss','backward','step','zero_grad'): return partial(getattr(self.cb_chain, name), self)\n",
    "        raise AttributeError(name)\n",
    "\n",
    "\n",
    "class TrainCB(CallbackBase):\n",
    "    def predict(self, learn): learn.preds = learn.model(learn.batch[0])\n",
    "    def get_loss(self, learn): learn.loss = learn.loss_func(learn.preds, learn.batch[1])\n",
    "    def backward(self, learn): learn.loss.backward()\n",
    "    def step(self, learn): learn.opt.step()\n",
    "    def zero_grad(self, learn): learn.opt.zero_grad()\n",
    "\n",
    "\n",
    "class TrainContext(dict): # to keep execution state in a dict instead of learner class\n",
    "    _learn: weakref.ref['Learner']\n",
    "    def __init__(self, learn: 'Learner'): self._learn = weakref.ref(learn)\n",
    "    @property\n",
    "    def learn(self): return self._learn()\n",
    "    def __getattr__(self, k): # hasattr works\n",
    "        try: return self[k] \n",
    "        except: raise AttributeError(k)\n",
    "    def __setattr__(self, k: str, v: typing.Any) -> None:\n",
    "        self[k]=v"
   ]
  },
  {
   "cell_type": "code",
   "execution_count": 58,
   "id": "954ae5d8",
   "metadata": {},
   "outputs": [],
   "source": [
    "class DeviceCB(CallbackBase):\n",
    "    def __init__(self, device: str|torch.device = def_device): self.device = device\n",
    "    def fit(self, learn): \n",
    "        learn.model.to(self.device)\n",
    "        yield from super().fit(learn)\n",
    "    \n",
    "    def batch(self, learn): \n",
    "        learn.batch = to_device(learn.batch, device=self.device) # type: ignore , to_device has wrong param type inferred\n",
    "        yield from super().batch(learn)"
   ]
  },
  {
   "cell_type": "code",
   "execution_count": 59,
   "id": "d66bea21",
   "metadata": {},
   "outputs": [],
   "source": [
    "cbs = [DeviceCB('mps'),TrainCB()]\n",
    "learn = Learner(get_model(), dls, F.cross_entropy, lr=0.2, cbs=cbs)\n",
    "learn.fit(1)"
   ]
  },
  {
   "attachments": {},
   "cell_type": "markdown",
   "id": "3f4569d7",
   "metadata": {},
   "source": [
    "## The rest of callbacks"
   ]
  },
  {
   "cell_type": "code",
   "execution_count": 48,
   "id": "c351b1d9",
   "metadata": {},
   "outputs": [],
   "source": [
    "#|export\n",
    "class MetricsCB(CallbackBase):\n",
    "    def __init__(self, *ms, **metrics):\n",
    "        for o in ms: metrics[type(o).__name__] = o\n",
    "        self.metrics = metrics\n",
    "        self.all_metrics = copy(metrics)\n",
    "        self.all_metrics['loss'] = self.loss = Mean()\n",
    "\n",
    "    def _log(self, d): print(d)\n",
    "    def fit(self, learn):\n",
    "        learn.metrics = self\n",
    "        yield from super().fit(learn)\n",
    "    \n",
    "    def epoch(self, learn): \n",
    "        for o in self.all_metrics.values(): o.reset() \n",
    "        yield from super().epoch(learn)\n",
    "        log = {k:f'{v.compute():.3f}' for k,v in self.all_metrics.items()}\n",
    "        log['epoch'] = learn.epoch\n",
    "        log['train'] = learn.model.training\n",
    "        self._log(log)\n",
    "\n",
    "    def batch(self, learn):\n",
    "        yield from super().batch(learn)\n",
    "        x,y = to_cpu(learn.batch)\n",
    "        for m in self.metrics.values(): m.update(to_cpu(learn.preds), y)\n",
    "        self.loss.update(to_cpu(learn.loss), weight=len(x)) # type: ignore"
   ]
  },
  {
   "cell_type": "code",
   "execution_count": 49,
   "id": "ee43512e",
   "metadata": {},
   "outputs": [
    {
     "name": "stdout",
     "output_type": "stream",
     "text": [
      "{'accuracy': '0.614', 'loss': '1.166', 'epoch': 0, 'train': True}\n",
      "{'accuracy': '0.690', 'loss': '0.833', 'epoch': 0, 'train': False}\n"
     ]
    }
   ],
   "source": [
    "metrics = MetricsCB(accuracy=MulticlassAccuracy())\n",
    "cbs = [TrainCB(), DeviceCB(), metrics]\n",
    "learn = Learner(get_model(), dls, F.cross_entropy, lr=0.2, cbs=cbs)\n",
    "learn.fit(1)"
   ]
  },
  {
   "cell_type": "code",
   "execution_count": 56,
   "id": "e9537f9f",
   "metadata": {},
   "outputs": [],
   "source": [
    "#|export\n",
    "class ProgressCB(CallbackBase):\n",
    "    order = MetricsCB.order+1\n",
    "    def __init__(self, plot: bool = False):  fc.store_attr()\n",
    "    def fit(self, learn):\n",
    "        print(self.plot2)\n",
    "        print(self.plot)\n",
    "        learn.epochs = self.mbar = master_bar(learn.epochs)\n",
    "        if hasattr(learn, 'metrics'): learn.metrics._log = self._log\n",
    "        self.losses = []\n",
    "        yield from super().fit(learn)\n",
    "    \n",
    "    def _log(self, d): \n",
    "        if not getattr(self.mbar, 'lines', []): self.mbar.write(list(d), table=True) \n",
    "        self.mbar.write(list(d.values()), table=True)\n",
    "\n",
    "    def epoch(self, learn): \n",
    "        learn.dl = progress_bar(learn.dl, leave=False, parent=self.mbar)\n",
    "        yield from super().epoch(learn)\n",
    "    \n",
    "    def batch(self, learn):\n",
    "        yield from super().batch(learn)\n",
    "        if not hasattr(learn, 'loss'): return\n",
    "        learn.dl.comment = f'{learn.loss:.3f}'\n",
    "        if self.plot and hasattr(learn, 'metrics') and learn.model.training:\n",
    "            self.losses.append(learn.loss.item())\n",
    "            self.mbar.update_graph([[fc.L.range(self.losses), self.losses]])"
   ]
  },
  {
   "cell_type": "code",
   "execution_count": null,
   "id": "c9453e32",
   "metadata": {},
   "outputs": [],
   "source": []
  },
  {
   "cell_type": "code",
   "execution_count": 51,
   "id": "53b6a15d",
   "metadata": {},
   "outputs": [
    {
     "data": {
      "text/html": [
       "\n",
       "<style>\n",
       "    /* Turns off some styling */\n",
       "    progress {\n",
       "        /* gets rid of default border in Firefox and Opera. */\n",
       "        border: none;\n",
       "        /* Needs to be in here for Safari polyfill so background images work as expected. */\n",
       "        background-size: auto;\n",
       "    }\n",
       "    progress:not([value]), progress:not([value])::-webkit-progress-bar {\n",
       "        background: repeating-linear-gradient(45deg, #7e7e7e, #7e7e7e 10px, #5c5c5c 10px, #5c5c5c 20px);\n",
       "    }\n",
       "    .progress-bar-interrupted, .progress-bar-interrupted::-webkit-progress-bar {\n",
       "        background: #F44336;\n",
       "    }\n",
       "</style>\n"
      ],
      "text/plain": [
       "<IPython.core.display.HTML object>"
      ]
     },
     "metadata": {},
     "output_type": "display_data"
    },
    {
     "data": {
      "text/html": [
       "<table border=\"1\" class=\"dataframe\">\n",
       "  <thead>\n",
       "    <tr style=\"text-align: left;\">\n",
       "      <th>accuracy</th>\n",
       "      <th>loss</th>\n",
       "      <th>epoch</th>\n",
       "      <th>train</th>\n",
       "    </tr>\n",
       "  </thead>\n",
       "  <tbody>\n",
       "    <tr>\n",
       "      <td>0.603</td>\n",
       "      <td>1.182</td>\n",
       "      <td>0</td>\n",
       "      <td>True</td>\n",
       "    </tr>\n",
       "    <tr>\n",
       "      <td>0.690</td>\n",
       "      <td>0.849</td>\n",
       "      <td>0</td>\n",
       "      <td>False</td>\n",
       "    </tr>\n",
       "  </tbody>\n",
       "</table>"
      ],
      "text/plain": [
       "<IPython.core.display.HTML object>"
      ]
     },
     "metadata": {},
     "output_type": "display_data"
    },
    {
     "data": {
      "image/png": "[encoded data removed]",
      "text/plain": [
       "<Figure size 600x400 with 1 Axes>"
      ]
     },
     "metadata": {},
     "output_type": "display_data"
    }
   ],
   "source": [
    "metrics = MetricsCB(accuracy=MulticlassAccuracy())\n",
    "cbs = [TrainCB(), DeviceCB(), metrics, ProgressCB(plot=True)]\n",
    "learn = Learner(get_model(), dls, F.cross_entropy, lr=0.2, cbs=cbs)\n",
    "learn.fit(1)"
   ]
  },
  {
   "attachments": {},
   "cell_type": "markdown",
   "id": "67000ef9",
   "metadata": {},
   "source": [
    "## Stacktrace in action in full callback chain"
   ]
  },
  {
   "cell_type": "code",
   "execution_count": 53,
   "id": "b8763a99",
   "metadata": {},
   "outputs": [
    {
     "data": {
      "text/html": [
       "\n",
       "<style>\n",
       "    /* Turns off some styling */\n",
       "    progress {\n",
       "        /* gets rid of default border in Firefox and Opera. */\n",
       "        border: none;\n",
       "        /* Needs to be in here for Safari polyfill so background images work as expected. */\n",
       "        background-size: auto;\n",
       "    }\n",
       "    progress:not([value]), progress:not([value])::-webkit-progress-bar {\n",
       "        background: repeating-linear-gradient(45deg, #7e7e7e, #7e7e7e 10px, #5c5c5c 10px, #5c5c5c 20px);\n",
       "    }\n",
       "    .progress-bar-interrupted, .progress-bar-interrupted::-webkit-progress-bar {\n",
       "        background: #F44336;\n",
       "    }\n",
       "</style>\n"
      ],
      "text/plain": [
       "<IPython.core.display.HTML object>"
      ]
     },
     "metadata": {},
     "output_type": "display_data"
    },
    {
     "data": {
      "text/html": [
       "\n",
       "    <div>\n",
       "      <progress value='0' class='' max='1' style='width:300px; height:20px; vertical-align: middle;'></progress>\n",
       "      0.00% [0/1 00:00&lt;?]\n",
       "    </div>\n",
       "    \n",
       "\n",
       "\n",
       "    <div>\n",
       "      <progress value='0' class='' max='59' style='width:300px; height:20px; vertical-align: middle;'></progress>\n",
       "      0.00% [0/59 00:00&lt;?]\n",
       "    </div>\n",
       "    "
      ],
      "text/plain": [
       "<IPython.core.display.HTML object>"
      ]
     },
     "metadata": {},
     "output_type": "display_data"
    },
    {
     "ename": "RuntimeError",
     "evalue": "preds",
     "output_type": "error",
     "traceback": [
      "\u001b[0;31m---------------------------------------------------------------------------\u001b[0m",
      "\u001b[0;31mRuntimeError\u001b[0m                              Traceback (most recent call last)",
      "Cell \u001b[0;32mIn[53], line 4\u001b[0m\n\u001b[1;32m      2\u001b[0m cbs \u001b[39m=\u001b[39m [DeviceCB(), metrics, ProgressCB(plot\u001b[39m=\u001b[39m\u001b[39mTrue\u001b[39;00m)]\n\u001b[1;32m      3\u001b[0m learn \u001b[39m=\u001b[39m Learner(get_model(), dls, F\u001b[39m.\u001b[39mcross_entropy, lr\u001b[39m=\u001b[39m\u001b[39m0.2\u001b[39m, cbs\u001b[39m=\u001b[39mcbs)\n\u001b[0;32m----> 4\u001b[0m learn\u001b[39m.\u001b[39;49mfit(\u001b[39m1\u001b[39;49m)\n",
      "Cell \u001b[0;32mIn[45], line 37\u001b[0m, in \u001b[0;36mLearner.fit\u001b[0;34m(self, n_epochs)\u001b[0m\n\u001b[1;32m     35\u001b[0m \u001b[39mwith\u001b[39;00m \u001b[39mself\u001b[39m\u001b[39m.\u001b[39mcallback_ctx(CallbackBase\u001b[39m.\u001b[39mfit):\n\u001b[1;32m     36\u001b[0m     \u001b[39mfor\u001b[39;00m \u001b[39mself\u001b[39m\u001b[39m.\u001b[39mepoch \u001b[39min\u001b[39;00m \u001b[39mself\u001b[39m\u001b[39m.\u001b[39mepochs:\n\u001b[0;32m---> 37\u001b[0m         \u001b[39mself\u001b[39;49m\u001b[39m.\u001b[39;49mone_epoch(\u001b[39mTrue\u001b[39;49;00m)\n\u001b[1;32m     38\u001b[0m         \u001b[39mwith\u001b[39;00m torch\u001b[39m.\u001b[39mno_grad(): \u001b[39mself\u001b[39m\u001b[39m.\u001b[39mone_epoch(\u001b[39mFalse\u001b[39;00m)\n",
      "Cell \u001b[0;32mIn[45], line 23\u001b[0m, in \u001b[0;36mLearner.one_epoch\u001b[0;34m(self, train)\u001b[0m\n\u001b[1;32m     21\u001b[0m \u001b[39mwith\u001b[39;00m \u001b[39mself\u001b[39m\u001b[39m.\u001b[39mcallback_ctx(CallbackBase\u001b[39m.\u001b[39mepoch):\n\u001b[1;32m     22\u001b[0m     \u001b[39mfor\u001b[39;00m \u001b[39mself\u001b[39m\u001b[39m.\u001b[39miter, \u001b[39mself\u001b[39m\u001b[39m.\u001b[39mbatch \u001b[39min\u001b[39;00m \u001b[39menumerate\u001b[39m(\u001b[39mself\u001b[39m\u001b[39m.\u001b[39mdl):\n\u001b[0;32m---> 23\u001b[0m         \u001b[39mwith\u001b[39;00m \u001b[39mself\u001b[39m\u001b[39m.\u001b[39mcallback_ctx(CallbackBase\u001b[39m.\u001b[39mbatch):\n\u001b[1;32m     24\u001b[0m             \u001b[39mself\u001b[39m\u001b[39m.\u001b[39mpredict()\n\u001b[1;32m     25\u001b[0m             \u001b[39mself\u001b[39m\u001b[39m.\u001b[39mget_loss()\n",
      "File \u001b[0;32m/opt/homebrew/Caskroom/miniforge/base/envs/miniai/lib/python3.10/contextlib.py:142\u001b[0m, in \u001b[0;36m_GeneratorContextManager.__exit__\u001b[0;34m(self, typ, value, traceback)\u001b[0m\n\u001b[1;32m    140\u001b[0m \u001b[39mif\u001b[39;00m typ \u001b[39mis\u001b[39;00m \u001b[39mNone\u001b[39;00m:\n\u001b[1;32m    141\u001b[0m     \u001b[39mtry\u001b[39;00m:\n\u001b[0;32m--> 142\u001b[0m         \u001b[39mnext\u001b[39;49m(\u001b[39mself\u001b[39;49m\u001b[39m.\u001b[39;49mgen)\n\u001b[1;32m    143\u001b[0m     \u001b[39mexcept\u001b[39;00m \u001b[39mStopIteration\u001b[39;00m:\n\u001b[1;32m    144\u001b[0m         \u001b[39mreturn\u001b[39;00m \u001b[39mFalse\u001b[39;00m\n",
      "Cell \u001b[0;32mIn[45], line 16\u001b[0m, in \u001b[0;36mLearner.callback_ctx\u001b[0;34m(self, cb_attr)\u001b[0m\n\u001b[1;32m     14\u001b[0m \u001b[39mexcept\u001b[39;00m \u001b[39mException\u001b[39;00m \u001b[39mas\u001b[39;00m e:\n\u001b[1;32m     15\u001b[0m     \u001b[39mif\u001b[39;00m e\u001b[39m.\u001b[39m__traceback__\u001b[39m.\u001b[39mtb_next \u001b[39mis\u001b[39;00m \u001b[39mNone\u001b[39;00m: \u001b[39mraise\u001b[39;00m \u001b[39m# type: ignore , not sure why it complains here\u001b[39;00m\n\u001b[0;32m---> 16\u001b[0m     callbacks\u001b[39m.\u001b[39;49mthrow(\u001b[39mRuntimeError\u001b[39;49;00m, e, e\u001b[39m.\u001b[39;49m__traceback__)\n",
      "Cell \u001b[0;32mIn[45], line 12\u001b[0m, in \u001b[0;36mLearner.callback_ctx\u001b[0;34m(self, cb_attr)\u001b[0m\n\u001b[1;32m     10\u001b[0m callbacks \u001b[39m=\u001b[39m \u001b[39mgetattr\u001b[39m(\u001b[39mself\u001b[39m\u001b[39m.\u001b[39mcb_chain, cb_attr\u001b[39m.\u001b[39m\u001b[39m__name__\u001b[39m)(\u001b[39mself\u001b[39m)\n\u001b[1;32m     11\u001b[0m \u001b[39mtry\u001b[39;00m:\n\u001b[0;32m---> 12\u001b[0m     \u001b[39myield from\u001b[39;00m callbacks\n\u001b[1;32m     13\u001b[0m \u001b[39mexcept\u001b[39;00m cb_attr\u001b[39m.\u001b[39mCancelException: \u001b[39mlist\u001b[39m(callbacks) \u001b[39m# do the after callbacks\u001b[39;00m\n\u001b[1;32m     14\u001b[0m \u001b[39mexcept\u001b[39;00m \u001b[39mException\u001b[39;00m \u001b[39mas\u001b[39;00m e:\n",
      "Cell \u001b[0;32mIn[36], line 21\u001b[0m, in \u001b[0;36mCallbackBase.batch\u001b[0;34m(self, learn)\u001b[0m\n\u001b[1;32m     19\u001b[0m \u001b[39mdef\u001b[39;00m \u001b[39mepoch\u001b[39m(\u001b[39mself\u001b[39m, learn): \u001b[39myield from\u001b[39;00m cb_wrapper(\u001b[39mself\u001b[39m\u001b[39m.\u001b[39mnext\u001b[39m.\u001b[39mepoch)(learn)\n\u001b[1;32m     20\u001b[0m epoch\u001b[39m.\u001b[39mCancelException \u001b[39m=\u001b[39m CancelEpochException\n\u001b[0;32m---> 21\u001b[0m \u001b[39mdef\u001b[39;00m \u001b[39mbatch\u001b[39m(\u001b[39mself\u001b[39m, learn): \u001b[39myield from\u001b[39;00m cb_wrapper(\u001b[39mself\u001b[39m\u001b[39m.\u001b[39mnext\u001b[39m.\u001b[39mbatch)(learn)\n\u001b[1;32m     22\u001b[0m batch\u001b[39m.\u001b[39mCancelException \u001b[39m=\u001b[39m CancelBatchException\n\u001b[1;32m     23\u001b[0m \u001b[39mdef\u001b[39;00m \u001b[39mpredict\u001b[39m(\u001b[39mself\u001b[39m, learn): \u001b[39mself\u001b[39m\u001b[39m.\u001b[39mnext\u001b[39m.\u001b[39mpredict(learn)\n",
      "Cell \u001b[0;32mIn[46], line 10\u001b[0m, in \u001b[0;36mDeviceCB.batch\u001b[0;34m(self, learn)\u001b[0m\n\u001b[1;32m      8\u001b[0m \u001b[39mdef\u001b[39;00m \u001b[39mbatch\u001b[39m(\u001b[39mself\u001b[39m, learn): \n\u001b[1;32m      9\u001b[0m     learn\u001b[39m.\u001b[39mbatch \u001b[39m=\u001b[39m to_device(learn\u001b[39m.\u001b[39mbatch, device\u001b[39m=\u001b[39m\u001b[39mself\u001b[39m\u001b[39m.\u001b[39mdevice) \u001b[39m# type: ignore , to_device has wrong param type inferred\u001b[39;00m\n\u001b[0;32m---> 10\u001b[0m     \u001b[39myield from\u001b[39;00m \u001b[39msuper\u001b[39m()\u001b[39m.\u001b[39mbatch(learn)\n",
      "Cell \u001b[0;32mIn[36], line 21\u001b[0m, in \u001b[0;36mCallbackBase.batch\u001b[0;34m(self, learn)\u001b[0m\n\u001b[1;32m     19\u001b[0m \u001b[39mdef\u001b[39;00m \u001b[39mepoch\u001b[39m(\u001b[39mself\u001b[39m, learn): \u001b[39myield from\u001b[39;00m cb_wrapper(\u001b[39mself\u001b[39m\u001b[39m.\u001b[39mnext\u001b[39m.\u001b[39mepoch)(learn)\n\u001b[1;32m     20\u001b[0m epoch\u001b[39m.\u001b[39mCancelException \u001b[39m=\u001b[39m CancelEpochException\n\u001b[0;32m---> 21\u001b[0m \u001b[39mdef\u001b[39;00m \u001b[39mbatch\u001b[39m(\u001b[39mself\u001b[39m, learn): \u001b[39myield from\u001b[39;00m cb_wrapper(\u001b[39mself\u001b[39m\u001b[39m.\u001b[39mnext\u001b[39m.\u001b[39mbatch)(learn)\n\u001b[1;32m     22\u001b[0m batch\u001b[39m.\u001b[39mCancelException \u001b[39m=\u001b[39m CancelBatchException\n\u001b[1;32m     23\u001b[0m \u001b[39mdef\u001b[39;00m \u001b[39mpredict\u001b[39m(\u001b[39mself\u001b[39m, learn): \u001b[39mself\u001b[39m\u001b[39m.\u001b[39mnext\u001b[39m.\u001b[39mpredict(learn)\n",
      "Cell \u001b[0;32mIn[48], line 25\u001b[0m, in \u001b[0;36mMetricsCB.batch\u001b[0;34m(self, learn)\u001b[0m\n\u001b[1;32m     23\u001b[0m \u001b[39myield from\u001b[39;00m \u001b[39msuper\u001b[39m()\u001b[39m.\u001b[39mbatch(learn)\n\u001b[1;32m     24\u001b[0m x,y \u001b[39m=\u001b[39m to_cpu(learn\u001b[39m.\u001b[39mbatch)\n\u001b[0;32m---> 25\u001b[0m \u001b[39mfor\u001b[39;00m m \u001b[39min\u001b[39;00m \u001b[39mself\u001b[39m\u001b[39m.\u001b[39mmetrics\u001b[39m.\u001b[39mvalues(): m\u001b[39m.\u001b[39mupdate(to_cpu(learn\u001b[39m.\u001b[39;49mpreds), y)\n\u001b[1;32m     26\u001b[0m \u001b[39mself\u001b[39m\u001b[39m.\u001b[39mloss\u001b[39m.\u001b[39mupdate(to_cpu(learn\u001b[39m.\u001b[39mloss), weight\u001b[39m=\u001b[39m\u001b[39mlen\u001b[39m(x))\n",
      "Cell \u001b[0;32mIn[45], line 44\u001b[0m, in \u001b[0;36mLearner.__getattr__\u001b[0;34m(self, name)\u001b[0m\n\u001b[1;32m     42\u001b[0m \u001b[39mdef\u001b[39;00m \u001b[39m__getattr__\u001b[39m(\u001b[39mself\u001b[39m, name):\n\u001b[1;32m     43\u001b[0m     \u001b[39mif\u001b[39;00m name \u001b[39min\u001b[39;00m (\u001b[39m'\u001b[39m\u001b[39mpredict\u001b[39m\u001b[39m'\u001b[39m,\u001b[39m'\u001b[39m\u001b[39mget_loss\u001b[39m\u001b[39m'\u001b[39m,\u001b[39m'\u001b[39m\u001b[39mbackward\u001b[39m\u001b[39m'\u001b[39m,\u001b[39m'\u001b[39m\u001b[39mstep\u001b[39m\u001b[39m'\u001b[39m,\u001b[39m'\u001b[39m\u001b[39mzero_grad\u001b[39m\u001b[39m'\u001b[39m): \u001b[39mreturn\u001b[39;00m partial(\u001b[39mgetattr\u001b[39m(\u001b[39mself\u001b[39m\u001b[39m.\u001b[39mcb_chain, name), \u001b[39mself\u001b[39m)\n\u001b[0;32m---> 44\u001b[0m     \u001b[39mraise\u001b[39;00m \u001b[39mAttributeError\u001b[39;00m(name)\n",
      "\u001b[0;31mRuntimeError\u001b[0m: preds"
     ]
    }
   ],
   "source": [
    "metrics = MetricsCB(accuracy=MulticlassAccuracy())\n",
    "cbs = [DeviceCB(), metrics, ProgressCB(plot=True)]\n",
    "learn = Learner(get_model(), dls, F.cross_entropy, lr=0.2, cbs=cbs)\n",
    "learn.fit(1)"
   ]
  },
  {
   "cell_type": "code",
   "execution_count": null,
   "id": "80a220bb",
   "metadata": {},
   "outputs": [],
   "source": []
  }
 ],
 "metadata": {
  "kernelspec": {
   "display_name": "miniai",
   "language": "python",
   "name": "python3"
  },
  "language_info": {
   "codemirror_mode": {
    "name": "ipython",
    "version": 3
   },
   "file_extension": ".py",
   "mimetype": "text/x-python",
   "name": "python",
   "nbconvert_exporter": "python",
   "pygments_lexer": "ipython3",
   "version": "3.10.8"
  },
  "vscode": {
   "interpreter": {
    "hash": "65bdc12ab1f00d3c583c154495aae0afd4448f1172f63d82cc7fc9c1feca09db"
   }
  }
 },
 "nbformat": 4,
 "nbformat_minor": 5
}

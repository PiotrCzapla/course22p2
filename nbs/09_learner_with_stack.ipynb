{
 "cells": [
  {
   "cell_type": "code",
   "execution_count": 1,
   "id": "da7e553f",
   "metadata": {},
   "outputs": [],
   "source": [
    "#| default_exp learner_with_stacktrace"
   ]
  },
  {
   "attachments": {},
   "cell_type": "markdown",
   "id": "2c996b3d",
   "metadata": {},
   "source": [
    "# Callbacks as generators + pylance support\n",
    "Here is a possible implementation of Callback system that:\n",
    "- let us use %debug to inspect every executed callback with all it local variables in case of the exception. \n",
    "- has minimal changes to the current Callback system, as it is as well based on generators\n",
    "- adds pylance support, (current notebook has 0 issues detected, compared to 86)\n",
    "- removes circular dependency on learner in callbacks allowing learner to use reference counting for deallocation"
   ]
  },
  {
   "attachments": {},
   "cell_type": "markdown",
   "id": "89a1ad62",
   "metadata": {},
   "source": [
    "## Setup"
   ]
  },
  {
   "cell_type": "code",
   "execution_count": 2,
   "id": "c29af72f",
   "metadata": {},
   "outputs": [
    {
     "name": "stdout",
     "output_type": "stream",
     "text": [
      "env: OMP_NUM_THREADS=1\n"
     ]
    }
   ],
   "source": [
    "#Cannot set number of intraop threads after parallel work has started or after set_num_threads call when using native parallel backend (function set_num_threads)\n",
    "# seams to be issue not only related to torchaudio https://github.com/pytorch/pytorch/issues/46409\n",
    "%env OMP_NUM_THREADS=1"
   ]
  },
  {
   "cell_type": "code",
   "execution_count": 3,
   "id": "7e8f8491",
   "metadata": {},
   "outputs": [],
   "source": [
    "#|export\n",
    "import pickle,gzip,math,os,time,shutil,torch,matplotlib as mpl,numpy as np,matplotlib.pyplot as plt\n",
    "import fastcore.all as fc\n",
    "from collections.abc import Mapping\n",
    "from pathlib import Path\n",
    "from operator import attrgetter,itemgetter\n",
    "from functools import partial\n",
    "from copy import copy\n",
    "from contextlib import contextmanager\n",
    "from warnings import warn\n",
    "\n",
    "from torch import tensor,nn,optim\n",
    "from torch.utils.data import DataLoader,default_collate\n",
    "import torch.nn.functional as F\n",
    "import torchvision.transforms.functional as TF\n",
    "from datasets import load_dataset,load_dataset_builder # type: ignore\n",
    "from miniai.datasets import *\n",
    "from miniai.conv import *\n",
    "\n",
    "from fastprogress import progress_bar,master_bar"
   ]
  },
  {
   "cell_type": "code",
   "execution_count": 4,
   "id": "8f5eea66",
   "metadata": {},
   "outputs": [
    {
     "data": {
      "application/vnd.jupyter.widget-view+json": {
       "model_id": "5fb36669e7d648b6a51df7327029e36d",
       "version_major": 2,
       "version_minor": 0
      },
      "text/plain": [
       "  0%|          | 0/2 [00:00<?, ?it/s]"
      ]
     },
     "metadata": {},
     "output_type": "display_data"
    }
   ],
   "source": [
    "# Init from 09_learner.ipynb\n",
    "from fastcore.test import test_close\n",
    "\n",
    "torch.set_printoptions(precision=2, linewidth=140, sci_mode=False)\n",
    "torch.manual_seed(1)\n",
    "mpl.rcParams['image.cmap'] = 'gray'\n",
    "\n",
    "import logging\n",
    "logging.disable(logging.WARNING)\n",
    "from torcheval.metrics import MulticlassAccuracy,Mean\n",
    "x,y = 'image','label'\n",
    "name = \"fashion_mnist\"\n",
    "dsd = load_dataset(name)\n",
    "@inplace\n",
    "def transformi(b): b[x] = [torch.flatten(TF.to_tensor(o)) for o in b[x]]\n",
    "bs = 1024\n",
    "tds = dsd.with_transform(transformi) # type: ignore\n",
    "from miniai.learner import *\n",
    "dls = DataLoaders.from_dd(tds, bs, num_workers=4)\n",
    "dt = dls.train\n",
    "xb,yb = next(iter(dt))\n",
    "m,nh = 28*28,50\n",
    "def get_model(): return nn.Sequential(nn.Linear(m,nh), nn.ReLU(), nn.Linear(nh,10))"
   ]
  },
  {
   "attachments": {},
   "cell_type": "markdown",
   "id": "3382722b",
   "metadata": {},
   "source": [
    "## New callbacks\n",
    "I figure out a way to achieve this with minimal changes to the current `Callbacks`, \n",
    "I'm using `yield from`  as a way to pass the execution flow retaining function on the stack.\n",
    "Callback looks like this now:\n",
    "\n",
    "```python\n",
    "class CompletionCB(CallbackBase):\n",
    "    def fit(self, ctx):\n",
    "        # former before_fit method\n",
    "        self.count = 0 \n",
    "        yield from super().fit(ctx) # passes execution to the next callback\n",
    "        # former after_fit method\n",
    "        print(f'Completed {self.count} batches')\n",
    "    def batch(self, ctx): \n",
    "        yield from super().batch(ctx) \n",
    "        # former after_batch method \n",
    "        self.count += 1\n",
    "```\n",
    "\n",
    "The use of yield from creates a nice stacktrace if we properly use `Generator.throw` to put in an exception catched in\n",
    "the `callback_ctx` context manager. Below minimal example that shows how it works in python\n",
    "For more experiments see [09_callback_stack.ipynb](09_callback_stack.ipynb)"
   ]
  },
  {
   "attachments": {},
   "cell_type": "markdown",
   "id": "3649e289",
   "metadata": {},
   "source": [
    "### How yield from works to form a stacktrace in case of exception"
   ]
  },
  {
   "cell_type": "code",
   "execution_count": 5,
   "id": "37de3bb0",
   "metadata": {},
   "outputs": [
    {
     "name": "stdout",
     "output_type": "stream",
     "text": [
      "before any callbacks <generator object cb1 at 0x137f577d0>\n",
      "before cb1\n",
      "before cb2\n",
      "before yield 1 - Finishing a chain by yielding None\n",
      ">>> body of the with statement\n",
      "1.0\n",
      "after yield 1\n",
      "after cb2\n",
      "after cb1\n"
     ]
    }
   ],
   "source": [
    "def cb1(set_val=None,**kwargs):\n",
    "    print('before cb1')\n",
    "    if set_val is not None: kwargs['val']=set_val\n",
    "    yield from cb2(**kwargs)\n",
    "    print('after cb1')\n",
    "\n",
    "def cb2(throw_in_chain=False, **kwargs):\n",
    "    print('before cb2')\n",
    "    if throw_in_chain: raise Exception('error')\n",
    "    yield from end_of_chain(**kwargs)\n",
    "    print('after cb2')\n",
    "\n",
    "def end_of_chain(val, **kwargs):\n",
    "    print(f'before yield {val} - Finishing a chain by yielding None')\n",
    "    yield val\n",
    "    print(f'after yield {val}')\n",
    "\n",
    "import traceback\n",
    "@contextmanager\n",
    "def context(**kwargs):\n",
    "    gen = cb1(val=1, **kwargs) # callback not yet executed\n",
    "    print(\"before any callbacks\", gen)\n",
    "    try:\n",
    "        yield from gen # this executes the 'before' callbacks then body of with and then the 'after' callbacks\n",
    "    except Exception as e:\n",
    "        gen.throw(RuntimeError, e, e.__traceback__) # I need to change the exception type so that the traceback is not cut\n",
    "        list(gen) # this finish the chain of callbacks\n",
    "        \n",
    "with context() as val:\n",
    "    print('>>> body of the with statement') \n",
    "    print(1/val)\n"
   ]
  },
  {
   "cell_type": "code",
   "execution_count": 8,
   "id": "c5cc184f",
   "metadata": {},
   "outputs": [
    {
     "name": "stdout",
     "output_type": "stream",
     "text": [
      "before any callbacks <generator object cb1 at 0x13fabd9a0>\n",
      "before cb1\n",
      "before cb2\n",
      "before yield 0 - Finishing a chain by yielding None\n",
      ">>> Body of the with statement\n",
      ">>> + exception\n"
     ]
    },
    {
     "ename": "RuntimeError",
     "evalue": "division by zero",
     "output_type": "error",
     "traceback": [
      "\u001b[0;31m---------------------------------------------------------------------------\u001b[0m",
      "\u001b[0;31mRuntimeError\u001b[0m                              Traceback (most recent call last)",
      "Cell \u001b[0;32mIn[8], line 1\u001b[0m\n\u001b[0;32m----> 1\u001b[0m \u001b[39mwith\u001b[39;00m context(set_val\u001b[39m=\u001b[39m\u001b[39m0\u001b[39m) \u001b[39mas\u001b[39;00m val:\n\u001b[1;32m      2\u001b[0m     \u001b[39mprint\u001b[39m(\u001b[39m'\u001b[39m\u001b[39m>>> Body of the with statement\u001b[39m\u001b[39m'\u001b[39m)\n\u001b[1;32m      3\u001b[0m     \u001b[39mprint\u001b[39m(\u001b[39m'\u001b[39m\u001b[39m>>> + exception\u001b[39m\u001b[39m'\u001b[39m)\n",
      "File \u001b[0;32m/opt/homebrew/Caskroom/miniforge/base/envs/miniai/lib/python3.10/contextlib.py:153\u001b[0m, in \u001b[0;36m_GeneratorContextManager.__exit__\u001b[0;34m(self, typ, value, traceback)\u001b[0m\n\u001b[1;32m    151\u001b[0m     value \u001b[39m=\u001b[39m typ()\n\u001b[1;32m    152\u001b[0m \u001b[39mtry\u001b[39;00m:\n\u001b[0;32m--> 153\u001b[0m     \u001b[39mself\u001b[39;49m\u001b[39m.\u001b[39;49mgen\u001b[39m.\u001b[39;49mthrow(typ, value, traceback)\n\u001b[1;32m    154\u001b[0m \u001b[39mexcept\u001b[39;00m \u001b[39mStopIteration\u001b[39;00m \u001b[39mas\u001b[39;00m exc:\n\u001b[1;32m    155\u001b[0m     \u001b[39m# Suppress StopIteration *unless* it's the same exception that\u001b[39;00m\n\u001b[1;32m    156\u001b[0m     \u001b[39m# was passed to throw().  This prevents a StopIteration\u001b[39;00m\n\u001b[1;32m    157\u001b[0m     \u001b[39m# raised inside the \"with\" statement from being suppressed.\u001b[39;00m\n\u001b[1;32m    158\u001b[0m     \u001b[39mreturn\u001b[39;00m exc \u001b[39mis\u001b[39;00m \u001b[39mnot\u001b[39;00m value\n",
      "Cell \u001b[0;32mIn[5], line 26\u001b[0m, in \u001b[0;36mcontext\u001b[0;34m(**kwargs)\u001b[0m\n\u001b[1;32m     24\u001b[0m     \u001b[39myield from\u001b[39;00m gen \u001b[39m# this executes the 'before' callbacks then body of with and then the 'after' callbacks\u001b[39;00m\n\u001b[1;32m     25\u001b[0m \u001b[39mexcept\u001b[39;00m \u001b[39mException\u001b[39;00m \u001b[39mas\u001b[39;00m e:\n\u001b[0;32m---> 26\u001b[0m     gen\u001b[39m.\u001b[39;49mthrow(\u001b[39mRuntimeError\u001b[39;49;00m, e, e\u001b[39m.\u001b[39;49m__traceback__) \u001b[39m# I need to change the exception type so that the traceback is not cut\u001b[39;00m\n\u001b[1;32m     27\u001b[0m     \u001b[39mlist\u001b[39m(gen)\n",
      "Cell \u001b[0;32mIn[5], line 24\u001b[0m, in \u001b[0;36mcontext\u001b[0;34m(**kwargs)\u001b[0m\n\u001b[1;32m     22\u001b[0m \u001b[39mprint\u001b[39m(\u001b[39m\"\u001b[39m\u001b[39mbefore any callbacks\u001b[39m\u001b[39m\"\u001b[39m, gen)\n\u001b[1;32m     23\u001b[0m \u001b[39mtry\u001b[39;00m:\n\u001b[0;32m---> 24\u001b[0m     \u001b[39myield from\u001b[39;00m gen \u001b[39m# this executes the 'before' callbacks then body of with and then the 'after' callbacks\u001b[39;00m\n\u001b[1;32m     25\u001b[0m \u001b[39mexcept\u001b[39;00m \u001b[39mException\u001b[39;00m \u001b[39mas\u001b[39;00m e:\n\u001b[1;32m     26\u001b[0m     gen\u001b[39m.\u001b[39mthrow(\u001b[39mRuntimeError\u001b[39;00m, e, e\u001b[39m.\u001b[39m__traceback__) \u001b[39m# I need to change the exception type so that the traceback is not cut\u001b[39;00m\n",
      "Cell \u001b[0;32mIn[5], line 4\u001b[0m, in \u001b[0;36mcb1\u001b[0;34m(set_val, **kwargs)\u001b[0m\n\u001b[1;32m      2\u001b[0m \u001b[39mprint\u001b[39m(\u001b[39m'\u001b[39m\u001b[39mbefore cb1\u001b[39m\u001b[39m'\u001b[39m)\n\u001b[1;32m      3\u001b[0m \u001b[39mif\u001b[39;00m set_val \u001b[39mis\u001b[39;00m \u001b[39mnot\u001b[39;00m \u001b[39mNone\u001b[39;00m: kwargs[\u001b[39m'\u001b[39m\u001b[39mval\u001b[39m\u001b[39m'\u001b[39m]\u001b[39m=\u001b[39mset_val\n\u001b[0;32m----> 4\u001b[0m \u001b[39myield from\u001b[39;00m cb2(\u001b[39m*\u001b[39m\u001b[39m*\u001b[39mkwargs)\n\u001b[1;32m      5\u001b[0m \u001b[39mprint\u001b[39m(\u001b[39m'\u001b[39m\u001b[39mafter cb1\u001b[39m\u001b[39m'\u001b[39m)\n",
      "Cell \u001b[0;32mIn[5], line 10\u001b[0m, in \u001b[0;36mcb2\u001b[0;34m(throw_in_chain, **kwargs)\u001b[0m\n\u001b[1;32m      8\u001b[0m \u001b[39mprint\u001b[39m(\u001b[39m'\u001b[39m\u001b[39mbefore cb2\u001b[39m\u001b[39m'\u001b[39m)\n\u001b[1;32m      9\u001b[0m \u001b[39mif\u001b[39;00m throw_in_chain: \u001b[39mraise\u001b[39;00m \u001b[39mException\u001b[39;00m(\u001b[39m'\u001b[39m\u001b[39merror\u001b[39m\u001b[39m'\u001b[39m)\n\u001b[0;32m---> 10\u001b[0m \u001b[39myield from\u001b[39;00m end_of_chain(\u001b[39m*\u001b[39m\u001b[39m*\u001b[39mkwargs)\n\u001b[1;32m     11\u001b[0m \u001b[39mprint\u001b[39m(\u001b[39m'\u001b[39m\u001b[39mafter cb2\u001b[39m\u001b[39m'\u001b[39m)\n",
      "Cell \u001b[0;32mIn[5], line 15\u001b[0m, in \u001b[0;36mend_of_chain\u001b[0;34m(val, **kwargs)\u001b[0m\n\u001b[1;32m     13\u001b[0m \u001b[39mdef\u001b[39;00m \u001b[39mend_of_chain\u001b[39m(val, \u001b[39m*\u001b[39m\u001b[39m*\u001b[39mkwargs):\n\u001b[1;32m     14\u001b[0m     \u001b[39mprint\u001b[39m(\u001b[39mf\u001b[39m\u001b[39m'\u001b[39m\u001b[39mbefore yield \u001b[39m\u001b[39m{\u001b[39;00mval\u001b[39m}\u001b[39;00m\u001b[39m - Finishing a chain by yielding None\u001b[39m\u001b[39m'\u001b[39m)\n\u001b[0;32m---> 15\u001b[0m     \u001b[39myield\u001b[39;00m val\n\u001b[1;32m     16\u001b[0m     \u001b[39mprint\u001b[39m(\u001b[39mf\u001b[39m\u001b[39m'\u001b[39m\u001b[39mafter yield \u001b[39m\u001b[39m{\u001b[39;00mval\u001b[39m}\u001b[39;00m\u001b[39m'\u001b[39m)\n",
      "Cell \u001b[0;32mIn[8], line 4\u001b[0m\n\u001b[1;32m      2\u001b[0m \u001b[39mprint\u001b[39m(\u001b[39m'\u001b[39m\u001b[39m>>> Body of the with statement\u001b[39m\u001b[39m'\u001b[39m)\n\u001b[1;32m      3\u001b[0m \u001b[39mprint\u001b[39m(\u001b[39m'\u001b[39m\u001b[39m>>> + exception\u001b[39m\u001b[39m'\u001b[39m)\n\u001b[0;32m----> 4\u001b[0m \u001b[39mprint\u001b[39m(\u001b[39m1\u001b[39;49m\u001b[39m/\u001b[39;49mval)\n",
      "\u001b[0;31mRuntimeError\u001b[0m: division by zero"
     ]
    }
   ],
   "source": [
    "with context(set_val=0) as val:\n",
    "    print('>>> Body of the with statement')\n",
    "    print('>>> + exception')\n",
    "    print(1/val)"
   ]
  },
  {
   "cell_type": "code",
   "execution_count": 9,
   "id": "e6b2f18c",
   "metadata": {},
   "outputs": [
    {
     "name": "stdout",
     "output_type": "stream",
     "text": [
      "> \u001b[0;32m/var/folders/f2/nlr2kz4j2q542b5xz6z640500000gn/T/ipykernel_60935/154339608.py\u001b[0m(4)\u001b[0;36m<module>\u001b[0;34m()\u001b[0m\n",
      "\u001b[0;32m      1 \u001b[0;31m\u001b[0;32mwith\u001b[0m \u001b[0mcontext\u001b[0m\u001b[0;34m(\u001b[0m\u001b[0mset_val\u001b[0m\u001b[0;34m=\u001b[0m\u001b[0;36m0\u001b[0m\u001b[0;34m)\u001b[0m \u001b[0;32mas\u001b[0m \u001b[0mval\u001b[0m\u001b[0;34m:\u001b[0m\u001b[0;34m\u001b[0m\u001b[0;34m\u001b[0m\u001b[0m\n",
      "\u001b[0m\u001b[0;32m      2 \u001b[0;31m    \u001b[0mprint\u001b[0m\u001b[0;34m(\u001b[0m\u001b[0;34m'>>> Body of the with statement'\u001b[0m\u001b[0;34m)\u001b[0m\u001b[0;34m\u001b[0m\u001b[0;34m\u001b[0m\u001b[0m\n",
      "\u001b[0m\u001b[0;32m      3 \u001b[0;31m    \u001b[0mprint\u001b[0m\u001b[0;34m(\u001b[0m\u001b[0;34m'>>> + exception'\u001b[0m\u001b[0;34m)\u001b[0m\u001b[0;34m\u001b[0m\u001b[0;34m\u001b[0m\u001b[0m\n",
      "\u001b[0m\u001b[0;32m----> 4 \u001b[0;31m    \u001b[0mprint\u001b[0m\u001b[0;34m(\u001b[0m\u001b[0;36m1\u001b[0m\u001b[0;34m/\u001b[0m\u001b[0mval\u001b[0m\u001b[0;34m)\u001b[0m\u001b[0;34m\u001b[0m\u001b[0;34m\u001b[0m\u001b[0m\n",
      "\u001b[0m\n",
      "0\n",
      "> \u001b[0;32m/var/folders/f2/nlr2kz4j2q542b5xz6z640500000gn/T/ipykernel_60935/2020174593.py\u001b[0m(15)\u001b[0;36mend_of_chain\u001b[0;34m()\u001b[0m\n",
      "\u001b[0;32m     13 \u001b[0;31m\u001b[0;32mdef\u001b[0m \u001b[0mend_of_chain\u001b[0m\u001b[0;34m(\u001b[0m\u001b[0mval\u001b[0m\u001b[0;34m,\u001b[0m \u001b[0;34m**\u001b[0m\u001b[0mkwargs\u001b[0m\u001b[0;34m)\u001b[0m\u001b[0;34m:\u001b[0m\u001b[0;34m\u001b[0m\u001b[0;34m\u001b[0m\u001b[0m\n",
      "\u001b[0m\u001b[0;32m     14 \u001b[0;31m    \u001b[0mprint\u001b[0m\u001b[0;34m(\u001b[0m\u001b[0;34mf'before yield {val} - Finishing a chain by yielding None'\u001b[0m\u001b[0;34m)\u001b[0m\u001b[0;34m\u001b[0m\u001b[0;34m\u001b[0m\u001b[0m\n",
      "\u001b[0m\u001b[0;32m---> 15 \u001b[0;31m    \u001b[0;32myield\u001b[0m \u001b[0mval\u001b[0m\u001b[0;34m\u001b[0m\u001b[0;34m\u001b[0m\u001b[0m\n",
      "\u001b[0m\u001b[0;32m     16 \u001b[0;31m    \u001b[0mprint\u001b[0m\u001b[0;34m(\u001b[0m\u001b[0;34mf'after yield {val}'\u001b[0m\u001b[0;34m)\u001b[0m\u001b[0;34m\u001b[0m\u001b[0;34m\u001b[0m\u001b[0m\n",
      "\u001b[0m\u001b[0;32m     17 \u001b[0;31m\u001b[0;34m\u001b[0m\u001b[0m\n",
      "\u001b[0m\n",
      "> \u001b[0;32m/var/folders/f2/nlr2kz4j2q542b5xz6z640500000gn/T/ipykernel_60935/2020174593.py\u001b[0m(10)\u001b[0;36mcb2\u001b[0;34m()\u001b[0m\n",
      "\u001b[0;32m      8 \u001b[0;31m    \u001b[0mprint\u001b[0m\u001b[0;34m(\u001b[0m\u001b[0;34m'before cb2'\u001b[0m\u001b[0;34m)\u001b[0m\u001b[0;34m\u001b[0m\u001b[0;34m\u001b[0m\u001b[0m\n",
      "\u001b[0m\u001b[0;32m      9 \u001b[0;31m    \u001b[0;32mif\u001b[0m \u001b[0mthrow_in_chain\u001b[0m\u001b[0;34m:\u001b[0m \u001b[0;32mraise\u001b[0m \u001b[0mException\u001b[0m\u001b[0;34m(\u001b[0m\u001b[0;34m'error'\u001b[0m\u001b[0;34m)\u001b[0m\u001b[0;34m\u001b[0m\u001b[0;34m\u001b[0m\u001b[0m\n",
      "\u001b[0m\u001b[0;32m---> 10 \u001b[0;31m    \u001b[0;32myield\u001b[0m \u001b[0;32mfrom\u001b[0m \u001b[0mend_of_chain\u001b[0m\u001b[0;34m(\u001b[0m\u001b[0;34m**\u001b[0m\u001b[0mkwargs\u001b[0m\u001b[0;34m)\u001b[0m\u001b[0;34m\u001b[0m\u001b[0;34m\u001b[0m\u001b[0m\n",
      "\u001b[0m\u001b[0;32m     11 \u001b[0;31m    \u001b[0mprint\u001b[0m\u001b[0;34m(\u001b[0m\u001b[0;34m'after cb2'\u001b[0m\u001b[0;34m)\u001b[0m\u001b[0;34m\u001b[0m\u001b[0;34m\u001b[0m\u001b[0m\n",
      "\u001b[0m\u001b[0;32m     12 \u001b[0;31m\u001b[0;34m\u001b[0m\u001b[0m\n",
      "\u001b[0m\n",
      "{'val': 0}\n",
      "> \u001b[0;32m/var/folders/f2/nlr2kz4j2q542b5xz6z640500000gn/T/ipykernel_60935/2020174593.py\u001b[0m(4)\u001b[0;36mcb1\u001b[0;34m()\u001b[0m\n",
      "\u001b[0;32m      2 \u001b[0;31m    \u001b[0mprint\u001b[0m\u001b[0;34m(\u001b[0m\u001b[0;34m'before cb1'\u001b[0m\u001b[0;34m)\u001b[0m\u001b[0;34m\u001b[0m\u001b[0;34m\u001b[0m\u001b[0m\n",
      "\u001b[0m\u001b[0;32m      3 \u001b[0;31m    \u001b[0;32mif\u001b[0m \u001b[0mset_val\u001b[0m \u001b[0;32mis\u001b[0m \u001b[0;32mnot\u001b[0m \u001b[0;32mNone\u001b[0m\u001b[0;34m:\u001b[0m \u001b[0mkwargs\u001b[0m\u001b[0;34m[\u001b[0m\u001b[0;34m'val'\u001b[0m\u001b[0;34m]\u001b[0m\u001b[0;34m=\u001b[0m\u001b[0mset_val\u001b[0m\u001b[0;34m\u001b[0m\u001b[0;34m\u001b[0m\u001b[0m\n",
      "\u001b[0m\u001b[0;32m----> 4 \u001b[0;31m    \u001b[0;32myield\u001b[0m \u001b[0;32mfrom\u001b[0m \u001b[0mcb2\u001b[0m\u001b[0;34m(\u001b[0m\u001b[0;34m**\u001b[0m\u001b[0mkwargs\u001b[0m\u001b[0;34m)\u001b[0m\u001b[0;34m\u001b[0m\u001b[0;34m\u001b[0m\u001b[0m\n",
      "\u001b[0m\u001b[0;32m      5 \u001b[0;31m    \u001b[0mprint\u001b[0m\u001b[0;34m(\u001b[0m\u001b[0;34m'after cb1'\u001b[0m\u001b[0;34m)\u001b[0m\u001b[0;34m\u001b[0m\u001b[0;34m\u001b[0m\u001b[0m\n",
      "\u001b[0m\u001b[0;32m      6 \u001b[0;31m\u001b[0;34m\u001b[0m\u001b[0m\n",
      "\u001b[0m\n",
      "{'val': 0}\n",
      "0\n",
      "'set_val=0'\n"
     ]
    }
   ],
   "source": [
    "%debug"
   ]
  },
  {
   "attachments": {},
   "cell_type": "markdown",
   "id": "1569ec41",
   "metadata": {},
   "source": [
    "### Callbacks chain implementation"
   ]
  },
  {
   "cell_type": "code",
   "execution_count": 11,
   "id": "03007558",
   "metadata": {},
   "outputs": [],
   "source": [
    "import typing\n",
    "import dataclasses"
   ]
  },
  {
   "attachments": {},
   "cell_type": "markdown",
   "id": "87c38094",
   "metadata": {},
   "source": [
    "Note that the control flow exceptions like `CancelEpochException` are put on coresponding\n",
    "methods as `epoch.CancelException`. It let us avoid accessing `globals` via string names.\n",
    "And it is handy to cancel execution as you can simply type `raise super().epoch.CancelException()`"
   ]
  },
  {
   "cell_type": "code",
   "execution_count": 35,
   "id": "b1d23e9a",
   "metadata": {},
   "outputs": [],
   "source": [
    "def cb_safeguard(f, name):\n",
    "    def _inner(*args, **kwargs):\n",
    "        gen = f(*args, **kwargs)\n",
    "        assert gen is not None, f'Your callback {f} need to `yield from super().{name}(ctx)`'\n",
    "        return gen\n",
    "    return _inner\n",
    "\n",
    "class EndOfCallbackChain():\n",
    "    def end(self, ctx): yield None\n",
    "    def __getattr__(self, name): return self.end\n",
    "    \n",
    "class CallbackBase():\n",
    "    order = 0\n",
    "    next:typing.Union[EndOfCallbackChain,'CallbackBase'] = EndOfCallbackChain()\n",
    "    def fit(self, ctx): yield from cb_safeguard(self.next.fit, 'fit')(ctx)\n",
    "    fit.CancelException = CancelFitException\n",
    "    def epoch(self, ctx): yield from cb_safeguard(self.next.epoch, 'epoch')(ctx)\n",
    "    epoch.CancelException = CancelEpochException\n",
    "    def batch(self, ctx): yield from cb_safeguard(self.next.batch, 'batch')(ctx)\n",
    "    batch.CancelException = CancelBatchException\n",
    "    \n",
    "class CallbackChain(CallbackBase):\n",
    "    def __init__(self, cbs):\n",
    "        cbs = sorted(cbs, key=attrgetter('order'))\n",
    "        n = EndOfCallbackChain()\n",
    "        for cb in reversed(cbs): cb.next, n = n, cb\n",
    "        self.next = n"
   ]
  },
  {
   "cell_type": "code",
   "execution_count": 36,
   "id": "9ddaca18",
   "metadata": {},
   "outputs": [
    {
     "name": "stdout",
     "output_type": "stream",
     "text": [
      "Doing some before_fit action without yield though\n",
      "Your callback <bound method BrokenCallback.fit of <__main__.BrokenCallback object at 0x13fcb6260>> need to `yield from super().fit(ctx)`\n"
     ]
    }
   ],
   "source": [
    "class BrokenCallback(CallbackBase):\n",
    "    order=100\n",
    "    def fit(self, ctx): \n",
    "        print(\"Doing some before_fit action without yield though\")\n",
    "cb = CallbackChain([BrokenCallback()])\n",
    "try: list(cb.fit(None))\n",
    "except AssertionError as e: print(e)"
   ]
  },
  {
   "attachments": {},
   "cell_type": "markdown",
   "id": "cb451ce1",
   "metadata": {},
   "source": [
    "End to end callback test with way to execute it"
   ]
  },
  {
   "cell_type": "code",
   "execution_count": 37,
   "id": "583ce114",
   "metadata": {},
   "outputs": [],
   "source": [
    "class CompletionCB(CallbackBase):\n",
    "    def fit(self, *_):\n",
    "        self.count = 0\n",
    "        yield from super().fit(*_)\n",
    "        print(f'Completed {self.count} batches')\n",
    "    def batch(self, *_): \n",
    "        yield from super().batch(*_)\n",
    "        self.count += 1"
   ]
  },
  {
   "cell_type": "code",
   "execution_count": 38,
   "id": "0766af29",
   "metadata": {},
   "outputs": [
    {
     "name": "stdout",
     "output_type": "stream",
     "text": [
      "Completed 3 batches\n"
     ]
    }
   ],
   "source": [
    "cb = CompletionCB()\n",
    "fit_cb = cb.fit(None) # nothing is run yet\n",
    "next(fit_cb) # next/send(None) run the before_fit\n",
    "for i in range(3): list(cb.batch(None)) # list run the before and after batch\n",
    "list(fit_cb); # run the after_fit. Using `list`` instead of `next` to avoid the StopIteration exception"
   ]
  },
  {
   "attachments": {},
   "cell_type": "markdown",
   "id": "9ff0b9ff",
   "metadata": {},
   "source": [
    "## Learner with new callbacks + support for pylance / type checkers\n",
    "\n",
    "Since I was changing the learner I also added support for pylance type checking. It is not a big deal, but it is nice to have.\n",
    "This notebook could have 0 issues detected if few functions would define type unions like to_device, to_cpu etc.\n",
    "The original notebook has 86 issues detected by pylance.\n",
    "I've did so by replacing `setattr` with `@dataclass`, and introduction of execution context (`learn.ctx`)\n",
    "which stores variables produced during `fit` call, that previously landed on learn. \n",
    "Now the variables are part of learn.ctx, and we can be easily passed between callbacks.\n",
    "\n",
    "I also enabled reference counting by adding `weakref` to `ctx`, to free GPU memory instantly once learner goes out of scope.\n",
    "\n",
    "The code is only slightly longer than the original one. I've put in the `TrainCB` on to avoid complication in callbacksystem\n",
    "And I think it should be done via inheritance anyway, as it is easier to debug and understand. \n",
    "But such inheritance can be added dynamically in the same way as callbacks but I didn't implement that yet.\n"
   ]
  },
  {
   "cell_type": "code",
   "execution_count": 39,
   "id": "6ea397f0",
   "metadata": {},
   "outputs": [],
   "source": [
    "import dataclasses\n",
    "import weakref"
   ]
  },
  {
   "cell_type": "code",
   "execution_count": 40,
   "id": "ecf2123a",
   "metadata": {},
   "outputs": [],
   "source": [
    "#|export\n",
    "@dataclasses.dataclass # instead of setattr so pylance can see the fields\n",
    "class Learner:\n",
    "    model: nn.Module; dls: DataLoaders; loss_func: typing.Callable; lr: float|torch.Tensor; cbs: typing.Sequence[CallbackBase]\n",
    "    opt_func = optim.SGD\n",
    "    def __post_init__(self): self.cb_chain, self.ctx = CallbackChain(self.cbs), TrainContext(self)\n",
    "\n",
    "    @contextmanager\n",
    "    def callback_ctx(self, cb_attr):\n",
    "        callbacks = getattr(self.cb_chain, cb_attr.__name__)(self.ctx)\n",
    "        try:\n",
    "            yield from callbacks\n",
    "        except cb_attr.CancelException: list(callbacks) # do the after callbacks\n",
    "        except Exception as e:\n",
    "            if e.__traceback__.tb_next is None: raise # type: ignore , not sure why it complains here\n",
    "            callbacks.throw(RuntimeError, e, e.__traceback__) # To make the exception appear in chain of callbacks\n",
    "\n",
    "    def one_epoch(self, train):\n",
    "        self.model.train(train)\n",
    "        self.ctx.dl = self.dls.train if train else self.dls.valid\n",
    "        with self.callback_ctx(CallbackBase.epoch):\n",
    "            for self.ctx.iter, self.ctx.batch in enumerate(self.ctx.dl):\n",
    "                with self.callback_ctx(CallbackBase.batch):\n",
    "                    self.predict()\n",
    "                    self.get_loss()\n",
    "                    if self.model.training:\n",
    "                        self.backward()\n",
    "                        self.step()\n",
    "                        self.zero_grad()\n",
    "    \n",
    "    def fit(self, n_epochs):\n",
    "        self.ctx.n_epochs = n_epochs\n",
    "        self.ctx.epochs = range(n_epochs)\n",
    "        self.ctx.opt = self.opt_func(self.model.parameters(), self.lr) # type: ignore , opt_func has wrong param type inferred\n",
    "        with self.callback_ctx(CallbackBase.fit):\n",
    "            for self.ctx.epoch in self.ctx.epochs:\n",
    "                self.one_epoch(True)\n",
    "                with torch.no_grad(): self.one_epoch(False)\n",
    "\n",
    "    def predict(self): self.ctx.preds = self.model(self.ctx.batch[0])\n",
    "    def get_loss(self): self.ctx.loss = self.loss_func(self.ctx.preds, self.ctx.batch[1])\n",
    "    def backward(self): self.ctx.loss.backward()\n",
    "    def step(self): self.ctx.opt.step()\n",
    "    def zero_grad(self): self.ctx.opt.zero_grad()\n",
    "\n",
    "    def reset(self): self.ctx.clear()\n",
    "\n",
    "class TrainContext(dict): # to keep execution state in a dict instead of learner class\n",
    "    _learn: weakref.ref['Learner']\n",
    "    def __init__(self, learn: 'Learner'): self._learn = weakref.ref(learn)\n",
    "    @property\n",
    "    def learn(self): return self._learn()\n",
    "    def __getattr__(self, k): # hasattr works\n",
    "        try: return self[k] \n",
    "        except: raise AttributeError(k)\n",
    "    def __setattr__(self, k: str, v: typing.Any) -> None:\n",
    "        self[k]=v"
   ]
  },
  {
   "cell_type": "code",
   "execution_count": 41,
   "id": "954ae5d8",
   "metadata": {},
   "outputs": [],
   "source": [
    "@dataclasses.dataclass\n",
    "class DeviceCB(CallbackBase):\n",
    "    device: str|torch.device = def_device\n",
    "    def fit(self, ctx): \n",
    "        ctx.learn.model.to(self.device)\n",
    "        yield from super().fit(ctx)\n",
    "    \n",
    "    def batch(self, ctx): \n",
    "        ctx.batch = to_device(ctx.batch, device=self.device) # type: ignore , to_device has wrong param type inferred\n",
    "        # test what happens if we don't yield in the middle of a chain\n",
    "        yield from super().batch(ctx)"
   ]
  },
  {
   "cell_type": "code",
   "execution_count": 42,
   "id": "d66bea21",
   "metadata": {},
   "outputs": [],
   "source": [
    "cbs = [DeviceCB('mps')]\n",
    "learn = Learner(get_model(), dls, F.cross_entropy, lr=0.2, cbs=cbs)\n",
    "learn.fit(1)"
   ]
  },
  {
   "attachments": {},
   "cell_type": "markdown",
   "id": "bc7e8742",
   "metadata": {},
   "source": [
    "## Why ctx?\n",
    "\n",
    "- Static type checkers like it better when dynamic attributes do not appear on Learner\n",
    "- We can see easily the ctx attributes during callback debugging with `ctx.keys()`\n",
    "- It is one place to store all kind of data generated during training and can be cleaned up easily"
   ]
  },
  {
   "cell_type": "code",
   "execution_count": 43,
   "id": "f0c6fa68",
   "metadata": {},
   "outputs": [
    {
     "data": {
      "text/plain": [
       "dict_keys(['_learn', 'n_epochs', 'epochs', 'opt', 'epoch', 'dl', 'iter', 'batch', 'preds', 'loss'])"
      ]
     },
     "execution_count": 43,
     "metadata": {},
     "output_type": "execute_result"
    }
   ],
   "source": [
    "learn.ctx.keys()"
   ]
  },
  {
   "cell_type": "code",
   "execution_count": 44,
   "id": "ac314cee",
   "metadata": {},
   "outputs": [],
   "source": [
    "learn.ctx.clear() # to reset the state of learner and free memory"
   ]
  },
  {
   "attachments": {},
   "cell_type": "markdown",
   "id": "3f4569d7",
   "metadata": {},
   "source": [
    "## The rest of callbacks"
   ]
  },
  {
   "cell_type": "code",
   "execution_count": 45,
   "id": "c351b1d9",
   "metadata": {},
   "outputs": [],
   "source": [
    "class MetricsCB(CallbackBase):\n",
    "    def __init__(self, *ms, **metrics):\n",
    "        for o in ms: metrics[type(o).__name__] = o\n",
    "        self.metrics = metrics\n",
    "        self.all_metrics = copy(metrics)\n",
    "        self.all_metrics['loss'] = self.loss = Mean()\n",
    "\n",
    "    def _log(self, d): print(d)\n",
    "    def fit(self, ctx):\n",
    "        ctx.metrics = self\n",
    "        yield from super().fit(ctx)\n",
    "    \n",
    "    def epoch(self, ctx): \n",
    "        for o in self.all_metrics.values(): o.reset() \n",
    "        yield from super().epoch(ctx)\n",
    "        log = {k:f'{v.compute():.3f}' for k,v in self.all_metrics.items()}\n",
    "        log['epoch'] = ctx.epoch\n",
    "        log['train'] = ctx.learn.model.training\n",
    "        self._log(log)\n",
    "\n",
    "    def batch(self, ctx):\n",
    "        yield from super().batch(ctx)\n",
    "        if not hasattr(ctx, 'preds'): return\n",
    "        x,y = to_cpu(ctx.batch)\n",
    "        for m in self.metrics.values(): m.update(to_cpu(ctx.preds), y)\n",
    "        self.loss.update(to_cpu(ctx.loss), weight=len(x)) # type: ignore"
   ]
  },
  {
   "cell_type": "code",
   "execution_count": 46,
   "id": "ee43512e",
   "metadata": {},
   "outputs": [
    {
     "name": "stdout",
     "output_type": "stream",
     "text": [
      "{'accuracy': '0.594', 'loss': '1.180', 'epoch': 0, 'train': True}\n",
      "{'accuracy': '0.694', 'loss': '0.830', 'epoch': 0, 'train': False}\n"
     ]
    }
   ],
   "source": [
    "metrics = MetricsCB(accuracy=MulticlassAccuracy())\n",
    "cbs = (DeviceCB(), metrics)\n",
    "learn = Learner(get_model(), dls, F.cross_entropy, lr=0.2, cbs=cbs)\n",
    "learn.fit(1)"
   ]
  },
  {
   "cell_type": "code",
   "execution_count": 47,
   "id": "e9537f9f",
   "metadata": {},
   "outputs": [],
   "source": [
    "#|export\n",
    "@dataclasses.dataclass\n",
    "class ProgressCB(CallbackBase):\n",
    "    order = MetricsCB.order+1\n",
    "    plot: bool = False\n",
    "    def fit(self, ctx):\n",
    "        ctx.epochs = self.mbar = master_bar(ctx.epochs)\n",
    "        if hasattr(ctx, 'metrics'): ctx.metrics._log = self._log\n",
    "        self.losses = []\n",
    "        yield from super().fit(ctx)\n",
    "    def _log(self, d): self.mbar.write(str(d))\n",
    "    def epoch(self, ctx): \n",
    "        ctx.dl = progress_bar(ctx.dl, leave=False, parent=self.mbar)\n",
    "        yield from super().epoch(ctx)\n",
    "    def batch(self, ctx):\n",
    "        yield from super().batch(ctx)\n",
    "        if not hasattr(ctx, 'loss'): return\n",
    "        ctx.dl.comment = f'{ctx.loss:.3f}'\n",
    "        if self.plot and hasattr(ctx, 'metrics') and learn.model.training:\n",
    "            self.losses.append(ctx.loss.item())\n",
    "            self.mbar.update_graph([[fc.L.range(self.losses), self.losses]])"
   ]
  },
  {
   "cell_type": "code",
   "execution_count": 48,
   "id": "53b6a15d",
   "metadata": {},
   "outputs": [
    {
     "data": {
      "text/html": [
       "\n",
       "<style>\n",
       "    /* Turns off some styling */\n",
       "    progress {\n",
       "        /* gets rid of default border in Firefox and Opera. */\n",
       "        border: none;\n",
       "        /* Needs to be in here for Safari polyfill so background images work as expected. */\n",
       "        background-size: auto;\n",
       "    }\n",
       "    progress:not([value]), progress:not([value])::-webkit-progress-bar {\n",
       "        background: repeating-linear-gradient(45deg, #7e7e7e, #7e7e7e 10px, #5c5c5c 10px, #5c5c5c 20px);\n",
       "    }\n",
       "    .progress-bar-interrupted, .progress-bar-interrupted::-webkit-progress-bar {\n",
       "        background: #F44336;\n",
       "    }\n",
       "</style>\n"
      ],
      "text/plain": [
       "<IPython.core.display.HTML object>"
      ]
     },
     "metadata": {},
     "output_type": "display_data"
    },
    {
     "data": {
      "text/html": [
       "{'accuracy': '0.608', 'loss': '1.163', 'epoch': 0, 'train': True}<p>{'accuracy': '0.691', 'loss': '0.813', 'epoch': 0, 'train': False}"
      ],
      "text/plain": [
       "<IPython.core.display.HTML object>"
      ]
     },
     "metadata": {},
     "output_type": "display_data"
    },
    {
     "data": {
      "image/png": "[encoded data removed]",
      "text/plain": [
       "<Figure size 600x400 with 1 Axes>"
      ]
     },
     "metadata": {},
     "output_type": "display_data"
    }
   ],
   "source": [
    "metrics = MetricsCB(accuracy=MulticlassAccuracy())\n",
    "cbs = [DeviceCB(), metrics, ProgressCB(plot=True)]\n",
    "learn = Learner(get_model(), dls, F.cross_entropy, lr=0.2, cbs=cbs)\n",
    "learn.fit(1)"
   ]
  },
  {
   "attachments": {},
   "cell_type": "markdown",
   "id": "67000ef9",
   "metadata": {},
   "source": [
    "## Stacktrace in action in full callback chain"
   ]
  },
  {
   "cell_type": "code",
   "execution_count": 49,
   "id": "b8763a99",
   "metadata": {},
   "outputs": [
    {
     "name": "stdout",
     "output_type": "stream",
     "text": [
      "Doing some before_fit action without yield though\n"
     ]
    },
    {
     "ename": "RuntimeError",
     "evalue": "Your callback <bound method BrokenCallback.fit of <__main__.BrokenCallback object at 0x13d1f6c50>> need to `yield from super().fit(ctx)`",
     "output_type": "error",
     "traceback": [
      "\u001b[0;31m---------------------------------------------------------------------------\u001b[0m",
      "\u001b[0;31mRuntimeError\u001b[0m                              Traceback (most recent call last)",
      "Cell \u001b[0;32mIn[49], line 4\u001b[0m\n\u001b[1;32m      2\u001b[0m cbs \u001b[39m=\u001b[39m [DeviceCB(), metrics, ProgressCB(plot\u001b[39m=\u001b[39m\u001b[39mTrue\u001b[39;00m), BrokenCallback()]\n\u001b[1;32m      3\u001b[0m learn \u001b[39m=\u001b[39m Learner(get_model(), dls, F\u001b[39m.\u001b[39mcross_entropy, lr\u001b[39m=\u001b[39m\u001b[39m0.2\u001b[39m, cbs\u001b[39m=\u001b[39mcbs)\n\u001b[0;32m----> 4\u001b[0m learn\u001b[39m.\u001b[39;49mfit(\u001b[39m1\u001b[39;49m)\n",
      "Cell \u001b[0;32mIn[40], line 35\u001b[0m, in \u001b[0;36mLearner.fit\u001b[0;34m(self, n_epochs)\u001b[0m\n\u001b[1;32m     33\u001b[0m \u001b[39mself\u001b[39m\u001b[39m.\u001b[39mctx\u001b[39m.\u001b[39mepochs \u001b[39m=\u001b[39m \u001b[39mrange\u001b[39m(n_epochs)\n\u001b[1;32m     34\u001b[0m \u001b[39mself\u001b[39m\u001b[39m.\u001b[39mctx\u001b[39m.\u001b[39mopt \u001b[39m=\u001b[39m \u001b[39mself\u001b[39m\u001b[39m.\u001b[39mopt_func(\u001b[39mself\u001b[39m\u001b[39m.\u001b[39mmodel\u001b[39m.\u001b[39mparameters(), \u001b[39mself\u001b[39m\u001b[39m.\u001b[39mlr) \u001b[39m# type: ignore , opt_func has wrong param type inferred\u001b[39;00m\n\u001b[0;32m---> 35\u001b[0m \u001b[39mwith\u001b[39;00m \u001b[39mself\u001b[39m\u001b[39m.\u001b[39mcallback_ctx(CallbackBase\u001b[39m.\u001b[39mfit):\n\u001b[1;32m     36\u001b[0m     \u001b[39mfor\u001b[39;00m \u001b[39mself\u001b[39m\u001b[39m.\u001b[39mctx\u001b[39m.\u001b[39mepoch \u001b[39min\u001b[39;00m \u001b[39mself\u001b[39m\u001b[39m.\u001b[39mctx\u001b[39m.\u001b[39mepochs:\n\u001b[1;32m     37\u001b[0m         \u001b[39mself\u001b[39m\u001b[39m.\u001b[39mone_epoch(\u001b[39mTrue\u001b[39;00m)\n",
      "File \u001b[0;32m/opt/homebrew/Caskroom/miniforge/base/envs/miniai/lib/python3.10/contextlib.py:135\u001b[0m, in \u001b[0;36m_GeneratorContextManager.__enter__\u001b[0;34m(self)\u001b[0m\n\u001b[1;32m    133\u001b[0m \u001b[39mdel\u001b[39;00m \u001b[39mself\u001b[39m\u001b[39m.\u001b[39margs, \u001b[39mself\u001b[39m\u001b[39m.\u001b[39mkwds, \u001b[39mself\u001b[39m\u001b[39m.\u001b[39mfunc\n\u001b[1;32m    134\u001b[0m \u001b[39mtry\u001b[39;00m:\n\u001b[0;32m--> 135\u001b[0m     \u001b[39mreturn\u001b[39;00m \u001b[39mnext\u001b[39;49m(\u001b[39mself\u001b[39;49m\u001b[39m.\u001b[39;49mgen)\n\u001b[1;32m    136\u001b[0m \u001b[39mexcept\u001b[39;00m \u001b[39mStopIteration\u001b[39;00m:\n\u001b[1;32m    137\u001b[0m     \u001b[39mraise\u001b[39;00m \u001b[39mRuntimeError\u001b[39;00m(\u001b[39m\"\u001b[39m\u001b[39mgenerator didn\u001b[39m\u001b[39m'\u001b[39m\u001b[39mt yield\u001b[39m\u001b[39m\"\u001b[39m) \u001b[39mfrom\u001b[39;00m \u001b[39mNone\u001b[39m\n",
      "Cell \u001b[0;32mIn[40], line 16\u001b[0m, in \u001b[0;36mLearner.callback_ctx\u001b[0;34m(self, cb_attr)\u001b[0m\n\u001b[1;32m     14\u001b[0m \u001b[39mexcept\u001b[39;00m \u001b[39mException\u001b[39;00m \u001b[39mas\u001b[39;00m e:\n\u001b[1;32m     15\u001b[0m     \u001b[39mif\u001b[39;00m e\u001b[39m.\u001b[39m__traceback__\u001b[39m.\u001b[39mtb_next \u001b[39mis\u001b[39;00m \u001b[39mNone\u001b[39;00m: \u001b[39mraise\u001b[39;00m \u001b[39m# type: ignore , not sure why it complains here\u001b[39;00m\n\u001b[0;32m---> 16\u001b[0m     callbacks\u001b[39m.\u001b[39;49mthrow(\u001b[39mRuntimeError\u001b[39;49;00m, e, e\u001b[39m.\u001b[39;49m__traceback__)\n",
      "Cell \u001b[0;32mIn[40], line 12\u001b[0m, in \u001b[0;36mLearner.callback_ctx\u001b[0;34m(self, cb_attr)\u001b[0m\n\u001b[1;32m     10\u001b[0m callbacks \u001b[39m=\u001b[39m \u001b[39mgetattr\u001b[39m(\u001b[39mself\u001b[39m\u001b[39m.\u001b[39mcb_chain, cb_attr\u001b[39m.\u001b[39m\u001b[39m__name__\u001b[39m)(\u001b[39mself\u001b[39m\u001b[39m.\u001b[39mctx)\n\u001b[1;32m     11\u001b[0m \u001b[39mtry\u001b[39;00m:\n\u001b[0;32m---> 12\u001b[0m     \u001b[39myield from\u001b[39;00m callbacks\n\u001b[1;32m     13\u001b[0m \u001b[39mexcept\u001b[39;00m cb_attr\u001b[39m.\u001b[39mCancelException: \u001b[39mlist\u001b[39m(callbacks) \u001b[39m# do the after callbacks\u001b[39;00m\n\u001b[1;32m     14\u001b[0m \u001b[39mexcept\u001b[39;00m \u001b[39mException\u001b[39;00m \u001b[39mas\u001b[39;00m e:\n",
      "Cell \u001b[0;32mIn[35], line 15\u001b[0m, in \u001b[0;36mCallbackBase.fit\u001b[0;34m(self, ctx)\u001b[0m\n\u001b[0;32m---> 15\u001b[0m \u001b[39mdef\u001b[39;00m \u001b[39mfit\u001b[39m(\u001b[39mself\u001b[39m, ctx): \u001b[39myield from\u001b[39;00m cb_safeguard(\u001b[39mself\u001b[39m\u001b[39m.\u001b[39mnext\u001b[39m.\u001b[39mfit, \u001b[39m'\u001b[39m\u001b[39mfit\u001b[39m\u001b[39m'\u001b[39m)(ctx)\n",
      "Cell \u001b[0;32mIn[41], line 6\u001b[0m, in \u001b[0;36mDeviceCB.fit\u001b[0;34m(self, ctx)\u001b[0m\n\u001b[1;32m      4\u001b[0m \u001b[39mdef\u001b[39;00m \u001b[39mfit\u001b[39m(\u001b[39mself\u001b[39m, ctx): \n\u001b[1;32m      5\u001b[0m     ctx\u001b[39m.\u001b[39mlearn\u001b[39m.\u001b[39mmodel\u001b[39m.\u001b[39mto(\u001b[39mself\u001b[39m\u001b[39m.\u001b[39mdevice)\n\u001b[0;32m----> 6\u001b[0m     \u001b[39myield from\u001b[39;00m \u001b[39msuper\u001b[39m()\u001b[39m.\u001b[39mfit(ctx)\n",
      "Cell \u001b[0;32mIn[35], line 15\u001b[0m, in \u001b[0;36mCallbackBase.fit\u001b[0;34m(self, ctx)\u001b[0m\n\u001b[0;32m---> 15\u001b[0m \u001b[39mdef\u001b[39;00m \u001b[39mfit\u001b[39m(\u001b[39mself\u001b[39m, ctx): \u001b[39myield from\u001b[39;00m cb_safeguard(\u001b[39mself\u001b[39m\u001b[39m.\u001b[39mnext\u001b[39m.\u001b[39mfit, \u001b[39m'\u001b[39m\u001b[39mfit\u001b[39m\u001b[39m'\u001b[39m)(ctx)\n",
      "Cell \u001b[0;32mIn[45], line 11\u001b[0m, in \u001b[0;36mMetricsCB.fit\u001b[0;34m(self, ctx)\u001b[0m\n\u001b[1;32m      9\u001b[0m \u001b[39mdef\u001b[39;00m \u001b[39mfit\u001b[39m(\u001b[39mself\u001b[39m, ctx):\n\u001b[1;32m     10\u001b[0m     ctx\u001b[39m.\u001b[39mmetrics \u001b[39m=\u001b[39m \u001b[39mself\u001b[39m\n\u001b[0;32m---> 11\u001b[0m     \u001b[39myield from\u001b[39;00m \u001b[39msuper\u001b[39m()\u001b[39m.\u001b[39mfit(ctx)\n",
      "Cell \u001b[0;32mIn[35], line 15\u001b[0m, in \u001b[0;36mCallbackBase.fit\u001b[0;34m(self, ctx)\u001b[0m\n\u001b[0;32m---> 15\u001b[0m \u001b[39mdef\u001b[39;00m \u001b[39mfit\u001b[39m(\u001b[39mself\u001b[39m, ctx): \u001b[39myield from\u001b[39;00m cb_safeguard(\u001b[39mself\u001b[39m\u001b[39m.\u001b[39mnext\u001b[39m.\u001b[39mfit, \u001b[39m'\u001b[39m\u001b[39mfit\u001b[39m\u001b[39m'\u001b[39m)(ctx)\n",
      "Cell \u001b[0;32mIn[47], line 10\u001b[0m, in \u001b[0;36mProgressCB.fit\u001b[0;34m(self, ctx)\u001b[0m\n\u001b[1;32m      8\u001b[0m \u001b[39mif\u001b[39;00m \u001b[39mhasattr\u001b[39m(ctx, \u001b[39m'\u001b[39m\u001b[39mmetrics\u001b[39m\u001b[39m'\u001b[39m): ctx\u001b[39m.\u001b[39mmetrics\u001b[39m.\u001b[39m_log \u001b[39m=\u001b[39m \u001b[39mself\u001b[39m\u001b[39m.\u001b[39m_log\n\u001b[1;32m      9\u001b[0m \u001b[39mself\u001b[39m\u001b[39m.\u001b[39mlosses \u001b[39m=\u001b[39m []\n\u001b[0;32m---> 10\u001b[0m \u001b[39myield from\u001b[39;00m \u001b[39msuper\u001b[39m()\u001b[39m.\u001b[39mfit(ctx)\n",
      "Cell \u001b[0;32mIn[35], line 15\u001b[0m, in \u001b[0;36mCallbackBase.fit\u001b[0;34m(self, ctx)\u001b[0m\n\u001b[0;32m---> 15\u001b[0m \u001b[39mdef\u001b[39;00m \u001b[39mfit\u001b[39m(\u001b[39mself\u001b[39m, ctx): \u001b[39myield from\u001b[39;00m cb_safeguard(\u001b[39mself\u001b[39;49m\u001b[39m.\u001b[39;49mnext\u001b[39m.\u001b[39;49mfit, \u001b[39m'\u001b[39;49m\u001b[39mfit\u001b[39;49m\u001b[39m'\u001b[39;49m)(ctx)\n",
      "Cell \u001b[0;32mIn[35], line 4\u001b[0m, in \u001b[0;36mcb_safeguard.<locals>._inner\u001b[0;34m(*args, **kwargs)\u001b[0m\n\u001b[1;32m      2\u001b[0m \u001b[39mdef\u001b[39;00m \u001b[39m_inner\u001b[39m(\u001b[39m*\u001b[39margs, \u001b[39m*\u001b[39m\u001b[39m*\u001b[39mkwargs):\n\u001b[1;32m      3\u001b[0m     gen \u001b[39m=\u001b[39m f(\u001b[39m*\u001b[39margs, \u001b[39m*\u001b[39m\u001b[39m*\u001b[39mkwargs)\n\u001b[0;32m----> 4\u001b[0m     \u001b[39massert\u001b[39;00m gen \u001b[39mis\u001b[39;00m \u001b[39mnot\u001b[39;00m \u001b[39mNone\u001b[39;00m, \u001b[39mf\u001b[39m\u001b[39m'\u001b[39m\u001b[39mYour callback \u001b[39m\u001b[39m{\u001b[39;00mf\u001b[39m}\u001b[39;00m\u001b[39m need to `yield from super().\u001b[39m\u001b[39m{\u001b[39;00mname\u001b[39m}\u001b[39;00m\u001b[39m(ctx)`\u001b[39m\u001b[39m'\u001b[39m\n\u001b[1;32m      5\u001b[0m     \u001b[39mreturn\u001b[39;00m gen\n",
      "\u001b[0;31mRuntimeError\u001b[0m: Your callback <bound method BrokenCallback.fit of <__main__.BrokenCallback object at 0x13d1f6c50>> need to `yield from super().fit(ctx)`"
     ]
    }
   ],
   "source": [
    "metrics = MetricsCB(accuracy=MulticlassAccuracy())\n",
    "cbs = [DeviceCB(), metrics, ProgressCB(plot=True), BrokenCallback()]\n",
    "learn = Learner(get_model(), dls, F.cross_entropy, lr=0.2, cbs=cbs)\n",
    "learn.fit(1)"
   ]
  },
  {
   "cell_type": "code",
   "execution_count": null,
   "id": "366ff235",
   "metadata": {},
   "outputs": [],
   "source": []
  }
 ],
 "metadata": {
  "kernelspec": {
   "display_name": "miniai",
   "language": "python",
   "name": "python3"
  },
  "language_info": {
   "codemirror_mode": {
    "name": "ipython",
    "version": 3
   },
   "file_extension": ".py",
   "mimetype": "text/x-python",
   "name": "python",
   "nbconvert_exporter": "python",
   "pygments_lexer": "ipython3",
   "version": "3.10.8"
  },
  "vscode": {
   "interpreter": {
    "hash": "65bdc12ab1f00d3c583c154495aae0afd4448f1172f63d82cc7fc9c1feca09db"
   }
  }
 },
 "nbformat": 4,
 "nbformat_minor": 5
}

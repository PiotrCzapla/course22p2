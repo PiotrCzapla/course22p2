{
 "cells": [
  {
   "cell_type": "code",
   "execution_count": null,
   "id": "da7e553f",
   "metadata": {},
   "outputs": [],
   "source": [
    "#| default_exp learner_new_callbacks"
   ]
  },
  {
   "cell_type": "code",
   "execution_count": null,
   "id": "cdc49d79",
   "metadata": {},
   "outputs": [],
   "source": [
    "#!pip install lovely-tensors\n",
    "\n",
    "import lovely_tensors as lt\n",
    "lt.monkey_patch()"
   ]
  },
  {
   "cell_type": "code",
   "execution_count": null,
   "id": "c29af72f",
   "metadata": {},
   "outputs": [
    {
     "name": "stdout",
     "output_type": "stream",
     "text": [
      "env: OMP_NUM_THREADS=1\n"
     ]
    }
   ],
   "source": [
    "#Cannot set number of intraop threads after parallel work has started or after set_num_threads call when using native parallel backend (function set_num_threads)\n",
    "# seams to be issue not only related to torchaudio https://github.com/pytorch/pytorch/issues/46409\n",
    "%env OMP_NUM_THREADS=1"
   ]
  },
  {
   "cell_type": "code",
   "execution_count": null,
   "id": "7e8f8491",
   "metadata": {},
   "outputs": [],
   "source": [
    "#|export\n",
    "import pickle,gzip,math,os,time,shutil,torch,matplotlib as mpl,numpy as np,matplotlib.pyplot as plt\n",
    "import fastcore.all as fc\n",
    "from collections.abc import Mapping\n",
    "from pathlib import Path\n",
    "from operator import attrgetter,itemgetter\n",
    "from functools import partial\n",
    "from copy import copy\n",
    "from contextlib import contextmanager\n",
    "from warnings import warn\n",
    "\n",
    "from torch import tensor,nn,optim\n",
    "from torch.utils.data import DataLoader,default_collate\n",
    "import torch.nn.functional as F\n",
    "import torchvision.transforms.functional as TF\n",
    "from datasets import load_dataset,load_dataset_builder\n",
    "\n",
    "from miniai.datasets import *\n",
    "from miniai.conv import *\n",
    "\n",
    "from fastprogress import progress_bar,master_bar\n",
    "\n",
    "from torcheval.metrics import MulticlassAccuracy,Mean"
   ]
  },
  {
   "cell_type": "code",
   "execution_count": null,
   "id": "84a947f2",
   "metadata": {},
   "outputs": [],
   "source": [
    "from fastcore.test import test_close\n",
    "\n",
    "torch.set_printoptions(precision=2, linewidth=140, sci_mode=False)\n",
    "torch.manual_seed(1)\n",
    "mpl.rcParams['image.cmap'] = 'gray'\n",
    "\n",
    "import logging\n",
    "logging.disable(logging.WARNING)"
   ]
  },
  {
   "cell_type": "markdown",
   "id": "8f5eea66",
   "metadata": {},
   "source": [
    "## Learner"
   ]
  },
  {
   "cell_type": "code",
   "execution_count": null,
   "id": "b22868a9",
   "metadata": {},
   "outputs": [
    {
     "data": {
      "application/vnd.jupyter.widget-view+json": {
       "model_id": "ad2ecd58e2f443aaace2337bc3f089c0",
       "version_major": 2,
       "version_minor": 0
      },
      "text/plain": [
       "  0%|          | 0/2 [00:00<?, ?it/s]"
      ]
     },
     "metadata": {},
     "output_type": "display_data"
    }
   ],
   "source": [
    "x,y = 'image','label'\n",
    "name = \"fashion_mnist\"\n",
    "dsd = load_dataset(name)"
   ]
  },
  {
   "cell_type": "code",
   "execution_count": null,
   "id": "b15f3e4d",
   "metadata": {},
   "outputs": [
    {
     "data": {
      "text/plain": [
       "{'image': Image(decode=True, id=None),\n",
       " 'label': ClassLabel(names=['T - shirt / top', 'Trouser', 'Pullover', 'Dress', 'Coat', 'Sandal', 'Shirt', 'Sneaker', 'Bag', 'Ankle boot'], id=None)}"
      ]
     },
     "execution_count": null,
     "metadata": {},
     "output_type": "execute_result"
    }
   ],
   "source": [
    "dsd['train'].features"
   ]
  },
  {
   "cell_type": "code",
   "execution_count": null,
   "id": "1ad7ecde",
   "metadata": {},
   "outputs": [],
   "source": [
    "@inplace\n",
    "def transformi(b): b[x] = [torch.flatten(TF.to_tensor(o)) for o in b[x]]"
   ]
  },
  {
   "cell_type": "code",
   "execution_count": null,
   "id": "ad4d2ec0",
   "metadata": {},
   "outputs": [],
   "source": [
    "bs = 1024\n",
    "tds = dsd.with_transform(transformi)"
   ]
  },
  {
   "cell_type": "code",
   "execution_count": null,
   "id": "ba214e6b",
   "metadata": {},
   "outputs": [],
   "source": [
    "from miniai.learner import *"
   ]
  },
  {
   "cell_type": "code",
   "execution_count": null,
   "id": "9cb11029",
   "metadata": {},
   "outputs": [
    {
     "data": {
      "text/plain": [
       "(torch.Size([1024, 784]),\n",
       " tensor[10] i64 x∈[0, 9] μ=3.300 σ=3.129 [9, 0, 0, 3, 0, 2, 7, 2, 5, 5])"
      ]
     },
     "execution_count": null,
     "metadata": {},
     "output_type": "execute_result"
    }
   ],
   "source": [
    "dls = DataLoaders.from_dd(tds, bs, num_workers=4)\n",
    "dt = dls.train\n",
    "xb,yb = next(iter(dt))\n",
    "xb.shape,yb[:10]"
   ]
  },
  {
   "cell_type": "code",
   "execution_count": null,
   "id": "529c8602",
   "metadata": {},
   "outputs": [],
   "source": [
    "m,nh = 28*28,50\n",
    "def get_model(): return nn.Sequential(nn.Linear(m,nh), nn.ReLU(), nn.Linear(nh,10))"
   ]
  },
  {
   "attachments": {},
   "cell_type": "markdown",
   "id": "2c996b3d",
   "metadata": {},
   "source": [
    "# Callbacks as generators with learner and local context, learner as dataclass"
   ]
  },
  {
   "attachments": {},
   "cell_type": "markdown",
   "id": "faf63fcc",
   "metadata": {},
   "source": [
    "### How exception work in generators \n",
    "\n",
    "Below we will make a chian of generators, and experiment with the way traceback is presented\n",
    "Generators can be chained with yield from, or multiple yeild statements, the former does not show \n",
    "the traceback so it is skipped here.\n",
    "\n",
    "The issue with generators is that only exceptions thrown inside of the generator \n",
    "are capturing the traceback of the generators chain, and not the exception thrown in the with statement.\n",
    "Which is problematic as callbacks often result in exception thrown from learner, and not from other callbacks or callback it self.\n",
    "\n",
    "But the issue can be mitigated by running `import pdb; pdb.post_mortem()` in the except block of a with statement,\n",
    "as then the tracback contains all the frames including the one from generators chain.\n",
    "\n",
    "But this fortunately can be as well mitigated by using gen.throw with wrapped exception in RuntimeError\n",
    "For some reason it only works if I wrap the exception, and not if I just pass the exception to gen.throw\n",
    "\n",
    "The traceback object are somehow edited (not sure where) but the `gen.throw` statements re removed, but it is not that bad\n",
    "providing that the code with gen.throw is simple enough so it does not need debugging.\n"
   ]
  },
  {
   "cell_type": "code",
   "execution_count": null,
   "id": "10c9022f",
   "metadata": {},
   "outputs": [
    {
     "name": "stdout",
     "output_type": "stream",
     "text": [
      "before context manager\n",
      "before cb1\n",
      "before cb2\n",
      "before cb3\n",
      "run - last step\n",
      "with statement\n",
      "after cb3\n",
      "after cb2\n",
      "after cb1\n",
      "after context manager\n"
     ]
    }
   ],
   "source": [
    "import traceback\n",
    "@contextmanager\n",
    "def context(cbs, inner_throw=False, raise_wrap=False, print_tb=False, **kwargs):\n",
    "    try:\n",
    "        print('before context manager')\n",
    "        chain = iter(cbs)\n",
    "        gen = next(chain)(chain, **kwargs)\n",
    "        yield from gen\n",
    "        print('after context manager')\n",
    "    except Exception as e:\n",
    "        if print_tb: traceback.print_exc()\n",
    "        if inner_throw: \n",
    "            print(e.__traceback__, e.__traceback__.tb_next, 'name', e.__traceback__.tb_frame.f_code.co_name)\n",
    "            gen.throw(RuntimeError, e, e.__traceback__) # for some reason the Type of exception need to be changed.\n",
    "\n",
    "        if raise_wrap: raise RuntimeError('wrapper to show how debug will work', e)\n",
    "        else: raise e\n",
    "\n",
    "def cb1(chain, **kwargs):\n",
    "    print('before cb1')\n",
    "    yield from next(chain)(chain, **kwargs)\n",
    "    print('after cb1')\n",
    "\n",
    "def cb2(chain, **kwargs):\n",
    "    print('before cb2')\n",
    "    yield from next(chain)(chain, **kwargs)\n",
    "    print('after cb2')\n",
    "    \n",
    "def cb3(chain, **kwargs):\n",
    "    print('before cb3')\n",
    "    yield from next(chain)(chain, **kwargs)\n",
    "    print('after cb3')\n",
    "\n",
    "def run(chain, ex_in_chain=False, **kwargs):\n",
    "    print('run - last step')\n",
    "    if ex_in_chain: raise Exception('error')\n",
    "    yield None\n",
    "\n",
    "cbs=[cb1, cb2, cb3, run]\n",
    "\n",
    "with context(cbs=cbs,raise_wrap=True, print_tb=True) as ctx:\n",
    "    print('with statement')\n"
   ]
  },
  {
   "cell_type": "code",
   "execution_count": null,
   "id": "eeacfd5f",
   "metadata": {},
   "outputs": [
    {
     "name": "stdout",
     "output_type": "stream",
     "text": [
      "before context manager\n",
      "before cb1\n",
      "before cb2\n",
      "before cb3\n",
      "run - last step\n",
      "with statement\n",
      "<traceback object> <traceback object> name context\n"
     ]
    },
    {
     "ename": "RuntimeError",
     "evalue": "division by zero",
     "output_type": "error",
     "traceback": [
      "\u001b[0;31m---------------------------------------------------------------------------\u001b[0m",
      "\u001b[0;31mRuntimeError\u001b[0m                              Traceback (most recent call last)",
      "Cell \u001b[0;32mIn[109], line 1\u001b[0m\n\u001b[0;32m----> 1\u001b[0m \u001b[39mwith\u001b[39;00m context(cbs\u001b[39m=\u001b[39mcbs,inner_throw\u001b[39m=\u001b[39m\u001b[39mTrue\u001b[39;00m, print_tb\u001b[39m=\u001b[39m\u001b[39mFalse\u001b[39;00m) \u001b[39mas\u001b[39;00m ctx:\n\u001b[1;32m      2\u001b[0m     \u001b[39mprint\u001b[39m(\u001b[39m'\u001b[39m\u001b[39mwith statement\u001b[39m\u001b[39m'\u001b[39m)\n\u001b[1;32m      3\u001b[0m     \u001b[39m1\u001b[39m\u001b[39m/\u001b[39m\u001b[39m0\u001b[39m\n",
      "File \u001b[0;32m/opt/homebrew/Caskroom/miniforge/base/envs/miniai/lib/python3.10/contextlib.py:153\u001b[0m, in \u001b[0;36m_GeneratorContextManager.__exit__\u001b[0;34m(self, typ, value, traceback)\u001b[0m\n\u001b[1;32m    151\u001b[0m     value \u001b[39m=\u001b[39m typ()\n\u001b[1;32m    152\u001b[0m \u001b[39mtry\u001b[39;00m:\n\u001b[0;32m--> 153\u001b[0m     \u001b[39mself\u001b[39;49m\u001b[39m.\u001b[39;49mgen\u001b[39m.\u001b[39;49mthrow(typ, value, traceback)\n\u001b[1;32m    154\u001b[0m \u001b[39mexcept\u001b[39;00m \u001b[39mStopIteration\u001b[39;00m \u001b[39mas\u001b[39;00m exc:\n\u001b[1;32m    155\u001b[0m     \u001b[39m# Suppress StopIteration *unless* it's the same exception that\u001b[39;00m\n\u001b[1;32m    156\u001b[0m     \u001b[39m# was passed to throw().  This prevents a StopIteration\u001b[39;00m\n\u001b[1;32m    157\u001b[0m     \u001b[39m# raised inside the \"with\" statement from being suppressed.\u001b[39;00m\n\u001b[1;32m    158\u001b[0m     \u001b[39mreturn\u001b[39;00m exc \u001b[39mis\u001b[39;00m \u001b[39mnot\u001b[39;00m value\n",
      "Cell \u001b[0;32mIn[108], line 14\u001b[0m, in \u001b[0;36mcontext\u001b[0;34m(cbs, inner_throw, raise_wrap, print_tb, **kwargs)\u001b[0m\n\u001b[1;32m     12\u001b[0m \u001b[39mif\u001b[39;00m inner_throw: \n\u001b[1;32m     13\u001b[0m     \u001b[39mprint\u001b[39m(e\u001b[39m.\u001b[39m__traceback__, e\u001b[39m.\u001b[39m__traceback__\u001b[39m.\u001b[39mtb_next, \u001b[39m'\u001b[39m\u001b[39mname\u001b[39m\u001b[39m'\u001b[39m, e\u001b[39m.\u001b[39m__traceback__\u001b[39m.\u001b[39mtb_frame\u001b[39m.\u001b[39mf_code\u001b[39m.\u001b[39mco_name)\n\u001b[0;32m---> 14\u001b[0m     gen\u001b[39m.\u001b[39;49mthrow(\u001b[39mRuntimeError\u001b[39;49;00m, e, e\u001b[39m.\u001b[39;49m__traceback__) \u001b[39m# for some reason the Type of exception need to be changed.\u001b[39;00m\n\u001b[1;32m     16\u001b[0m \u001b[39mif\u001b[39;00m raise_wrap: \u001b[39mraise\u001b[39;00m \u001b[39mRuntimeError\u001b[39;00m(\u001b[39m'\u001b[39m\u001b[39mwrapper to show how debug will work\u001b[39m\u001b[39m'\u001b[39m, e)\n\u001b[1;32m     17\u001b[0m \u001b[39melse\u001b[39;00m: \u001b[39mraise\u001b[39;00m e\n",
      "Cell \u001b[0;32mIn[108], line 8\u001b[0m, in \u001b[0;36mcontext\u001b[0;34m(cbs, inner_throw, raise_wrap, print_tb, **kwargs)\u001b[0m\n\u001b[1;32m      6\u001b[0m     chain \u001b[39m=\u001b[39m \u001b[39miter\u001b[39m(cbs)\n\u001b[1;32m      7\u001b[0m     gen \u001b[39m=\u001b[39m \u001b[39mnext\u001b[39m(chain)(chain, \u001b[39m*\u001b[39m\u001b[39m*\u001b[39mkwargs)\n\u001b[0;32m----> 8\u001b[0m     \u001b[39myield from\u001b[39;00m gen\n\u001b[1;32m      9\u001b[0m     \u001b[39mprint\u001b[39m(\u001b[39m'\u001b[39m\u001b[39mafter context manager\u001b[39m\u001b[39m'\u001b[39m)\n\u001b[1;32m     10\u001b[0m \u001b[39mexcept\u001b[39;00m \u001b[39mException\u001b[39;00m \u001b[39mas\u001b[39;00m e:\n",
      "Cell \u001b[0;32mIn[108], line 21\u001b[0m, in \u001b[0;36mcb1\u001b[0;34m(chain, **kwargs)\u001b[0m\n\u001b[1;32m     19\u001b[0m \u001b[39mdef\u001b[39;00m \u001b[39mcb1\u001b[39m(chain, \u001b[39m*\u001b[39m\u001b[39m*\u001b[39mkwargs):\n\u001b[1;32m     20\u001b[0m     \u001b[39mprint\u001b[39m(\u001b[39m'\u001b[39m\u001b[39mbefore cb1\u001b[39m\u001b[39m'\u001b[39m)\n\u001b[0;32m---> 21\u001b[0m     \u001b[39myield from\u001b[39;00m \u001b[39mnext\u001b[39m(chain)(chain, \u001b[39m*\u001b[39m\u001b[39m*\u001b[39mkwargs)\n\u001b[1;32m     22\u001b[0m     \u001b[39mprint\u001b[39m(\u001b[39m'\u001b[39m\u001b[39mafter cb1\u001b[39m\u001b[39m'\u001b[39m)\n",
      "Cell \u001b[0;32mIn[108], line 26\u001b[0m, in \u001b[0;36mcb2\u001b[0;34m(chain, **kwargs)\u001b[0m\n\u001b[1;32m     24\u001b[0m \u001b[39mdef\u001b[39;00m \u001b[39mcb2\u001b[39m(chain, \u001b[39m*\u001b[39m\u001b[39m*\u001b[39mkwargs):\n\u001b[1;32m     25\u001b[0m     \u001b[39mprint\u001b[39m(\u001b[39m'\u001b[39m\u001b[39mbefore cb2\u001b[39m\u001b[39m'\u001b[39m)\n\u001b[0;32m---> 26\u001b[0m     \u001b[39myield from\u001b[39;00m \u001b[39mnext\u001b[39m(chain)(chain, \u001b[39m*\u001b[39m\u001b[39m*\u001b[39mkwargs)\n\u001b[1;32m     27\u001b[0m     \u001b[39mprint\u001b[39m(\u001b[39m'\u001b[39m\u001b[39mafter cb2\u001b[39m\u001b[39m'\u001b[39m)\n",
      "Cell \u001b[0;32mIn[108], line 31\u001b[0m, in \u001b[0;36mcb3\u001b[0;34m(chain, **kwargs)\u001b[0m\n\u001b[1;32m     29\u001b[0m \u001b[39mdef\u001b[39;00m \u001b[39mcb3\u001b[39m(chain, \u001b[39m*\u001b[39m\u001b[39m*\u001b[39mkwargs):\n\u001b[1;32m     30\u001b[0m     \u001b[39mprint\u001b[39m(\u001b[39m'\u001b[39m\u001b[39mbefore cb3\u001b[39m\u001b[39m'\u001b[39m)\n\u001b[0;32m---> 31\u001b[0m     \u001b[39myield from\u001b[39;00m \u001b[39mnext\u001b[39m(chain)(chain, \u001b[39m*\u001b[39m\u001b[39m*\u001b[39mkwargs)\n\u001b[1;32m     32\u001b[0m     \u001b[39mprint\u001b[39m(\u001b[39m'\u001b[39m\u001b[39mafter cb3\u001b[39m\u001b[39m'\u001b[39m)\n",
      "Cell \u001b[0;32mIn[108], line 37\u001b[0m, in \u001b[0;36mrun\u001b[0;34m(chain, ex_in_chain, **kwargs)\u001b[0m\n\u001b[1;32m     35\u001b[0m \u001b[39mprint\u001b[39m(\u001b[39m'\u001b[39m\u001b[39mrun - last step\u001b[39m\u001b[39m'\u001b[39m)\n\u001b[1;32m     36\u001b[0m \u001b[39mif\u001b[39;00m ex_in_chain: \u001b[39mraise\u001b[39;00m \u001b[39mException\u001b[39;00m(\u001b[39m'\u001b[39m\u001b[39merror\u001b[39m\u001b[39m'\u001b[39m)\n\u001b[0;32m---> 37\u001b[0m \u001b[39myield\u001b[39;00m \u001b[39mNone\u001b[39;00m\n",
      "Cell \u001b[0;32mIn[109], line 3\u001b[0m\n\u001b[1;32m      1\u001b[0m \u001b[39mwith\u001b[39;00m context(cbs\u001b[39m=\u001b[39mcbs,inner_throw\u001b[39m=\u001b[39m\u001b[39mTrue\u001b[39;00m, print_tb\u001b[39m=\u001b[39m\u001b[39mFalse\u001b[39;00m) \u001b[39mas\u001b[39;00m ctx:\n\u001b[1;32m      2\u001b[0m     \u001b[39mprint\u001b[39m(\u001b[39m'\u001b[39m\u001b[39mwith statement\u001b[39m\u001b[39m'\u001b[39m)\n\u001b[0;32m----> 3\u001b[0m     \u001b[39m1\u001b[39;49m\u001b[39m/\u001b[39;49m\u001b[39m0\u001b[39;49m\n",
      "\u001b[0;31mRuntimeError\u001b[0m: division by zero"
     ]
    }
   ],
   "source": [
    "with context(cbs=cbs,inner_throw=True, print_tb=False) as ctx:\n",
    "    print('with statement')\n",
    "    1/0"
   ]
  },
  {
   "cell_type": "code",
   "execution_count": null,
   "id": "e4f4a535",
   "metadata": {},
   "outputs": [
    {
     "name": "stdout",
     "output_type": "stream",
     "text": [
      "> \u001b[0;32m/var/folders/f2/nlr2kz4j2q542b5xz6z640500000gn/T/ipykernel_11899/2191738081.py\u001b[0m(3)\u001b[0;36m<module>\u001b[0;34m()\u001b[0m\n",
      "\u001b[0;32m      1 \u001b[0;31m\u001b[0;32mwith\u001b[0m \u001b[0mcontext\u001b[0m\u001b[0;34m(\u001b[0m\u001b[0mcbs\u001b[0m\u001b[0;34m=\u001b[0m\u001b[0mcbs\u001b[0m\u001b[0;34m,\u001b[0m\u001b[0minner_throw\u001b[0m\u001b[0;34m=\u001b[0m\u001b[0;32mTrue\u001b[0m\u001b[0;34m,\u001b[0m \u001b[0mprint_tb\u001b[0m\u001b[0;34m=\u001b[0m\u001b[0;32mTrue\u001b[0m\u001b[0;34m)\u001b[0m \u001b[0;32mas\u001b[0m \u001b[0mctx\u001b[0m\u001b[0;34m:\u001b[0m\u001b[0;34m\u001b[0m\u001b[0;34m\u001b[0m\u001b[0m\n",
      "\u001b[0m\u001b[0;32m      2 \u001b[0;31m    \u001b[0mprint\u001b[0m\u001b[0;34m(\u001b[0m\u001b[0;34m'with statement'\u001b[0m\u001b[0;34m)\u001b[0m\u001b[0;34m\u001b[0m\u001b[0;34m\u001b[0m\u001b[0m\n",
      "\u001b[0m\u001b[0;32m----> 3 \u001b[0;31m    \u001b[0;36m1\u001b[0m\u001b[0;34m/\u001b[0m\u001b[0;36m0\u001b[0m\u001b[0;34m\u001b[0m\u001b[0;34m\u001b[0m\u001b[0m\n",
      "\u001b[0m\n",
      "> \u001b[0;32m/var/folders/f2/nlr2kz4j2q542b5xz6z640500000gn/T/ipykernel_11899/1884909539.py\u001b[0m(37)\u001b[0;36mrun\u001b[0;34m()\u001b[0m\n",
      "\u001b[0;32m     35 \u001b[0;31m    \u001b[0mprint\u001b[0m\u001b[0;34m(\u001b[0m\u001b[0;34m'run - last step'\u001b[0m\u001b[0;34m)\u001b[0m\u001b[0;34m\u001b[0m\u001b[0;34m\u001b[0m\u001b[0m\n",
      "\u001b[0m\u001b[0;32m     36 \u001b[0;31m    \u001b[0;32mif\u001b[0m \u001b[0mex_in_chain\u001b[0m\u001b[0;34m:\u001b[0m \u001b[0;32mraise\u001b[0m \u001b[0mException\u001b[0m\u001b[0;34m(\u001b[0m\u001b[0;34m'error'\u001b[0m\u001b[0;34m)\u001b[0m\u001b[0;34m\u001b[0m\u001b[0;34m\u001b[0m\u001b[0m\n",
      "\u001b[0m\u001b[0;32m---> 37 \u001b[0;31m    \u001b[0;32myield\u001b[0m \u001b[0;32mNone\u001b[0m\u001b[0;34m\u001b[0m\u001b[0;34m\u001b[0m\u001b[0m\n",
      "\u001b[0m\u001b[0;32m     38 \u001b[0;31m\u001b[0;34m\u001b[0m\u001b[0m\n",
      "\u001b[0m\u001b[0;32m     39 \u001b[0;31m\u001b[0mcbs\u001b[0m\u001b[0;34m=\u001b[0m\u001b[0;34m[\u001b[0m\u001b[0mcb1\u001b[0m\u001b[0;34m,\u001b[0m \u001b[0mcb2\u001b[0m\u001b[0;34m,\u001b[0m \u001b[0mcb3\u001b[0m\u001b[0;34m,\u001b[0m \u001b[0mrun\u001b[0m\u001b[0;34m]\u001b[0m\u001b[0;34m\u001b[0m\u001b[0;34m\u001b[0m\u001b[0m\n",
      "\u001b[0m\n",
      "> \u001b[0;32m/var/folders/f2/nlr2kz4j2q542b5xz6z640500000gn/T/ipykernel_11899/1884909539.py\u001b[0m(31)\u001b[0;36mcb3\u001b[0;34m()\u001b[0m\n",
      "\u001b[0;32m     29 \u001b[0;31m\u001b[0;32mdef\u001b[0m \u001b[0mcb3\u001b[0m\u001b[0;34m(\u001b[0m\u001b[0mchain\u001b[0m\u001b[0;34m,\u001b[0m \u001b[0;34m**\u001b[0m\u001b[0mkwargs\u001b[0m\u001b[0;34m)\u001b[0m\u001b[0;34m:\u001b[0m\u001b[0;34m\u001b[0m\u001b[0;34m\u001b[0m\u001b[0m\n",
      "\u001b[0m\u001b[0;32m     30 \u001b[0;31m    \u001b[0mprint\u001b[0m\u001b[0;34m(\u001b[0m\u001b[0;34m'before cb3'\u001b[0m\u001b[0;34m)\u001b[0m\u001b[0;34m\u001b[0m\u001b[0;34m\u001b[0m\u001b[0m\n",
      "\u001b[0m\u001b[0;32m---> 31 \u001b[0;31m    \u001b[0;32myield\u001b[0m \u001b[0;32mfrom\u001b[0m \u001b[0mnext\u001b[0m\u001b[0;34m(\u001b[0m\u001b[0mchain\u001b[0m\u001b[0;34m)\u001b[0m\u001b[0;34m(\u001b[0m\u001b[0mchain\u001b[0m\u001b[0;34m,\u001b[0m \u001b[0;34m**\u001b[0m\u001b[0mkwargs\u001b[0m\u001b[0;34m)\u001b[0m\u001b[0;34m\u001b[0m\u001b[0;34m\u001b[0m\u001b[0m\n",
      "\u001b[0m\u001b[0;32m     32 \u001b[0;31m    \u001b[0mprint\u001b[0m\u001b[0;34m(\u001b[0m\u001b[0;34m'after cb3'\u001b[0m\u001b[0;34m)\u001b[0m\u001b[0;34m\u001b[0m\u001b[0;34m\u001b[0m\u001b[0m\n",
      "\u001b[0m\u001b[0;32m     33 \u001b[0;31m\u001b[0;34m\u001b[0m\u001b[0m\n",
      "\u001b[0m\n",
      "> \u001b[0;32m/var/folders/f2/nlr2kz4j2q542b5xz6z640500000gn/T/ipykernel_11899/1884909539.py\u001b[0m(26)\u001b[0;36mcb2\u001b[0;34m()\u001b[0m\n",
      "\u001b[0;32m     24 \u001b[0;31m\u001b[0;32mdef\u001b[0m \u001b[0mcb2\u001b[0m\u001b[0;34m(\u001b[0m\u001b[0mchain\u001b[0m\u001b[0;34m,\u001b[0m \u001b[0;34m**\u001b[0m\u001b[0mkwargs\u001b[0m\u001b[0;34m)\u001b[0m\u001b[0;34m:\u001b[0m\u001b[0;34m\u001b[0m\u001b[0;34m\u001b[0m\u001b[0m\n",
      "\u001b[0m\u001b[0;32m     25 \u001b[0;31m    \u001b[0mprint\u001b[0m\u001b[0;34m(\u001b[0m\u001b[0;34m'before cb2'\u001b[0m\u001b[0;34m)\u001b[0m\u001b[0;34m\u001b[0m\u001b[0;34m\u001b[0m\u001b[0m\n",
      "\u001b[0m\u001b[0;32m---> 26 \u001b[0;31m    \u001b[0;32myield\u001b[0m \u001b[0;32mfrom\u001b[0m \u001b[0mnext\u001b[0m\u001b[0;34m(\u001b[0m\u001b[0mchain\u001b[0m\u001b[0;34m)\u001b[0m\u001b[0;34m(\u001b[0m\u001b[0mchain\u001b[0m\u001b[0;34m,\u001b[0m \u001b[0;34m**\u001b[0m\u001b[0mkwargs\u001b[0m\u001b[0;34m)\u001b[0m\u001b[0;34m\u001b[0m\u001b[0;34m\u001b[0m\u001b[0m\n",
      "\u001b[0m\u001b[0;32m     27 \u001b[0;31m    \u001b[0mprint\u001b[0m\u001b[0;34m(\u001b[0m\u001b[0;34m'after cb2'\u001b[0m\u001b[0;34m)\u001b[0m\u001b[0;34m\u001b[0m\u001b[0;34m\u001b[0m\u001b[0m\n",
      "\u001b[0m\u001b[0;32m     28 \u001b[0;31m\u001b[0;34m\u001b[0m\u001b[0m\n",
      "\u001b[0m\n",
      "> \u001b[0;32m/var/folders/f2/nlr2kz4j2q542b5xz6z640500000gn/T/ipykernel_11899/1884909539.py\u001b[0m(21)\u001b[0;36mcb1\u001b[0;34m()\u001b[0m\n",
      "\u001b[0;32m     19 \u001b[0;31m\u001b[0;32mdef\u001b[0m \u001b[0mcb1\u001b[0m\u001b[0;34m(\u001b[0m\u001b[0mchain\u001b[0m\u001b[0;34m,\u001b[0m \u001b[0;34m**\u001b[0m\u001b[0mkwargs\u001b[0m\u001b[0;34m)\u001b[0m\u001b[0;34m:\u001b[0m\u001b[0;34m\u001b[0m\u001b[0;34m\u001b[0m\u001b[0m\n",
      "\u001b[0m\u001b[0;32m     20 \u001b[0;31m    \u001b[0mprint\u001b[0m\u001b[0;34m(\u001b[0m\u001b[0;34m'before cb1'\u001b[0m\u001b[0;34m)\u001b[0m\u001b[0;34m\u001b[0m\u001b[0;34m\u001b[0m\u001b[0m\n",
      "\u001b[0m\u001b[0;32m---> 21 \u001b[0;31m    \u001b[0;32myield\u001b[0m \u001b[0;32mfrom\u001b[0m \u001b[0mnext\u001b[0m\u001b[0;34m(\u001b[0m\u001b[0mchain\u001b[0m\u001b[0;34m)\u001b[0m\u001b[0;34m(\u001b[0m\u001b[0mchain\u001b[0m\u001b[0;34m,\u001b[0m \u001b[0;34m**\u001b[0m\u001b[0mkwargs\u001b[0m\u001b[0;34m)\u001b[0m\u001b[0;34m\u001b[0m\u001b[0;34m\u001b[0m\u001b[0m\n",
      "\u001b[0m\u001b[0;32m     22 \u001b[0;31m    \u001b[0mprint\u001b[0m\u001b[0;34m(\u001b[0m\u001b[0;34m'after cb1'\u001b[0m\u001b[0;34m)\u001b[0m\u001b[0;34m\u001b[0m\u001b[0;34m\u001b[0m\u001b[0m\n",
      "\u001b[0m\u001b[0;32m     23 \u001b[0;31m\u001b[0;34m\u001b[0m\u001b[0m\n",
      "\u001b[0m\n",
      "> \u001b[0;32m/var/folders/f2/nlr2kz4j2q542b5xz6z640500000gn/T/ipykernel_11899/1884909539.py\u001b[0m(8)\u001b[0;36mcontext\u001b[0;34m()\u001b[0m\n",
      "\u001b[0;32m      6 \u001b[0;31m        \u001b[0mchain\u001b[0m \u001b[0;34m=\u001b[0m \u001b[0miter\u001b[0m\u001b[0;34m(\u001b[0m\u001b[0mcbs\u001b[0m\u001b[0;34m)\u001b[0m\u001b[0;34m\u001b[0m\u001b[0;34m\u001b[0m\u001b[0m\n",
      "\u001b[0m\u001b[0;32m      7 \u001b[0;31m        \u001b[0mgen\u001b[0m \u001b[0;34m=\u001b[0m \u001b[0mnext\u001b[0m\u001b[0;34m(\u001b[0m\u001b[0mchain\u001b[0m\u001b[0;34m)\u001b[0m\u001b[0;34m(\u001b[0m\u001b[0mchain\u001b[0m\u001b[0;34m,\u001b[0m \u001b[0;34m**\u001b[0m\u001b[0mkwargs\u001b[0m\u001b[0;34m)\u001b[0m\u001b[0;34m\u001b[0m\u001b[0;34m\u001b[0m\u001b[0m\n",
      "\u001b[0m\u001b[0;32m----> 8 \u001b[0;31m        \u001b[0;32myield\u001b[0m \u001b[0;32mfrom\u001b[0m \u001b[0mgen\u001b[0m\u001b[0;34m\u001b[0m\u001b[0;34m\u001b[0m\u001b[0m\n",
      "\u001b[0m\u001b[0;32m      9 \u001b[0;31m        \u001b[0mprint\u001b[0m\u001b[0;34m(\u001b[0m\u001b[0;34m'after context manager'\u001b[0m\u001b[0;34m)\u001b[0m\u001b[0;34m\u001b[0m\u001b[0;34m\u001b[0m\u001b[0m\n",
      "\u001b[0m\u001b[0;32m     10 \u001b[0;31m    \u001b[0;32mexcept\u001b[0m \u001b[0mException\u001b[0m \u001b[0;32mas\u001b[0m \u001b[0me\u001b[0m\u001b[0;34m:\u001b[0m\u001b[0;34m\u001b[0m\u001b[0;34m\u001b[0m\u001b[0m\n",
      "\u001b[0m\n",
      "> \u001b[0;32m/var/folders/f2/nlr2kz4j2q542b5xz6z640500000gn/T/ipykernel_11899/1884909539.py\u001b[0m(14)\u001b[0;36mcontext\u001b[0;34m()\u001b[0m\n",
      "\u001b[0;32m     12 \u001b[0;31m        \u001b[0;32mif\u001b[0m \u001b[0minner_throw\u001b[0m\u001b[0;34m:\u001b[0m\u001b[0;34m\u001b[0m\u001b[0;34m\u001b[0m\u001b[0m\n",
      "\u001b[0m\u001b[0;32m     13 \u001b[0;31m            \u001b[0mprint\u001b[0m\u001b[0;34m(\u001b[0m\u001b[0me\u001b[0m\u001b[0;34m.\u001b[0m\u001b[0m__traceback__\u001b[0m\u001b[0;34m,\u001b[0m \u001b[0me\u001b[0m\u001b[0;34m.\u001b[0m\u001b[0m__traceback__\u001b[0m\u001b[0;34m.\u001b[0m\u001b[0mtb_next\u001b[0m\u001b[0;34m,\u001b[0m \u001b[0;34m'name'\u001b[0m\u001b[0;34m,\u001b[0m \u001b[0me\u001b[0m\u001b[0;34m.\u001b[0m\u001b[0m__traceback__\u001b[0m\u001b[0;34m.\u001b[0m\u001b[0mtb_frame\u001b[0m\u001b[0;34m.\u001b[0m\u001b[0mf_code\u001b[0m\u001b[0;34m.\u001b[0m\u001b[0mco_name\u001b[0m\u001b[0;34m)\u001b[0m\u001b[0;34m\u001b[0m\u001b[0;34m\u001b[0m\u001b[0m\n",
      "\u001b[0m\u001b[0;32m---> 14 \u001b[0;31m            \u001b[0mgen\u001b[0m\u001b[0;34m.\u001b[0m\u001b[0mthrow\u001b[0m\u001b[0;34m(\u001b[0m\u001b[0mRuntimeError\u001b[0m\u001b[0;34m,\u001b[0m \u001b[0me\u001b[0m\u001b[0;34m,\u001b[0m \u001b[0me\u001b[0m\u001b[0;34m.\u001b[0m\u001b[0m__traceback__\u001b[0m\u001b[0;34m)\u001b[0m\u001b[0;34m\u001b[0m\u001b[0;34m\u001b[0m\u001b[0m\n",
      "\u001b[0m\u001b[0;32m     15 \u001b[0;31m\u001b[0;34m\u001b[0m\u001b[0m\n",
      "\u001b[0m\u001b[0;32m     16 \u001b[0;31m        \u001b[0;32mif\u001b[0m \u001b[0mraise_wrap\u001b[0m\u001b[0;34m:\u001b[0m \u001b[0;32mraise\u001b[0m \u001b[0mRuntimeError\u001b[0m\u001b[0;34m(\u001b[0m\u001b[0;34m'wrapper to show how debug will work'\u001b[0m\u001b[0;34m,\u001b[0m \u001b[0me\u001b[0m\u001b[0;34m)\u001b[0m\u001b[0;34m\u001b[0m\u001b[0;34m\u001b[0m\u001b[0m\n",
      "\u001b[0m\n",
      "> \u001b[0;32m/opt/homebrew/Caskroom/miniforge/base/envs/miniai/lib/python3.10/contextlib.py\u001b[0m(153)\u001b[0;36m__exit__\u001b[0;34m()\u001b[0m\n",
      "\u001b[0;32m    151 \u001b[0;31m                \u001b[0mvalue\u001b[0m \u001b[0;34m=\u001b[0m \u001b[0mtyp\u001b[0m\u001b[0;34m(\u001b[0m\u001b[0;34m)\u001b[0m\u001b[0;34m\u001b[0m\u001b[0;34m\u001b[0m\u001b[0m\n",
      "\u001b[0m\u001b[0;32m    152 \u001b[0;31m            \u001b[0;32mtry\u001b[0m\u001b[0;34m:\u001b[0m\u001b[0;34m\u001b[0m\u001b[0;34m\u001b[0m\u001b[0m\n",
      "\u001b[0m\u001b[0;32m--> 153 \u001b[0;31m                \u001b[0mself\u001b[0m\u001b[0;34m.\u001b[0m\u001b[0mgen\u001b[0m\u001b[0;34m.\u001b[0m\u001b[0mthrow\u001b[0m\u001b[0;34m(\u001b[0m\u001b[0mtyp\u001b[0m\u001b[0;34m,\u001b[0m \u001b[0mvalue\u001b[0m\u001b[0;34m,\u001b[0m \u001b[0mtraceback\u001b[0m\u001b[0;34m)\u001b[0m\u001b[0;34m\u001b[0m\u001b[0;34m\u001b[0m\u001b[0m\n",
      "\u001b[0m\u001b[0;32m    154 \u001b[0;31m            \u001b[0;32mexcept\u001b[0m \u001b[0mStopIteration\u001b[0m \u001b[0;32mas\u001b[0m \u001b[0mexc\u001b[0m\u001b[0;34m:\u001b[0m\u001b[0;34m\u001b[0m\u001b[0;34m\u001b[0m\u001b[0m\n",
      "\u001b[0m\u001b[0;32m    155 \u001b[0;31m                \u001b[0;31m# Suppress StopIteration *unless* it's the same exception that\u001b[0m\u001b[0;34m\u001b[0m\u001b[0;34m\u001b[0m\u001b[0m\n",
      "\u001b[0m\n",
      "> \u001b[0;32m/var/folders/f2/nlr2kz4j2q542b5xz6z640500000gn/T/ipykernel_11899/2191738081.py\u001b[0m(1)\u001b[0;36m<module>\u001b[0;34m()\u001b[0m\n",
      "\u001b[0;32m----> 1 \u001b[0;31m\u001b[0;32mwith\u001b[0m \u001b[0mcontext\u001b[0m\u001b[0;34m(\u001b[0m\u001b[0mcbs\u001b[0m\u001b[0;34m=\u001b[0m\u001b[0mcbs\u001b[0m\u001b[0;34m,\u001b[0m\u001b[0minner_throw\u001b[0m\u001b[0;34m=\u001b[0m\u001b[0;32mTrue\u001b[0m\u001b[0;34m,\u001b[0m \u001b[0mprint_tb\u001b[0m\u001b[0;34m=\u001b[0m\u001b[0;32mTrue\u001b[0m\u001b[0;34m)\u001b[0m \u001b[0;32mas\u001b[0m \u001b[0mctx\u001b[0m\u001b[0;34m:\u001b[0m\u001b[0;34m\u001b[0m\u001b[0;34m\u001b[0m\u001b[0m\n",
      "\u001b[0m\u001b[0;32m      2 \u001b[0;31m    \u001b[0mprint\u001b[0m\u001b[0;34m(\u001b[0m\u001b[0;34m'with statement'\u001b[0m\u001b[0;34m)\u001b[0m\u001b[0;34m\u001b[0m\u001b[0;34m\u001b[0m\u001b[0m\n",
      "\u001b[0m\u001b[0;32m      3 \u001b[0;31m    \u001b[0;36m1\u001b[0m\u001b[0;34m/\u001b[0m\u001b[0;36m0\u001b[0m\u001b[0;34m\u001b[0m\u001b[0;34m\u001b[0m\u001b[0m\n",
      "\u001b[0m\n",
      "*** Oldest frame\n"
     ]
    }
   ],
   "source": [
    "%debug"
   ]
  },
  {
   "cell_type": "code",
   "execution_count": null,
   "id": "788b961b",
   "metadata": {},
   "outputs": [
    {
     "name": "stdout",
     "output_type": "stream",
     "text": [
      "before context manager\n",
      "before cb1\n",
      "before cb2\n",
      "before cb3\n",
      "run - last step\n",
      "with statement\n"
     ]
    },
    {
     "ename": "ZeroDivisionError",
     "evalue": "division by zero",
     "output_type": "error",
     "traceback": [
      "\u001b[0;31m---------------------------------------------------------------------------\u001b[0m\n",
      "\u001b[0;31mZeroDivisionError\u001b[0m                         Traceback (most recent call last)\n",
      "Cell \u001b[0;32mIn[88], line 3\u001b[0m\n",
      "\u001b[1;32m      1\u001b[0m \u001b[39mwith\u001b[39;00m context(cbs\u001b[39m=\u001b[39mcbs,inner_throw\u001b[39m=\u001b[39m\u001b[39mTrue\u001b[39;00m, print_tb\u001b[39m=\u001b[39m\u001b[39mTrue\u001b[39;00m) \u001b[39mas\u001b[39;00m ctx:\n",
      "\u001b[1;32m      2\u001b[0m     \u001b[39mprint\u001b[39m(\u001b[39m'\u001b[39m\u001b[39mwith statement\u001b[39m\u001b[39m'\u001b[39m)\n",
      "\u001b[0;32m----> 3\u001b[0m     \u001b[39m1\u001b[39;49m\u001b[39m/\u001b[39;49m\u001b[39m0\u001b[39;49m\n",
      "\n",
      "\u001b[0;31mZeroDivisionError\u001b[0m: division by zero"
     ]
    }
   ],
   "source": [
    "with context(cbs=cbs,inner_throw=True, print_tb=True) as ctx:\n",
    "    print('with statement')\n",
    "    1/0\n"
   ]
  },
  {
   "cell_type": "code",
   "execution_count": null,
   "id": "4260d5bd",
   "metadata": {},
   "outputs": [
    {
     "name": "stdout",
     "output_type": "stream",
     "text": [
      "> \u001b[0;32m/var/folders/f2/nlr2kz4j2q542b5xz6z640500000gn/T/ipykernel_11899/3470928875.py\u001b[0m(3)\u001b[0;36m<module>\u001b[0;34m()\u001b[0m\n",
      "\u001b[0;32m      1 \u001b[0;31m\u001b[0;32mwith\u001b[0m \u001b[0mcontext\u001b[0m\u001b[0;34m(\u001b[0m\u001b[0mcbs\u001b[0m\u001b[0;34m=\u001b[0m\u001b[0mcbs\u001b[0m\u001b[0;34m,\u001b[0m\u001b[0minner_throw\u001b[0m\u001b[0;34m=\u001b[0m\u001b[0;32mTrue\u001b[0m\u001b[0;34m,\u001b[0m \u001b[0mprint_tb\u001b[0m\u001b[0;34m=\u001b[0m\u001b[0;32mTrue\u001b[0m\u001b[0;34m)\u001b[0m \u001b[0;32mas\u001b[0m \u001b[0mctx\u001b[0m\u001b[0;34m:\u001b[0m\u001b[0;34m\u001b[0m\u001b[0;34m\u001b[0m\u001b[0m\n",
      "\u001b[0m\u001b[0;32m      2 \u001b[0;31m    \u001b[0mprint\u001b[0m\u001b[0;34m(\u001b[0m\u001b[0;34m'with statement'\u001b[0m\u001b[0;34m)\u001b[0m\u001b[0;34m\u001b[0m\u001b[0;34m\u001b[0m\u001b[0m\n",
      "\u001b[0m\u001b[0;32m----> 3 \u001b[0;31m    \u001b[0;36m1\u001b[0m\u001b[0;34m/\u001b[0m\u001b[0;36m0\u001b[0m\u001b[0;34m\u001b[0m\u001b[0;34m\u001b[0m\u001b[0m\n",
      "\u001b[0m\n",
      "*** Oldest frame\n"
     ]
    }
   ],
   "source": [
    "%debug"
   ]
  },
  {
   "cell_type": "code",
   "execution_count": null,
   "id": "340dec36",
   "metadata": {},
   "outputs": [
    {
     "name": "stdout",
     "output_type": "stream",
     "text": [
      "before context manager\n",
      "before cb1\n",
      "before cb2\n",
      "before cb3\n",
      "run - last step\n",
      "with statement\n"
     ]
    },
    {
     "name": "stderr",
     "output_type": "stream",
     "text": [
      "Traceback (most recent call last):\n",
      "  File \"/var/folders/f2/nlr2kz4j2q542b5xz6z640500000gn/T/ipykernel_11899/2755306957.py\", line 8, in context\n",
      "    yield from gen\n",
      "  File \"/var/folders/f2/nlr2kz4j2q542b5xz6z640500000gn/T/ipykernel_11899/2755306957.py\", line 18, in cb1\n",
      "    yield from next(chain)(chain, **kwargs)\n",
      "  File \"/var/folders/f2/nlr2kz4j2q542b5xz6z640500000gn/T/ipykernel_11899/2755306957.py\", line 23, in cb2\n",
      "    yield from next(chain)(chain, **kwargs)\n",
      "  File \"/var/folders/f2/nlr2kz4j2q542b5xz6z640500000gn/T/ipykernel_11899/2755306957.py\", line 28, in cb3\n",
      "    yield from next(chain)(chain, **kwargs)\n",
      "  File \"/var/folders/f2/nlr2kz4j2q542b5xz6z640500000gn/T/ipykernel_11899/2755306957.py\", line 34, in run\n",
      "    yield None\n",
      "  File \"/var/folders/f2/nlr2kz4j2q542b5xz6z640500000gn/T/ipykernel_11899/3880792528.py\", line 3, in <module>\n",
      "    1/0\n",
      "ZeroDivisionError: division by zero\n"
     ]
    },
    {
     "ename": "RuntimeError",
     "evalue": "('wrapper to show how debug will work', ZeroDivisionError('division by zero'))",
     "output_type": "error",
     "traceback": [
      "\u001b[0;31m---------------------------------------------------------------------------\u001b[0m\n",
      "\u001b[0;31mZeroDivisionError\u001b[0m                         Traceback (most recent call last)\n",
      "Cell \u001b[0;32mIn[81], line 8\u001b[0m, in \u001b[0;36mcontext\u001b[0;34m(cbs, inner_throw, raise_wrap, print_tb, reraise)\u001b[0m\n",
      "\u001b[1;32m      7\u001b[0m gen \u001b[39m=\u001b[39m \u001b[39mnext\u001b[39m(chain)(chain, reraise\u001b[39m=\u001b[39m\u001b[39mFalse\u001b[39;00m)\n",
      "\u001b[0;32m----> 8\u001b[0m \u001b[39myield from\u001b[39;00m gen\n",
      "\u001b[1;32m      9\u001b[0m \u001b[39mprint\u001b[39m(\u001b[39m'\u001b[39m\u001b[39mafter context manager\u001b[39m\u001b[39m'\u001b[39m)\n",
      "\n",
      "Cell \u001b[0;32mIn[81], line 18\u001b[0m, in \u001b[0;36mcb1\u001b[0;34m(chain, **kwargs)\u001b[0m\n",
      "\u001b[1;32m     17\u001b[0m \u001b[39mprint\u001b[39m(\u001b[39m'\u001b[39m\u001b[39mbefore cb1\u001b[39m\u001b[39m'\u001b[39m)\n",
      "\u001b[0;32m---> 18\u001b[0m \u001b[39myield from\u001b[39;00m \u001b[39mnext\u001b[39m(chain)(chain, \u001b[39m*\u001b[39m\u001b[39m*\u001b[39mkwargs)\n",
      "\u001b[1;32m     19\u001b[0m \u001b[39mprint\u001b[39m(\u001b[39m'\u001b[39m\u001b[39mafter cb1\u001b[39m\u001b[39m'\u001b[39m)\n",
      "\n",
      "Cell \u001b[0;32mIn[81], line 23\u001b[0m, in \u001b[0;36mcb2\u001b[0;34m(chain, **kwargs)\u001b[0m\n",
      "\u001b[1;32m     22\u001b[0m \u001b[39mprint\u001b[39m(\u001b[39m'\u001b[39m\u001b[39mbefore cb2\u001b[39m\u001b[39m'\u001b[39m)\n",
      "\u001b[0;32m---> 23\u001b[0m \u001b[39myield from\u001b[39;00m \u001b[39mnext\u001b[39m(chain)(chain, \u001b[39m*\u001b[39m\u001b[39m*\u001b[39mkwargs)\n",
      "\u001b[1;32m     24\u001b[0m \u001b[39mprint\u001b[39m(\u001b[39m'\u001b[39m\u001b[39mafter cb2\u001b[39m\u001b[39m'\u001b[39m)\n",
      "\n",
      "Cell \u001b[0;32mIn[81], line 28\u001b[0m, in \u001b[0;36mcb3\u001b[0;34m(chain, **kwargs)\u001b[0m\n",
      "\u001b[1;32m     27\u001b[0m \u001b[39mprint\u001b[39m(\u001b[39m'\u001b[39m\u001b[39mbefore cb3\u001b[39m\u001b[39m'\u001b[39m)\n",
      "\u001b[0;32m---> 28\u001b[0m \u001b[39myield from\u001b[39;00m \u001b[39mnext\u001b[39m(chain)(chain, \u001b[39m*\u001b[39m\u001b[39m*\u001b[39mkwargs)\n",
      "\u001b[1;32m     29\u001b[0m \u001b[39mprint\u001b[39m(\u001b[39m'\u001b[39m\u001b[39mafter cb3\u001b[39m\u001b[39m'\u001b[39m)\n",
      "\n",
      "Cell \u001b[0;32mIn[81], line 34\u001b[0m, in \u001b[0;36mrun\u001b[0;34m(chain, raise_ex, **kwargs)\u001b[0m\n",
      "\u001b[1;32m     33\u001b[0m \u001b[39mif\u001b[39;00m raise_ex: \u001b[39mraise\u001b[39;00m \u001b[39mException\u001b[39;00m(\u001b[39m'\u001b[39m\u001b[39merror\u001b[39m\u001b[39m'\u001b[39m)\n",
      "\u001b[0;32m---> 34\u001b[0m \u001b[39myield\u001b[39;00m \u001b[39mNone\u001b[39;00m\n",
      "\n",
      "Cell \u001b[0;32mIn[84], line 3\u001b[0m\n",
      "\u001b[1;32m      2\u001b[0m \u001b[39mprint\u001b[39m(\u001b[39m'\u001b[39m\u001b[39mwith statement\u001b[39m\u001b[39m'\u001b[39m)\n",
      "\u001b[0;32m----> 3\u001b[0m \u001b[39m1\u001b[39;49m\u001b[39m/\u001b[39;49m\u001b[39m0\u001b[39;49m\n",
      "\n",
      "\u001b[0;31mZeroDivisionError\u001b[0m: division by zero\n",
      "\n",
      "During handling of the above exception, another exception occurred:\n",
      "\n",
      "\u001b[0;31mRuntimeError\u001b[0m                              Traceback (most recent call last)\n",
      "Cell \u001b[0;32mIn[84], line 1\u001b[0m\n",
      "\u001b[0;32m----> 1\u001b[0m \u001b[39mwith\u001b[39;00m context(cbs\u001b[39m=\u001b[39mcbs,raise_wrap\u001b[39m=\u001b[39m\u001b[39mTrue\u001b[39;00m, print_tb\u001b[39m=\u001b[39m\u001b[39mTrue\u001b[39;00m) \u001b[39mas\u001b[39;00m ctx:\n",
      "\u001b[1;32m      2\u001b[0m     \u001b[39mprint\u001b[39m(\u001b[39m'\u001b[39m\u001b[39mwith statement\u001b[39m\u001b[39m'\u001b[39m)\n",
      "\u001b[1;32m      3\u001b[0m     \u001b[39m1\u001b[39m\u001b[39m/\u001b[39m\u001b[39m0\u001b[39m\n",
      "\n",
      "File \u001b[0;32m/opt/homebrew/Caskroom/miniforge/base/envs/miniai/lib/python3.10/contextlib.py:153\u001b[0m, in \u001b[0;36m_GeneratorContextManager.__exit__\u001b[0;34m(self, typ, value, traceback)\u001b[0m\n",
      "\u001b[1;32m    151\u001b[0m     value \u001b[39m=\u001b[39m typ()\n",
      "\u001b[1;32m    152\u001b[0m \u001b[39mtry\u001b[39;00m:\n",
      "\u001b[0;32m--> 153\u001b[0m     \u001b[39mself\u001b[39;49m\u001b[39m.\u001b[39;49mgen\u001b[39m.\u001b[39;49mthrow(typ, value, traceback)\n",
      "\u001b[1;32m    154\u001b[0m \u001b[39mexcept\u001b[39;00m \u001b[39mStopIteration\u001b[39;00m \u001b[39mas\u001b[39;00m exc:\n",
      "\u001b[1;32m    155\u001b[0m     \u001b[39m# Suppress StopIteration *unless* it's the same exception that\u001b[39;00m\n",
      "\u001b[1;32m    156\u001b[0m     \u001b[39m# was passed to throw().  This prevents a StopIteration\u001b[39;00m\n",
      "\u001b[1;32m    157\u001b[0m     \u001b[39m# raised inside the \"with\" statement from being suppressed.\u001b[39;00m\n",
      "\u001b[1;32m    158\u001b[0m     \u001b[39mreturn\u001b[39;00m exc \u001b[39mis\u001b[39;00m \u001b[39mnot\u001b[39;00m value\n",
      "\n",
      "Cell \u001b[0;32mIn[81], line 13\u001b[0m, in \u001b[0;36mcontext\u001b[0;34m(cbs, inner_throw, raise_wrap, print_tb, reraise)\u001b[0m\n",
      "\u001b[1;32m     11\u001b[0m \u001b[39mif\u001b[39;00m inner_throw: gen\u001b[39m.\u001b[39mthrow(e)\n",
      "\u001b[1;32m     12\u001b[0m \u001b[39mif\u001b[39;00m print_tb: traceback\u001b[39m.\u001b[39mprint_exc()\n",
      "\u001b[0;32m---> 13\u001b[0m \u001b[39mif\u001b[39;00m raise_wrap: \u001b[39mraise\u001b[39;00m \u001b[39mRuntimeError\u001b[39;00m(\u001b[39m'\u001b[39m\u001b[39mwrapper to show how debug will work\u001b[39m\u001b[39m'\u001b[39m, e)\n",
      "\u001b[1;32m     14\u001b[0m \u001b[39melse\u001b[39;00m: \u001b[39mraise\u001b[39;00m e\n",
      "\n",
      "\u001b[0;31mRuntimeError\u001b[0m: ('wrapper to show how debug will work', ZeroDivisionError('division by zero'))"
     ]
    }
   ],
   "source": [
    "with context(cbs=cbs,raise_wrap=True, print_tb=True) as ctx:\n",
    "    print('with statement')\n",
    "    1/0\n"
   ]
  },
  {
   "cell_type": "code",
   "execution_count": null,
   "id": "ea49138d",
   "metadata": {},
   "outputs": [
    {
     "name": "stdout",
     "output_type": "stream",
     "text": [
      "> \u001b[0;32m/var/folders/f2/nlr2kz4j2q542b5xz6z640500000gn/T/ipykernel_11899/2755306957.py\u001b[0m(13)\u001b[0;36mcontext\u001b[0;34m()\u001b[0m\n",
      "\u001b[0;32m     11 \u001b[0;31m        \u001b[0;32mif\u001b[0m \u001b[0minner_throw\u001b[0m\u001b[0;34m:\u001b[0m \u001b[0mgen\u001b[0m\u001b[0;34m.\u001b[0m\u001b[0mthrow\u001b[0m\u001b[0;34m(\u001b[0m\u001b[0me\u001b[0m\u001b[0;34m)\u001b[0m\u001b[0;34m\u001b[0m\u001b[0;34m\u001b[0m\u001b[0m\n",
      "\u001b[0m\u001b[0;32m     12 \u001b[0;31m        \u001b[0;32mif\u001b[0m \u001b[0mprint_tb\u001b[0m\u001b[0;34m:\u001b[0m \u001b[0mtraceback\u001b[0m\u001b[0;34m.\u001b[0m\u001b[0mprint_exc\u001b[0m\u001b[0;34m(\u001b[0m\u001b[0;34m)\u001b[0m\u001b[0;34m\u001b[0m\u001b[0;34m\u001b[0m\u001b[0m\n",
      "\u001b[0m\u001b[0;32m---> 13 \u001b[0;31m        \u001b[0;32mif\u001b[0m \u001b[0mraise_wrap\u001b[0m\u001b[0;34m:\u001b[0m \u001b[0;32mraise\u001b[0m \u001b[0mRuntimeError\u001b[0m\u001b[0;34m(\u001b[0m\u001b[0;34m'wrapper to show how debug will work'\u001b[0m\u001b[0;34m,\u001b[0m \u001b[0me\u001b[0m\u001b[0;34m)\u001b[0m\u001b[0;34m\u001b[0m\u001b[0;34m\u001b[0m\u001b[0m\n",
      "\u001b[0m\u001b[0;32m     14 \u001b[0;31m        \u001b[0;32melse\u001b[0m\u001b[0;34m:\u001b[0m \u001b[0;32mraise\u001b[0m \u001b[0me\u001b[0m\u001b[0;34m\u001b[0m\u001b[0;34m\u001b[0m\u001b[0m\n",
      "\u001b[0m\u001b[0;32m     15 \u001b[0;31m\u001b[0;34m\u001b[0m\u001b[0m\n",
      "\u001b[0m\n",
      "> \u001b[0;32m/opt/homebrew/Caskroom/miniforge/base/envs/miniai/lib/python3.10/contextlib.py\u001b[0m(153)\u001b[0;36m__exit__\u001b[0;34m()\u001b[0m\n",
      "\u001b[0;32m    151 \u001b[0;31m                \u001b[0mvalue\u001b[0m \u001b[0;34m=\u001b[0m \u001b[0mtyp\u001b[0m\u001b[0;34m(\u001b[0m\u001b[0;34m)\u001b[0m\u001b[0;34m\u001b[0m\u001b[0;34m\u001b[0m\u001b[0m\n",
      "\u001b[0m\u001b[0;32m    152 \u001b[0;31m            \u001b[0;32mtry\u001b[0m\u001b[0;34m:\u001b[0m\u001b[0;34m\u001b[0m\u001b[0;34m\u001b[0m\u001b[0m\n",
      "\u001b[0m\u001b[0;32m--> 153 \u001b[0;31m                \u001b[0mself\u001b[0m\u001b[0;34m.\u001b[0m\u001b[0mgen\u001b[0m\u001b[0;34m.\u001b[0m\u001b[0mthrow\u001b[0m\u001b[0;34m(\u001b[0m\u001b[0mtyp\u001b[0m\u001b[0;34m,\u001b[0m \u001b[0mvalue\u001b[0m\u001b[0;34m,\u001b[0m \u001b[0mtraceback\u001b[0m\u001b[0;34m)\u001b[0m\u001b[0;34m\u001b[0m\u001b[0;34m\u001b[0m\u001b[0m\n",
      "\u001b[0m\u001b[0;32m    154 \u001b[0;31m            \u001b[0;32mexcept\u001b[0m \u001b[0mStopIteration\u001b[0m \u001b[0;32mas\u001b[0m \u001b[0mexc\u001b[0m\u001b[0;34m:\u001b[0m\u001b[0;34m\u001b[0m\u001b[0;34m\u001b[0m\u001b[0m\n",
      "\u001b[0m\u001b[0;32m    155 \u001b[0;31m                \u001b[0;31m# Suppress StopIteration *unless* it's the same exception that\u001b[0m\u001b[0;34m\u001b[0m\u001b[0;34m\u001b[0m\u001b[0m\n",
      "\u001b[0m\n",
      "> \u001b[0;32m/var/folders/f2/nlr2kz4j2q542b5xz6z640500000gn/T/ipykernel_11899/3880792528.py\u001b[0m(1)\u001b[0;36m<module>\u001b[0;34m()\u001b[0m\n",
      "\u001b[0;32m----> 1 \u001b[0;31m\u001b[0;32mwith\u001b[0m \u001b[0mcontext\u001b[0m\u001b[0;34m(\u001b[0m\u001b[0mcbs\u001b[0m\u001b[0;34m=\u001b[0m\u001b[0mcbs\u001b[0m\u001b[0;34m,\u001b[0m\u001b[0mraise_wrap\u001b[0m\u001b[0;34m=\u001b[0m\u001b[0;32mTrue\u001b[0m\u001b[0;34m,\u001b[0m \u001b[0mprint_tb\u001b[0m\u001b[0;34m=\u001b[0m\u001b[0;32mTrue\u001b[0m\u001b[0;34m)\u001b[0m \u001b[0;32mas\u001b[0m \u001b[0mctx\u001b[0m\u001b[0;34m:\u001b[0m\u001b[0;34m\u001b[0m\u001b[0;34m\u001b[0m\u001b[0m\n",
      "\u001b[0m\u001b[0;32m      2 \u001b[0;31m    \u001b[0mprint\u001b[0m\u001b[0;34m(\u001b[0m\u001b[0;34m'with statement'\u001b[0m\u001b[0;34m)\u001b[0m\u001b[0;34m\u001b[0m\u001b[0;34m\u001b[0m\u001b[0m\n",
      "\u001b[0m\u001b[0;32m      3 \u001b[0;31m    \u001b[0;36m1\u001b[0m\u001b[0;34m/\u001b[0m\u001b[0;36m0\u001b[0m\u001b[0;34m\u001b[0m\u001b[0;34m\u001b[0m\u001b[0m\n",
      "\u001b[0m\n",
      "*** Oldest frame\n"
     ]
    }
   ],
   "source": [
    "%debug"
   ]
  },
  {
   "cell_type": "code",
   "execution_count": null,
   "id": "84c01ce0",
   "metadata": {},
   "outputs": [
    {
     "name": "stdout",
     "output_type": "stream",
     "text": [
      "before context manager\n",
      "before cb1\n",
      "before cb2\n",
      "before cb3\n",
      "run - last step\n"
     ]
    },
    {
     "name": "stderr",
     "output_type": "stream",
     "text": [
      "Traceback (most recent call last):\n",
      "  File \"/var/folders/f2/nlr2kz4j2q542b5xz6z640500000gn/T/ipykernel_11899/481506535.py\", line 8, in context\n",
      "    yield from gen\n",
      "  File \"/var/folders/f2/nlr2kz4j2q542b5xz6z640500000gn/T/ipykernel_11899/481506535.py\", line 18, in cb1\n",
      "    yield from next(chain)(chain, **kwargs)\n",
      "  File \"/var/folders/f2/nlr2kz4j2q542b5xz6z640500000gn/T/ipykernel_11899/481506535.py\", line 23, in cb2\n",
      "    yield from next(chain)(chain, **kwargs)\n",
      "  File \"/var/folders/f2/nlr2kz4j2q542b5xz6z640500000gn/T/ipykernel_11899/481506535.py\", line 28, in cb3\n",
      "    yield from next(chain)(chain, **kwargs)\n",
      "  File \"/var/folders/f2/nlr2kz4j2q542b5xz6z640500000gn/T/ipykernel_11899/481506535.py\", line 33, in run\n",
      "    if ex_in_chain: raise Exception('error')\n",
      "Exception: error\n"
     ]
    },
    {
     "ename": "Exception",
     "evalue": "error",
     "output_type": "error",
     "traceback": [
      "\u001b[0;31m---------------------------------------------------------------------------\u001b[0m\n",
      "\u001b[0;31mException\u001b[0m                                 Traceback (most recent call last)\n",
      "Cell \u001b[0;32mIn[90], line 1\u001b[0m\n",
      "\u001b[0;32m----> 1\u001b[0m \u001b[39mwith\u001b[39;00m context(cbs\u001b[39m=\u001b[39mcbs,raise_wrap\u001b[39m=\u001b[39m\u001b[39mFalse\u001b[39;00m, print_tb\u001b[39m=\u001b[39m\u001b[39mTrue\u001b[39;00m, ex_in_chain\u001b[39m=\u001b[39m\u001b[39mTrue\u001b[39;00m) \u001b[39mas\u001b[39;00m ctx:\n",
      "\u001b[1;32m      2\u001b[0m     \u001b[39mprint\u001b[39m(\u001b[39m'\u001b[39m\u001b[39mwith statement\u001b[39m\u001b[39m'\u001b[39m)\n",
      "\n",
      "File \u001b[0;32m/opt/homebrew/Caskroom/miniforge/base/envs/miniai/lib/python3.10/contextlib.py:135\u001b[0m, in \u001b[0;36m_GeneratorContextManager.__enter__\u001b[0;34m(self)\u001b[0m\n",
      "\u001b[1;32m    133\u001b[0m \u001b[39mdel\u001b[39;00m \u001b[39mself\u001b[39m\u001b[39m.\u001b[39margs, \u001b[39mself\u001b[39m\u001b[39m.\u001b[39mkwds, \u001b[39mself\u001b[39m\u001b[39m.\u001b[39mfunc\n",
      "\u001b[1;32m    134\u001b[0m \u001b[39mtry\u001b[39;00m:\n",
      "\u001b[0;32m--> 135\u001b[0m     \u001b[39mreturn\u001b[39;00m \u001b[39mnext\u001b[39;49m(\u001b[39mself\u001b[39;49m\u001b[39m.\u001b[39;49mgen)\n",
      "\u001b[1;32m    136\u001b[0m \u001b[39mexcept\u001b[39;00m \u001b[39mStopIteration\u001b[39;00m:\n",
      "\u001b[1;32m    137\u001b[0m     \u001b[39mraise\u001b[39;00m \u001b[39mRuntimeError\u001b[39;00m(\u001b[39m\"\u001b[39m\u001b[39mgenerator didn\u001b[39m\u001b[39m'\u001b[39m\u001b[39mt yield\u001b[39m\u001b[39m\"\u001b[39m) \u001b[39mfrom\u001b[39;00m \u001b[39mNone\u001b[39m\n",
      "\n",
      "Cell \u001b[0;32mIn[87], line 14\u001b[0m, in \u001b[0;36mcontext\u001b[0;34m(cbs, inner_throw, raise_wrap, print_tb, **kwargs)\u001b[0m\n",
      "\u001b[1;32m     12\u001b[0m \u001b[39mif\u001b[39;00m print_tb: traceback\u001b[39m.\u001b[39mprint_exc()\n",
      "\u001b[1;32m     13\u001b[0m \u001b[39mif\u001b[39;00m raise_wrap: \u001b[39mraise\u001b[39;00m \u001b[39mRuntimeError\u001b[39;00m(\u001b[39m'\u001b[39m\u001b[39mwrapper to show how debug will work\u001b[39m\u001b[39m'\u001b[39m, e)\n",
      "\u001b[0;32m---> 14\u001b[0m \u001b[39melse\u001b[39;00m: \u001b[39mraise\u001b[39;00m e\n",
      "\n",
      "Cell \u001b[0;32mIn[87], line 8\u001b[0m, in \u001b[0;36mcontext\u001b[0;34m(cbs, inner_throw, raise_wrap, print_tb, **kwargs)\u001b[0m\n",
      "\u001b[1;32m      6\u001b[0m     chain \u001b[39m=\u001b[39m \u001b[39miter\u001b[39m(cbs)\n",
      "\u001b[1;32m      7\u001b[0m     gen \u001b[39m=\u001b[39m \u001b[39mnext\u001b[39m(chain)(chain, \u001b[39m*\u001b[39m\u001b[39m*\u001b[39mkwargs)\n",
      "\u001b[0;32m----> 8\u001b[0m     \u001b[39myield from\u001b[39;00m gen\n",
      "\u001b[1;32m      9\u001b[0m     \u001b[39mprint\u001b[39m(\u001b[39m'\u001b[39m\u001b[39mafter context manager\u001b[39m\u001b[39m'\u001b[39m)\n",
      "\u001b[1;32m     10\u001b[0m \u001b[39mexcept\u001b[39;00m \u001b[39mException\u001b[39;00m \u001b[39mas\u001b[39;00m e:\n",
      "\n",
      "Cell \u001b[0;32mIn[87], line 18\u001b[0m, in \u001b[0;36mcb1\u001b[0;34m(chain, **kwargs)\u001b[0m\n",
      "\u001b[1;32m     16\u001b[0m \u001b[39mdef\u001b[39;00m \u001b[39mcb1\u001b[39m(chain, \u001b[39m*\u001b[39m\u001b[39m*\u001b[39mkwargs):\n",
      "\u001b[1;32m     17\u001b[0m     \u001b[39mprint\u001b[39m(\u001b[39m'\u001b[39m\u001b[39mbefore cb1\u001b[39m\u001b[39m'\u001b[39m)\n",
      "\u001b[0;32m---> 18\u001b[0m     \u001b[39myield from\u001b[39;00m \u001b[39mnext\u001b[39m(chain)(chain, \u001b[39m*\u001b[39m\u001b[39m*\u001b[39mkwargs)\n",
      "\u001b[1;32m     19\u001b[0m     \u001b[39mprint\u001b[39m(\u001b[39m'\u001b[39m\u001b[39mafter cb1\u001b[39m\u001b[39m'\u001b[39m)\n",
      "\n",
      "Cell \u001b[0;32mIn[87], line 23\u001b[0m, in \u001b[0;36mcb2\u001b[0;34m(chain, **kwargs)\u001b[0m\n",
      "\u001b[1;32m     21\u001b[0m \u001b[39mdef\u001b[39;00m \u001b[39mcb2\u001b[39m(chain, \u001b[39m*\u001b[39m\u001b[39m*\u001b[39mkwargs):\n",
      "\u001b[1;32m     22\u001b[0m     \u001b[39mprint\u001b[39m(\u001b[39m'\u001b[39m\u001b[39mbefore cb2\u001b[39m\u001b[39m'\u001b[39m)\n",
      "\u001b[0;32m---> 23\u001b[0m     \u001b[39myield from\u001b[39;00m \u001b[39mnext\u001b[39m(chain)(chain, \u001b[39m*\u001b[39m\u001b[39m*\u001b[39mkwargs)\n",
      "\u001b[1;32m     24\u001b[0m     \u001b[39mprint\u001b[39m(\u001b[39m'\u001b[39m\u001b[39mafter cb2\u001b[39m\u001b[39m'\u001b[39m)\n",
      "\n",
      "Cell \u001b[0;32mIn[87], line 28\u001b[0m, in \u001b[0;36mcb3\u001b[0;34m(chain, **kwargs)\u001b[0m\n",
      "\u001b[1;32m     26\u001b[0m \u001b[39mdef\u001b[39;00m \u001b[39mcb3\u001b[39m(chain, \u001b[39m*\u001b[39m\u001b[39m*\u001b[39mkwargs):\n",
      "\u001b[1;32m     27\u001b[0m     \u001b[39mprint\u001b[39m(\u001b[39m'\u001b[39m\u001b[39mbefore cb3\u001b[39m\u001b[39m'\u001b[39m)\n",
      "\u001b[0;32m---> 28\u001b[0m     \u001b[39myield from\u001b[39;00m \u001b[39mnext\u001b[39m(chain)(chain, \u001b[39m*\u001b[39m\u001b[39m*\u001b[39mkwargs)\n",
      "\u001b[1;32m     29\u001b[0m     \u001b[39mprint\u001b[39m(\u001b[39m'\u001b[39m\u001b[39mafter cb3\u001b[39m\u001b[39m'\u001b[39m)\n",
      "\n",
      "Cell \u001b[0;32mIn[87], line 33\u001b[0m, in \u001b[0;36mrun\u001b[0;34m(chain, ex_in_chain, **kwargs)\u001b[0m\n",
      "\u001b[1;32m     31\u001b[0m \u001b[39mdef\u001b[39;00m \u001b[39mrun\u001b[39m(chain, ex_in_chain\u001b[39m=\u001b[39m\u001b[39mFalse\u001b[39;00m, \u001b[39m*\u001b[39m\u001b[39m*\u001b[39mkwargs):\n",
      "\u001b[1;32m     32\u001b[0m     \u001b[39mprint\u001b[39m(\u001b[39m'\u001b[39m\u001b[39mrun - last step\u001b[39m\u001b[39m'\u001b[39m)\n",
      "\u001b[0;32m---> 33\u001b[0m     \u001b[39mif\u001b[39;00m ex_in_chain: \u001b[39mraise\u001b[39;00m \u001b[39mException\u001b[39;00m(\u001b[39m'\u001b[39m\u001b[39merror\u001b[39m\u001b[39m'\u001b[39m)\n",
      "\u001b[1;32m     34\u001b[0m     \u001b[39myield\u001b[39;00m \u001b[39mNone\u001b[39;00m\n",
      "\n",
      "\u001b[0;31mException\u001b[0m: error"
     ]
    }
   ],
   "source": [
    "with context(cbs=cbs,raise_wrap=False, print_tb=True, ex_in_chain=True) as ctx:\n",
    "    print('with statement')"
   ]
  },
  {
   "cell_type": "code",
   "execution_count": null,
   "id": "3573cc5f",
   "metadata": {},
   "outputs": [
    {
     "name": "stdout",
     "output_type": "stream",
     "text": [
      "> \u001b[0;32m/var/folders/f2/nlr2kz4j2q542b5xz6z640500000gn/T/ipykernel_11899/481506535.py\u001b[0m(33)\u001b[0;36mrun\u001b[0;34m()\u001b[0m\n",
      "\u001b[0;32m     31 \u001b[0;31m\u001b[0;32mdef\u001b[0m \u001b[0mrun\u001b[0m\u001b[0;34m(\u001b[0m\u001b[0mchain\u001b[0m\u001b[0;34m,\u001b[0m \u001b[0mex_in_chain\u001b[0m\u001b[0;34m=\u001b[0m\u001b[0;32mFalse\u001b[0m\u001b[0;34m,\u001b[0m \u001b[0;34m**\u001b[0m\u001b[0mkwargs\u001b[0m\u001b[0;34m)\u001b[0m\u001b[0;34m:\u001b[0m\u001b[0;34m\u001b[0m\u001b[0;34m\u001b[0m\u001b[0m\n",
      "\u001b[0m\u001b[0;32m     32 \u001b[0;31m    \u001b[0mprint\u001b[0m\u001b[0;34m(\u001b[0m\u001b[0;34m'run - last step'\u001b[0m\u001b[0;34m)\u001b[0m\u001b[0;34m\u001b[0m\u001b[0;34m\u001b[0m\u001b[0m\n",
      "\u001b[0m\u001b[0;32m---> 33 \u001b[0;31m    \u001b[0;32mif\u001b[0m \u001b[0mex_in_chain\u001b[0m\u001b[0;34m:\u001b[0m \u001b[0;32mraise\u001b[0m \u001b[0mException\u001b[0m\u001b[0;34m(\u001b[0m\u001b[0;34m'error'\u001b[0m\u001b[0;34m)\u001b[0m\u001b[0;34m\u001b[0m\u001b[0;34m\u001b[0m\u001b[0m\n",
      "\u001b[0m\u001b[0;32m     34 \u001b[0;31m    \u001b[0;32myield\u001b[0m \u001b[0;32mNone\u001b[0m\u001b[0;34m\u001b[0m\u001b[0;34m\u001b[0m\u001b[0m\n",
      "\u001b[0m\u001b[0;32m     35 \u001b[0;31m\u001b[0;34m\u001b[0m\u001b[0m\n",
      "\u001b[0m\n",
      "> \u001b[0;32m/var/folders/f2/nlr2kz4j2q542b5xz6z640500000gn/T/ipykernel_11899/481506535.py\u001b[0m(28)\u001b[0;36mcb3\u001b[0;34m()\u001b[0m\n",
      "\u001b[0;32m     26 \u001b[0;31m\u001b[0;32mdef\u001b[0m \u001b[0mcb3\u001b[0m\u001b[0;34m(\u001b[0m\u001b[0mchain\u001b[0m\u001b[0;34m,\u001b[0m \u001b[0;34m**\u001b[0m\u001b[0mkwargs\u001b[0m\u001b[0;34m)\u001b[0m\u001b[0;34m:\u001b[0m\u001b[0;34m\u001b[0m\u001b[0;34m\u001b[0m\u001b[0m\n",
      "\u001b[0m\u001b[0;32m     27 \u001b[0;31m    \u001b[0mprint\u001b[0m\u001b[0;34m(\u001b[0m\u001b[0;34m'before cb3'\u001b[0m\u001b[0;34m)\u001b[0m\u001b[0;34m\u001b[0m\u001b[0;34m\u001b[0m\u001b[0m\n",
      "\u001b[0m\u001b[0;32m---> 28 \u001b[0;31m    \u001b[0;32myield\u001b[0m \u001b[0;32mfrom\u001b[0m \u001b[0mnext\u001b[0m\u001b[0;34m(\u001b[0m\u001b[0mchain\u001b[0m\u001b[0;34m)\u001b[0m\u001b[0;34m(\u001b[0m\u001b[0mchain\u001b[0m\u001b[0;34m,\u001b[0m \u001b[0;34m**\u001b[0m\u001b[0mkwargs\u001b[0m\u001b[0;34m)\u001b[0m\u001b[0;34m\u001b[0m\u001b[0;34m\u001b[0m\u001b[0m\n",
      "\u001b[0m\u001b[0;32m     29 \u001b[0;31m    \u001b[0mprint\u001b[0m\u001b[0;34m(\u001b[0m\u001b[0;34m'after cb3'\u001b[0m\u001b[0;34m)\u001b[0m\u001b[0;34m\u001b[0m\u001b[0;34m\u001b[0m\u001b[0m\n",
      "\u001b[0m\u001b[0;32m     30 \u001b[0;31m\u001b[0;34m\u001b[0m\u001b[0m\n",
      "\u001b[0m\n",
      "> \u001b[0;32m/var/folders/f2/nlr2kz4j2q542b5xz6z640500000gn/T/ipykernel_11899/481506535.py\u001b[0m(23)\u001b[0;36mcb2\u001b[0;34m()\u001b[0m\n",
      "\u001b[0;32m     21 \u001b[0;31m\u001b[0;32mdef\u001b[0m \u001b[0mcb2\u001b[0m\u001b[0;34m(\u001b[0m\u001b[0mchain\u001b[0m\u001b[0;34m,\u001b[0m \u001b[0;34m**\u001b[0m\u001b[0mkwargs\u001b[0m\u001b[0;34m)\u001b[0m\u001b[0;34m:\u001b[0m\u001b[0;34m\u001b[0m\u001b[0;34m\u001b[0m\u001b[0m\n",
      "\u001b[0m\u001b[0;32m     22 \u001b[0;31m    \u001b[0mprint\u001b[0m\u001b[0;34m(\u001b[0m\u001b[0;34m'before cb2'\u001b[0m\u001b[0;34m)\u001b[0m\u001b[0;34m\u001b[0m\u001b[0;34m\u001b[0m\u001b[0m\n",
      "\u001b[0m\u001b[0;32m---> 23 \u001b[0;31m    \u001b[0;32myield\u001b[0m \u001b[0;32mfrom\u001b[0m \u001b[0mnext\u001b[0m\u001b[0;34m(\u001b[0m\u001b[0mchain\u001b[0m\u001b[0;34m)\u001b[0m\u001b[0;34m(\u001b[0m\u001b[0mchain\u001b[0m\u001b[0;34m,\u001b[0m \u001b[0;34m**\u001b[0m\u001b[0mkwargs\u001b[0m\u001b[0;34m)\u001b[0m\u001b[0;34m\u001b[0m\u001b[0;34m\u001b[0m\u001b[0m\n",
      "\u001b[0m\u001b[0;32m     24 \u001b[0;31m    \u001b[0mprint\u001b[0m\u001b[0;34m(\u001b[0m\u001b[0;34m'after cb2'\u001b[0m\u001b[0;34m)\u001b[0m\u001b[0;34m\u001b[0m\u001b[0;34m\u001b[0m\u001b[0m\n",
      "\u001b[0m\u001b[0;32m     25 \u001b[0;31m\u001b[0;34m\u001b[0m\u001b[0m\n",
      "\u001b[0m\n",
      "> \u001b[0;32m/var/folders/f2/nlr2kz4j2q542b5xz6z640500000gn/T/ipykernel_11899/481506535.py\u001b[0m(18)\u001b[0;36mcb1\u001b[0;34m()\u001b[0m\n",
      "\u001b[0;32m     16 \u001b[0;31m\u001b[0;32mdef\u001b[0m \u001b[0mcb1\u001b[0m\u001b[0;34m(\u001b[0m\u001b[0mchain\u001b[0m\u001b[0;34m,\u001b[0m \u001b[0;34m**\u001b[0m\u001b[0mkwargs\u001b[0m\u001b[0;34m)\u001b[0m\u001b[0;34m:\u001b[0m\u001b[0;34m\u001b[0m\u001b[0;34m\u001b[0m\u001b[0m\n",
      "\u001b[0m\u001b[0;32m     17 \u001b[0;31m    \u001b[0mprint\u001b[0m\u001b[0;34m(\u001b[0m\u001b[0;34m'before cb1'\u001b[0m\u001b[0;34m)\u001b[0m\u001b[0;34m\u001b[0m\u001b[0;34m\u001b[0m\u001b[0m\n",
      "\u001b[0m\u001b[0;32m---> 18 \u001b[0;31m    \u001b[0;32myield\u001b[0m \u001b[0;32mfrom\u001b[0m \u001b[0mnext\u001b[0m\u001b[0;34m(\u001b[0m\u001b[0mchain\u001b[0m\u001b[0;34m)\u001b[0m\u001b[0;34m(\u001b[0m\u001b[0mchain\u001b[0m\u001b[0;34m,\u001b[0m \u001b[0;34m**\u001b[0m\u001b[0mkwargs\u001b[0m\u001b[0;34m)\u001b[0m\u001b[0;34m\u001b[0m\u001b[0;34m\u001b[0m\u001b[0m\n",
      "\u001b[0m\u001b[0;32m     19 \u001b[0;31m    \u001b[0mprint\u001b[0m\u001b[0;34m(\u001b[0m\u001b[0;34m'after cb1'\u001b[0m\u001b[0;34m)\u001b[0m\u001b[0;34m\u001b[0m\u001b[0;34m\u001b[0m\u001b[0m\n",
      "\u001b[0m\u001b[0;32m     20 \u001b[0;31m\u001b[0;34m\u001b[0m\u001b[0m\n",
      "\u001b[0m\n",
      "> \u001b[0;32m/var/folders/f2/nlr2kz4j2q542b5xz6z640500000gn/T/ipykernel_11899/481506535.py\u001b[0m(8)\u001b[0;36mcontext\u001b[0;34m()\u001b[0m\n",
      "\u001b[0;32m      6 \u001b[0;31m        \u001b[0mchain\u001b[0m \u001b[0;34m=\u001b[0m \u001b[0miter\u001b[0m\u001b[0;34m(\u001b[0m\u001b[0mcbs\u001b[0m\u001b[0;34m)\u001b[0m\u001b[0;34m\u001b[0m\u001b[0;34m\u001b[0m\u001b[0m\n",
      "\u001b[0m\u001b[0;32m      7 \u001b[0;31m        \u001b[0mgen\u001b[0m \u001b[0;34m=\u001b[0m \u001b[0mnext\u001b[0m\u001b[0;34m(\u001b[0m\u001b[0mchain\u001b[0m\u001b[0;34m)\u001b[0m\u001b[0;34m(\u001b[0m\u001b[0mchain\u001b[0m\u001b[0;34m,\u001b[0m \u001b[0;34m**\u001b[0m\u001b[0mkwargs\u001b[0m\u001b[0;34m)\u001b[0m\u001b[0;34m\u001b[0m\u001b[0;34m\u001b[0m\u001b[0m\n",
      "\u001b[0m\u001b[0;32m----> 8 \u001b[0;31m        \u001b[0;32myield\u001b[0m \u001b[0;32mfrom\u001b[0m \u001b[0mgen\u001b[0m\u001b[0;34m\u001b[0m\u001b[0;34m\u001b[0m\u001b[0m\n",
      "\u001b[0m\u001b[0;32m      9 \u001b[0;31m        \u001b[0mprint\u001b[0m\u001b[0;34m(\u001b[0m\u001b[0;34m'after context manager'\u001b[0m\u001b[0;34m)\u001b[0m\u001b[0;34m\u001b[0m\u001b[0;34m\u001b[0m\u001b[0m\n",
      "\u001b[0m\u001b[0;32m     10 \u001b[0;31m    \u001b[0;32mexcept\u001b[0m \u001b[0mException\u001b[0m \u001b[0;32mas\u001b[0m \u001b[0me\u001b[0m\u001b[0;34m:\u001b[0m\u001b[0;34m\u001b[0m\u001b[0;34m\u001b[0m\u001b[0m\n",
      "\u001b[0m\n",
      "> \u001b[0;32m/var/folders/f2/nlr2kz4j2q542b5xz6z640500000gn/T/ipykernel_11899/481506535.py\u001b[0m(14)\u001b[0;36mcontext\u001b[0;34m()\u001b[0m\n",
      "\u001b[0;32m     12 \u001b[0;31m        \u001b[0;32mif\u001b[0m \u001b[0mprint_tb\u001b[0m\u001b[0;34m:\u001b[0m \u001b[0mtraceback\u001b[0m\u001b[0;34m.\u001b[0m\u001b[0mprint_exc\u001b[0m\u001b[0;34m(\u001b[0m\u001b[0;34m)\u001b[0m\u001b[0;34m\u001b[0m\u001b[0;34m\u001b[0m\u001b[0m\n",
      "\u001b[0m\u001b[0;32m     13 \u001b[0;31m        \u001b[0;32mif\u001b[0m \u001b[0mraise_wrap\u001b[0m\u001b[0;34m:\u001b[0m \u001b[0;32mraise\u001b[0m \u001b[0mRuntimeError\u001b[0m\u001b[0;34m(\u001b[0m\u001b[0;34m'wrapper to show how debug will work'\u001b[0m\u001b[0;34m,\u001b[0m \u001b[0me\u001b[0m\u001b[0;34m)\u001b[0m\u001b[0;34m\u001b[0m\u001b[0;34m\u001b[0m\u001b[0m\n",
      "\u001b[0m\u001b[0;32m---> 14 \u001b[0;31m        \u001b[0;32melse\u001b[0m\u001b[0;34m:\u001b[0m \u001b[0;32mraise\u001b[0m \u001b[0me\u001b[0m\u001b[0;34m\u001b[0m\u001b[0;34m\u001b[0m\u001b[0m\n",
      "\u001b[0m\u001b[0;32m     15 \u001b[0;31m\u001b[0;34m\u001b[0m\u001b[0m\n",
      "\u001b[0m\u001b[0;32m     16 \u001b[0;31m\u001b[0;32mdef\u001b[0m \u001b[0mcb1\u001b[0m\u001b[0;34m(\u001b[0m\u001b[0mchain\u001b[0m\u001b[0;34m,\u001b[0m \u001b[0;34m**\u001b[0m\u001b[0mkwargs\u001b[0m\u001b[0;34m)\u001b[0m\u001b[0;34m:\u001b[0m\u001b[0;34m\u001b[0m\u001b[0;34m\u001b[0m\u001b[0m\n",
      "\u001b[0m\n"
     ]
    }
   ],
   "source": [
    "%debug"
   ]
  },
  {
   "cell_type": "code",
   "execution_count": null,
   "id": "2acc988b",
   "metadata": {},
   "outputs": [
    {
     "name": "stdout",
     "output_type": "stream",
     "text": [
      "before context manager\n",
      "before cb1\n",
      "before cb2\n",
      "before cb3\n",
      "run - last step\n",
      "with statement\n"
     ]
    },
    {
     "name": "stderr",
     "output_type": "stream",
     "text": [
      "Traceback (most recent call last):\n",
      "  File \"/var/folders/f2/nlr2kz4j2q542b5xz6z640500000gn/T/ipykernel_11899/2622776919.py\", line 7, in context\n",
      "    yield from next(chain)(chain, reraise=False)\n",
      "  File \"/var/folders/f2/nlr2kz4j2q542b5xz6z640500000gn/T/ipykernel_11899/2622776919.py\", line 16, in cb1\n",
      "    yield from next(chain)(chain, **kwargs)\n",
      "  File \"/var/folders/f2/nlr2kz4j2q542b5xz6z640500000gn/T/ipykernel_11899/2622776919.py\", line 21, in cb2\n",
      "    yield from next(chain)(chain, **kwargs)\n",
      "  File \"/var/folders/f2/nlr2kz4j2q542b5xz6z640500000gn/T/ipykernel_11899/2622776919.py\", line 26, in cb3\n",
      "    yield from next(chain)(chain, **kwargs)\n",
      "  File \"/var/folders/f2/nlr2kz4j2q542b5xz6z640500000gn/T/ipykernel_11899/2622776919.py\", line 32, in run\n",
      "    yield None\n",
      "  File \"/var/folders/f2/nlr2kz4j2q542b5xz6z640500000gn/T/ipykernel_11899/1937628265.py\", line 3, in <module>\n",
      "    1/0\n",
      "ZeroDivisionError: division by zero\n"
     ]
    },
    {
     "ename": "ZeroDivisionError",
     "evalue": "division by zero",
     "output_type": "error",
     "traceback": [
      "\u001b[0;31m---------------------------------------------------------------------------\u001b[0m\n",
      "\u001b[0;31mZeroDivisionError\u001b[0m                         Traceback (most recent call last)\n",
      "Cell \u001b[0;32mIn[72], line 3\u001b[0m\n",
      "\u001b[1;32m      1\u001b[0m \u001b[39mwith\u001b[39;00m context(cbs\u001b[39m=\u001b[39mcbs,raise_wrap\u001b[39m=\u001b[39m\u001b[39mFalse\u001b[39;00m, print_tb\u001b[39m=\u001b[39m\u001b[39mTrue\u001b[39;00m) \u001b[39mas\u001b[39;00m ctx:\n",
      "\u001b[1;32m      2\u001b[0m     \u001b[39mprint\u001b[39m(\u001b[39m'\u001b[39m\u001b[39mwith statement\u001b[39m\u001b[39m'\u001b[39m)\n",
      "\u001b[0;32m----> 3\u001b[0m     \u001b[39m1\u001b[39;49m\u001b[39m/\u001b[39;49m\u001b[39m0\u001b[39;49m\n",
      "\n",
      "\u001b[0;31mZeroDivisionError\u001b[0m: division by zero"
     ]
    }
   ],
   "source": [
    "with context(cbs=cbs,raise_wrap=False, print_tb=True) as ctx:\n",
    "    print('with statement')\n",
    "    1/0"
   ]
  },
  {
   "cell_type": "code",
   "execution_count": null,
   "id": "4bc16363",
   "metadata": {},
   "outputs": [
    {
     "name": "stdout",
     "output_type": "stream",
     "text": [
      "> \u001b[0;32m/var/folders/f2/nlr2kz4j2q542b5xz6z640500000gn/T/ipykernel_11899/1937628265.py\u001b[0m(3)\u001b[0;36m<module>\u001b[0;34m()\u001b[0m\n",
      "\u001b[0;32m      1 \u001b[0;31m\u001b[0;32mwith\u001b[0m \u001b[0mcontext\u001b[0m\u001b[0;34m(\u001b[0m\u001b[0mcbs\u001b[0m\u001b[0;34m=\u001b[0m\u001b[0mcbs\u001b[0m\u001b[0;34m,\u001b[0m\u001b[0mraise_wrap\u001b[0m\u001b[0;34m=\u001b[0m\u001b[0;32mFalse\u001b[0m\u001b[0;34m,\u001b[0m \u001b[0mprint_tb\u001b[0m\u001b[0;34m=\u001b[0m\u001b[0;32mTrue\u001b[0m\u001b[0;34m)\u001b[0m \u001b[0;32mas\u001b[0m \u001b[0mctx\u001b[0m\u001b[0;34m:\u001b[0m\u001b[0;34m\u001b[0m\u001b[0;34m\u001b[0m\u001b[0m\n",
      "\u001b[0m\u001b[0;32m      2 \u001b[0;31m    \u001b[0mprint\u001b[0m\u001b[0;34m(\u001b[0m\u001b[0;34m'with statement'\u001b[0m\u001b[0;34m)\u001b[0m\u001b[0;34m\u001b[0m\u001b[0;34m\u001b[0m\u001b[0m\n",
      "\u001b[0m\u001b[0;32m----> 3 \u001b[0;31m    \u001b[0;36m1\u001b[0m\u001b[0;34m/\u001b[0m\u001b[0;36m0\u001b[0m\u001b[0;34m\u001b[0m\u001b[0;34m\u001b[0m\u001b[0m\n",
      "\u001b[0m\n",
      "*** Oldest frame\n"
     ]
    }
   ],
   "source": [
    "%debug"
   ]
  },
  {
   "cell_type": "code",
   "execution_count": null,
   "id": "dec01fb8",
   "metadata": {},
   "outputs": [
    {
     "name": "stdout",
     "output_type": "stream",
     "text": [
      "before context manager\n",
      "before cb1\n",
      "before cb2\n",
      "before cb3\n",
      "run - last step\n",
      "with statement\n"
     ]
    },
    {
     "ename": "ZeroDivisionError",
     "evalue": "division by zero",
     "output_type": "error",
     "traceback": [
      "\u001b[0;31m---------------------------------------------------------------------------\u001b[0m\n",
      "\u001b[0;31mZeroDivisionError\u001b[0m                         Traceback (most recent call last)\n",
      "Cell \u001b[0;32mIn[94], line 11\u001b[0m\n",
      "\u001b[1;32m      9\u001b[0m \u001b[39mwith\u001b[39;00m context_no_try(cbs\u001b[39m=\u001b[39mcbs):\n",
      "\u001b[1;32m     10\u001b[0m     \u001b[39mprint\u001b[39m(\u001b[39m'\u001b[39m\u001b[39mwith statement\u001b[39m\u001b[39m'\u001b[39m)\n",
      "\u001b[0;32m---> 11\u001b[0m     \u001b[39m1\u001b[39;49m\u001b[39m/\u001b[39;49m\u001b[39m0\u001b[39;49m\n",
      "\n",
      "\u001b[0;31mZeroDivisionError\u001b[0m: division by zero"
     ]
    }
   ],
   "source": [
    "@contextmanager\n",
    "def context_no_try(cbs, **kwargs):\n",
    "    print('before context manager')\n",
    "    chain = iter(cbs)\n",
    "    gen = next(chain)(chain, **kwargs)\n",
    "    yield from gen\n",
    "    print('after context manager')\n",
    "\n",
    "with context_no_try(cbs=cbs):\n",
    "    print('with statement')\n",
    "    1/0"
   ]
  },
  {
   "cell_type": "code",
   "execution_count": null,
   "id": "45a94fd1",
   "metadata": {},
   "outputs": [
    {
     "name": "stdout",
     "output_type": "stream",
     "text": [
      "> \u001b[0;32m/var/folders/f2/nlr2kz4j2q542b5xz6z640500000gn/T/ipykernel_11899/2929159381.py\u001b[0m(11)\u001b[0;36m<module>\u001b[0;34m()\u001b[0m\n",
      "\u001b[0;32m      7 \u001b[0;31m    \u001b[0mprint\u001b[0m\u001b[0;34m(\u001b[0m\u001b[0;34m'after context manager'\u001b[0m\u001b[0;34m)\u001b[0m\u001b[0;34m\u001b[0m\u001b[0;34m\u001b[0m\u001b[0m\n",
      "\u001b[0m\u001b[0;32m      8 \u001b[0;31m\u001b[0;34m\u001b[0m\u001b[0m\n",
      "\u001b[0m\u001b[0;32m      9 \u001b[0;31m\u001b[0;32mwith\u001b[0m \u001b[0mcontext_no_try\u001b[0m\u001b[0;34m(\u001b[0m\u001b[0mcbs\u001b[0m\u001b[0;34m=\u001b[0m\u001b[0mcbs\u001b[0m\u001b[0;34m)\u001b[0m\u001b[0;34m:\u001b[0m\u001b[0;34m\u001b[0m\u001b[0;34m\u001b[0m\u001b[0m\n",
      "\u001b[0m\u001b[0;32m     10 \u001b[0;31m    \u001b[0mprint\u001b[0m\u001b[0;34m(\u001b[0m\u001b[0;34m'with statement'\u001b[0m\u001b[0;34m)\u001b[0m\u001b[0;34m\u001b[0m\u001b[0;34m\u001b[0m\u001b[0m\n",
      "\u001b[0m\u001b[0;32m---> 11 \u001b[0;31m    \u001b[0;36m1\u001b[0m\u001b[0;34m/\u001b[0m\u001b[0;36m0\u001b[0m\u001b[0;34m\u001b[0m\u001b[0;34m\u001b[0m\u001b[0m\n",
      "\u001b[0m\n",
      "*** Oldest frame\n"
     ]
    }
   ],
   "source": [
    "%debug"
   ]
  },
  {
   "cell_type": "code",
   "execution_count": null,
   "id": "4ac7d751",
   "metadata": {},
   "outputs": [
    {
     "name": "stdout",
     "output_type": "stream",
     "text": [
      "before context manager\n",
      "before cb1\n",
      "before cb2\n",
      "before cb3\n",
      "run - last step\n",
      "with statement\n",
      "exception in context manager\n",
      "> \u001b[0;32m/var/folders/f2/nlr2kz4j2q542b5xz6z640500000gn/T/ipykernel_11899/1353566061.py\u001b[0m(15)\u001b[0;36m<module>\u001b[0;34m()\u001b[0m\n",
      "\u001b[0;32m     11 \u001b[0;31m        \u001b[0;32mimport\u001b[0m \u001b[0mpdb\u001b[0m\u001b[0;34m;\u001b[0m \u001b[0mpdb\u001b[0m\u001b[0;34m.\u001b[0m\u001b[0mpost_mortem\u001b[0m\u001b[0;34m(\u001b[0m\u001b[0;34m)\u001b[0m\u001b[0;34m\u001b[0m\u001b[0;34m\u001b[0m\u001b[0m\n",
      "\u001b[0m\u001b[0;32m     12 \u001b[0;31m\u001b[0;34m\u001b[0m\u001b[0m\n",
      "\u001b[0m\u001b[0;32m     13 \u001b[0;31m\u001b[0;32mwith\u001b[0m \u001b[0mcontext_debug_on_ex\u001b[0m\u001b[0;34m(\u001b[0m\u001b[0mcbs\u001b[0m\u001b[0;34m=\u001b[0m\u001b[0mcbs\u001b[0m\u001b[0;34m)\u001b[0m\u001b[0;34m:\u001b[0m\u001b[0;34m\u001b[0m\u001b[0;34m\u001b[0m\u001b[0m\n",
      "\u001b[0m\u001b[0;32m     14 \u001b[0;31m    \u001b[0mprint\u001b[0m\u001b[0;34m(\u001b[0m\u001b[0;34m'with statement'\u001b[0m\u001b[0;34m)\u001b[0m\u001b[0;34m\u001b[0m\u001b[0;34m\u001b[0m\u001b[0m\n",
      "\u001b[0m\u001b[0;32m---> 15 \u001b[0;31m    \u001b[0;36m1\u001b[0m\u001b[0;34m/\u001b[0m\u001b[0;36m0\u001b[0m\u001b[0;34m\u001b[0m\u001b[0;34m\u001b[0m\u001b[0m\n",
      "\u001b[0m\n",
      "> \u001b[0;32m/var/folders/f2/nlr2kz4j2q542b5xz6z640500000gn/T/ipykernel_11899/481506535.py\u001b[0m(34)\u001b[0;36mrun\u001b[0;34m()\u001b[0m\n",
      "\u001b[0;32m     32 \u001b[0;31m    \u001b[0mprint\u001b[0m\u001b[0;34m(\u001b[0m\u001b[0;34m'run - last step'\u001b[0m\u001b[0;34m)\u001b[0m\u001b[0;34m\u001b[0m\u001b[0;34m\u001b[0m\u001b[0m\n",
      "\u001b[0m\u001b[0;32m     33 \u001b[0;31m    \u001b[0;32mif\u001b[0m \u001b[0mex_in_chain\u001b[0m\u001b[0;34m:\u001b[0m \u001b[0;32mraise\u001b[0m \u001b[0mException\u001b[0m\u001b[0;34m(\u001b[0m\u001b[0;34m'error'\u001b[0m\u001b[0;34m)\u001b[0m\u001b[0;34m\u001b[0m\u001b[0;34m\u001b[0m\u001b[0m\n",
      "\u001b[0m\u001b[0;32m---> 34 \u001b[0;31m    \u001b[0;32myield\u001b[0m \u001b[0;32mNone\u001b[0m\u001b[0;34m\u001b[0m\u001b[0;34m\u001b[0m\u001b[0m\n",
      "\u001b[0m\u001b[0;32m     35 \u001b[0;31m\u001b[0;34m\u001b[0m\u001b[0m\n",
      "\u001b[0m\u001b[0;32m     36 \u001b[0;31m\u001b[0mcbs\u001b[0m\u001b[0;34m=\u001b[0m\u001b[0;34m[\u001b[0m\u001b[0mcb1\u001b[0m\u001b[0;34m,\u001b[0m \u001b[0mcb2\u001b[0m\u001b[0;34m,\u001b[0m \u001b[0mcb3\u001b[0m\u001b[0;34m,\u001b[0m \u001b[0mrun\u001b[0m\u001b[0;34m]\u001b[0m\u001b[0;34m\u001b[0m\u001b[0;34m\u001b[0m\u001b[0m\n",
      "\u001b[0m\n",
      "> \u001b[0;32m/var/folders/f2/nlr2kz4j2q542b5xz6z640500000gn/T/ipykernel_11899/481506535.py\u001b[0m(28)\u001b[0;36mcb3\u001b[0;34m()\u001b[0m\n",
      "\u001b[0;32m     26 \u001b[0;31m\u001b[0;32mdef\u001b[0m \u001b[0mcb3\u001b[0m\u001b[0;34m(\u001b[0m\u001b[0mchain\u001b[0m\u001b[0;34m,\u001b[0m \u001b[0;34m**\u001b[0m\u001b[0mkwargs\u001b[0m\u001b[0;34m)\u001b[0m\u001b[0;34m:\u001b[0m\u001b[0;34m\u001b[0m\u001b[0;34m\u001b[0m\u001b[0m\n",
      "\u001b[0m\u001b[0;32m     27 \u001b[0;31m    \u001b[0mprint\u001b[0m\u001b[0;34m(\u001b[0m\u001b[0;34m'before cb3'\u001b[0m\u001b[0;34m)\u001b[0m\u001b[0;34m\u001b[0m\u001b[0;34m\u001b[0m\u001b[0m\n",
      "\u001b[0m\u001b[0;32m---> 28 \u001b[0;31m    \u001b[0;32myield\u001b[0m \u001b[0;32mfrom\u001b[0m \u001b[0mnext\u001b[0m\u001b[0;34m(\u001b[0m\u001b[0mchain\u001b[0m\u001b[0;34m)\u001b[0m\u001b[0;34m(\u001b[0m\u001b[0mchain\u001b[0m\u001b[0;34m,\u001b[0m \u001b[0;34m**\u001b[0m\u001b[0mkwargs\u001b[0m\u001b[0;34m)\u001b[0m\u001b[0;34m\u001b[0m\u001b[0;34m\u001b[0m\u001b[0m\n",
      "\u001b[0m\u001b[0;32m     29 \u001b[0;31m    \u001b[0mprint\u001b[0m\u001b[0;34m(\u001b[0m\u001b[0;34m'after cb3'\u001b[0m\u001b[0;34m)\u001b[0m\u001b[0;34m\u001b[0m\u001b[0;34m\u001b[0m\u001b[0m\n",
      "\u001b[0m\u001b[0;32m     30 \u001b[0;31m\u001b[0;34m\u001b[0m\u001b[0m\n",
      "\u001b[0m\n",
      "> \u001b[0;32m/var/folders/f2/nlr2kz4j2q542b5xz6z640500000gn/T/ipykernel_11899/481506535.py\u001b[0m(23)\u001b[0;36mcb2\u001b[0;34m()\u001b[0m\n",
      "\u001b[0;32m     21 \u001b[0;31m\u001b[0;32mdef\u001b[0m \u001b[0mcb2\u001b[0m\u001b[0;34m(\u001b[0m\u001b[0mchain\u001b[0m\u001b[0;34m,\u001b[0m \u001b[0;34m**\u001b[0m\u001b[0mkwargs\u001b[0m\u001b[0;34m)\u001b[0m\u001b[0;34m:\u001b[0m\u001b[0;34m\u001b[0m\u001b[0;34m\u001b[0m\u001b[0m\n",
      "\u001b[0m\u001b[0;32m     22 \u001b[0;31m    \u001b[0mprint\u001b[0m\u001b[0;34m(\u001b[0m\u001b[0;34m'before cb2'\u001b[0m\u001b[0;34m)\u001b[0m\u001b[0;34m\u001b[0m\u001b[0;34m\u001b[0m\u001b[0m\n",
      "\u001b[0m\u001b[0;32m---> 23 \u001b[0;31m    \u001b[0;32myield\u001b[0m \u001b[0;32mfrom\u001b[0m \u001b[0mnext\u001b[0m\u001b[0;34m(\u001b[0m\u001b[0mchain\u001b[0m\u001b[0;34m)\u001b[0m\u001b[0;34m(\u001b[0m\u001b[0mchain\u001b[0m\u001b[0;34m,\u001b[0m \u001b[0;34m**\u001b[0m\u001b[0mkwargs\u001b[0m\u001b[0;34m)\u001b[0m\u001b[0;34m\u001b[0m\u001b[0;34m\u001b[0m\u001b[0m\n",
      "\u001b[0m\u001b[0;32m     24 \u001b[0;31m    \u001b[0mprint\u001b[0m\u001b[0;34m(\u001b[0m\u001b[0;34m'after cb2'\u001b[0m\u001b[0;34m)\u001b[0m\u001b[0;34m\u001b[0m\u001b[0;34m\u001b[0m\u001b[0m\n",
      "\u001b[0m\u001b[0;32m     25 \u001b[0;31m\u001b[0;34m\u001b[0m\u001b[0m\n",
      "\u001b[0m\n",
      "> \u001b[0;32m/var/folders/f2/nlr2kz4j2q542b5xz6z640500000gn/T/ipykernel_11899/481506535.py\u001b[0m(18)\u001b[0;36mcb1\u001b[0;34m()\u001b[0m\n",
      "\u001b[0;32m     16 \u001b[0;31m\u001b[0;32mdef\u001b[0m \u001b[0mcb1\u001b[0m\u001b[0;34m(\u001b[0m\u001b[0mchain\u001b[0m\u001b[0;34m,\u001b[0m \u001b[0;34m**\u001b[0m\u001b[0mkwargs\u001b[0m\u001b[0;34m)\u001b[0m\u001b[0;34m:\u001b[0m\u001b[0;34m\u001b[0m\u001b[0;34m\u001b[0m\u001b[0m\n",
      "\u001b[0m\u001b[0;32m     17 \u001b[0;31m    \u001b[0mprint\u001b[0m\u001b[0;34m(\u001b[0m\u001b[0;34m'before cb1'\u001b[0m\u001b[0;34m)\u001b[0m\u001b[0;34m\u001b[0m\u001b[0;34m\u001b[0m\u001b[0m\n",
      "\u001b[0m\u001b[0;32m---> 18 \u001b[0;31m    \u001b[0;32myield\u001b[0m \u001b[0;32mfrom\u001b[0m \u001b[0mnext\u001b[0m\u001b[0;34m(\u001b[0m\u001b[0mchain\u001b[0m\u001b[0;34m)\u001b[0m\u001b[0;34m(\u001b[0m\u001b[0mchain\u001b[0m\u001b[0;34m,\u001b[0m \u001b[0;34m**\u001b[0m\u001b[0mkwargs\u001b[0m\u001b[0;34m)\u001b[0m\u001b[0;34m\u001b[0m\u001b[0;34m\u001b[0m\u001b[0m\n",
      "\u001b[0m\u001b[0;32m     19 \u001b[0;31m    \u001b[0mprint\u001b[0m\u001b[0;34m(\u001b[0m\u001b[0;34m'after cb1'\u001b[0m\u001b[0;34m)\u001b[0m\u001b[0;34m\u001b[0m\u001b[0;34m\u001b[0m\u001b[0m\n",
      "\u001b[0m\u001b[0;32m     20 \u001b[0;31m\u001b[0;34m\u001b[0m\u001b[0m\n",
      "\u001b[0m\n",
      "> \u001b[0;32m/var/folders/f2/nlr2kz4j2q542b5xz6z640500000gn/T/ipykernel_11899/1353566061.py\u001b[0m(7)\u001b[0;36mcontext_debug_on_ex\u001b[0;34m()\u001b[0m\n",
      "\u001b[0;32m      5 \u001b[0;31m        \u001b[0mchain\u001b[0m \u001b[0;34m=\u001b[0m \u001b[0miter\u001b[0m\u001b[0;34m(\u001b[0m\u001b[0mcbs\u001b[0m\u001b[0;34m)\u001b[0m\u001b[0;34m\u001b[0m\u001b[0;34m\u001b[0m\u001b[0m\n",
      "\u001b[0m\u001b[0;32m      6 \u001b[0;31m        \u001b[0mgen\u001b[0m \u001b[0;34m=\u001b[0m \u001b[0mnext\u001b[0m\u001b[0;34m(\u001b[0m\u001b[0mchain\u001b[0m\u001b[0;34m)\u001b[0m\u001b[0;34m(\u001b[0m\u001b[0mchain\u001b[0m\u001b[0;34m,\u001b[0m \u001b[0;34m**\u001b[0m\u001b[0mkwargs\u001b[0m\u001b[0;34m)\u001b[0m\u001b[0;34m\u001b[0m\u001b[0;34m\u001b[0m\u001b[0m\n",
      "\u001b[0m\u001b[0;32m----> 7 \u001b[0;31m        \u001b[0;32myield\u001b[0m \u001b[0;32mfrom\u001b[0m \u001b[0mgen\u001b[0m\u001b[0;34m\u001b[0m\u001b[0;34m\u001b[0m\u001b[0m\n",
      "\u001b[0m\u001b[0;32m      8 \u001b[0;31m        \u001b[0mprint\u001b[0m\u001b[0;34m(\u001b[0m\u001b[0;34m'after context manager'\u001b[0m\u001b[0;34m)\u001b[0m\u001b[0;34m\u001b[0m\u001b[0;34m\u001b[0m\u001b[0m\n",
      "\u001b[0m\u001b[0;32m      9 \u001b[0;31m    \u001b[0;32mexcept\u001b[0m \u001b[0mException\u001b[0m \u001b[0;32mas\u001b[0m \u001b[0me\u001b[0m\u001b[0;34m:\u001b[0m\u001b[0;34m\u001b[0m\u001b[0;34m\u001b[0m\u001b[0m\n",
      "\u001b[0m\n"
     ]
    }
   ],
   "source": [
    "@contextmanager\n",
    "def context_debug_on_ex(cbs, **kwargs):\n",
    "    try:\n",
    "        print('before context manager')\n",
    "        chain = iter(cbs)\n",
    "        gen = next(chain)(chain, **kwargs)\n",
    "        yield from gen\n",
    "        print('after context manager')\n",
    "    except Exception as e:\n",
    "        print('exception in context manager')\n",
    "        import pdb; pdb.post_mortem()\n",
    "\n",
    "with context_debug_on_ex(cbs=cbs):\n",
    "    print('with statement')\n",
    "    1/0"
   ]
  },
  {
   "cell_type": "markdown",
   "id": "f0ee0a1a",
   "metadata": {},
   "source": [
    "### Implementation"
   ]
  },
  {
   "cell_type": "code",
   "execution_count": null,
   "id": "03007558",
   "metadata": {},
   "outputs": [],
   "source": [
    "import typing\n",
    "import dataclasses"
   ]
  },
  {
   "cell_type": "code",
   "execution_count": null,
   "id": "e284f888",
   "metadata": {},
   "outputs": [],
   "source": [
    "def last_in_a_chain(*args, **kwargs):\n",
    "    yield None\n",
    "class Callback2():\n",
    "    order = 0\n",
    "@dataclasses.dataclass\n",
    "class DeviceCB2(Callback2):\n",
    "    device: str|torch.device = def_device\n",
    "    def fit(self, chain, learn, l): \n",
    "        learn.model.to(self.device)\n",
    "        yield from next(chain)(chain, learn, l)\n",
    "    \n",
    "    def batch(self, chain, learn, l): \n",
    "        l.batch = to_device(l.batch, device=self.device)\n",
    "        yield from next(chain)(chain, learn, l) # try to remove this for nice error but only on first callback :("
   ]
  },
  {
   "cell_type": "code",
   "execution_count": null,
   "id": "f46f9583",
   "metadata": {},
   "outputs": [
    {
     "data": {
      "text/plain": [
       "False"
      ]
     },
     "execution_count": null,
     "metadata": {},
     "output_type": "execute_result"
    }
   ],
   "source": [
    "class StateDict(dict):\n",
    "    def __getattr__(self, k): # hasattr works\n",
    "        try: return self[k] \n",
    "        except: raise AttributeError(k)\n",
    "    def __setattr__(self, k: str, v: typing.Any) -> None:\n",
    "        self[k]=v\n",
    "hasattr(StateDict(), 'a')"
   ]
  },
  {
   "cell_type": "code",
   "execution_count": null,
   "id": "9258521c",
   "metadata": {},
   "outputs": [],
   "source": [
    "@dataclasses.dataclass\n",
    "class Learner:\n",
    "    model: nn.Module\n",
    "    dls: DataLoaders\n",
    "    loss_func: typing.Callable\n",
    "    lr: float|torch.Tensor\n",
    "    cbs: typing.List[Callback2]\n",
    "    opt_func: typing.Callable = optim.SGD\n",
    "    l: StateDict = dataclasses.field(default_factory=StateDict)\n",
    "    def __post_init__(self):\n",
    "        self.cbs = sorted(self.cbs, key=attrgetter('order'))\n",
    "    \n",
    "    @contextmanager\n",
    "    def callback_ctx(self, nm):\n",
    "        cbs = []\n",
    "        try:\n",
    "            chain = iter([getattr(cb,nm) for cb in self.cbs if hasattr(cb, nm)] + [last_in_a_chain])\n",
    "            n = next(chain)\n",
    "            gen = n(chain=chain, learn=self, l=self.l)\n",
    "            assert gen is not None, f'Your callback {n} need to have `yield from self.next(chain, learn, l)`'\n",
    "            yield from gen\n",
    "        except globals()[f'Cancel{nm.title()}Exception']: pass\n",
    "        except Exception as e:\n",
    "            if e.__traceback__.tb_next is None: raise\n",
    "            gen.throw(RuntimeError, e, e.__traceback__) # To make the exception appear in chain of callbacks\n",
    "        finally: \n",
    "            #list(gen)\n",
    "            ...\n",
    "\n",
    "    def one_epoch(self, train):\n",
    "        self.model.train(train)\n",
    "        self.l.dl = self.dls.train if train else self.dls.valid\n",
    "        with self.callback_ctx('epoch'):\n",
    "            for self.l.iter,self.l.batch in enumerate(self.l.dl):\n",
    "                with self.callback_ctx('batch'):\n",
    "                    self.predict()\n",
    "                    self.get_loss()\n",
    "                    if self.model.training:\n",
    "                        self.backward()\n",
    "                        self.step()\n",
    "                        self.zero_grad()\n",
    "    \n",
    "    def fit(self, n_epochs):\n",
    "        self.l.n_epochs = n_epochs\n",
    "        self.l.epochs = range(n_epochs)\n",
    "        self.l.opt = self.opt_func(self.model.parameters(), self.lr)\n",
    "        with self.callback_ctx('fit'):\n",
    "            for self.l.epoch in self.l.epochs:\n",
    "                self.one_epoch(True)\n",
    "                with torch.no_grad(): self.one_epoch(False)\n",
    "\n",
    "    def predict(self): self.l.preds = self.model(self.l.batch[0])\n",
    "    def get_loss(self): self.l.loss = self.loss_func(self.l.preds, self.l.batch[1])\n",
    "    def backward(self): self.l.loss.backward()\n",
    "    def step(self): self.l.opt.step()\n",
    "    def zero_grad(self): self.l.opt.zero_grad()\n",
    "\n",
    "    def reset(self): self.l.clear()"
   ]
  },
  {
   "cell_type": "code",
   "execution_count": null,
   "id": "b4fcc264",
   "metadata": {},
   "outputs": [],
   "source": [
    "cbs = [DeviceCB2('mps')]\n",
    "learn = Learner(get_model(), dls, F.cross_entropy, lr=0.2, cbs=cbs)\n",
    "learn.fit(1)"
   ]
  },
  {
   "cell_type": "code",
   "execution_count": null,
   "id": "06d35f4b",
   "metadata": {},
   "outputs": [],
   "source": []
  },
  {
   "cell_type": "code",
   "execution_count": null,
   "id": "23ad8f90",
   "metadata": {},
   "outputs": [],
   "source": [
    "# Shorter callback system with inheritance"
   ]
  },
  {
   "cell_type": "code",
   "execution_count": null,
   "id": "b1d23e9a",
   "metadata": {},
   "outputs": [],
   "source": [
    "def cb_safeguard(f, name):\n",
    "    def _inner(*args, **kwargs):\n",
    "        gen = f(*args, **kwargs)\n",
    "        assert gen is not None, f'Your callback {f} need to `yield from super().{name}(learn, l)`'\n",
    "        return gen\n",
    "    return _inner\n",
    "\n",
    "class CBChainEnd():\n",
    "    def end(self, learn, l): yield None\n",
    "    def __getattr__(self, name): return self.end\n",
    "    \n",
    "class CallbackS():\n",
    "    order = 0\n",
    "    next:'CallbackS' = CBChainEnd()\n",
    "    def fit(self, learn, l): yield from cb_safeguard(self.next.fit, 'fit')(learn, l)\n",
    "    def epoch(self, learn, l): yield from cb_safeguard(self.next.epoch, 'epoch')(learn, l)\n",
    "    def batch(self, learn, l): yield from cb_safeguard(self.next.batch, 'batch')(learn, l)\n",
    "    \n",
    "class CallbackChain(CallbackS):\n",
    "    def __init__(self, cbs):\n",
    "        cbs = sorted(cbs, key=attrgetter('order'))\n",
    "        n = CBChainEnd()\n",
    "        for cb in cbs: \n",
    "            cb.next = n\n",
    "            n = cb\n",
    "        self.next = n"
   ]
  },
  {
   "cell_type": "code",
   "execution_count": null,
   "id": "9ddaca18",
   "metadata": {},
   "outputs": [
    {
     "name": "stdout",
     "output_type": "stream",
     "text": [
      "do some action and don't yield\n",
      "Your callback <bound method BrokenCallback.fit of <__main__.BrokenCallback object>> need to `yield from super().fit(learn, l)`\n"
     ]
    }
   ],
   "source": [
    "class BrokenCallback(CallbackS):\n",
    "    def fit(self, learn, l): \n",
    "        print(\"do some action and don't yield\")\n",
    "cb = CallbackChain([BrokenCallback()])\n",
    "try: list(cb.fit(None, None))\n",
    "except AssertionError as e: print(e)"
   ]
  },
  {
   "cell_type": "code",
   "execution_count": null,
   "id": "954ae5d8",
   "metadata": {},
   "outputs": [],
   "source": [
    "@dataclasses.dataclass\n",
    "class DeviceCB2(CallbackS):\n",
    "    device: str|torch.device = def_device\n",
    "    def fit(self, learn, l): \n",
    "        learn.model.to(self.device)\n",
    "        yield from super().fit(learn, l)\n",
    "    \n",
    "    def batch(self, learn, l): \n",
    "        l.batch = to_device(l.batch, device=self.device)\n",
    "        # test what happens if we don't yield in the middle of a chain\n",
    "        yield from super().batch(learn, l)"
   ]
  },
  {
   "cell_type": "code",
   "execution_count": null,
   "id": "e85bd378",
   "metadata": {},
   "outputs": [
    {
     "data": {
      "text/plain": [
       "[None]"
      ]
     },
     "execution_count": null,
     "metadata": {},
     "output_type": "execute_result"
    }
   ],
   "source": [
    "list(DeviceCB2('mps').fit(learn, None))"
   ]
  },
  {
   "cell_type": "code",
   "execution_count": null,
   "id": "ecf2123a",
   "metadata": {},
   "outputs": [],
   "source": [
    "@dataclasses.dataclass\n",
    "class Learner:\n",
    "    model: nn.Module\n",
    "    dls: DataLoaders\n",
    "    loss_func: typing.Callable\n",
    "    lr: float|torch.Tensor\n",
    "    cbs: typing.List[CallbackS]\n",
    "    opt_func: typing.Callable = optim.SGD\n",
    "    l: StateDict = dataclasses.field(default_factory=StateDict)\n",
    "    def __post_init__(self):\n",
    "        self.entry = CallbackChain(self.cbs)\n",
    "\n",
    "    @contextmanager\n",
    "    def callback_ctx(self, nm):\n",
    "        cbs = []\n",
    "        try:\n",
    "            gen = getattr(self.entry, nm)(learn=self, l=self.l)\n",
    "            yield from gen\n",
    "        except globals()[f'Cancel{nm.title()}Exception']: list(gen) # do the after callbacks\n",
    "        except Exception as e:\n",
    "            if e.__traceback__.tb_next is None: raise\n",
    "            gen.throw(RuntimeError, e, e.__traceback__) # To make the exception appear in chain of callbacks\n",
    "\n",
    "    def one_epoch(self, train):\n",
    "        self.model.train(train)\n",
    "        self.l.dl = self.dls.train if train else self.dls.valid\n",
    "        with self.callback_ctx('epoch'):\n",
    "            for self.l.iter,self.l.batch in enumerate(self.l.dl):\n",
    "                with self.callback_ctx('batch'):\n",
    "                    self.predict()\n",
    "                    self.get_loss()\n",
    "                    if self.model.training:\n",
    "                        self.backward()\n",
    "                        self.step()\n",
    "                        self.zero_grad()\n",
    "    \n",
    "    def fit(self, n_epochs):\n",
    "        self.l.n_epochs = n_epochs\n",
    "        self.l.epochs = range(n_epochs)\n",
    "        self.l.opt = self.opt_func(self.model.parameters(), self.lr)\n",
    "        with self.callback_ctx('fit'):\n",
    "            for self.l.epoch in self.l.epochs:\n",
    "                self.one_epoch(True)\n",
    "                with torch.no_grad(): self.one_epoch(False)\n",
    "\n",
    "    def predict(self): self.l.preds = self.model(self.l.batch[0])\n",
    "    def get_loss(self): self.l.loss = self.loss_func(self.l.preds, self.l.batch[1])\n",
    "    def backward(self): self.l.loss.backward()\n",
    "    def step(self): self.l.opt.step()\n",
    "    def zero_grad(self): self.l.opt.zero_grad()\n",
    "\n",
    "    def reset(self): self.l.clear()"
   ]
  },
  {
   "cell_type": "code",
   "execution_count": null,
   "id": "d66bea21",
   "metadata": {},
   "outputs": [],
   "source": [
    "cbs = [DeviceCB2('mps')]\n",
    "learn = Learner(get_model(), dls, F.cross_entropy, lr=0.2, cbs=cbs)\n",
    "learn.fit(1)"
   ]
  },
  {
   "cell_type": "code",
   "execution_count": null,
   "id": "c351b1d9",
   "metadata": {},
   "outputs": [],
   "source": [
    "class MetricsCB2(CallbackS):\n",
    "    def __init__(self, *ms, **metrics):\n",
    "        for o in ms: metrics[type(o).__name__] = o\n",
    "        self.metrics = metrics\n",
    "        self.all_metrics = copy(metrics)\n",
    "        self.all_metrics['loss'] = self.loss = Mean()\n",
    "\n",
    "    def _log(self, d): print(d)\n",
    "    def fit(self, learn, l):\n",
    "        l.metrics = self\n",
    "        yield from super().fit(learn, l)\n",
    "    \n",
    "    def epoch(self, learn, l): \n",
    "        for o in self.all_metrics.values(): o.reset() \n",
    "        yield from super().epoch(learn, l)\n",
    "        log = {k:f'{v.compute():.3f}' for k,v in self.all_metrics.items()}\n",
    "        log['epoch'] = l.epoch\n",
    "        log['train'] = learn.model.training\n",
    "        self._log(log)\n",
    "\n",
    "    def batch(self, learn, l):\n",
    "        yield from super().batch(learn, l)\n",
    "        if not hasattr(l, 'preds'): return\n",
    "        x,y = to_cpu(l.batch)\n",
    "        for m in self.metrics.values(): m.update(to_cpu(l.preds), y)\n",
    "        self.loss.update(to_cpu(l.loss), weight=len(x))"
   ]
  },
  {
   "cell_type": "code",
   "execution_count": null,
   "id": "ee43512e",
   "metadata": {},
   "outputs": [
    {
     "name": "stdout",
     "output_type": "stream",
     "text": [
      "{'accuracy': '0.606', 'loss': '1.163', 'epoch': 0, 'train': True}\n",
      "{'accuracy': '0.704', 'loss': '0.801', 'epoch': 0, 'train': False}\n"
     ]
    }
   ],
   "source": [
    "metrics = MetricsCB2(accuracy=MulticlassAccuracy())\n",
    "cbs = [DeviceCB2(), metrics]\n",
    "learn = Learner(get_model(), dls, F.cross_entropy, lr=0.2, cbs=cbs)\n",
    "learn.fit(1)"
   ]
  },
  {
   "cell_type": "code",
   "execution_count": null,
   "id": "583ce114",
   "metadata": {},
   "outputs": [],
   "source": [
    "class CompletionCB(CallbackS):\n",
    "    def fit(self, *_):\n",
    "        self.count = 0\n",
    "        yield from super().fit(*_)\n",
    "        print(f'Completed {self.count} batches')\n",
    "    def batch(self, *_): \n",
    "        yield from super().batch(*_)\n",
    "        self.count += 1"
   ]
  },
  {
   "cell_type": "code",
   "execution_count": null,
   "id": "0766af29",
   "metadata": {},
   "outputs": [
    {
     "name": "stdout",
     "output_type": "stream",
     "text": [
      "Completed 3 batches\n"
     ]
    }
   ],
   "source": [
    "cb = CompletionCB()\n",
    "fitcb = cb.fit(None, None)\n",
    "next(fitcb) # run the before\n",
    "list(cb.batch(None,None)) # run the batch after and before\n",
    "list(cb.batch(None,None)) # run the batch after and before\n",
    "list(cb.batch(None,None)) # run the batch after and before\n",
    "list(fitcb); # run the rest of fit callback (after_fit)"
   ]
  },
  {
   "cell_type": "code",
   "execution_count": null,
   "id": "e9537f9f",
   "metadata": {},
   "outputs": [],
   "source": [
    "#|export\n",
    "@dataclasses.dataclass\n",
    "class ProgressCB2(CallbackS):\n",
    "    order = MetricsCB2.order+1\n",
    "    plot: bool = False\n",
    "    def fit(self, learn, l):\n",
    "        l.epochs = self.mbar = master_bar(l.epochs)\n",
    "        if hasattr(l, 'metrics'): l.metrics._log = self._log\n",
    "        self.losses = []\n",
    "        yield from super().fit(learn, l)\n",
    "    def _log(self, d): self.mbar.write(str(d))\n",
    "    def epoch(self, learn, l): \n",
    "        l.dl = progress_bar(l.dl, leave=False, parent=self.mbar)\n",
    "        yield from super().epoch(learn, l)\n",
    "    def batch(self, learn, l):\n",
    "        yield from super().batch(learn, l)\n",
    "        if not hasattr(l, 'loss'): return\n",
    "        l.dl.comment = f'{l.loss:.3f}'\n",
    "        if self.plot and hasattr(l, 'metrics') and learn.model.training:\n",
    "            self.losses.append(l.loss.item())\n",
    "            self.mbar.update_graph([[fc.L.range(self.losses), self.losses]])"
   ]
  },
  {
   "cell_type": "code",
   "execution_count": null,
   "id": "f6b3237d",
   "metadata": {},
   "outputs": [
    {
     "data": {
      "text/html": [
       "\n",
       "<style>\n",
       "    /* Turns off some styling */\n",
       "    progress {\n",
       "        /* gets rid of default border in Firefox and Opera. */\n",
       "        border: none;\n",
       "        /* Needs to be in here for Safari polyfill so background images work as expected. */\n",
       "        background-size: auto;\n",
       "    }\n",
       "    progress:not([value]), progress:not([value])::-webkit-progress-bar {\n",
       "        background: repeating-linear-gradient(45deg, #7e7e7e, #7e7e7e 10px, #5c5c5c 10px, #5c5c5c 20px);\n",
       "    }\n",
       "    .progress-bar-interrupted, .progress-bar-interrupted::-webkit-progress-bar {\n",
       "        background: #F44336;\n",
       "    }\n",
       "</style>\n"
      ],
      "text/plain": [
       "<IPython.core.display.HTML object>"
      ]
     },
     "metadata": {},
     "output_type": "display_data"
    },
    {
     "data": {
      "text/html": [],
      "text/plain": [
       "<IPython.core.display.HTML object>"
      ]
     },
     "metadata": {},
     "output_type": "display_data"
    },
    {
     "data": {
      "image/png": "[encoded data removed]",
      "text/plain": [
       "<Figure size 600x400 with 1 Axes>"
      ]
     },
     "metadata": {},
     "output_type": "display_data"
    },
    {
     "name": "stdout",
     "output_type": "stream",
     "text": [
      "{'accuracy': '0.612', 'loss': '1.173', 'epoch': 0, 'train': True}\n",
      "{'accuracy': '0.695', 'loss': '0.878', 'epoch': 0, 'train': False}\n"
     ]
    }
   ],
   "source": [
    "metrics = MetricsCB2(accuracy=MulticlassAccuracy())\n",
    "cbs = [DeviceCB2(), metrics, ProgressCB2(plot=True)]\n",
    "learn = Learner(get_model(), dls, F.cross_entropy, lr=0.2, cbs=cbs)\n",
    "learn.fit(1)"
   ]
  },
  {
   "attachments": {},
   "cell_type": "markdown",
   "id": "2c996b3d",
   "metadata": {},
   "source": [
    "# Callbacks as inheritance , learner as dataclass"
   ]
  },
  {
   "cell_type": "code",
   "execution_count": null,
   "id": "64327c24",
   "metadata": {},
   "outputs": [],
   "source": []
  },
  {
   "cell_type": "code",
   "execution_count": null,
   "id": "83c681f4",
   "metadata": {},
   "outputs": [],
   "source": []
  },
  {
   "cell_type": "code",
   "execution_count": null,
   "id": "2f45b47f",
   "metadata": {},
   "outputs": [
    {
     "name": "stdout",
     "output_type": "stream",
     "text": [
      "before_fit todevice ['todevice']\n",
      "before_fit progress ['todevice', 'progress']\n",
      "before_fit metrics ['todevice', 'progress', 'metrics']\n",
      "fit base ['todevice', 'progress', 'metrics']\n",
      "after_fit metrics ['todevice', 'progress', 'metrics']\n",
      "after_fit progress ['todevice', 'progress']\n",
      "after_fit todevice ['todevice']\n"
     ]
    }
   ],
   "source": [
    "class LoopTst:\n",
    "    val=[]\n",
    "    def fit(self, throw=False):\n",
    "        print('fit base', self.val)\n",
    "        if throw: raise Exception('test')\n",
    "\n",
    "class ToDeviceLoop(LoopTst):\n",
    "    def fit(self, **kw):\n",
    "        self.val += ['todevice'];\n",
    "        print('before_fit todevice', self.val)\n",
    "        super().fit(**kw)\n",
    "        print('after_fit todevice', self.val)\n",
    "        self.val.remove('todevice')\n",
    "        \n",
    "class MetricsLoop(LoopTst):\n",
    "     def fit(self, **kw):\n",
    "        self.val += ['metrics'];\n",
    "        print('before_fit metrics', self.val)\n",
    "        super().fit(**kw)\n",
    "        print('after_fit metrics', self.val)\n",
    "        self.val.remove('metrics')\n",
    "\n",
    "class Progress(MetricsLoop):\n",
    "    def fit(self, **kw):\n",
    "        self.val += ['progress'];\n",
    "        print('before_fit progress', self.val)\n",
    "        super().fit(**kw)\n",
    "        print('after_fit progress', self.val)\n",
    "        self.val.remove('progress')\n",
    "\n",
    "class CompletionCB(Callback):\n",
    "    def fit(self, **kw):\n",
    "        self.val += ['completion'];\n",
    "        print('before_fit progress', self.val)\n",
    "        super().fit(**kw)\n",
    "        print('after_fit progress', self.val)\n",
    "        self.val.remove('completion')\n",
    "\n",
    "class ExLoop(ToDeviceLoop, Progress, MetricsLoop, LoopTst):\n",
    "    pass\n",
    "\n",
    "ExLoop().fit()"
   ]
  },
  {
   "cell_type": "code",
   "execution_count": null,
   "id": "48c4550f",
   "metadata": {},
   "outputs": [
    {
     "name": "stdout",
     "output_type": "stream",
     "text": [
      "before_fit todevice ['todevice']\n",
      "before_fit progress ['todevice', 'progress']\n",
      "before_fit metrics ['todevice', 'progress', 'metrics']\n",
      "fit base ['todevice', 'progress', 'metrics']\n"
     ]
    },
    {
     "ename": "Exception",
     "evalue": "test",
     "output_type": "error",
     "traceback": [
      "\u001b[0;31m---------------------------------------------------------------------------\u001b[0m",
      "\u001b[0;31mException\u001b[0m                                 Traceback (most recent call last)",
      "Cell \u001b[0;32mIn[149], line 1\u001b[0m\n\u001b[0;32m----> 1\u001b[0m ExLoop()\u001b[39m.\u001b[39;49mfit(throw\u001b[39m=\u001b[39;49m\u001b[39mTrue\u001b[39;49;00m)\n",
      "Cell \u001b[0;32mIn[148], line 11\u001b[0m, in \u001b[0;36mToDeviceLoop.fit\u001b[0;34m(self, **kw)\u001b[0m\n\u001b[1;32m      9\u001b[0m \u001b[39mself\u001b[39m\u001b[39m.\u001b[39mval \u001b[39m+\u001b[39m\u001b[39m=\u001b[39m [\u001b[39m'\u001b[39m\u001b[39mtodevice\u001b[39m\u001b[39m'\u001b[39m];\n\u001b[1;32m     10\u001b[0m \u001b[39mprint\u001b[39m(\u001b[39m'\u001b[39m\u001b[39mbefore_fit todevice\u001b[39m\u001b[39m'\u001b[39m, \u001b[39mself\u001b[39m\u001b[39m.\u001b[39mval)\n\u001b[0;32m---> 11\u001b[0m \u001b[39msuper\u001b[39;49m()\u001b[39m.\u001b[39;49mfit(\u001b[39m*\u001b[39;49m\u001b[39m*\u001b[39;49mkw)\n\u001b[1;32m     12\u001b[0m \u001b[39mprint\u001b[39m(\u001b[39m'\u001b[39m\u001b[39mafter_fit todevice\u001b[39m\u001b[39m'\u001b[39m, \u001b[39mself\u001b[39m\u001b[39m.\u001b[39mval)\n\u001b[1;32m     13\u001b[0m \u001b[39mself\u001b[39m\u001b[39m.\u001b[39mval\u001b[39m.\u001b[39mremove(\u001b[39m'\u001b[39m\u001b[39mtodevice\u001b[39m\u001b[39m'\u001b[39m)\n",
      "Cell \u001b[0;32mIn[148], line 27\u001b[0m, in \u001b[0;36mProgress.fit\u001b[0;34m(self, **kw)\u001b[0m\n\u001b[1;32m     25\u001b[0m \u001b[39mself\u001b[39m\u001b[39m.\u001b[39mval \u001b[39m+\u001b[39m\u001b[39m=\u001b[39m [\u001b[39m'\u001b[39m\u001b[39mprogress\u001b[39m\u001b[39m'\u001b[39m];\n\u001b[1;32m     26\u001b[0m \u001b[39mprint\u001b[39m(\u001b[39m'\u001b[39m\u001b[39mbefore_fit progress\u001b[39m\u001b[39m'\u001b[39m, \u001b[39mself\u001b[39m\u001b[39m.\u001b[39mval)\n\u001b[0;32m---> 27\u001b[0m \u001b[39msuper\u001b[39;49m()\u001b[39m.\u001b[39;49mfit(\u001b[39m*\u001b[39;49m\u001b[39m*\u001b[39;49mkw)\n\u001b[1;32m     28\u001b[0m \u001b[39mprint\u001b[39m(\u001b[39m'\u001b[39m\u001b[39mafter_fit progress\u001b[39m\u001b[39m'\u001b[39m, \u001b[39mself\u001b[39m\u001b[39m.\u001b[39mval)\n\u001b[1;32m     29\u001b[0m \u001b[39mself\u001b[39m\u001b[39m.\u001b[39mval\u001b[39m.\u001b[39mremove(\u001b[39m'\u001b[39m\u001b[39mprogress\u001b[39m\u001b[39m'\u001b[39m)\n",
      "Cell \u001b[0;32mIn[148], line 19\u001b[0m, in \u001b[0;36mMetricsLoop.fit\u001b[0;34m(self, **kw)\u001b[0m\n\u001b[1;32m     17\u001b[0m \u001b[39mself\u001b[39m\u001b[39m.\u001b[39mval \u001b[39m+\u001b[39m\u001b[39m=\u001b[39m [\u001b[39m'\u001b[39m\u001b[39mmetrics\u001b[39m\u001b[39m'\u001b[39m];\n\u001b[1;32m     18\u001b[0m \u001b[39mprint\u001b[39m(\u001b[39m'\u001b[39m\u001b[39mbefore_fit metrics\u001b[39m\u001b[39m'\u001b[39m, \u001b[39mself\u001b[39m\u001b[39m.\u001b[39mval)\n\u001b[0;32m---> 19\u001b[0m \u001b[39msuper\u001b[39;49m()\u001b[39m.\u001b[39;49mfit(\u001b[39m*\u001b[39;49m\u001b[39m*\u001b[39;49mkw)\n\u001b[1;32m     20\u001b[0m \u001b[39mprint\u001b[39m(\u001b[39m'\u001b[39m\u001b[39mafter_fit metrics\u001b[39m\u001b[39m'\u001b[39m, \u001b[39mself\u001b[39m\u001b[39m.\u001b[39mval)\n\u001b[1;32m     21\u001b[0m \u001b[39mself\u001b[39m\u001b[39m.\u001b[39mval\u001b[39m.\u001b[39mremove(\u001b[39m'\u001b[39m\u001b[39mmetrics\u001b[39m\u001b[39m'\u001b[39m)\n",
      "Cell \u001b[0;32mIn[148], line 5\u001b[0m, in \u001b[0;36mLoopTst.fit\u001b[0;34m(self, throw)\u001b[0m\n\u001b[1;32m      3\u001b[0m \u001b[39mdef\u001b[39;00m \u001b[39mfit\u001b[39m(\u001b[39mself\u001b[39m, throw\u001b[39m=\u001b[39m\u001b[39mFalse\u001b[39;00m):\n\u001b[1;32m      4\u001b[0m     \u001b[39mprint\u001b[39m(\u001b[39m'\u001b[39m\u001b[39mfit base\u001b[39m\u001b[39m'\u001b[39m, \u001b[39mself\u001b[39m\u001b[39m.\u001b[39mval)\n\u001b[0;32m----> 5\u001b[0m     \u001b[39mif\u001b[39;00m throw: \u001b[39mraise\u001b[39;00m \u001b[39mException\u001b[39;00m(\u001b[39m'\u001b[39m\u001b[39mtest\u001b[39m\u001b[39m'\u001b[39m)\n",
      "\u001b[0;31mException\u001b[0m: test"
     ]
    }
   ],
   "source": [
    "ExLoop().fit(throw=True)"
   ]
  },
  {
   "cell_type": "code",
   "execution_count": null,
   "id": "81177f81",
   "metadata": {},
   "outputs": [],
   "source": [
    "## How to make such type dynamically?"
   ]
  },
  {
   "cell_type": "code",
   "execution_count": null,
   "id": "5b1e7d02",
   "metadata": {},
   "outputs": [
    {
     "name": "stdout",
     "output_type": "stream",
     "text": [
      "before_fit todevice ['todevice', 'progress', 'metrics', 'todevice']\n",
      "before_fit progress ['todevice', 'progress', 'metrics', 'todevice', 'progress']\n",
      "before_fit metrics ['todevice', 'progress', 'metrics', 'todevice', 'progress', 'metrics']\n",
      "fit base ['todevice', 'progress', 'metrics', 'todevice', 'progress', 'metrics']\n",
      "after_fit metrics ['todevice', 'progress', 'metrics', 'todevice', 'progress', 'metrics']\n",
      "after_fit progress ['todevice', 'progress', 'todevice', 'progress', 'metrics']\n",
      "after_fit todevice ['todevice', 'todevice', 'progress', 'metrics']\n"
     ]
    }
   ],
   "source": [
    "ExLoop2 = type('exloop', (ToDeviceLoop, Progress), {})\n",
    "ExLoop2().fit()"
   ]
  },
  {
   "attachments": {},
   "cell_type": "markdown",
   "id": "755ad291",
   "metadata": {},
   "source": [
    "The prons of mutliple inheritance are:\n",
    "- uses standard python so it is easy for linters to figure out what is going on,\n",
    "- is easy to detect lack od `super().call('xxx')` as it is visually distinct,\n",
    "- one can depend on other callbacks so that they are included automatically, in correct order. \n",
    "- linters will tell you if your base class lost some members you depended upon\n",
    "\n",
    "The cons are:\n",
    "- Multiple inheritance is hard, \n",
    "- if you provide list of Callbacks in wrong order you will get an error eg: (MetricsLoop, Progress) vs (Progress, MetricsLoop)  \n",
    "- Parameters are shared and can clash, [@dataclasses does not help]"
   ]
  },
  {
   "cell_type": "code",
   "execution_count": null,
   "id": "72655e29",
   "metadata": {},
   "outputs": [
    {
     "data": {
      "text/plain": [
       "2"
      ]
     },
     "execution_count": null,
     "metadata": {},
     "output_type": "execute_result"
    }
   ],
   "source": [
    "class BaseLoop:\n",
    "    a: int = 1\n",
    "class SecondLoop(BaseLoop):\n",
    "    b: int = 2\n",
    "class ThirdLoop(BaseLoop):\n",
    "    b: str = 'test'\n",
    "    \n",
    "t = type('exloop', (SecondLoop, ThirdLoop), {})\n",
    "t().b"
   ]
  },
  {
   "cell_type": "code",
   "execution_count": null,
   "id": "871319a5",
   "metadata": {},
   "outputs": [
    {
     "data": {
      "text/plain": [
       "exloop(a=1, b=2)"
      ]
     },
     "execution_count": null,
     "metadata": {},
     "output_type": "execute_result"
    }
   ],
   "source": [
    "@dataclass\n",
    "class BaseLoop:\n",
    "    a: int = 1\n",
    "@dataclass\n",
    "class SecondLoop(BaseLoop):\n",
    "    b: int = 2\n",
    "@dataclass\n",
    "class ThirdLoop(BaseLoop):\n",
    "    b: str = 'test'\n",
    "    \n",
    "t = dataclass(type('exloop', (SecondLoop, ThirdLoop), {}))\n",
    "t()"
   ]
  },
  {
   "cell_type": "code",
   "execution_count": null,
   "id": "ec81e6fd",
   "metadata": {},
   "outputs": [],
   "source": [
    "# Alternative approach to achieve similar stacktrace is use a chain of callbacks\n",
    "\n"
   ]
  },
  {
   "cell_type": "code",
   "execution_count": null,
   "id": "b5c4d073",
   "metadata": {},
   "outputs": [
    {
     "name": "stdout",
     "output_type": "stream",
     "text": [
      "before_fit todevice\n",
      "before_fit progress\n",
      "before_fit metrics\n",
      "fit base []\n",
      "before batch progress\n",
      "batch base []\n",
      "after batch progress\n",
      "after_fit metrics\n",
      "after_fit progress\n",
      "after_fit todevice\n"
     ]
    }
   ],
   "source": [
    "class LoopBase:\n",
    "    cbs_chain: typing.Union['CBChain','LoopBase']\n",
    "    def batch(self, batch_throw=False, **kw):\n",
    "        print('batch base')\n",
    "        if batch_throw: raise Exception('test')\n",
    "        \n",
    "    def fit(self, throw=False, **kw):\n",
    "        print('fit base')\n",
    "        if throw: raise Exception('test')\n",
    "        self.cbs_chain.batch(**kw)\n",
    "        \n",
    "class CBChain():\n",
    "    next:'CBChain'\n",
    "    @classmethod\n",
    "    def with_next(cls, next) -> 'CBChain': \n",
    "        self = cls()\n",
    "        self.next = next\n",
    "        return self\n",
    "    def batch(self, **kw):\n",
    "        self.next.batch(**kw)\n",
    "    \n",
    "    def fit(self, **kw):\n",
    "        self.next.fit(**kw)\n",
    "\n",
    "class ToDeviceLoop(CBChain):\n",
    "    def fit(self, **kw):\n",
    "        print('before_fit todevice')\n",
    "        super().fit(**kw)\n",
    "        print('after_fit todevice')\n",
    "        \n",
    "class MetricsLoop(CBChain):\n",
    "     def fit(self, **kw):\n",
    "        print('before_fit metrics')\n",
    "        super().fit(**kw)\n",
    "        print('after_fit metrics')\n",
    "\n",
    "class Progress(CBChain):\n",
    "    def batch(self, **kw):\n",
    "        print('before batch progress')\n",
    "        try:\n",
    "            return super().batch(**kw)\n",
    "        finally:\n",
    "            print('after batch progress')\n",
    "    def fit(self, **kw):\n",
    "        print('before_fit progress')\n",
    "        super().fit(**kw)\n",
    "        print('after_fit progress')\n",
    "\n",
    "class CompletionCB(CBChain):\n",
    "    def fit(self, **kw):\n",
    "        print('before_fit progress')\n",
    "        super().fit(**kw)\n",
    "        print('after_fit progress')\n",
    "\n",
    "\n",
    "def build(*callbacks):\n",
    "    # for simplicty assuming the last callback\n",
    "    n = base = LoopBase()\n",
    "    for c in reversed(callbacks):\n",
    "        c.next = n\n",
    "        n = c\n",
    "    base.cbs_chain = CBChain.with_next(n)\n",
    "    return base.cbs_chain \n",
    "\n",
    "loop = build(ToDeviceLoop(), Progress(), MetricsLoop())\n",
    "loop.fit()"
   ]
  },
  {
   "cell_type": "code",
   "execution_count": null,
   "id": "55b7820a",
   "metadata": {},
   "outputs": [
    {
     "name": "stdout",
     "output_type": "stream",
     "text": [
      "before_fit todevice\n",
      "before_fit progress\n",
      "before_fit metrics\n",
      "fit base []\n",
      "before batch progress\n",
      "batch base []\n",
      "after batch progress\n"
     ]
    },
    {
     "ename": "Exception",
     "evalue": "test",
     "output_type": "error",
     "traceback": [
      "\u001b[0;31m---------------------------------------------------------------------------\u001b[0m",
      "\u001b[0;31mException\u001b[0m                                 Traceback (most recent call last)",
      "Cell \u001b[0;32mIn[184], line 1\u001b[0m\n\u001b[0;32m----> 1\u001b[0m loop\u001b[39m.\u001b[39;49mfit(batch_throw\u001b[39m=\u001b[39;49m\u001b[39mTrue\u001b[39;49;00m)\n",
      "Cell \u001b[0;32mIn[183], line 25\u001b[0m, in \u001b[0;36mCBChain.fit\u001b[0;34m(self, **kw)\u001b[0m\n\u001b[1;32m     24\u001b[0m \u001b[39mdef\u001b[39;00m \u001b[39mfit\u001b[39m(\u001b[39mself\u001b[39m, \u001b[39m*\u001b[39m\u001b[39m*\u001b[39mkw):\n\u001b[0;32m---> 25\u001b[0m     \u001b[39mself\u001b[39;49m\u001b[39m.\u001b[39;49mnext\u001b[39m.\u001b[39;49mfit(\u001b[39m*\u001b[39;49m\u001b[39m*\u001b[39;49mkw)\n",
      "Cell \u001b[0;32mIn[183], line 30\u001b[0m, in \u001b[0;36mToDeviceLoop.fit\u001b[0;34m(self, **kw)\u001b[0m\n\u001b[1;32m     28\u001b[0m \u001b[39mdef\u001b[39;00m \u001b[39mfit\u001b[39m(\u001b[39mself\u001b[39m, \u001b[39m*\u001b[39m\u001b[39m*\u001b[39mkw):\n\u001b[1;32m     29\u001b[0m     \u001b[39mprint\u001b[39m(\u001b[39m'\u001b[39m\u001b[39mbefore_fit todevice\u001b[39m\u001b[39m'\u001b[39m)\n\u001b[0;32m---> 30\u001b[0m     \u001b[39msuper\u001b[39;49m()\u001b[39m.\u001b[39;49mfit(\u001b[39m*\u001b[39;49m\u001b[39m*\u001b[39;49mkw)\n\u001b[1;32m     31\u001b[0m     \u001b[39mprint\u001b[39m(\u001b[39m'\u001b[39m\u001b[39mafter_fit todevice\u001b[39m\u001b[39m'\u001b[39m)\n",
      "Cell \u001b[0;32mIn[183], line 25\u001b[0m, in \u001b[0;36mCBChain.fit\u001b[0;34m(self, **kw)\u001b[0m\n\u001b[1;32m     24\u001b[0m \u001b[39mdef\u001b[39;00m \u001b[39mfit\u001b[39m(\u001b[39mself\u001b[39m, \u001b[39m*\u001b[39m\u001b[39m*\u001b[39mkw):\n\u001b[0;32m---> 25\u001b[0m     \u001b[39mself\u001b[39;49m\u001b[39m.\u001b[39;49mnext\u001b[39m.\u001b[39;49mfit(\u001b[39m*\u001b[39;49m\u001b[39m*\u001b[39;49mkw)\n",
      "Cell \u001b[0;32mIn[183], line 49\u001b[0m, in \u001b[0;36mProgress.fit\u001b[0;34m(self, **kw)\u001b[0m\n\u001b[1;32m     47\u001b[0m \u001b[39mdef\u001b[39;00m \u001b[39mfit\u001b[39m(\u001b[39mself\u001b[39m, \u001b[39m*\u001b[39m\u001b[39m*\u001b[39mkw):\n\u001b[1;32m     48\u001b[0m     \u001b[39mprint\u001b[39m(\u001b[39m'\u001b[39m\u001b[39mbefore_fit progress\u001b[39m\u001b[39m'\u001b[39m)\n\u001b[0;32m---> 49\u001b[0m     \u001b[39msuper\u001b[39;49m()\u001b[39m.\u001b[39;49mfit(\u001b[39m*\u001b[39;49m\u001b[39m*\u001b[39;49mkw)\n\u001b[1;32m     50\u001b[0m     \u001b[39mprint\u001b[39m(\u001b[39m'\u001b[39m\u001b[39mafter_fit progress\u001b[39m\u001b[39m'\u001b[39m)\n",
      "Cell \u001b[0;32mIn[183], line 25\u001b[0m, in \u001b[0;36mCBChain.fit\u001b[0;34m(self, **kw)\u001b[0m\n\u001b[1;32m     24\u001b[0m \u001b[39mdef\u001b[39;00m \u001b[39mfit\u001b[39m(\u001b[39mself\u001b[39m, \u001b[39m*\u001b[39m\u001b[39m*\u001b[39mkw):\n\u001b[0;32m---> 25\u001b[0m     \u001b[39mself\u001b[39;49m\u001b[39m.\u001b[39;49mnext\u001b[39m.\u001b[39;49mfit(\u001b[39m*\u001b[39;49m\u001b[39m*\u001b[39;49mkw)\n",
      "Cell \u001b[0;32mIn[183], line 36\u001b[0m, in \u001b[0;36mMetricsLoop.fit\u001b[0;34m(self, **kw)\u001b[0m\n\u001b[1;32m     34\u001b[0m \u001b[39mdef\u001b[39;00m \u001b[39mfit\u001b[39m(\u001b[39mself\u001b[39m, \u001b[39m*\u001b[39m\u001b[39m*\u001b[39mkw):\n\u001b[1;32m     35\u001b[0m    \u001b[39mprint\u001b[39m(\u001b[39m'\u001b[39m\u001b[39mbefore_fit metrics\u001b[39m\u001b[39m'\u001b[39m)\n\u001b[0;32m---> 36\u001b[0m    \u001b[39msuper\u001b[39;49m()\u001b[39m.\u001b[39;49mfit(\u001b[39m*\u001b[39;49m\u001b[39m*\u001b[39;49mkw)\n\u001b[1;32m     37\u001b[0m    \u001b[39mprint\u001b[39m(\u001b[39m'\u001b[39m\u001b[39mafter_fit metrics\u001b[39m\u001b[39m'\u001b[39m)\n",
      "Cell \u001b[0;32mIn[183], line 25\u001b[0m, in \u001b[0;36mCBChain.fit\u001b[0;34m(self, **kw)\u001b[0m\n\u001b[1;32m     24\u001b[0m \u001b[39mdef\u001b[39;00m \u001b[39mfit\u001b[39m(\u001b[39mself\u001b[39m, \u001b[39m*\u001b[39m\u001b[39m*\u001b[39mkw):\n\u001b[0;32m---> 25\u001b[0m     \u001b[39mself\u001b[39;49m\u001b[39m.\u001b[39;49mnext\u001b[39m.\u001b[39;49mfit(\u001b[39m*\u001b[39;49m\u001b[39m*\u001b[39;49mkw)\n",
      "Cell \u001b[0;32mIn[183], line 11\u001b[0m, in \u001b[0;36mLoopBase.fit\u001b[0;34m(self, throw, **kw)\u001b[0m\n\u001b[1;32m      9\u001b[0m \u001b[39mprint\u001b[39m(\u001b[39m'\u001b[39m\u001b[39mfit base\u001b[39m\u001b[39m'\u001b[39m, \u001b[39mself\u001b[39m\u001b[39m.\u001b[39mval)\n\u001b[1;32m     10\u001b[0m \u001b[39mif\u001b[39;00m throw: \u001b[39mraise\u001b[39;00m \u001b[39mException\u001b[39;00m(\u001b[39m'\u001b[39m\u001b[39mtest\u001b[39m\u001b[39m'\u001b[39m)\n\u001b[0;32m---> 11\u001b[0m \u001b[39mself\u001b[39;49m\u001b[39m.\u001b[39;49mcbs_chain\u001b[39m.\u001b[39;49mbatch(\u001b[39m*\u001b[39;49m\u001b[39m*\u001b[39;49mkw)\n",
      "Cell \u001b[0;32mIn[183], line 22\u001b[0m, in \u001b[0;36mCBChain.batch\u001b[0;34m(self, **kw)\u001b[0m\n\u001b[1;32m     21\u001b[0m \u001b[39mdef\u001b[39;00m \u001b[39mbatch\u001b[39m(\u001b[39mself\u001b[39m, \u001b[39m*\u001b[39m\u001b[39m*\u001b[39mkw):\n\u001b[0;32m---> 22\u001b[0m     \u001b[39mself\u001b[39;49m\u001b[39m.\u001b[39;49mnext\u001b[39m.\u001b[39;49mbatch(\u001b[39m*\u001b[39;49m\u001b[39m*\u001b[39;49mkw)\n",
      "Cell \u001b[0;32mIn[183], line 22\u001b[0m, in \u001b[0;36mCBChain.batch\u001b[0;34m(self, **kw)\u001b[0m\n\u001b[1;32m     21\u001b[0m \u001b[39mdef\u001b[39;00m \u001b[39mbatch\u001b[39m(\u001b[39mself\u001b[39m, \u001b[39m*\u001b[39m\u001b[39m*\u001b[39mkw):\n\u001b[0;32m---> 22\u001b[0m     \u001b[39mself\u001b[39;49m\u001b[39m.\u001b[39;49mnext\u001b[39m.\u001b[39;49mbatch(\u001b[39m*\u001b[39;49m\u001b[39m*\u001b[39;49mkw)\n",
      "Cell \u001b[0;32mIn[183], line 43\u001b[0m, in \u001b[0;36mProgress.batch\u001b[0;34m(self, **kw)\u001b[0m\n\u001b[1;32m     41\u001b[0m \u001b[39mprint\u001b[39m(\u001b[39m'\u001b[39m\u001b[39mbefore batch progress\u001b[39m\u001b[39m'\u001b[39m)\n\u001b[1;32m     42\u001b[0m \u001b[39mtry\u001b[39;00m:\n\u001b[0;32m---> 43\u001b[0m     \u001b[39mreturn\u001b[39;00m \u001b[39msuper\u001b[39;49m()\u001b[39m.\u001b[39;49mbatch(\u001b[39m*\u001b[39;49m\u001b[39m*\u001b[39;49mkw)\n\u001b[1;32m     44\u001b[0m \u001b[39mfinally\u001b[39;00m:\n\u001b[1;32m     45\u001b[0m     \u001b[39mprint\u001b[39m(\u001b[39m'\u001b[39m\u001b[39mafter batch progress\u001b[39m\u001b[39m'\u001b[39m)\n",
      "Cell \u001b[0;32mIn[183], line 22\u001b[0m, in \u001b[0;36mCBChain.batch\u001b[0;34m(self, **kw)\u001b[0m\n\u001b[1;32m     21\u001b[0m \u001b[39mdef\u001b[39;00m \u001b[39mbatch\u001b[39m(\u001b[39mself\u001b[39m, \u001b[39m*\u001b[39m\u001b[39m*\u001b[39mkw):\n\u001b[0;32m---> 22\u001b[0m     \u001b[39mself\u001b[39;49m\u001b[39m.\u001b[39;49mnext\u001b[39m.\u001b[39;49mbatch(\u001b[39m*\u001b[39;49m\u001b[39m*\u001b[39;49mkw)\n",
      "Cell \u001b[0;32mIn[183], line 22\u001b[0m, in \u001b[0;36mCBChain.batch\u001b[0;34m(self, **kw)\u001b[0m\n\u001b[1;32m     21\u001b[0m \u001b[39mdef\u001b[39;00m \u001b[39mbatch\u001b[39m(\u001b[39mself\u001b[39m, \u001b[39m*\u001b[39m\u001b[39m*\u001b[39mkw):\n\u001b[0;32m---> 22\u001b[0m     \u001b[39mself\u001b[39;49m\u001b[39m.\u001b[39;49mnext\u001b[39m.\u001b[39;49mbatch(\u001b[39m*\u001b[39;49m\u001b[39m*\u001b[39;49mkw)\n",
      "Cell \u001b[0;32mIn[183], line 6\u001b[0m, in \u001b[0;36mLoopBase.batch\u001b[0;34m(self, batch_throw, **kw)\u001b[0m\n\u001b[1;32m      4\u001b[0m \u001b[39mdef\u001b[39;00m \u001b[39mbatch\u001b[39m(\u001b[39mself\u001b[39m, batch_throw\u001b[39m=\u001b[39m\u001b[39mFalse\u001b[39;00m, \u001b[39m*\u001b[39m\u001b[39m*\u001b[39mkw):\n\u001b[1;32m      5\u001b[0m     \u001b[39mprint\u001b[39m(\u001b[39m'\u001b[39m\u001b[39mbatch base\u001b[39m\u001b[39m'\u001b[39m, \u001b[39mself\u001b[39m\u001b[39m.\u001b[39mval)\n\u001b[0;32m----> 6\u001b[0m     \u001b[39mif\u001b[39;00m batch_throw: \u001b[39mraise\u001b[39;00m \u001b[39mException\u001b[39;00m(\u001b[39m'\u001b[39m\u001b[39mtest\u001b[39m\u001b[39m'\u001b[39m)\n",
      "\u001b[0;31mException\u001b[0m: test"
     ]
    }
   ],
   "source": [
    "loop.fit(batch_throw=True)"
   ]
  },
  {
   "cell_type": "code",
   "execution_count": null,
   "id": "8d1585ef",
   "metadata": {},
   "outputs": [],
   "source": []
  },
  {
   "cell_type": "code",
   "execution_count": null,
   "id": "878eb0ac",
   "metadata": {},
   "outputs": [
    {
     "ename": "RuntimeError",
     "evalue": "element 0 of tensors does not require grad and does not have a grad_fn",
     "output_type": "error",
     "traceback": [
      "\u001b[0;31m---------------------------------------------------------------------------\u001b[0m",
      "\u001b[0;31mRuntimeError\u001b[0m                              Traceback (most recent call last)",
      "Cell \u001b[0;32mIn[203], line 94\u001b[0m\n\u001b[1;32m     92\u001b[0m cbs \u001b[39m=\u001b[39m [TrainCB(), DeviceCB(), metrics, ProgressCB(plot\u001b[39m=\u001b[39m\u001b[39mTrue\u001b[39;00m)]\n\u001b[1;32m     93\u001b[0m learn \u001b[39m=\u001b[39m Learner\u001b[39m.\u001b[39mnew(model, dls, F\u001b[39m.\u001b[39mcross_entropy, lr\u001b[39m=\u001b[39m\u001b[39m0.2\u001b[39m, cbs\u001b[39m=\u001b[39mcbs)\n\u001b[0;32m---> 94\u001b[0m learn\u001b[39m.\u001b[39;49mfit(\u001b[39m2\u001b[39;49m, lr\u001b[39m=\u001b[39;49m\u001b[39m0.2\u001b[39;49m)\n",
      "Cell \u001b[0;32mIn[203], line 84\u001b[0m, in \u001b[0;36mCallbackWrap.fit\u001b[0;34m(self, n_epochs, lr)\u001b[0m\n\u001b[1;32m     83\u001b[0m \u001b[39mdef\u001b[39;00m \u001b[39mfit\u001b[39m(\u001b[39mself\u001b[39m, n_epochs, lr\u001b[39m=\u001b[39m\u001b[39mNone\u001b[39;00m):\n\u001b[0;32m---> 84\u001b[0m     \u001b[39msuper\u001b[39;49m()\u001b[39m.\u001b[39;49mfit(n_epochs, lr)\n\u001b[1;32m     85\u001b[0m     \u001b[39mself\u001b[39m\u001b[39m.\u001b[39mcallback(\u001b[39m'\u001b[39m\u001b[39mafter_fit\u001b[39m\u001b[39m'\u001b[39m)\n",
      "Cell \u001b[0;32mIn[203], line 48\u001b[0m, in \u001b[0;36mLearner.fit\u001b[0;34m(self, n_epochs, lr)\u001b[0m\n\u001b[1;32m     46\u001b[0m \u001b[39mself\u001b[39m\u001b[39m.\u001b[39mdo_epoch(\u001b[39mTrue\u001b[39;00m)\n\u001b[1;32m     47\u001b[0m \u001b[39mwith\u001b[39;00m torch\u001b[39m.\u001b[39mno_grad(): \n\u001b[0;32m---> 48\u001b[0m     \u001b[39mself\u001b[39;49m\u001b[39m.\u001b[39;49mdo_epoch(\u001b[39mTrue\u001b[39;49;00m)\n",
      "Cell \u001b[0;32mIn[203], line 76\u001b[0m, in \u001b[0;36mCallbackWrap.do_epoch\u001b[0;34m(self, train)\u001b[0m\n\u001b[1;32m     75\u001b[0m \u001b[39mdef\u001b[39;00m \u001b[39mdo_epoch\u001b[39m(\u001b[39mself\u001b[39m, train: \u001b[39mbool\u001b[39m):\n\u001b[0;32m---> 76\u001b[0m     \u001b[39msuper\u001b[39;49m()\u001b[39m.\u001b[39;49mdo_epoch(train)\n\u001b[1;32m     77\u001b[0m     \u001b[39mself\u001b[39m\u001b[39m.\u001b[39mcallback(\u001b[39m'\u001b[39m\u001b[39mafter_epoch\u001b[39m\u001b[39m'\u001b[39m)\n",
      "Cell \u001b[0;32mIn[203], line 36\u001b[0m, in \u001b[0;36mLearner.do_epoch\u001b[0;34m(self, train)\u001b[0m\n\u001b[1;32m     34\u001b[0m \u001b[39mself\u001b[39m\u001b[39m.\u001b[39msetup_epoch(train)\n\u001b[1;32m     35\u001b[0m \u001b[39mfor\u001b[39;00m \u001b[39mself\u001b[39m\u001b[39m.\u001b[39miter,\u001b[39mself\u001b[39m\u001b[39m.\u001b[39mbatch \u001b[39min\u001b[39;00m \u001b[39menumerate\u001b[39m(\u001b[39mself\u001b[39m\u001b[39m.\u001b[39mdata_loader):\n\u001b[0;32m---> 36\u001b[0m     \u001b[39mself\u001b[39;49m\u001b[39m.\u001b[39;49mdo_batch()\n",
      "Cell \u001b[0;32mIn[203], line 68\u001b[0m, in \u001b[0;36mCallbackWrap.do_batch\u001b[0;34m(self)\u001b[0m\n\u001b[1;32m     67\u001b[0m \u001b[39mdef\u001b[39;00m \u001b[39mdo_batch\u001b[39m(\u001b[39mself\u001b[39m):\n\u001b[0;32m---> 68\u001b[0m     \u001b[39msuper\u001b[39;49m()\u001b[39m.\u001b[39;49mdo_batch()\n\u001b[1;32m     69\u001b[0m     \u001b[39mself\u001b[39m\u001b[39m.\u001b[39mcallback(\u001b[39m'\u001b[39m\u001b[39mafter_batch\u001b[39m\u001b[39m'\u001b[39m)\n",
      "Cell \u001b[0;32mIn[203], line 25\u001b[0m, in \u001b[0;36mLearner.do_batch\u001b[0;34m(self)\u001b[0m\n\u001b[1;32m     23\u001b[0m \u001b[39mself\u001b[39m\u001b[39m.\u001b[39mcompute_loss()\n\u001b[1;32m     24\u001b[0m \u001b[39mif\u001b[39;00m \u001b[39mself\u001b[39m\u001b[39m.\u001b[39mmodel\u001b[39m.\u001b[39mtraining:\n\u001b[0;32m---> 25\u001b[0m     \u001b[39mself\u001b[39;49m\u001b[39m.\u001b[39;49mbackward()\n\u001b[1;32m     26\u001b[0m     \u001b[39mself\u001b[39m\u001b[39m.\u001b[39mstep()\n\u001b[1;32m     27\u001b[0m     \u001b[39mself\u001b[39m\u001b[39m.\u001b[39mzero_grad()\n",
      "Cell \u001b[0;32mIn[203], line 52\u001b[0m, in \u001b[0;36mLearner.backward\u001b[0;34m(self)\u001b[0m\n\u001b[0;32m---> 52\u001b[0m \u001b[39mdef\u001b[39;00m \u001b[39mbackward\u001b[39m(\u001b[39mself\u001b[39m): \u001b[39mself\u001b[39;49m\u001b[39m.\u001b[39;49mloss\u001b[39m.\u001b[39;49mbackward()\n",
      "File \u001b[0;32m/opt/homebrew/Caskroom/mambaforge/base/envs/miniai/lib/python3.10/site-packages/torch/_tensor.py:487\u001b[0m, in \u001b[0;36mTensor.backward\u001b[0;34m(self, gradient, retain_graph, create_graph, inputs)\u001b[0m\n\u001b[1;32m    477\u001b[0m \u001b[39mif\u001b[39;00m has_torch_function_unary(\u001b[39mself\u001b[39m):\n\u001b[1;32m    478\u001b[0m     \u001b[39mreturn\u001b[39;00m handle_torch_function(\n\u001b[1;32m    479\u001b[0m         Tensor\u001b[39m.\u001b[39mbackward,\n\u001b[1;32m    480\u001b[0m         (\u001b[39mself\u001b[39m,),\n\u001b[0;32m   (...)\u001b[0m\n\u001b[1;32m    485\u001b[0m         inputs\u001b[39m=\u001b[39minputs,\n\u001b[1;32m    486\u001b[0m     )\n\u001b[0;32m--> 487\u001b[0m torch\u001b[39m.\u001b[39;49mautograd\u001b[39m.\u001b[39;49mbackward(\n\u001b[1;32m    488\u001b[0m     \u001b[39mself\u001b[39;49m, gradient, retain_graph, create_graph, inputs\u001b[39m=\u001b[39;49minputs\n\u001b[1;32m    489\u001b[0m )\n",
      "File \u001b[0;32m/opt/homebrew/Caskroom/mambaforge/base/envs/miniai/lib/python3.10/site-packages/torch/autograd/__init__.py:197\u001b[0m, in \u001b[0;36mbackward\u001b[0;34m(tensors, grad_tensors, retain_graph, create_graph, grad_variables, inputs)\u001b[0m\n\u001b[1;32m    192\u001b[0m     retain_graph \u001b[39m=\u001b[39m create_graph\n\u001b[1;32m    194\u001b[0m \u001b[39m# The reason we repeat same the comment below is that\u001b[39;00m\n\u001b[1;32m    195\u001b[0m \u001b[39m# some Python versions print out the first line of a multi-line function\u001b[39;00m\n\u001b[1;32m    196\u001b[0m \u001b[39m# calls in the traceback and some print out the last line\u001b[39;00m\n\u001b[0;32m--> 197\u001b[0m Variable\u001b[39m.\u001b[39;49m_execution_engine\u001b[39m.\u001b[39;49mrun_backward(  \u001b[39m# Calls into the C++ engine to run the backward pass\u001b[39;49;00m\n\u001b[1;32m    198\u001b[0m     tensors, grad_tensors_, retain_graph, create_graph, inputs,\n\u001b[1;32m    199\u001b[0m     allow_unreachable\u001b[39m=\u001b[39;49m\u001b[39mTrue\u001b[39;49;00m, accumulate_grad\u001b[39m=\u001b[39;49m\u001b[39mTrue\u001b[39;49;00m)\n",
      "\u001b[0;31mRuntimeError\u001b[0m: element 0 of tensors does not require grad and does not have a grad_fn"
     ]
    }
   ],
   "source": [
    "import dataclasses\n",
    "\n",
    "\n",
    "\n",
    "@dataclasses.dataclass\n",
    "class Learner():\n",
    "    model: nn.Module\n",
    "    dls: DataLoaders\n",
    "    loss_func: typing.Callable\n",
    "    lr: float|torch.Tensor\n",
    "    opt_func: typing.Callable = optim.SGD\n",
    "\n",
    "    def new(*args, cbs=[], name='ModLearn', **kwargs):\n",
    "        if cbs:\n",
    "            cls = type(name, tuple(map(CallbackWrap.wrap, cbs)), {})\n",
    "        else:\n",
    "            cls = Learner\n",
    "        return cls(*args, **kwargs)\n",
    " \n",
    "    \n",
    "    def do_batch(self):\n",
    "        self.compute_preds()\n",
    "        self.compute_loss()\n",
    "        if self.model.training:\n",
    "            self.backward()\n",
    "            self.step()\n",
    "            self.zero_grad()\n",
    "    \n",
    "    def setup_epoch(self, train: bool):\n",
    "        self.model.train(train)\n",
    "        self.data_loader = self.dls.train if train else self.dls.valid\n",
    "                                             \n",
    "    def do_epoch(self, train: bool):\n",
    "        self.setup_epoch(train)\n",
    "        for self.iter,self.batch in enumerate(self.data_loader):\n",
    "            self.do_batch()\n",
    "    \n",
    "    def setup_fit(self, n_epochs, lr):\n",
    "        self.n_epochs = n_epochs\n",
    "        self.epochs = range(self.n_epochs)\n",
    "        self.opt = learn.opt_func(learn.model.parameters(), lr)\n",
    "    \n",
    "    def fit(self, n_epochs, lr=None):\n",
    "        self.setup_fit(n_epochs, lr)\n",
    "        for self.epoch in self.epochs:\n",
    "            self.do_epoch(True)\n",
    "            with torch.no_grad(): \n",
    "                self.do_epoch(True)\n",
    "\n",
    "    def compute_preds(self): self.preds = self.model(self.batch[0])\n",
    "    def compute_loss(self): self.loss = self.loss_func(self.preds, self.batch[1])\n",
    "    def backward(self): self.loss.backward()\n",
    "    def step(self): self.opt.step()\n",
    "    def zero_grad(self): self.opt.zero_grad()\n",
    "    \n",
    "class CallbackWrap(Learner):\n",
    "    cb: 'Callback'\n",
    "    \n",
    "    @staticmethod \n",
    "    def wrap(callback):\n",
    "        if isinstance(callback, Callback):\n",
    "            return type(callback.__class__.__name__, (CallbackWrap,), {'cb': callback})\n",
    "        else:\n",
    "            return callback\n",
    "        \n",
    "        \n",
    "    def do_batch(self):\n",
    "        super().do_batch()\n",
    "        self.callback('after_batch')\n",
    "    \n",
    "    def setup_epoch(self, train: bool):\n",
    "        super().setup_epoch(train)\n",
    "        self.callback('before_epoch')\n",
    "    \n",
    "    def do_epoch(self, train: bool):\n",
    "        super().do_epoch(train)\n",
    "        self.callback('after_epoch')\n",
    "    \n",
    "    def setup_fit(self, n_epochs, lr):\n",
    "        super().setup_fit(n_epochs, lr)\n",
    "        self.callback('before_fit')\n",
    "        \n",
    "    def fit(self, n_epochs, lr=None):\n",
    "        super().fit(n_epochs, lr)\n",
    "        self.callback('after_fit')\n",
    "    \n",
    "    def callback(self, name):\n",
    "        self.cb.learn = self\n",
    "        if hasattr(self.cb, name):\n",
    "            getattr(self, name)()\n",
    "\n",
    "cbs = [TrainCB(), DeviceCB(), metrics, ProgressCB(plot=True)]\n",
    "learn = Learner.new(model, dls, F.cross_entropy, lr=0.2, cbs=cbs)\n",
    "learn.fit(2, lr=0.2)"
   ]
  },
  {
   "cell_type": "code",
   "execution_count": null,
   "id": "ddd04171",
   "metadata": {},
   "outputs": [
    {
     "data": {
      "text/plain": [
       "False"
      ]
     },
     "execution_count": null,
     "metadata": {},
     "output_type": "execute_result"
    }
   ],
   "source": []
  },
  {
   "cell_type": "code",
   "execution_count": null,
   "id": "18b5df35",
   "metadata": {},
   "outputs": [],
   "source": [
    "# Failed attempt at making it work with generators"
   ]
  },
  {
   "cell_type": "code",
   "execution_count": null,
   "id": "df27ae15",
   "metadata": {},
   "outputs": [],
   "source": [
    "@dataclass\n",
    "class Callback2():\n",
    "    order = 0\n"
   ]
  },
  {
   "cell_type": "code",
   "execution_count": null,
   "id": "31f89fab",
   "metadata": {},
   "outputs": [],
   "source": [
    "def run_cbs2(cbs, phase, **kwargs):\n",
    "    for cb in sorted(cbs, key=attrgetter('order')):\n",
    "        method = getattr(cb, phase, None)\n",
    "        if method is not None: yield method(**kwargs)"
   ]
  },
  {
   "cell_type": "code",
   "execution_count": null,
   "id": "9258521c",
   "metadata": {},
   "outputs": [],
   "source": [
    "class StateDict(dict):\n",
    "    def __getattr__(self, k): return self[k]\n",
    "    def __setattr__(self, k: str, v: typing.Any) -> None:\n",
    "        self[k]=v\n",
    "\n",
    "import weakref\n",
    "class Loop():\n",
    "    def _one_batch(self, learn):\n",
    "        self.compute_preds(learn)\n",
    "        self.compute_loss(learn)\n",
    "        if learn.model.training:\n",
    "            self.backward(learn)\n",
    "            self.step(learn)\n",
    "            self.zero_grad(learn)\n",
    "    \n",
    "    def data_loader(self, learn): \n",
    "        return learn.dls.train if learn.model.training else learn.dls.valid\n",
    "    \n",
    "    def _one_epoch(self, learn):\n",
    "        for self.iter,self.batch in enumerate(self.data_loader(learn)):\n",
    "            self._one_batch(learn)\n",
    "    \n",
    "    def epochs(self, learn):\n",
    "        return range(self.n_epochs) \n",
    "    \n",
    "    def _setup_fit(self, learn, n_epochs, lr):\n",
    "        self.n_epochs = n_epochs\n",
    "        self.opt = learn.opt_func(learn.model.parameters(), lr)\n",
    "    \n",
    "    def _fit(self, learn):\n",
    "        for self.epoch in self.epochs(learn):\n",
    "            learn.model.train(True)\n",
    "            self._one_epoch(learn)\n",
    "            with torch.no_grad(): \n",
    "                learn.model.train(False)\n",
    "                self._one_epoch(False)\n",
    "                \n",
    "    def fit(self, learn, n_epochs, lr=None):\n",
    "        self._setup_fit(learn, n_epochs, lr)\n",
    "        self._fit(learn)\n",
    "\n",
    "    def compute_preds(self, learn): self.preds = learn.model(self.batch[0])\n",
    "    def compute_loss(self, learn): self.loss = learn.loss_func(self.preds, self.batch[1])\n",
    "    def backward(self, learn): self.loss.backward()\n",
    "    def step(self, learn): self.opt.step()\n",
    "    def zero_grad(self, learn): self.opt.zero_grad()\n",
    "\n",
    "import dataclasses        \n",
    "@dataclass(frozen=True)\n",
    "class Learner():\n",
    "    model: nn.Module\n",
    "    dls: DataLoaders\n",
    "    loss_func: typing.Callable\n",
    "    lr: float|torch.Tensor\n",
    "    cbs: typing.List[Callback]\n",
    "    opt_func: typing.Callable = optim.SGD\n",
    "    ctx: StateDict = dataclasses.field(default_factory=StateDict)\n",
    "    \n",
    "    def reset(self):\n",
    "        self.ctx.clear()\n",
    "\n",
    "    def fit(self, n_epochs):\n",
    "        if 'loop' not in self.ctx: self.ctx.loop = Loop()\n",
    "        self.ctx.loop.fit(self, n_epochs)\n",
    "    "
   ]
  },
  {
   "cell_type": "code",
   "execution_count": null,
   "id": "e284f888",
   "metadata": {},
   "outputs": [],
   "source": [
    "@dataclass\n",
    "class DeviceCB2(Callback2):\n",
    "    device: str|torch.device = def_device\n",
    "    def fit(self, learn, l): \n",
    "        learn.model.to(self.device)\n",
    "        yield\n",
    "    \n",
    "    def batch(self, learn, l): \n",
    "        yield dict(batch=to_device(l.batch, device=self.device))"
   ]
  },
  {
   "cell_type": "code",
   "execution_count": null,
   "id": "b4fcc264",
   "metadata": {},
   "outputs": [],
   "source": [
    "cbs = [DeviceCB2()]\n",
    "learn = Learner(get_model(), dls, F.cross_entropy, lr=0.2, cbs=cbs)\n",
    "learn.fit(1)"
   ]
  },
  {
   "cell_type": "code",
   "execution_count": null,
   "id": "c351b1d9",
   "metadata": {},
   "outputs": [],
   "source": [
    "#|export\n",
    "class MetricsCB2(Callback2):\n",
    "    def __init__(self, *ms, **metrics):\n",
    "        for o in ms: metrics[type(o).__name__] = o\n",
    "        self.metrics = metrics\n",
    "        self.all_metrics = copy(metrics)\n",
    "        self.all_metrics['loss'] = self.loss = Mean()\n",
    "\n",
    "    def _log(self, d): print(d)\n",
    "    def fit(self, learn, l):\n",
    "        yield dict(metrics=self)\n",
    "    \n",
    "    def epoch(self, learn, l): \n",
    "        for o in self.all_metrics.values(): o.reset() \n",
    "        yield # to collect more data with batch hook\n",
    "        log = {k:f'{v.compute():.3f}' for k,v in self.all_metrics.items()}\n",
    "        log['epoch'] = l.epoch\n",
    "        log['train'] = learn.model.training\n",
    "        self._log(log)\n",
    "\n",
    "    def batch(self, learn, l):\n",
    "        yield # do the work\n",
    "        if not hasattr(l, 'preds'): return\n",
    "        x,y = to_cpu(l.batch)\n",
    "        for m in self.metrics.values(): m.update(to_cpu(l.preds), y)\n",
    "        self.loss.update(to_cpu(l.loss), weight=len(x))"
   ]
  },
  {
   "cell_type": "code",
   "execution_count": null,
   "id": "1bfbb3fb",
   "metadata": {},
   "outputs": [
    {
     "ename": "AttributeError",
     "evalue": "'bool' object has no attribute 'model'",
     "output_type": "error",
     "traceback": [
      "\u001b[0;31m---------------------------------------------------------------------------\u001b[0m",
      "\u001b[0;31mAttributeError\u001b[0m                            Traceback (most recent call last)",
      "Cell \u001b[0;32mIn[116], line 4\u001b[0m\n\u001b[1;32m      2\u001b[0m cbs \u001b[39m=\u001b[39m [DeviceCB2(), metrics, ProgressCB2(plot\u001b[39m=\u001b[39m\u001b[39mTrue\u001b[39;00m)]\n\u001b[1;32m      3\u001b[0m learn \u001b[39m=\u001b[39m Learner(get_model(), dls, F\u001b[39m.\u001b[39mcross_entropy, lr\u001b[39m=\u001b[39m\u001b[39m0.2\u001b[39m, cbs\u001b[39m=\u001b[39mcbs)\n\u001b[0;32m----> 4\u001b[0m learn\u001b[39m.\u001b[39;49mfit(\u001b[39m1\u001b[39;49m)\n",
      "Cell \u001b[0;32mIn[115], line 61\u001b[0m, in \u001b[0;36mLearner.fit\u001b[0;34m(self, n_epochs)\u001b[0m\n\u001b[1;32m     59\u001b[0m \u001b[39mdef\u001b[39;00m \u001b[39mfit\u001b[39m(\u001b[39mself\u001b[39m, n_epochs):\n\u001b[1;32m     60\u001b[0m     \u001b[39mif\u001b[39;00m \u001b[39m'\u001b[39m\u001b[39mloop\u001b[39m\u001b[39m'\u001b[39m \u001b[39mnot\u001b[39;00m \u001b[39min\u001b[39;00m \u001b[39mself\u001b[39m\u001b[39m.\u001b[39mctx: \u001b[39mself\u001b[39m\u001b[39m.\u001b[39mctx\u001b[39m.\u001b[39mloop \u001b[39m=\u001b[39m Loop()\n\u001b[0;32m---> 61\u001b[0m     \u001b[39mself\u001b[39;49m\u001b[39m.\u001b[39;49mctx\u001b[39m.\u001b[39;49mloop\u001b[39m.\u001b[39;49mfit(\u001b[39mself\u001b[39;49m, n_epochs)\n",
      "Cell \u001b[0;32mIn[115], line 29\u001b[0m, in \u001b[0;36mLoop.fit\u001b[0;34m(self, learn, n_epochs)\u001b[0m\n\u001b[1;32m     27\u001b[0m \u001b[39mwith\u001b[39;00m torch\u001b[39m.\u001b[39mno_grad(): \n\u001b[1;32m     28\u001b[0m     learn\u001b[39m.\u001b[39mmodel\u001b[39m.\u001b[39mtrain(\u001b[39mFalse\u001b[39;00m)\n\u001b[0;32m---> 29\u001b[0m     \u001b[39mself\u001b[39;49m\u001b[39m.\u001b[39;49mone_epoch(\u001b[39mFalse\u001b[39;49;00m)\n",
      "Cell \u001b[0;32mIn[115], line 8\u001b[0m, in \u001b[0;36mLoop.one_epoch\u001b[0;34m(self, learn)\u001b[0m\n\u001b[1;32m      7\u001b[0m \u001b[39mdef\u001b[39;00m \u001b[39mone_epoch\u001b[39m(\u001b[39mself\u001b[39m, learn):\n\u001b[0;32m----> 8\u001b[0m     \u001b[39mself\u001b[39m\u001b[39m.\u001b[39mdl \u001b[39m=\u001b[39m learn\u001b[39m.\u001b[39mdls\u001b[39m.\u001b[39mtrain \u001b[39mif\u001b[39;00m learn\u001b[39m.\u001b[39;49mmodel\u001b[39m.\u001b[39mtraining \u001b[39melse\u001b[39;00m learn\u001b[39m.\u001b[39mdls\u001b[39m.\u001b[39mvalid\n\u001b[1;32m      9\u001b[0m     \u001b[39mwith\u001b[39;00m learn\u001b[39m.\u001b[39mcallback_ctx(\u001b[39m'\u001b[39m\u001b[39mepoch\u001b[39m\u001b[39m'\u001b[39m):\n\u001b[1;32m     10\u001b[0m         \u001b[39mfor\u001b[39;00m \u001b[39mself\u001b[39m\u001b[39m.\u001b[39miter,\u001b[39mself\u001b[39m\u001b[39m.\u001b[39mbatch \u001b[39min\u001b[39;00m \u001b[39menumerate\u001b[39m(\u001b[39mself\u001b[39m\u001b[39m.\u001b[39mdl):\n",
      "\u001b[0;31mAttributeError\u001b[0m: 'bool' object has no attribute 'model'"
     ]
    }
   ],
   "source": [
    "metrics = MetricsCB2(accuracy=MulticlassAccuracy())\n",
    "cbs = [DeviceCB2(), metrics, ProgressCB2(plot=True)]\n",
    "learn = Learner(get_model(), dls, F.cross_entropy, lr=0.2, cbs=cbs)\n",
    "learn.fit(1)"
   ]
  },
  {
   "cell_type": "code",
   "execution_count": null,
   "id": "ee43512e",
   "metadata": {},
   "outputs": [
    {
     "name": "stdout",
     "output_type": "stream",
     "text": [
      "{'accuracy': '0.601', 'loss': '1.178', 'epoch': 0, 'train': True}\n",
      "{'accuracy': '0.696', 'loss': '0.810', 'epoch': 0, 'train': False}\n"
     ]
    }
   ],
   "source": [
    "metrics = MetricsCB2(accuracy=MulticlassAccuracy())\n",
    "cbs = [DeviceCB2(), metrics]\n",
    "learn = Learner(get_model(), dls, F.cross_entropy, lr=0.2, cbs=cbs)\n",
    "learn.fit(1)"
   ]
  },
  {
   "cell_type": "code",
   "execution_count": null,
   "id": "583ce114",
   "metadata": {},
   "outputs": [],
   "source": [
    "class CompletionCB(Callback):\n",
    "    def fit(self, **_): \n",
    "        print('test')\n",
    "        self.count = 0\n",
    "        yield\n",
    "        print(f'Completed {self.count} batches')\n",
    "    def batch(self, **_): \n",
    "        yield \n",
    "        self.count += 1"
   ]
  },
  {
   "cell_type": "code",
   "execution_count": null,
   "id": "c2b41ea4",
   "metadata": {},
   "outputs": [
    {
     "name": "stdout",
     "output_type": "stream",
     "text": [
      "test\n"
     ]
    },
    {
     "data": {
      "text/plain": [
       "[None]"
      ]
     },
     "execution_count": null,
     "metadata": {},
     "output_type": "execute_result"
    }
   ],
   "source": [
    "cbs = [CompletionCB()]\n",
    "fit = [a.send(None) for a in run_cbs2(cbs, 'fit')]\n",
    "list(map(list, run_cbs2(cbs, 'batch')))\n",
    "list(fit)"
   ]
  },
  {
   "cell_type": "code",
   "execution_count": null,
   "id": "e9537f9f",
   "metadata": {},
   "outputs": [],
   "source": [
    "#|export\n",
    "@dataclass\n",
    "class ProgressCB2(Callback2):\n",
    "    order = MetricsCB2.order+1\n",
    "    plot: bool = False\n",
    "  \n",
    "    def fit(self, learn, l):\n",
    "        self.mbar = master_bar(l.epochs)\n",
    "        if hasattr(l, 'metrics'): l.metrics._log = self._log\n",
    "        self.losses = []\n",
    "        yield dict(epochs=self.mbar)\n",
    "        \n",
    "    def _log(self, d): self.mbar.write(str(d))\n",
    "    def epoch(self, learn, l): \n",
    "        yield dict(dl=progress_bar(l.dl, leave=False, parent=self.mbar))\n",
    "        \n",
    "    def batch(self, learn, l):\n",
    "        yield\n",
    "        if not hasattr(l, 'loss'): return\n",
    "        if self.plot and hasattr(l, 'metrics') and learn.model.training:\n",
    "            self.losses.append(l.loss.item())\n",
    "            self.mbar.update_graph([[fc.L.range(self.losses), self.losses]])\n",
    "        l.dl.comment = f'{l.loss:.3f}'\n",
    "        # unable to access second level, yield dict(dl.comment = f'{l.loss:.3f}')"
   ]
  },
  {
   "cell_type": "code",
   "execution_count": null,
   "id": "f6b3237d",
   "metadata": {},
   "outputs": [
    {
     "ename": "AttributeError",
     "evalue": "'bool' object has no attribute 'model'",
     "output_type": "error",
     "traceback": [
      "\u001b[0;31m---------------------------------------------------------------------------\u001b[0m",
      "\u001b[0;31mAttributeError\u001b[0m                            Traceback (most recent call last)",
      "Cell \u001b[0;32mIn[118], line 4\u001b[0m\n\u001b[1;32m      2\u001b[0m cbs \u001b[39m=\u001b[39m [DeviceCB2(), metrics, ProgressCB2(plot\u001b[39m=\u001b[39m\u001b[39mTrue\u001b[39;00m)]\n\u001b[1;32m      3\u001b[0m learn \u001b[39m=\u001b[39m Learner(get_model(), dls, F\u001b[39m.\u001b[39mcross_entropy, lr\u001b[39m=\u001b[39m\u001b[39m0.2\u001b[39m, cbs\u001b[39m=\u001b[39mcbs)\n\u001b[0;32m----> 4\u001b[0m learn\u001b[39m.\u001b[39;49mfit(\u001b[39m1\u001b[39;49m)\n",
      "Cell \u001b[0;32mIn[115], line 61\u001b[0m, in \u001b[0;36mLearner.fit\u001b[0;34m(self, n_epochs)\u001b[0m\n\u001b[1;32m     59\u001b[0m \u001b[39mdef\u001b[39;00m \u001b[39mfit\u001b[39m(\u001b[39mself\u001b[39m, n_epochs):\n\u001b[1;32m     60\u001b[0m     \u001b[39mif\u001b[39;00m \u001b[39m'\u001b[39m\u001b[39mloop\u001b[39m\u001b[39m'\u001b[39m \u001b[39mnot\u001b[39;00m \u001b[39min\u001b[39;00m \u001b[39mself\u001b[39m\u001b[39m.\u001b[39mctx: \u001b[39mself\u001b[39m\u001b[39m.\u001b[39mctx\u001b[39m.\u001b[39mloop \u001b[39m=\u001b[39m Loop()\n\u001b[0;32m---> 61\u001b[0m     \u001b[39mself\u001b[39;49m\u001b[39m.\u001b[39;49mctx\u001b[39m.\u001b[39;49mloop\u001b[39m.\u001b[39;49mfit(\u001b[39mself\u001b[39;49m, n_epochs)\n",
      "Cell \u001b[0;32mIn[115], line 29\u001b[0m, in \u001b[0;36mLoop.fit\u001b[0;34m(self, learn, n_epochs)\u001b[0m\n\u001b[1;32m     27\u001b[0m \u001b[39mwith\u001b[39;00m torch\u001b[39m.\u001b[39mno_grad(): \n\u001b[1;32m     28\u001b[0m     learn\u001b[39m.\u001b[39mmodel\u001b[39m.\u001b[39mtrain(\u001b[39mFalse\u001b[39;00m)\n\u001b[0;32m---> 29\u001b[0m     \u001b[39mself\u001b[39;49m\u001b[39m.\u001b[39;49mone_epoch(\u001b[39mFalse\u001b[39;49;00m)\n",
      "Cell \u001b[0;32mIn[115], line 8\u001b[0m, in \u001b[0;36mLoop.one_epoch\u001b[0;34m(self, learn)\u001b[0m\n\u001b[1;32m      7\u001b[0m \u001b[39mdef\u001b[39;00m \u001b[39mone_epoch\u001b[39m(\u001b[39mself\u001b[39m, learn):\n\u001b[0;32m----> 8\u001b[0m     \u001b[39mself\u001b[39m\u001b[39m.\u001b[39mdl \u001b[39m=\u001b[39m learn\u001b[39m.\u001b[39mdls\u001b[39m.\u001b[39mtrain \u001b[39mif\u001b[39;00m learn\u001b[39m.\u001b[39;49mmodel\u001b[39m.\u001b[39mtraining \u001b[39melse\u001b[39;00m learn\u001b[39m.\u001b[39mdls\u001b[39m.\u001b[39mvalid\n\u001b[1;32m      9\u001b[0m     \u001b[39mwith\u001b[39;00m learn\u001b[39m.\u001b[39mcallback_ctx(\u001b[39m'\u001b[39m\u001b[39mepoch\u001b[39m\u001b[39m'\u001b[39m):\n\u001b[1;32m     10\u001b[0m         \u001b[39mfor\u001b[39;00m \u001b[39mself\u001b[39m\u001b[39m.\u001b[39miter,\u001b[39mself\u001b[39m\u001b[39m.\u001b[39mbatch \u001b[39min\u001b[39;00m \u001b[39menumerate\u001b[39m(\u001b[39mself\u001b[39m\u001b[39m.\u001b[39mdl):\n",
      "\u001b[0;31mAttributeError\u001b[0m: 'bool' object has no attribute 'model'"
     ]
    }
   ],
   "source": [
    "metrics = MetricsCB(accuracy=MulticlassAccuracy())\n",
    "cbs = [DeviceCB(), metrics, ProgressCB(plot=True)]\n",
    "learn = Learner(get_model(), dls, F.cross_entropy, lr=0.2, cbs=cbs)\n",
    "learn.fit(1)"
   ]
  },
  {
   "cell_type": "markdown",
   "id": "e36aef26",
   "metadata": {},
   "source": [
    "## TrainLearner and MomentumLearner"
   ]
  },
  {
   "cell_type": "code",
   "execution_count": null,
   "id": "51fe2944",
   "metadata": {},
   "outputs": [],
   "source": [
    "#|export\n",
    "class TrainLearner(Learner):\n",
    "    def predict(self): self.preds = self.model(self.batch[0])\n",
    "    def get_loss(self): self.loss = self.loss_func(self.preds, self.batch[1])\n",
    "    def backward(self): self.loss.backward()\n",
    "    def step(self): self.opt.step()\n",
    "    def zero_grad(self): self.opt.zero_grad()"
   ]
  },
  {
   "cell_type": "code",
   "execution_count": null,
   "id": "c68148d5",
   "metadata": {},
   "outputs": [],
   "source": [
    "#|export\n",
    "class MomentumLearner(TrainLearner):\n",
    "    def __init__(self, model, dls, loss_func, lr, cbs, opt_func=optim.SGD, mom=0.85):\n",
    "        self.mom = mom\n",
    "        super().__init__(model, dls, loss_func, lr, cbs, opt_func)\n",
    "\n",
    "    def zero_grad(self):\n",
    "        with torch.no_grad():\n",
    "            for p in self.model.parameters(): p.grad *= self.mom"
   ]
  },
  {
   "cell_type": "code",
   "execution_count": null,
   "id": "452eff1d",
   "metadata": {},
   "outputs": [
    {
     "data": {
      "text/html": [
       "\n",
       "<style>\n",
       "    /* Turns off some styling */\n",
       "    progress {\n",
       "        /* gets rid of default border in Firefox and Opera. */\n",
       "        border: none;\n",
       "        /* Needs to be in here for Safari polyfill so background images work as expected. */\n",
       "        background-size: auto;\n",
       "    }\n",
       "    progress:not([value]), progress:not([value])::-webkit-progress-bar {\n",
       "        background: repeating-linear-gradient(45deg, #7e7e7e, #7e7e7e 10px, #5c5c5c 10px, #5c5c5c 20px);\n",
       "    }\n",
       "    .progress-bar-interrupted, .progress-bar-interrupted::-webkit-progress-bar {\n",
       "        background: #F44336;\n",
       "    }\n",
       "</style>\n"
      ],
      "text/plain": [
       "<IPython.core.display.HTML object>"
      ]
     },
     "metadata": {},
     "output_type": "display_data"
    },
    {
     "data": {
      "text/html": [
       "{'accuracy': '0.669', 'loss': '0.986', 'epoch': 0, 'train': True}<p>{'accuracy': '0.802', 'loss': '0.556', 'epoch': 0, 'train': False}"
      ],
      "text/plain": [
       "<IPython.core.display.HTML object>"
      ]
     },
     "metadata": {},
     "output_type": "display_data"
    },
    {
     "name": "stderr",
     "output_type": "stream",
     "text": [
      "[W ParallelNative.cpp:229] Warning: Cannot set number of intraop threads after parallel work has started or after set_num_threads call when using native parallel backend (function set_num_threads)\n",
      "[W ParallelNative.cpp:229] Warning: Cannot set number of intraop threads after parallel work has started or after set_num_threads call when using native parallel backend (function set_num_threads)\n",
      "[W ParallelNative.cpp:229] Warning: Cannot set number of intraop threads after parallel work has started or after set_num_threads call when using native parallel backend (function set_num_threads)\n",
      "[W ParallelNative.cpp:229] Warning: Cannot set number of intraop threads after parallel work has started or after set_num_threads call when using native parallel backend (function set_num_threads)\n"
     ]
    },
    {
     "data": {
      "image/png": "[encoded data removed]",
      "text/plain": [
       "<Figure size 600x400 with 1 Axes>"
      ]
     },
     "metadata": {},
     "output_type": "display_data"
    },
    {
     "name": "stderr",
     "output_type": "stream",
     "text": [
      "[W ParallelNative.cpp:229] Warning: Cannot set number of intraop threads after parallel work has started or after set_num_threads call when using native parallel backend (function set_num_threads)\n",
      "[W ParallelNative.cpp:229] Warning: Cannot set number of intraop threads after parallel work has started or after set_num_threads call when using native parallel backend (function set_num_threads)\n",
      "[W ParallelNative.cpp:229] Warning: Cannot set number of intraop threads after parallel work has started or after set_num_threads call when using native parallel backend (function set_num_threads)\n",
      "[W ParallelNative.cpp:229] Warning: Cannot set number of intraop threads after parallel work has started or after set_num_threads call when using native parallel backend (function set_num_threads)\n"
     ]
    }
   ],
   "source": [
    "# NB: No TrainCB\n",
    "metrics = MetricsCB(accuracy=MulticlassAccuracy())\n",
    "cbs = [DeviceCB(), metrics, ProgressCB(plot=True)]\n",
    "learn = MomentumLearner(get_model(), dls, F.cross_entropy, lr=0.2, cbs=cbs)\n",
    "learn.fit(1)"
   ]
  },
  {
   "cell_type": "markdown",
   "id": "c2e3f750",
   "metadata": {},
   "source": [
    "## LRFinderCB"
   ]
  },
  {
   "cell_type": "code",
   "execution_count": null,
   "id": "ca5b9f65",
   "metadata": {},
   "outputs": [],
   "source": [
    "class LRFinderCB(Callback):\n",
    "    def __init__(self, lr_mult=1.3): fc.store_attr()\n",
    "    \n",
    "    def before_fit(self):\n",
    "        self.lrs,self.losses = [],[]\n",
    "        self.min = math.inf\n",
    "\n",
    "    def after_batch(self):\n",
    "        if not self.training: raise CancelEpochException()\n",
    "        self.lrs.append(self.opt.param_groups[0]['lr'])\n",
    "        loss = to_cpu(self.learn.loss)\n",
    "        self.losses.append(loss)\n",
    "        if loss < self.min: self.min = loss\n",
    "        if loss > self.min*3: raise CancelFitException()\n",
    "        for g in self.opt.param_groups: g['lr'] *= self.lr_mult"
   ]
  },
  {
   "cell_type": "code",
   "execution_count": null,
   "id": "09da2d55",
   "metadata": {},
   "outputs": [
    {
     "data": {
      "text/html": [
       "\n",
       "<style>\n",
       "    /* Turns off some styling */\n",
       "    progress {\n",
       "        /* gets rid of default border in Firefox and Opera. */\n",
       "        border: none;\n",
       "        /* Needs to be in here for Safari polyfill so background images work as expected. */\n",
       "        background-size: auto;\n",
       "    }\n",
       "    progress:not([value]), progress:not([value])::-webkit-progress-bar {\n",
       "        background: repeating-linear-gradient(45deg, #7e7e7e, #7e7e7e 10px, #5c5c5c 10px, #5c5c5c 20px);\n",
       "    }\n",
       "    .progress-bar-interrupted, .progress-bar-interrupted::-webkit-progress-bar {\n",
       "        background: #F44336;\n",
       "    }\n",
       "</style>\n"
      ],
      "text/plain": [
       "<IPython.core.display.HTML object>"
      ]
     },
     "metadata": {},
     "output_type": "display_data"
    },
    {
     "data": {
      "text/html": [
       "\n",
       "    <div>\n",
       "      <progress value='0' class='' max='1' style='width:300px; height:20px; vertical-align: middle;'></progress>\n",
       "      0.00% [0/1 00:00&lt;?]\n",
       "    </div>\n",
       "    \n",
       "\n",
       "\n",
       "    <div>\n",
       "      <progress value='29' class='' max='59' style='width:300px; height:20px; vertical-align: middle;'></progress>\n",
       "      49.15% [29/59 00:00&lt;00:00 1.244]\n",
       "    </div>\n",
       "    "
      ],
      "text/plain": [
       "<IPython.core.display.HTML object>"
      ]
     },
     "metadata": {},
     "output_type": "display_data"
    },
    {
     "name": "stderr",
     "output_type": "stream",
     "text": [
      "[W ParallelNative.cpp:229] Warning: Cannot set number of intraop threads after parallel work has started or after set_num_threads call when using native parallel backend (function set_num_threads)\n",
      "[W ParallelNative.cpp:229] Warning: Cannot set number of intraop threads after parallel work has started or after set_num_threads call when using native parallel backend (function set_num_threads)\n",
      "[W ParallelNative.cpp:229] Warning: Cannot set number of intraop threads after parallel work has started or after set_num_threads call when using native parallel backend (function set_num_threads)\n",
      "[W ParallelNative.cpp:229] Warning: Cannot set number of intraop threads after parallel work has started or after set_num_threads call when using native parallel backend (function set_num_threads)\n",
      "[W ParallelNative.cpp:229] Warning: Cannot set number of intraop threads after parallel work has started or after set_num_threads call when using native parallel backend (function set_num_threads)\n"
     ]
    }
   ],
   "source": [
    "lrfind = LRFinderCB()\n",
    "cbs = [DeviceCB(), ProgressCB(), lrfind]\n",
    "learn = MomentumLearner(get_model(), dls, F.cross_entropy, lr=1e-4, cbs=cbs)\n",
    "learn.fit(1)"
   ]
  },
  {
   "cell_type": "code",
   "execution_count": null,
   "id": "5f5aab94",
   "metadata": {},
   "outputs": [
    {
     "data": {
      "image/png": "[encoded data removed]",
      "text/plain": [
       "<Figure size 640x480 with 1 Axes>"
      ]
     },
     "metadata": {},
     "output_type": "display_data"
    }
   ],
   "source": [
    "plt.plot(lrfind.lrs, lrfind.losses)\n",
    "plt.xscale('log')"
   ]
  },
  {
   "cell_type": "code",
   "execution_count": null,
   "id": "313fcb31",
   "metadata": {},
   "outputs": [],
   "source": [
    "#|export\n",
    "from torch.optim.lr_scheduler import ExponentialLR"
   ]
  },
  {
   "cell_type": "markdown",
   "id": "b7f61663",
   "metadata": {},
   "source": [
    "[ExponentialLR](https://pytorch.org/docs/stable/generated/torch.optim.lr_scheduler.ExponentialLR.html#torch.optim.lr_scheduler.ExponentialLR)"
   ]
  },
  {
   "cell_type": "code",
   "execution_count": null,
   "id": "1dd3748d",
   "metadata": {},
   "outputs": [],
   "source": [
    "#|export\n",
    "class LRFinderCB(Callback):\n",
    "    def __init__(self, gamma=1.3, max_mult=3): fc.store_attr()\n",
    "    \n",
    "    def before_fit(self):\n",
    "        self.sched = ExponentialLR(self.opt, self.gamma)\n",
    "        self.lrs,self.losses = [],[]\n",
    "        self.min = math.inf\n",
    "\n",
    "    def after_batch(self):\n",
    "        if not self.training: raise CancelEpochException()\n",
    "        self.lrs.append(self.opt.param_groups[0]['lr'])\n",
    "        loss = to_cpu(self.learn.loss)\n",
    "        self.losses.append(loss)\n",
    "        if loss < self.min: self.min = loss\n",
    "        if loss > self.min*self.max_mult: raise CancelFitException()\n",
    "        self.sched.step()\n",
    "\n",
    "    def after_fit(self):\n",
    "        plt.plot(self.lrs, self.losses)\n",
    "        plt.xscale('log')"
   ]
  },
  {
   "cell_type": "code",
   "execution_count": null,
   "id": "d50956a0",
   "metadata": {},
   "outputs": [
    {
     "data": {
      "text/html": [
       "\n",
       "<style>\n",
       "    /* Turns off some styling */\n",
       "    progress {\n",
       "        /* gets rid of default border in Firefox and Opera. */\n",
       "        border: none;\n",
       "        /* Needs to be in here for Safari polyfill so background images work as expected. */\n",
       "        background-size: auto;\n",
       "    }\n",
       "    progress:not([value]), progress:not([value])::-webkit-progress-bar {\n",
       "        background: repeating-linear-gradient(45deg, #7e7e7e, #7e7e7e 10px, #5c5c5c 10px, #5c5c5c 20px);\n",
       "    }\n",
       "    .progress-bar-interrupted, .progress-bar-interrupted::-webkit-progress-bar {\n",
       "        background: #F44336;\n",
       "    }\n",
       "</style>\n"
      ],
      "text/plain": [
       "<IPython.core.display.HTML object>"
      ]
     },
     "metadata": {},
     "output_type": "display_data"
    },
    {
     "data": {
      "text/html": [
       "\n",
       "    <div>\n",
       "      <progress value='0' class='' max='1' style='width:300px; height:20px; vertical-align: middle;'></progress>\n",
       "      0.00% [0/1 00:00&lt;?]\n",
       "    </div>\n",
       "    \n",
       "\n",
       "\n",
       "    <div>\n",
       "      <progress value='30' class='' max='59' style='width:300px; height:20px; vertical-align: middle;'></progress>\n",
       "      50.85% [30/59 00:00&lt;00:00 1.126]\n",
       "    </div>\n",
       "    "
      ],
      "text/plain": [
       "<IPython.core.display.HTML object>"
      ]
     },
     "metadata": {},
     "output_type": "display_data"
    },
    {
     "name": "stderr",
     "output_type": "stream",
     "text": [
      "[W ParallelNative.cpp:229] Warning: Cannot set number of intraop threads after parallel work has started or after set_num_threads call when using native parallel backend (function set_num_threads)\n",
      "[W ParallelNative.cpp:229] Warning: Cannot set number of intraop threads after parallel work has started or after set_num_threads call when using native parallel backend (function set_num_threads)\n",
      "[W ParallelNative.cpp:229] Warning: Cannot set number of intraop threads after parallel work has started or after set_num_threads call when using native parallel backend (function set_num_threads)\n",
      "[W ParallelNative.cpp:229] Warning: Cannot set number of intraop threads after parallel work has started or after set_num_threads call when using native parallel backend (function set_num_threads)\n",
      "[W ParallelNative.cpp:229] Warning: Cannot set number of intraop threads after parallel work has started or after set_num_threads call when using native parallel backend (function set_num_threads)\n"
     ]
    },
    {
     "data": {
      "image/png": "[encoded data removed]",
      "text/plain": [
       "<Figure size 640x480 with 1 Axes>"
      ]
     },
     "metadata": {},
     "output_type": "display_data"
    }
   ],
   "source": [
    "lrfind = LRFinderCB()\n",
    "cbs = [DeviceCB(), ProgressCB(), lrfind]\n",
    "learn = MomentumLearner(get_model(), dls, F.cross_entropy, lr=1e-4, cbs=cbs)\n",
    "learn.fit(1)"
   ]
  },
  {
   "cell_type": "markdown",
   "id": "7bfb9bd2",
   "metadata": {},
   "source": [
    "## Export -"
   ]
  },
  {
   "cell_type": "code",
   "execution_count": null,
   "id": "465118f0",
   "metadata": {},
   "outputs": [],
   "source": [
    "import nbdev; nbdev.nbdev_export()"
   ]
  },
  {
   "cell_type": "code",
   "execution_count": null,
   "id": "0fc774ac",
   "metadata": {},
   "outputs": [],
   "source": []
  }
 ],
 "metadata": {
  "kernelspec": {
   "display_name": "miniai",
   "language": "python",
   "name": "python3"
  },
  "language_info": {
   "name": "python",
   "version": "3.10.8 (main, Nov 24 2022, 08:08:27) [Clang 14.0.6 ]"
  },
  "vscode": {
   "interpreter": {
    "hash": "65bdc12ab1f00d3c583c154495aae0afd4448f1172f63d82cc7fc9c1feca09db"
   }
  }
 },
 "nbformat": 4,
 "nbformat_minor": 5
}

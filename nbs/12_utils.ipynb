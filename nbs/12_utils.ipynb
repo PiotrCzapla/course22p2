{
 "cells": [
  {
   "cell_type": "code",
   "execution_count": null,
   "metadata": {},
   "outputs": [],
   "source": [
    "#|default_exp utils "
   ]
  },
  {
   "cell_type": "code",
   "execution_count": null,
   "metadata": {},
   "outputs": [],
   "source": [
    "#| export\n",
    "import pickle,gzip,math,os,time,shutil,torch,matplotlib as mpl,numpy as np,matplotlib.pyplot as plt\n",
    "import fastcore.all as fc\n",
    "from collections.abc import Mapping\n",
    "from pathlib import Path\n",
    "from operator import attrgetter,itemgetter\n",
    "from functools import partial\n",
    "from copy import copy\n",
    "from contextlib import contextmanager\n",
    "\n",
    "import torchvision.transforms.functional as TF,torch.nn.functional as F\n",
    "from torch import tensor,nn,optim\n",
    "from torch.utils.data import DataLoader,default_collate\n",
    "from torch.nn import init\n",
    "from torch.optim import lr_scheduler\n",
    "from torcheval.metrics import MulticlassAccuracy\n",
    "from datasets import load_dataset,load_dataset_builder\n",
    "\n",
    "\n",
    "from miniai.datasets import *\n",
    "from miniai.conv import *\n",
    "from miniai.learner import *\n",
    "from miniai.activations import *\n",
    "from miniai.mps import *"
   ]
  },
  {
   "attachments": {},
   "cell_type": "markdown",
   "metadata": {},
   "source": [
    "## Reseed CB\n",
    "This callback facilitate using different seeds while still keeping the training reproducable by reporting the seed on each use."
   ]
  },
  {
   "cell_type": "code",
   "execution_count": null,
   "metadata": {},
   "outputs": [],
   "source": [
    "#| export\n",
    "class ReseedCB(Callback):\n",
    "    order = 0\n",
    "    def __init__(self): self.gen, self.new_seed = torch.Generator(), None\n",
    "    def before_fit(self, learn): \n",
    "        self.set_seed(self.new_seed)\n",
    "        print('Using seed', self.new_seed)\n",
    "    def set_seed(self, seed=None): \n",
    "        if seed is None: \n",
    "            self.new_seed = torch.randint(2**31, [1], generator=self.gen).item()\n",
    "            print(f\"New seed: {self.new_seed}\")\n",
    "        else:\n",
    "            self.new_seed = seed\n",
    "        set_seed(self.new_seed)\n",
    "        return self.new_seed\n",
    "    def previous(self): self.set_seed(self.new_seed)\n",
    "    def new(self): self.set_seed()"
   ]
  },
  {
   "cell_type": "code",
   "execution_count": null,
   "metadata": {},
   "outputs": [],
   "source": [
    "reseed=ReseedCB()"
   ]
  },
  {
   "cell_type": "markdown",
   "metadata": {},
   "source": [
    "Seed is set twice, on pervious|new|set_seed and before every seed"
   ]
  },
  {
   "cell_type": "code",
   "execution_count": null,
   "metadata": {},
   "outputs": [
    {
     "name": "stdout",
     "output_type": "stream",
     "text": [
      "New seed: 205811062\n",
      "Using seed 205811062\n",
      "tensor([-0.5644, -1.8079,  0.5900,  0.6734,  0.0040, -0.6066, -0.3101,  0.8848,\n",
      "         0.0541,  0.3965])\n",
      "Using seed 205811062\n",
      "tensor([-0.5644, -1.8079,  0.5900,  0.6734,  0.0040, -0.6066, -0.3101,  0.8848,\n",
      "         0.0541,  0.3965])\n"
     ]
    }
   ],
   "source": [
    "reseed.before_fit(None)\n",
    "print(torch.randn(10))\n",
    "reseed.before_fit(None)\n",
    "print(torch.randn(10))"
   ]
  },
  {
   "cell_type": "code",
   "execution_count": null,
   "metadata": {},
   "outputs": [
    {
     "name": "stdout",
     "output_type": "stream",
     "text": [
      "tensor([-0.5644, -1.8079,  0.5900,  0.6734,  0.0040, -0.6066, -0.3101,  0.8848,\n",
      "         0.0541,  0.3965])\n",
      "Using seed 205811062\n",
      "tensor([-0.5644, -1.8079,  0.5900,  0.6734,  0.0040, -0.6066, -0.3101,  0.8848,\n",
      "         0.0541,  0.3965])\n"
     ]
    }
   ],
   "source": [
    "reseed.previous()\n",
    "print(torch.randn(10)) # useful during init\n",
    "reseed.before_fit(None)\n",
    "print(torch.randn(10))"
   ]
  },
  {
   "cell_type": "code",
   "execution_count": null,
   "metadata": {},
   "outputs": [
    {
     "name": "stdout",
     "output_type": "stream",
     "text": [
      "tensor([ 0.3367,  0.1288,  0.2345,  0.2303, -1.1229, -0.1863,  2.2082, -0.6380,\n",
      "         0.4617,  0.2674])\n",
      "Using seed 42\n",
      "tensor([ 0.3367,  0.1288,  0.2345,  0.2303, -1.1229, -0.1863,  2.2082, -0.6380,\n",
      "         0.4617,  0.2674])\n"
     ]
    }
   ],
   "source": [
    "reseed.set_seed(42)\n",
    "print(torch.randn(10))\n",
    "reseed.before_fit(None)\n",
    "print(torch.randn(10))"
   ]
  },
  {
   "cell_type": "code",
   "execution_count": null,
   "metadata": {},
   "outputs": [
    {
     "name": "stdout",
     "output_type": "stream",
     "text": [
      "New seed: 1155489284\n",
      "tensor([ 0.1857,  0.5785,  0.1219, -0.4333, -0.8358, -0.3888, -1.5829, -0.6018,\n",
      "         0.2697,  0.2101])\n",
      "Using seed 1155489284\n",
      "tensor([ 0.1857,  0.5785,  0.1219, -0.4333, -0.8358, -0.3888, -1.5829, -0.6018,\n",
      "         0.2697,  0.2101])\n"
     ]
    }
   ],
   "source": [
    "reseed.new()\n",
    "print(torch.randn(10))\n",
    "reseed.before_fit(None)\n",
    "print(torch.randn(10))"
   ]
  },
  {
   "attachments": {},
   "cell_type": "markdown",
   "metadata": {},
   "source": [
    "## Speed of Training\n",
    "\n",
    "Unfortunately the multiprocessing is a bit slower on MPS as the main process has to share the number of OMP Threads (the value cannot be changed after fork). So to avoid warnings it is set to 1. Which makes the dataloader a bit slower.  To workaround this i've added cache_dataset_as_dict\n",
    "\n",
    "It improves the performance 4x for large batch sizes from:\n",
    "- 16 sec per fit(5)\n",
    "\n",
    "to:\n",
    "\n",
    "- 5 sec initial loading time\n",
    "- 3.6 sec per fit(5)"
   ]
  },
  {
   "cell_type": "code",
   "execution_count": null,
   "metadata": {},
   "outputs": [],
   "source": [
    "import pickle,gzip,math,os,time,shutil,torch,matplotlib as mpl,numpy as np,matplotlib.pyplot as plt\n",
    "import fastcore.all as fc\n",
    "from collections.abc import Mapping\n",
    "from pathlib import Path\n",
    "from operator import attrgetter,itemgetter\n",
    "from functools import partial\n",
    "from copy import copy\n",
    "from contextlib import contextmanager\n",
    "\n",
    "import torchvision.transforms.functional as TF,torch.nn.functional as F\n",
    "from torch import tensor,nn,optim\n",
    "from torch.utils.data import DataLoader,default_collate\n",
    "from torch.nn import init\n",
    "from torch.optim import lr_scheduler\n",
    "from torcheval.metrics import MulticlassAccuracy\n",
    "from datasets import load_dataset,load_dataset_builder\n",
    "\n",
    "from miniai.datasets import *\n",
    "from miniai.conv import *\n",
    "from miniai.learner import *\n",
    "from miniai.activations import *\n",
    "from miniai.init import get_model, init_weights"
   ]
  },
  {
   "cell_type": "code",
   "execution_count": null,
   "metadata": {},
   "outputs": [],
   "source": [
    "import time\n",
    "\n",
    "def _format_stats(stats):\n",
    "    return f\"{stats.mean():.2f} ± {stats.std():.2f}\"\n",
    "\n",
    "class TimeItCB(Callback):\n",
    "    def __init__(self):\n",
    "        self.reset()\n",
    "    def tick(self): return time.time()\n",
    "         \n",
    "    def reset(self):\n",
    "        self.start = self.tick()\n",
    "        self.setup = None\n",
    "        self.batches = {True:[], False:[]}\n",
    "        self.epochs = {True:[], False:[]}\n",
    "        self.samples = {True:[], False:[]}\n",
    "    def before_fit(self, learn):\n",
    "        self.reset()\n",
    "        \n",
    "    def before_batch(self, learn):\n",
    "        if self.setup is None: self.setup = self.tick() - self.start\n",
    "        self.batches[learn.training].append(self.tick())\n",
    "    \n",
    "    def after_batch(self, learn):\n",
    "        self.batches[learn.training][-1] = self.tick() - self.batches[learn.training][-1]\n",
    "        self.samples[learn.training].append(learn.batch[0].shape[0])\n",
    "    \n",
    "    def before_epoch(self, learn):\n",
    "        self.epochs[learn.training].append(self.tick())\n",
    "    \n",
    "    def after_epoch(self, learn):\n",
    "        self.epochs[learn.training][-1] = self.tick() - self.epochs[learn.training][-1]\n",
    "    \n",
    "    def after_fit(self, learn):\n",
    "        self.total = self.tick() - self.start\n",
    "        self.setup = self.setup / self.total\n",
    "        self.batches = {k:np.array(v) for k,v in self.batches.items()}\n",
    "        self.epochs = {k:np.array(v) for k,v in self.epochs.items()}\n",
    "        self.samples = {k:np.array(v) for k,v in self.samples.items()}\n",
    "        self.print_stats()\n",
    "    \n",
    "    def print_stats(self): \n",
    "        print(f\"Fit {len(self.epochs[True])} in: {self.total:.2f}s, setup: {self.setup:.2f}s, {_format_stats(self.epochs[True])}s per epoch, {_format_stats(self.batches[True])}s per batch\")\n",
    "        #print(f\" samples/sec: {self.samples[True].sum() / self.total:.2f}s, time_in_val: {self.epochs[False].sum() / self.total:.2f}s\")"
   ]
  },
  {
   "cell_type": "code",
   "execution_count": null,
   "metadata": {},
   "outputs": [],
   "source": [
    "#| export\n",
    "# if spawn is not possible, we can cache the entire dataset in memory after transformations\n",
    "def _with_features(ds):\n",
    "    setattr((l:=fc.L(ds)), 'features', ds.features)\n",
    "    return l \n",
    "def cache_dataset_as_dict(dd): return {dsn: _with_features(ds) for dsn,ds in dd.items()}"
   ]
  },
  {
   "cell_type": "code",
   "execution_count": null,
   "metadata": {},
   "outputs": [],
   "source": [
    "metrics = MetricsCB(accuracy=MulticlassAccuracy())\n",
    "cbs = [DeviceCB(), metrics, ProgressCB(plot=True), TimeItCB()]"
   ]
  },
  {
   "cell_type": "code",
   "execution_count": null,
   "metadata": {},
   "outputs": [
    {
     "name": "stderr",
     "output_type": "stream",
     "text": [
      "Found cached dataset fashion_mnist (/Users/pczapla/.cache/huggingface/datasets/fashion_mnist/fashion_mnist/1.0.0/8d6c32399aa01613d96e2cbc9b13638f359ef62bb33612b077b4c247f6ef99c1)\n"
     ]
    },
    {
     "data": {
      "application/vnd.jupyter.widget-view+json": {
       "model_id": "242d034a0b814c3385255fe959029415",
       "version_major": 2,
       "version_minor": 0
      },
      "text/plain": [
       "  0%|          | 0/2 [00:00<?, ?it/s]"
      ]
     },
     "metadata": {},
     "output_type": "display_data"
    }
   ],
   "source": [
    "bs = 1024*16\n",
    "xmean, xstd = 0.28, 0.35\n",
    "name = \"fashion_mnist\"\n",
    "def to_tensor_tfm(b, mean, std, xl='image'): \n",
    "    b[xl] = [(TF.to_tensor(o)-mean)/std for o in b[xl]]\n",
    "    return b\n",
    "\n",
    "dsd = load_dataset(name)\n",
    "tds = dsd.with_transform(partial(to_tensor_tfm, mean=xmean, std=xstd))"
   ]
  },
  {
   "cell_type": "code",
   "execution_count": null,
   "metadata": {},
   "outputs": [],
   "source": [
    "dls = DataLoaders.from_dd(tds, bs, num_workers=4, )\n",
    "set_seed(42)\n",
    "learn = TrainLearner(get_model().to('cpu').apply(init_weights), dls, F.cross_entropy, lr=1e-2, cbs=cbs, opt_func=optim.AdamW)"
   ]
  },
  {
   "cell_type": "code",
   "execution_count": null,
   "metadata": {},
   "outputs": [
    {
     "data": {
      "text/html": [
       "\n",
       "<style>\n",
       "    /* Turns off some styling */\n",
       "    progress {\n",
       "        /* gets rid of default border in Firefox and Opera. */\n",
       "        border: none;\n",
       "        /* Needs to be in here for Safari polyfill so background images work as expected. */\n",
       "        background-size: auto;\n",
       "    }\n",
       "    progress:not([value]), progress:not([value])::-webkit-progress-bar {\n",
       "        background: repeating-linear-gradient(45deg, #7e7e7e, #7e7e7e 10px, #5c5c5c 10px, #5c5c5c 20px);\n",
       "    }\n",
       "    .progress-bar-interrupted, .progress-bar-interrupted::-webkit-progress-bar {\n",
       "        background: #F44336;\n",
       "    }\n",
       "</style>\n"
      ],
      "text/plain": [
       "<IPython.core.display.HTML object>"
      ]
     },
     "metadata": {},
     "output_type": "display_data"
    },
    {
     "data": {
      "text/html": [
       "<table border=\"1\" class=\"dataframe\">\n",
       "  <thead>\n",
       "    <tr style=\"text-align: left;\">\n",
       "      <th>accuracy</th>\n",
       "      <th>loss</th>\n",
       "      <th>epoch</th>\n",
       "      <th>train</th>\n",
       "    </tr>\n",
       "  </thead>\n",
       "  <tbody>\n",
       "    <tr>\n",
       "      <td>0.350</td>\n",
       "      <td>2.060</td>\n",
       "      <td>0</td>\n",
       "      <td>train</td>\n",
       "    </tr>\n",
       "    <tr>\n",
       "      <td>0.577</td>\n",
       "      <td>1.224</td>\n",
       "      <td>0</td>\n",
       "      <td>eval</td>\n",
       "    </tr>\n",
       "    <tr>\n",
       "      <td>0.656</td>\n",
       "      <td>0.983</td>\n",
       "      <td>1</td>\n",
       "      <td>train</td>\n",
       "    </tr>\n",
       "    <tr>\n",
       "      <td>0.730</td>\n",
       "      <td>0.773</td>\n",
       "      <td>1</td>\n",
       "      <td>eval</td>\n",
       "    </tr>\n",
       "    <tr>\n",
       "      <td>0.732</td>\n",
       "      <td>0.760</td>\n",
       "      <td>2</td>\n",
       "      <td>train</td>\n",
       "    </tr>\n",
       "    <tr>\n",
       "      <td>0.752</td>\n",
       "      <td>0.659</td>\n",
       "      <td>2</td>\n",
       "      <td>eval</td>\n",
       "    </tr>\n",
       "    <tr>\n",
       "      <td>0.770</td>\n",
       "      <td>0.620</td>\n",
       "      <td>3</td>\n",
       "      <td>train</td>\n",
       "    </tr>\n",
       "    <tr>\n",
       "      <td>0.778</td>\n",
       "      <td>0.611</td>\n",
       "      <td>3</td>\n",
       "      <td>eval</td>\n",
       "    </tr>\n",
       "    <tr>\n",
       "      <td>0.792</td>\n",
       "      <td>0.568</td>\n",
       "      <td>4</td>\n",
       "      <td>train</td>\n",
       "    </tr>\n",
       "    <tr>\n",
       "      <td>0.795</td>\n",
       "      <td>0.553</td>\n",
       "      <td>4</td>\n",
       "      <td>eval</td>\n",
       "    </tr>\n",
       "  </tbody>\n",
       "</table>"
      ],
      "text/plain": [
       "<IPython.core.display.HTML object>"
      ]
     },
     "metadata": {},
     "output_type": "display_data"
    },
    {
     "data": {
      "image/png": "[encoded data removed]",
      "text/plain": [
       "<Figure size 600x400 with 1 Axes>"
      ]
     },
     "metadata": {},
     "output_type": "display_data"
    },
    {
     "name": "stdout",
     "output_type": "stream",
     "text": [
      "Fit 5 in: 14.94s, setup: 0.09s, 2.10 ± 0.06s per epoch, 0.10 ± 0.02s per batch\n"
     ]
    }
   ],
   "source": [
    "learn.fit(5)"
   ]
  },
  {
   "cell_type": "code",
   "execution_count": null,
   "metadata": {},
   "outputs": [
    {
     "name": "stdout",
     "output_type": "stream",
     "text": [
      "4.63 s ± 0 ns per loop (mean ± std. dev. of 1 run, 1 loop each)\n"
     ]
    }
   ],
   "source": [
    "%%timeit -n 1 -r 1\n",
    "tds.cached = cache_dataset_as_dict(tds)"
   ]
  },
  {
   "cell_type": "code",
   "execution_count": null,
   "metadata": {},
   "outputs": [],
   "source": [
    "set_seed(42)\n",
    "dls_cached = DataLoaders.from_dd(tds.cached, bs, num_workers=0)\n",
    "learn = TrainLearner(get_model().to('cpu').apply(init_weights), dls_cached, F.cross_entropy, lr=1e-2, cbs=cbs, opt_func=optim.AdamW)"
   ]
  },
  {
   "cell_type": "code",
   "execution_count": null,
   "metadata": {},
   "outputs": [
    {
     "data": {
      "text/html": [
       "\n",
       "<style>\n",
       "    /* Turns off some styling */\n",
       "    progress {\n",
       "        /* gets rid of default border in Firefox and Opera. */\n",
       "        border: none;\n",
       "        /* Needs to be in here for Safari polyfill so background images work as expected. */\n",
       "        background-size: auto;\n",
       "    }\n",
       "    progress:not([value]), progress:not([value])::-webkit-progress-bar {\n",
       "        background: repeating-linear-gradient(45deg, #7e7e7e, #7e7e7e 10px, #5c5c5c 10px, #5c5c5c 20px);\n",
       "    }\n",
       "    .progress-bar-interrupted, .progress-bar-interrupted::-webkit-progress-bar {\n",
       "        background: #F44336;\n",
       "    }\n",
       "</style>\n"
      ],
      "text/plain": [
       "<IPython.core.display.HTML object>"
      ]
     },
     "metadata": {},
     "output_type": "display_data"
    },
    {
     "data": {
      "text/html": [
       "<table border=\"1\" class=\"dataframe\">\n",
       "  <thead>\n",
       "    <tr style=\"text-align: left;\">\n",
       "      <th>accuracy</th>\n",
       "      <th>loss</th>\n",
       "      <th>epoch</th>\n",
       "      <th>train</th>\n",
       "    </tr>\n",
       "  </thead>\n",
       "  <tbody>\n",
       "    <tr>\n",
       "      <td>0.350</td>\n",
       "      <td>2.060</td>\n",
       "      <td>0</td>\n",
       "      <td>train</td>\n",
       "    </tr>\n",
       "    <tr>\n",
       "      <td>0.577</td>\n",
       "      <td>1.224</td>\n",
       "      <td>0</td>\n",
       "      <td>eval</td>\n",
       "    </tr>\n",
       "    <tr>\n",
       "      <td>0.656</td>\n",
       "      <td>0.983</td>\n",
       "      <td>1</td>\n",
       "      <td>train</td>\n",
       "    </tr>\n",
       "    <tr>\n",
       "      <td>0.730</td>\n",
       "      <td>0.773</td>\n",
       "      <td>1</td>\n",
       "      <td>eval</td>\n",
       "    </tr>\n",
       "    <tr>\n",
       "      <td>0.732</td>\n",
       "      <td>0.760</td>\n",
       "      <td>2</td>\n",
       "      <td>train</td>\n",
       "    </tr>\n",
       "    <tr>\n",
       "      <td>0.752</td>\n",
       "      <td>0.659</td>\n",
       "      <td>2</td>\n",
       "      <td>eval</td>\n",
       "    </tr>\n",
       "    <tr>\n",
       "      <td>0.770</td>\n",
       "      <td>0.620</td>\n",
       "      <td>3</td>\n",
       "      <td>train</td>\n",
       "    </tr>\n",
       "    <tr>\n",
       "      <td>0.778</td>\n",
       "      <td>0.611</td>\n",
       "      <td>3</td>\n",
       "      <td>eval</td>\n",
       "    </tr>\n",
       "    <tr>\n",
       "      <td>0.792</td>\n",
       "      <td>0.568</td>\n",
       "      <td>4</td>\n",
       "      <td>train</td>\n",
       "    </tr>\n",
       "    <tr>\n",
       "      <td>0.795</td>\n",
       "      <td>0.553</td>\n",
       "      <td>4</td>\n",
       "      <td>eval</td>\n",
       "    </tr>\n",
       "  </tbody>\n",
       "</table>"
      ],
      "text/plain": [
       "<IPython.core.display.HTML object>"
      ]
     },
     "metadata": {},
     "output_type": "display_data"
    },
    {
     "data": {
      "image/png": "[encoded data removed]",
      "text/plain": [
       "<Figure size 600x400 with 1 Axes>"
      ]
     },
     "metadata": {},
     "output_type": "display_data"
    },
    {
     "name": "stdout",
     "output_type": "stream",
     "text": [
      "Fit 5 in: 3.77s, setup: 0.01s, 0.71 ± 0.11s per epoch, 0.10 ± 0.01s per batch\n"
     ]
    }
   ],
   "source": [
    "learn.fit(5)"
   ]
  },
  {
   "cell_type": "code",
   "execution_count": null,
   "metadata": {},
   "outputs": [
    {
     "data": {
      "text/plain": [
       "(60000, 16384)"
      ]
     },
     "execution_count": null,
     "metadata": {},
     "output_type": "execute_result"
    }
   ],
   "source": [
    "len(tds.cached['train']), bs"
   ]
  },
  {
   "cell_type": "markdown",
   "metadata": {},
   "source": [
    "## Export"
   ]
  },
  {
   "cell_type": "code",
   "execution_count": null,
   "metadata": {},
   "outputs": [],
   "source": [
    "import nbdev; nbdev.nbdev_export()"
   ]
  }
 ],
 "metadata": {
  "kernelspec": {
   "display_name": "miniai",
   "language": "python",
   "name": "python3"
  }
 },
 "nbformat": 4,
 "nbformat_minor": 2
}

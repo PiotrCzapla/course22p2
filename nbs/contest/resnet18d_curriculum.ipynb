{
 "cells": [
  {
   "cell_type": "code",
   "execution_count": null,
   "metadata": {},
   "outputs": [],
   "source": [
    "#|default_exp mixup"
   ]
  },
  {
   "cell_type": "markdown",
   "metadata": {},
   "source": [
    "# Resnet18d curriculum"
   ]
  },
  {
   "cell_type": "code",
   "execution_count": null,
   "metadata": {},
   "outputs": [],
   "source": [
    "import pickle,gzip,math,os,time,shutil,torch,random\n",
    "import fastcore.all as fc,matplotlib as mpl,numpy as np,matplotlib.pyplot as plt\n",
    "from collections.abc import Mapping\n",
    "from pathlib import Path\n",
    "from operator import attrgetter,itemgetter\n",
    "from functools import partial\n",
    "from copy import copy\n",
    "from contextlib import contextmanager\n",
    "\n",
    "import torchvision.transforms.functional as TF,torch.nn.functional as F\n",
    "from torch import tensor,nn,optim\n",
    "from torch.utils.data import DataLoader,default_collate\n",
    "from torch.nn import init\n",
    "from torch.optim import lr_scheduler\n",
    "from torcheval.metrics import MulticlassAccuracy\n",
    "from datasets import load_dataset,load_dataset_builder\n",
    "\n",
    "from miniai.datasets import *\n",
    "from miniai.conv import *\n",
    "from miniai.learner import *\n",
    "from miniai.activations import *\n",
    "from miniai.init import *\n",
    "from miniai.sgd import *\n",
    "from miniai.resnet import *\n",
    "from miniai.augment import *"
   ]
  },
  {
   "cell_type": "code",
   "execution_count": null,
   "metadata": {},
   "outputs": [],
   "source": [
    "# speed mods\n",
    "from miniai.utils import *\n",
    "\n",
    "MetricsCB = LazyMetricsCB\n",
    "ProgressCB = LazyProgressCB"
   ]
  },
  {
   "cell_type": "code",
   "execution_count": null,
   "metadata": {},
   "outputs": [],
   "source": [
    "from fastcore.test import test_close\n",
    "from torch import distributions\n",
    "\n",
    "torch.set_printoptions(precision=8, linewidth=140, sci_mode=False)\n",
    "mpl.rcParams['image.cmap'] = 'gray'\n",
    "\n",
    "import logging\n",
    "logging.disable(logging.WARNING)\n",
    "\n",
    "if fc.defaults.cpus>8: fc.defaults.cpus=8"
   ]
  },
  {
   "cell_type": "code",
   "execution_count": null,
   "metadata": {},
   "outputs": [
    {
     "data": {
      "application/vnd.jupyter.widget-view+json": {
       "model_id": "0b8a8e49ab684a59bfdff9234c22a6c1",
       "version_major": 2,
       "version_minor": 0
      },
      "text/plain": [
       "  0%|          | 0/2 [00:00<?, ?it/s]"
      ]
     },
     "metadata": {},
     "output_type": "display_data"
    }
   ],
   "source": [
    "xl,yl = 'image','label'\n",
    "name = \"fashion_mnist\"\n",
    "bs = 256\n",
    "xmean,xstd = 0.28, 0.35\n",
    "\n",
    "@inplace\n",
    "def transformi(b): b[xl] = [(TF.to_tensor(o)-xmean)/xstd for o in b[xl]]\n",
    "\n",
    "dsd = load_dataset(name)\n",
    "tds = dsd.with_transform(transformi)\n"
   ]
  },
  {
   "cell_type": "code",
   "execution_count": null,
   "metadata": {},
   "outputs": [],
   "source": [
    "tds.cached = cache_dataset_as_dict(tds)"
   ]
  },
  {
   "cell_type": "code",
   "execution_count": null,
   "metadata": {},
   "outputs": [],
   "source": [
    "from torchvision import transforms"
   ]
  },
  {
   "cell_type": "code",
   "execution_count": null,
   "metadata": {},
   "outputs": [],
   "source": [
    "def tfm_batch(b, tfm_x=fc.noop, tfm_y = fc.noop): return tfm_x(b[0]),tfm_y(b[1])"
   ]
  },
  {
   "cell_type": "code",
   "execution_count": null,
   "metadata": {},
   "outputs": [],
   "source": [
    "tfms = nn.Sequential(transforms.RandomCrop(28, padding=1),\n",
    "                     transforms.RandomHorizontalFlip(0.65))\n",
    "augcb = BatchTransformCB(partial(tfm_batch, tfm_x=tfms), on_val=False)"
   ]
  },
  {
   "cell_type": "markdown",
   "metadata": {},
   "source": [
    "## curriculum learning\n"
   ]
  },
  {
   "cell_type": "code",
   "execution_count": null,
   "metadata": {},
   "outputs": [
    {
     "name": "stdout",
     "output_type": "stream",
     "text": [
      "tensor([0, 1, 2, 3, 4, 5, 6])\n",
      "tensor([6, 5, 4, 3, 2, 1, 0])\n"
     ]
    },
    {
     "data": {
      "text/plain": [
       "tensor([4, 5, 6, 3, 4, 5, 6])"
      ]
     },
     "execution_count": null,
     "metadata": {},
     "output_type": "execute_result"
    }
   ],
   "source": [
    "def replace_top_losess(n, top_losses, prev_idx):\n",
    "    num_samples = len(prev_idx)\n",
    "    top_losses = top_losses.cpu()\n",
    "    prev_idx = prev_idx.cpu()\n",
    "    easiest_idx = prev_idx[top_losses[-n:]] \n",
    "    hardest_idx = prev_idx[top_losses[:n]]\n",
    "    indices = torch.arange(num_samples)\n",
    "    indices[easiest_idx] = hardest_idx\n",
    "    return indices\n",
    "\n",
    "top_losses = torch.arange(7)\n",
    "prev_idx = torch.arange(7).flip(-1)\n",
    "print(top_losses)\n",
    "print(prev_idx)\n",
    "replace_top_losess(3, top_losses, prev_idx)"
   ]
  },
  {
   "cell_type": "code",
   "execution_count": null,
   "metadata": {},
   "outputs": [
    {
     "data": {
      "text/plain": [
       "([tensor(4), tensor(4), tensor(0), tensor(1), tensor(2)],\n",
       " tensor([4, 4, 0, 1, 2]))"
      ]
     },
     "execution_count": null,
     "metadata": {},
     "output_type": "execute_result"
    }
   ],
   "source": [
    "from typing import Iterator\n",
    "from torch.utils.data import DataLoader, WeightedRandomSampler\n",
    "\n",
    "class TopLossesCallback(Callback):\n",
    "    def __init__(self):\n",
    "        self.epoch_preds = []\n",
    "        self.epoch_targets = []\n",
    "        \n",
    "    def before_fit(self, learn):\n",
    "        self.epoch_preds = []\n",
    "        self.epoch_targets = []\n",
    "\n",
    "    @torch.no_grad()\n",
    "    def _calculate_top_losses(self):\n",
    "        preds = torch.cat(self.epoch_preds, dim=0)\n",
    "        targets = torch.cat(self.epoch_targets, dim=0)\n",
    "        losses = F.cross_entropy(preds, targets, reduce=False)\n",
    "        return torch.topk(losses, preds.shape[0]).indices\n",
    "    \n",
    "    def after_batch(self, learn):\n",
    "        if learn.training: \n",
    "            self.epoch_preds.append(learn.preds)\n",
    "            self.epoch_targets.append(learn.batch[1])\n",
    "            \n",
    "    def before_epoch(self,learn):\n",
    "        learn.dls.train.sampler.epoch = learn.epoch\n",
    "        #print(\"setting epoch\", learn.epoch)\n",
    "        \n",
    "    def after_epoch(self, learn):\n",
    "        if self.epoch_preds:\n",
    "            #print(\"after epoch\", len(self.epoch_targets))\n",
    "            learn.dls.train.sampler.top_losses = self._calculate_top_losses()\n",
    "            self.epoch_preds = []\n",
    "            self.epoch_targets = []\n",
    "        \n",
    "# tweaked from tommyc's version\n",
    "# Before certain epoch drop a % of the training dataset with the lowest losses.\n",
    "# Replace them with the the same % of the training dataset with the highest losses.\n",
    "# This gives the model two opportunities to train on the most challenging images.\n",
    "class CustomTrainingSampler(WeightedRandomSampler):\n",
    "    def __init__(self, *args, **kwargs):\n",
    "        WeightedRandomSampler.__init__(self, *args, **kwargs)\n",
    "        self.data_indexes_for_epoch = torch.randperm(self.num_samples, generator=self.generator)\n",
    "        self.top_losses = self.data_indexes_for_epoch.clone()\n",
    "        self.epoch = 0\n",
    "        self.n = {\n",
    "            0: 0,\n",
    "            1: 0.21,\n",
    "            2: 0.42,\n",
    "            3: 0.21,\n",
    "            4: 0\n",
    "        }\n",
    "\n",
    "    def setup_epoch(self, epoch=None):\n",
    "        rand_tensor = torch.randperm(self.num_samples, generator=self.generator)\n",
    "        n = int(self.n[epoch or self.epoch] * self.num_samples)\n",
    "        if n != 0:\n",
    "            new_idx = replace_top_losess(n, self.top_losses, self.data_indexes_for_epoch)\n",
    "            self.data_indexes_for_epoch = new_idx[rand_tensor]\n",
    "        else:\n",
    "            self.data_indexes_for_epoch = rand_tensor\n",
    "\n",
    "            \n",
    "    def __iter__(self) -> Iterator[int]:\n",
    "        self.setup_epoch(self.epoch)\n",
    "        yield from self.data_indexes_for_epoch\n",
    "\n",
    "class CustomDataLoader:\n",
    "    def __init__(self, *dls): \n",
    "        self.train,self.valid = dls[:2]\n",
    "\n",
    "    def get_sampler(num_samples, mode=\"train\"):\n",
    "        if mode != \"train\": return None\n",
    "        return CustomTrainingSampler(weights=[1.0]*num_samples, num_samples=num_samples)\n",
    "\n",
    "    @classmethod\n",
    "    def from_dd(cls, dd, batch_size, **kwargs):\n",
    "        return cls(*[DataLoader(ds, batch_size, sampler=cls.get_sampler(len(ds), mode), collate_fn=collate_dict(ds), **kwargs) \n",
    "                     for mode, ds in dd.items()])\n",
    "    \n",
    "# lets test that sampler is working\n",
    "s = CustomTrainingSampler([1]*5, num_samples=5)\n",
    "s.epoch=1\n",
    "list(s), s.data_indexes_for_epoch"
   ]
  },
  {
   "cell_type": "markdown",
   "metadata": {},
   "source": [
    "# run"
   ]
  },
  {
   "cell_type": "code",
   "execution_count": null,
   "metadata": {},
   "outputs": [],
   "source": [
    "dls = DataLoaders.from_dd(tds.cached, bs, num_workers=0)\n",
    "\n",
    "# tweaked from rohitgeo's version\n",
    "metrics = MetricsCB(accuracy=MulticlassAccuracy())\n",
    "cbs = [DeviceCB(), metrics] \n",
    "#0.0003 from https://github.com/digantamisra9"
   ]
  },
  {
   "cell_type": "code",
   "execution_count": null,
   "metadata": {},
   "outputs": [],
   "source": [
    "def upscale_cb(scale, mode='bilinear'): \n",
    "    return BatchTransformCB(lambda b: (F.interpolate(b[0], scale_factor=scale, mode=mode),b[1]),\n",
    "                            on_val=True, on_train=True)"
   ]
  },
  {
   "cell_type": "code",
   "execution_count": null,
   "metadata": {},
   "outputs": [],
   "source": [
    "import timm"
   ]
  },
  {
   "cell_type": "code",
   "execution_count": null,
   "metadata": {},
   "outputs": [],
   "source": [
    "rng = rng_seed"
   ]
  },
  {
   "cell_type": "code",
   "execution_count": null,
   "metadata": {},
   "outputs": [],
   "source": [
    "def run(model, leaky=0.0003, m=1, cbs=tuple(), fit=True, train_cb=TrainCB(), epochs=5, base_lr=2e-2, \n",
    "        loss_func=F.cross_entropy, bs=bs, tta=False, dls=None, verbose=True, opt_func=optim.AdamW):\n",
    "    iw = partial(init_weights, leaky=leaky) if leaky is not None else fc.noop\n",
    "    lr = base_lr*m\n",
    "    print(\"Batch size\", bs*m)\n",
    "    dls = dls or DataLoaders.from_dd(tds, bs*m, num_workers=0) \n",
    "    tmax = epochs * len(dls.train)\n",
    "    sched = partial(lr_scheduler.OneCycleLR, max_lr=lr, total_steps=tmax)\n",
    "    \n",
    "    cbs = [DeviceCB(), rng_seed, metrics, BatchSchedCB(sched), *cbs, train_cb] \n",
    "    learn = Learner(model.apply(iw), dls, loss_func, lr=lr, cbs=cbs, opt_func=opt_func)\n",
    "    if verbose: \n",
    "        print(torch.randn([3]))\n",
    "        print(next(iter(learn.dls.train))[1])\n",
    "    if fit:\n",
    "        learn.fit(epochs, cbs=[TimeItCB(), ProgressCB(plot=True)])\n",
    "    if tta:\n",
    "        ## TTA\n",
    "        ap1, at = learn.capture_preds()\n",
    "        ttacb = BatchTransformCB(partial(tfm_batch, tfm_x=TF.hflip), on_val=True)\n",
    "        ap2, at = learn.capture_preds(cbs=[ttacb])\n",
    "        ap = torch.stack([ap1,ap2]).mean(0).argmax(1)\n",
    "        if verbose: print('TTA:', round((ap==at).float().mean().item(), 4))\n",
    "    \n",
    "    return learn"
   ]
  },
  {
   "cell_type": "code",
   "execution_count": null,
   "metadata": {},
   "outputs": [
    {
     "name": "stdout",
     "output_type": "stream",
     "text": [
      "Batch size 256\n",
      "tensor([ 0.50211972,  1.31441176, -0.10841224])\n",
      "tensor([7, 8, 1, 6, 3, 8, 7, 7, 6, 6, 8, 2, 5, 0, 4, 2, 9, 6, 9, 5, 2, 7, 6, 8, 9, 7, 7, 9, 5, 1, 9, 2, 0, 4, 8, 4, 3, 2, 7, 8, 7, 9, 7, 2,\n",
      "        6, 8, 5, 2, 2, 8, 3, 5, 2, 5, 5, 7, 9, 6, 4, 9, 9, 6, 9, 0, 8, 7, 4, 3, 0, 9, 6, 5, 3, 1, 0, 6, 5, 1, 1, 0, 8, 9, 8, 2, 0, 3, 3, 9,\n",
      "        5, 3, 4, 9, 0, 0, 9, 5, 7, 4, 8, 8, 7, 6, 0, 0, 2, 4, 5, 0, 9, 8, 1, 3, 0, 8, 0, 4, 5, 3, 8, 3, 5, 7, 1, 1, 6, 5, 6, 2, 3, 8, 3, 7,\n",
      "        1, 3, 7, 0, 0, 9, 8, 9, 3, 6, 5, 5, 5, 0, 8, 6, 9, 4, 6, 5, 6, 2, 5, 7, 1, 8, 9, 2, 8, 3, 8, 6, 9, 9, 4, 2, 8, 5, 3, 6, 8, 7, 3, 1,\n",
      "        2, 5, 2, 2, 6, 8, 7, 2, 7, 8, 4, 4, 5, 3, 0, 0, 9, 4, 5, 5, 5, 7, 2, 9, 6, 0, 6, 6, 9, 2, 3, 6, 0, 6, 2, 6, 1, 8, 7, 5, 8, 2, 6, 2,\n",
      "        3, 3, 2, 8, 7, 5, 7, 8, 7, 8, 6, 0, 1, 3, 1, 4, 5, 4, 3, 3, 8, 5, 4, 9, 9, 4, 0, 5, 9, 6, 6, 5, 7, 4, 6, 0])\n",
      "Using seed 205811062\n"
     ]
    },
    {
     "data": {
      "text/html": [
       "\n",
       "<style>\n",
       "    /* Turns off some styling */\n",
       "    progress {\n",
       "        /* gets rid of default border in Firefox and Opera. */\n",
       "        border: none;\n",
       "        /* Needs to be in here for Safari polyfill so background images work as expected. */\n",
       "        background-size: auto;\n",
       "    }\n",
       "    progress:not([value]), progress:not([value])::-webkit-progress-bar {\n",
       "        background: repeating-linear-gradient(45deg, #7e7e7e, #7e7e7e 10px, #5c5c5c 10px, #5c5c5c 20px);\n",
       "    }\n",
       "    .progress-bar-interrupted, .progress-bar-interrupted::-webkit-progress-bar {\n",
       "        background: #F44336;\n",
       "    }\n",
       "</style>\n"
      ],
      "text/plain": [
       "<IPython.core.display.HTML object>"
      ]
     },
     "metadata": {},
     "output_type": "display_data"
    },
    {
     "data": {
      "text/html": [
       "<table border=\"1\" class=\"dataframe\">\n",
       "  <thead>\n",
       "    <tr style=\"text-align: left;\">\n",
       "      <th>accuracy</th>\n",
       "      <th>loss</th>\n",
       "      <th>epoch</th>\n",
       "      <th>train</th>\n",
       "    </tr>\n",
       "  </thead>\n",
       "  <tbody>\n",
       "    <tr>\n",
       "      <td>0.806</td>\n",
       "      <td>0.579</td>\n",
       "      <td>0</td>\n",
       "      <td>train</td>\n",
       "    </tr>\n",
       "    <tr>\n",
       "      <td>0.620</td>\n",
       "      <td>2.444</td>\n",
       "      <td>0</td>\n",
       "      <td>eval</td>\n",
       "    </tr>\n",
       "    <tr>\n",
       "      <td>0.896</td>\n",
       "      <td>0.290</td>\n",
       "      <td>1</td>\n",
       "      <td>train</td>\n",
       "    </tr>\n",
       "    <tr>\n",
       "      <td>0.891</td>\n",
       "      <td>0.318</td>\n",
       "      <td>1</td>\n",
       "      <td>eval</td>\n",
       "    </tr>\n",
       "    <tr>\n",
       "      <td>0.920</td>\n",
       "      <td>0.222</td>\n",
       "      <td>2</td>\n",
       "      <td>train</td>\n",
       "    </tr>\n",
       "    <tr>\n",
       "      <td>0.880</td>\n",
       "      <td>0.390</td>\n",
       "      <td>2</td>\n",
       "      <td>eval</td>\n",
       "    </tr>\n",
       "    <tr>\n",
       "      <td>0.940</td>\n",
       "      <td>0.165</td>\n",
       "      <td>3</td>\n",
       "      <td>train</td>\n",
       "    </tr>\n",
       "    <tr>\n",
       "      <td>0.930</td>\n",
       "      <td>0.192</td>\n",
       "      <td>3</td>\n",
       "      <td>eval</td>\n",
       "    </tr>\n",
       "    <tr>\n",
       "      <td>0.958</td>\n",
       "      <td>0.118</td>\n",
       "      <td>4</td>\n",
       "      <td>train</td>\n",
       "    </tr>\n",
       "    <tr>\n",
       "      <td>0.937</td>\n",
       "      <td>0.179</td>\n",
       "      <td>4</td>\n",
       "      <td>eval</td>\n",
       "    </tr>\n",
       "  </tbody>\n",
       "</table>"
      ],
      "text/plain": [
       "<IPython.core.display.HTML object>"
      ]
     },
     "metadata": {},
     "output_type": "display_data"
    },
    {
     "data": {
      "image/png": "[encoded data removed]",
      "text/plain": [
       "<Figure size 600x400 with 1 Axes>"
      ]
     },
     "metadata": {},
     "output_type": "display_data"
    },
    {
     "name": "stdout",
     "output_type": "stream",
     "text": [
      "Fit 5 in: 274.65s, setup: 0.00s, 51.93 ± 0.65s per epoch, 0.11 ± 0.01s per batch\n",
      "Using seed 205811062\n",
      "Using seed 205811062\n",
      "TTA: 0.9392\n"
     ]
    }
   ],
   "source": [
    "rng.previous()\n",
    "tfms = nn.Sequential(transforms.RandomHorizontalFlip(0.65))\n",
    "augcb = BatchTransformCB(partial(tfm_batch, tfm_x=tfms), on_val=False)\n",
    "learn = run(timm.create_model('resnet18d', in_chans=1, num_classes=10, act_layer=nn.SiLU, pretrained=False), m=1, epochs=5,\n",
    "            leaky=0.0003, cbs=[upscale_cb(4, 'bilinear'), augcb], \n",
    "            tta=True)"
   ]
  },
  {
   "cell_type": "code",
   "execution_count": null,
   "metadata": {},
   "outputs": [
    {
     "name": "stdout",
     "output_type": "stream",
     "text": [
      "Batch size 256\n",
      "tensor([0.30707011, 1.60285020, 0.58453292])\n",
      "tensor([1, 9, 5, 3, 3, 3, 0, 0, 9, 7, 2, 5, 7, 1, 1, 5, 4, 5, 5, 1, 3, 5, 1, 7, 0, 1, 7, 8, 8, 0, 7, 9, 2, 3, 1, 2, 6, 4, 0, 4, 8, 3, 7, 1,\n",
      "        0, 1, 1, 2, 3, 2, 1, 6, 7, 9, 4, 1, 1, 7, 5, 9, 7, 3, 7, 9, 0, 0, 9, 0, 5, 9, 8, 5, 0, 3, 0, 5, 5, 1, 8, 5, 3, 2, 1, 1, 9, 0, 2, 0,\n",
      "        5, 8, 0, 3, 3, 8, 3, 4, 7, 3, 6, 2, 5, 9, 5, 8, 6, 0, 4, 7, 3, 5, 7, 2, 5, 7, 8, 8, 1, 8, 6, 0, 6, 6, 9, 4, 5, 9, 2, 8, 8, 6, 8, 7,\n",
      "        3, 0, 3, 7, 7, 3, 3, 8, 7, 7, 6, 5, 8, 7, 9, 8, 0, 9, 0, 7, 8, 2, 7, 5, 3, 3, 2, 6, 3, 7, 4, 2, 3, 9, 3, 8, 9, 1, 3, 8, 9, 5, 6, 2,\n",
      "        2, 1, 3, 2, 4, 4, 5, 1, 3, 1, 4, 5, 8, 0, 1, 9, 2, 1, 8, 3, 9, 9, 2, 6, 2, 4, 4, 6, 8, 2, 4, 5, 4, 4, 8, 2, 2, 3, 7, 4, 5, 9, 6, 4,\n",
      "        2, 5, 6, 6, 7, 7, 9, 7, 9, 4, 8, 2, 8, 9, 3, 2, 6, 5, 7, 5, 6, 2, 0, 0, 5, 6, 8, 6, 2, 9, 3, 6, 4, 9, 2, 6])\n",
      "Using seed 205811062\n"
     ]
    },
    {
     "data": {
      "text/html": [
       "\n",
       "<style>\n",
       "    /* Turns off some styling */\n",
       "    progress {\n",
       "        /* gets rid of default border in Firefox and Opera. */\n",
       "        border: none;\n",
       "        /* Needs to be in here for Safari polyfill so background images work as expected. */\n",
       "        background-size: auto;\n",
       "    }\n",
       "    progress:not([value]), progress:not([value])::-webkit-progress-bar {\n",
       "        background: repeating-linear-gradient(45deg, #7e7e7e, #7e7e7e 10px, #5c5c5c 10px, #5c5c5c 20px);\n",
       "    }\n",
       "    .progress-bar-interrupted, .progress-bar-interrupted::-webkit-progress-bar {\n",
       "        background: #F44336;\n",
       "    }\n",
       "</style>\n"
      ],
      "text/plain": [
       "<IPython.core.display.HTML object>"
      ]
     },
     "metadata": {},
     "output_type": "display_data"
    },
    {
     "data": {
      "text/html": [
       "<table border=\"1\" class=\"dataframe\">\n",
       "  <thead>\n",
       "    <tr style=\"text-align: left;\">\n",
       "      <th>accuracy</th>\n",
       "      <th>loss</th>\n",
       "      <th>epoch</th>\n",
       "      <th>train</th>\n",
       "    </tr>\n",
       "  </thead>\n",
       "  <tbody>\n",
       "    <tr>\n",
       "      <td>0.807</td>\n",
       "      <td>0.582</td>\n",
       "      <td>0</td>\n",
       "      <td>train</td>\n",
       "    </tr>\n",
       "    <tr>\n",
       "      <td>0.803</td>\n",
       "      <td>0.565</td>\n",
       "      <td>0</td>\n",
       "      <td>eval</td>\n",
       "    </tr>\n",
       "    <tr>\n",
       "      <td>0.841</td>\n",
       "      <td>0.425</td>\n",
       "      <td>1</td>\n",
       "      <td>train</td>\n",
       "    </tr>\n",
       "    <tr>\n",
       "      <td>0.866</td>\n",
       "      <td>0.378</td>\n",
       "      <td>1</td>\n",
       "      <td>eval</td>\n",
       "    </tr>\n",
       "    <tr>\n",
       "      <td>0.842</td>\n",
       "      <td>0.412</td>\n",
       "      <td>2</td>\n",
       "      <td>train</td>\n",
       "    </tr>\n",
       "    <tr>\n",
       "      <td>0.905</td>\n",
       "      <td>0.260</td>\n",
       "      <td>2</td>\n",
       "      <td>eval</td>\n",
       "    </tr>\n",
       "    <tr>\n",
       "      <td>0.900</td>\n",
       "      <td>0.255</td>\n",
       "      <td>3</td>\n",
       "      <td>train</td>\n",
       "    </tr>\n",
       "    <tr>\n",
       "      <td>0.930</td>\n",
       "      <td>0.206</td>\n",
       "      <td>3</td>\n",
       "      <td>eval</td>\n",
       "    </tr>\n",
       "    <tr>\n",
       "      <td>0.980</td>\n",
       "      <td>0.055</td>\n",
       "      <td>4</td>\n",
       "      <td>train</td>\n",
       "    </tr>\n",
       "    <tr>\n",
       "      <td>0.939</td>\n",
       "      <td>0.194</td>\n",
       "      <td>4</td>\n",
       "      <td>eval</td>\n",
       "    </tr>\n",
       "  </tbody>\n",
       "</table>"
      ],
      "text/plain": [
       "<IPython.core.display.HTML object>"
      ]
     },
     "metadata": {},
     "output_type": "display_data"
    },
    {
     "data": {
      "image/png": "[encoded data removed]",
      "text/plain": [
       "<Figure size 600x400 with 1 Axes>"
      ]
     },
     "metadata": {},
     "output_type": "display_data"
    },
    {
     "name": "stdout",
     "output_type": "stream",
     "text": [
      "Fit 5 in: 214.93s, setup: 0.00s, 41.75 ± 0.51s per epoch, 0.11 ± 0.01s per batch\n",
      "Using seed 205811062\n",
      "Using seed 205811062\n",
      "TTA: 0.9428\n"
     ]
    }
   ],
   "source": [
    "rng.previous()\n",
    "tfms = nn.Sequential(transforms.RandomHorizontalFlip(0.65))\n",
    "augcb = BatchTransformCB(partial(tfm_batch, tfm_x=tfms), on_val=False)\n",
    "learn = run(timm.create_model('resnet18d', in_chans=1, num_classes=10, act_layer=nn.SiLU, pretrained=False), m=1, epochs=5,\n",
    "            leaky=0.0003, cbs=[upscale_cb(4, 'bilinear'), augcb, TopLossesCallback()], \n",
    "            dls = CustomDataLoader.from_dd(tds.cached, bs, num_workers=0),\n",
    "            tta=True)\n"
   ]
  },
  {
   "cell_type": "code",
   "execution_count": null,
   "metadata": {},
   "outputs": [
    {
     "name": "stdout",
     "output_type": "stream",
     "text": [
      "Batch size 256\n",
      "tensor([0.30707011, 1.60285020, 0.58453292])\n",
      "tensor([1, 9, 5, 3, 3, 3, 0, 0, 9, 7, 2, 5, 7, 1, 1, 5, 4, 5, 5, 1, 3, 5, 1, 7, 0, 1, 7, 8, 8, 0, 7, 9, 2, 3, 1, 2, 6, 4, 0, 4, 8, 3, 7, 1,\n",
      "        0, 1, 1, 2, 3, 2, 1, 6, 7, 9, 4, 1, 1, 7, 5, 9, 7, 3, 7, 9, 0, 0, 9, 0, 5, 9, 8, 5, 0, 3, 0, 5, 5, 1, 8, 5, 3, 2, 1, 1, 9, 0, 2, 0,\n",
      "        5, 8, 0, 3, 3, 8, 3, 4, 7, 3, 6, 2, 5, 9, 5, 8, 6, 0, 4, 7, 3, 5, 7, 2, 5, 7, 8, 8, 1, 8, 6, 0, 6, 6, 9, 4, 5, 9, 2, 8, 8, 6, 8, 7,\n",
      "        3, 0, 3, 7, 7, 3, 3, 8, 7, 7, 6, 5, 8, 7, 9, 8, 0, 9, 0, 7, 8, 2, 7, 5, 3, 3, 2, 6, 3, 7, 4, 2, 3, 9, 3, 8, 9, 1, 3, 8, 9, 5, 6, 2,\n",
      "        2, 1, 3, 2, 4, 4, 5, 1, 3, 1, 4, 5, 8, 0, 1, 9, 2, 1, 8, 3, 9, 9, 2, 6, 2, 4, 4, 6, 8, 2, 4, 5, 4, 4, 8, 2, 2, 3, 7, 4, 5, 9, 6, 4,\n",
      "        2, 5, 6, 6, 7, 7, 9, 7, 9, 4, 8, 2, 8, 9, 3, 2, 6, 5, 7, 5, 6, 2, 0, 0, 5, 6, 8, 6, 2, 9, 3, 6, 4, 9, 2, 6])\n",
      "Using seed 205811062\n"
     ]
    },
    {
     "data": {
      "text/html": [
       "\n",
       "<style>\n",
       "    /* Turns off some styling */\n",
       "    progress {\n",
       "        /* gets rid of default border in Firefox and Opera. */\n",
       "        border: none;\n",
       "        /* Needs to be in here for Safari polyfill so background images work as expected. */\n",
       "        background-size: auto;\n",
       "    }\n",
       "    progress:not([value]), progress:not([value])::-webkit-progress-bar {\n",
       "        background: repeating-linear-gradient(45deg, #7e7e7e, #7e7e7e 10px, #5c5c5c 10px, #5c5c5c 20px);\n",
       "    }\n",
       "    .progress-bar-interrupted, .progress-bar-interrupted::-webkit-progress-bar {\n",
       "        background: #F44336;\n",
       "    }\n",
       "</style>\n"
      ],
      "text/plain": [
       "<IPython.core.display.HTML object>"
      ]
     },
     "metadata": {},
     "output_type": "display_data"
    },
    {
     "data": {
      "text/html": [
       "<table border=\"1\" class=\"dataframe\">\n",
       "  <thead>\n",
       "    <tr style=\"text-align: left;\">\n",
       "      <th>accuracy</th>\n",
       "      <th>loss</th>\n",
       "      <th>epoch</th>\n",
       "      <th>train</th>\n",
       "    </tr>\n",
       "  </thead>\n",
       "  <tbody>\n",
       "    <tr>\n",
       "      <td>0.819</td>\n",
       "      <td>0.555</td>\n",
       "      <td>0</td>\n",
       "      <td>train</td>\n",
       "    </tr>\n",
       "    <tr>\n",
       "      <td>0.787</td>\n",
       "      <td>0.699</td>\n",
       "      <td>0</td>\n",
       "      <td>eval</td>\n",
       "    </tr>\n",
       "    <tr>\n",
       "      <td>0.849</td>\n",
       "      <td>0.399</td>\n",
       "      <td>1</td>\n",
       "      <td>train</td>\n",
       "    </tr>\n",
       "    <tr>\n",
       "      <td>0.909</td>\n",
       "      <td>0.247</td>\n",
       "      <td>1</td>\n",
       "      <td>eval</td>\n",
       "    </tr>\n",
       "    <tr>\n",
       "      <td>0.863</td>\n",
       "      <td>0.353</td>\n",
       "      <td>2</td>\n",
       "      <td>train</td>\n",
       "    </tr>\n",
       "    <tr>\n",
       "      <td>0.917</td>\n",
       "      <td>0.231</td>\n",
       "      <td>2</td>\n",
       "      <td>eval</td>\n",
       "    </tr>\n",
       "    <tr>\n",
       "      <td>0.945</td>\n",
       "      <td>0.148</td>\n",
       "      <td>3</td>\n",
       "      <td>train</td>\n",
       "    </tr>\n",
       "    <tr>\n",
       "      <td>0.935</td>\n",
       "      <td>0.228</td>\n",
       "      <td>3</td>\n",
       "      <td>eval</td>\n",
       "    </tr>\n",
       "    <tr>\n",
       "      <td>0.996</td>\n",
       "      <td>0.013</td>\n",
       "      <td>4</td>\n",
       "      <td>train</td>\n",
       "    </tr>\n",
       "    <tr>\n",
       "      <td>0.942</td>\n",
       "      <td>0.237</td>\n",
       "      <td>4</td>\n",
       "      <td>eval</td>\n",
       "    </tr>\n",
       "  </tbody>\n",
       "</table>"
      ],
      "text/plain": [
       "<IPython.core.display.HTML object>"
      ]
     },
     "metadata": {},
     "output_type": "display_data"
    },
    {
     "data": {
      "image/png": "[encoded data removed]",
      "text/plain": [
       "<Figure size 600x400 with 1 Axes>"
      ]
     },
     "metadata": {},
     "output_type": "display_data"
    },
    {
     "name": "stdout",
     "output_type": "stream",
     "text": [
      "Fit 5 in: 215.06s, setup: 0.00s, 41.77 ± 0.33s per epoch, 0.11 ± 0.00s per batch\n",
      "Using seed 205811062\n",
      "Using seed 205811062\n",
      "TTA: 0.9296\n"
     ]
    }
   ],
   "source": [
    "rng.previous()\n",
    "tfms = nn.Sequential(transforms.RandomHorizontalFlip(0.65))\n",
    "augcb = BatchTransformCB(partial(tfm_batch, tfm_x=tfms), on_val=False)\n",
    "learn = run(timm.create_model('resnet18d', in_chans=1, num_classes=10, act_layer=nn.SiLU, pretrained=False), m=1, epochs=5,\n",
    "            leaky=0.0003, cbs=[upscale_cb(4, 'bilinear'), TopLossesCallback()], \n",
    "            dls = CustomDataLoader.from_dd(tds.cached, bs, num_workers=0),\n",
    "            tta=True)\n"
   ]
  },
  {
   "cell_type": "code",
   "execution_count": null,
   "metadata": {},
   "outputs": [],
   "source": [
    "def mixup_data_per_batch(x, y, sampler=torch.distributions.Beta(tensor(1), tensor(1)).sample):\n",
    "    '''Returns mixed inputs, pairs of targets, and lambda'''\n",
    "    lam = sampler([1]).to(x.device)\n",
    "    batch_size = x.shape[0]\n",
    "    index = torch.randperm(batch_size).to(x.device)\n",
    "    mixed_x = lam * x + (1 - lam) * x[index, :]\n",
    "    y_a, y_b = y, y[index]\n",
    "    return mixed_x, (y_a, y_b, lam, index)\n",
    "\n",
    "def mixup_data_prev(x, y, sampler):\n",
    "    r = mixup_data((x,y), None, sampler=sampler)\n",
    "    return r.mixed_x, (r.y1.float(), r.y2.float(), r.lam, r.index)\n",
    "\n",
    "def mixup_criterion_per_batch(pred, my, lf=F.cross_entropy, **_):\n",
    "    y_a, y_b, lam, *_ = my\n",
    "    return lam * lf(pred, y_a) + (1 - lam) * lf(pred, y_b)\n",
    "\n",
    "class MixUpCB(TrainCB):\n",
    "    def __init__(self,alpha=0.4, mix_data=mixup_data_per_batch, mix_loss=mixup_criterion_per_batch, label_smoothing=None,**kw): \n",
    "        super().__init__(**kw)\n",
    "        self.alpha = alpha\n",
    "        self.dist = torch.distributions.Beta(self.alpha,self.alpha)\n",
    "        self.mix_data = mix_data\n",
    "        self.loss_func = mix_loss\n",
    "        self.label_smoothing = label_smoothing\n",
    "        \n",
    "    def before_fit(self, learn):\n",
    "        self.base_lf = learn.loss_func\n",
    "        \n",
    "    def sample(self, shape): return self.dist.sample([1])\n",
    "    \n",
    "    def before_batch(self, learn):\n",
    "        if learn.training and self.alpha is not None: \n",
    "            bx, mixup = self.mix_data(*learn.batch, self.sample)\n",
    "            learn.batch = bx, learn.batch[1]\n",
    "            learn.mixup = mixup\n",
    "\n",
    "    def get_loss(self, learn):\n",
    "        if learn.training and self.alpha is not None:\n",
    "            learn.loss = self.loss_func(learn.preds, learn.mixup, label_smoothing=self.label_smoothing) # todo  *learn.batch[self.n_inp:]   \n",
    "        else:\n",
    "            super().get_loss(learn)"
   ]
  },
  {
   "cell_type": "code",
   "execution_count": null,
   "metadata": {},
   "outputs": [
    {
     "name": "stdout",
     "output_type": "stream",
     "text": [
      "Batch size 256\n",
      "tensor([0.30707011, 1.60285020, 0.58453292])\n",
      "tensor([1, 9, 5, 3, 3, 3, 0, 0, 9, 7, 2, 5, 7, 1, 1, 5, 4, 5, 5, 1, 3, 5, 1, 7, 0, 1, 7, 8, 8, 0, 7, 9, 2, 3, 1, 2, 6, 4, 0, 4, 8, 3, 7, 1,\n",
      "        0, 1, 1, 2, 3, 2, 1, 6, 7, 9, 4, 1, 1, 7, 5, 9, 7, 3, 7, 9, 0, 0, 9, 0, 5, 9, 8, 5, 0, 3, 0, 5, 5, 1, 8, 5, 3, 2, 1, 1, 9, 0, 2, 0,\n",
      "        5, 8, 0, 3, 3, 8, 3, 4, 7, 3, 6, 2, 5, 9, 5, 8, 6, 0, 4, 7, 3, 5, 7, 2, 5, 7, 8, 8, 1, 8, 6, 0, 6, 6, 9, 4, 5, 9, 2, 8, 8, 6, 8, 7,\n",
      "        3, 0, 3, 7, 7, 3, 3, 8, 7, 7, 6, 5, 8, 7, 9, 8, 0, 9, 0, 7, 8, 2, 7, 5, 3, 3, 2, 6, 3, 7, 4, 2, 3, 9, 3, 8, 9, 1, 3, 8, 9, 5, 6, 2,\n",
      "        2, 1, 3, 2, 4, 4, 5, 1, 3, 1, 4, 5, 8, 0, 1, 9, 2, 1, 8, 3, 9, 9, 2, 6, 2, 4, 4, 6, 8, 2, 4, 5, 4, 4, 8, 2, 2, 3, 7, 4, 5, 9, 6, 4,\n",
      "        2, 5, 6, 6, 7, 7, 9, 7, 9, 4, 8, 2, 8, 9, 3, 2, 6, 5, 7, 5, 6, 2, 0, 0, 5, 6, 8, 6, 2, 9, 3, 6, 4, 9, 2, 6])\n",
      "Using seed 205811062\n"
     ]
    },
    {
     "data": {
      "text/html": [
       "\n",
       "<style>\n",
       "    /* Turns off some styling */\n",
       "    progress {\n",
       "        /* gets rid of default border in Firefox and Opera. */\n",
       "        border: none;\n",
       "        /* Needs to be in here for Safari polyfill so background images work as expected. */\n",
       "        background-size: auto;\n",
       "    }\n",
       "    progress:not([value]), progress:not([value])::-webkit-progress-bar {\n",
       "        background: repeating-linear-gradient(45deg, #7e7e7e, #7e7e7e 10px, #5c5c5c 10px, #5c5c5c 20px);\n",
       "    }\n",
       "    .progress-bar-interrupted, .progress-bar-interrupted::-webkit-progress-bar {\n",
       "        background: #F44336;\n",
       "    }\n",
       "</style>\n"
      ],
      "text/plain": [
       "<IPython.core.display.HTML object>"
      ]
     },
     "metadata": {},
     "output_type": "display_data"
    },
    {
     "data": {
      "text/html": [
       "<table border=\"1\" class=\"dataframe\">\n",
       "  <thead>\n",
       "    <tr style=\"text-align: left;\">\n",
       "      <th>accuracy</th>\n",
       "      <th>loss</th>\n",
       "      <th>epoch</th>\n",
       "      <th>train</th>\n",
       "    </tr>\n",
       "  </thead>\n",
       "  <tbody>\n",
       "    <tr>\n",
       "      <td>0.454</td>\n",
       "      <td>1.022</td>\n",
       "      <td>0</td>\n",
       "      <td>train</td>\n",
       "    </tr>\n",
       "    <tr>\n",
       "      <td>0.770</td>\n",
       "      <td>0.702</td>\n",
       "      <td>0</td>\n",
       "      <td>eval</td>\n",
       "    </tr>\n",
       "    <tr>\n",
       "      <td>0.474</td>\n",
       "      <td>0.760</td>\n",
       "      <td>1</td>\n",
       "      <td>train</td>\n",
       "    </tr>\n",
       "    <tr>\n",
       "      <td>0.845</td>\n",
       "      <td>0.491</td>\n",
       "      <td>1</td>\n",
       "      <td>eval</td>\n",
       "    </tr>\n",
       "    <tr>\n",
       "      <td>0.474</td>\n",
       "      <td>0.673</td>\n",
       "      <td>2</td>\n",
       "      <td>train</td>\n",
       "    </tr>\n",
       "    <tr>\n",
       "      <td>0.919</td>\n",
       "      <td>0.258</td>\n",
       "      <td>2</td>\n",
       "      <td>eval</td>\n",
       "    </tr>\n",
       "    <tr>\n",
       "      <td>0.524</td>\n",
       "      <td>0.579</td>\n",
       "      <td>3</td>\n",
       "      <td>train</td>\n",
       "    </tr>\n",
       "    <tr>\n",
       "      <td>0.938</td>\n",
       "      <td>0.205</td>\n",
       "      <td>3</td>\n",
       "      <td>eval</td>\n",
       "    </tr>\n",
       "    <tr>\n",
       "      <td>0.477</td>\n",
       "      <td>0.476</td>\n",
       "      <td>4</td>\n",
       "      <td>train</td>\n",
       "    </tr>\n",
       "    <tr>\n",
       "      <td>0.943</td>\n",
       "      <td>0.181</td>\n",
       "      <td>4</td>\n",
       "      <td>eval</td>\n",
       "    </tr>\n",
       "  </tbody>\n",
       "</table>"
      ],
      "text/plain": [
       "<IPython.core.display.HTML object>"
      ]
     },
     "metadata": {},
     "output_type": "display_data"
    },
    {
     "data": {
      "image/png": "[encoded data removed]",
      "text/plain": [
       "<Figure size 600x400 with 1 Axes>"
      ]
     },
     "metadata": {},
     "output_type": "display_data"
    },
    {
     "name": "stderr",
     "output_type": "stream",
     "text": [
      "/home/piotr/miniconda3/envs/miniai/lib/python3.10/site-packages/numpy/core/shape_base.py:65: FutureWarning: The input object of type 'Tensor' is an array-like implementing one of the corresponding protocols (`__array__`, `__array_interface__` or `__array_struct__`); but not a sequence (or 0-D). In the future, this object will be coerced as if it was first converted using `np.array(obj)`. To retain the old behaviour, you have to either modify the type 'Tensor', or assign to an empty array created with `np.empty(correct_shape, dtype=object)`.\n",
      "  ary = asanyarray(ary)\n",
      "/home/piotr/miniconda3/envs/miniai/lib/python3.10/site-packages/numpy/core/shape_base.py:65: VisibleDeprecationWarning: Creating an ndarray from ragged nested sequences (which is a list-or-tuple of lists-or-tuples-or ndarrays with different lengths or shapes) is deprecated. If you meant to do this, you must specify 'dtype=object' when creating the ndarray.\n",
      "  ary = asanyarray(ary)\n"
     ]
    },
    {
     "name": "stdout",
     "output_type": "stream",
     "text": [
      "Fit 5 in: 139.88s, setup: 0.00s, 26.62 ± 0.05s per epoch, 0.11 ± 0.01s per batch\n",
      "Using seed 205811062\n",
      "Using seed 205811062\n",
      "TTA: 0.8792\n"
     ]
    }
   ],
   "source": [
    "rng.previous()\n",
    "tfms = nn.Sequential(transforms.RandomHorizontalFlip(0.65))\n",
    "augcb = BatchTransformCB(partial(tfm_batch, tfm_x=tfms), on_val=False)\n",
    "learn = run(timm.create_model('resnet18d', in_chans=1, num_classes=10, act_layer=nn.SiLU, pretrained=False), m=1, epochs=5,\n",
    "            leaky=0.0003, cbs=[upscale_cb(4, 'bilinear'), TopLossesCallback()], \n",
    "            train_cb=MixUpCB(0.4),\n",
    "            dls = CustomDataLoader.from_dd(tds.cached, bs, num_workers=0),\n",
    "            tta=True)\n"
   ]
  },
  {
   "cell_type": "markdown",
   "metadata": {},
   "source": [
    "## TODO:\n",
    "- mixup curriculum\n",
    "- remove weight decay\n",
    "- try_alternative adam"
   ]
  },
  {
   "cell_type": "code",
   "execution_count": null,
   "metadata": {},
   "outputs": [
    {
     "name": "stdout",
     "output_type": "stream",
     "text": [
      "Batch size 256\n",
      "tensor([0.30707011, 1.60285020, 0.58453292])\n",
      "tensor([1, 9, 5, 3, 3, 3, 0, 0, 9, 7, 2, 5, 7, 1, 1, 5, 4, 5, 5, 1, 3, 5, 1, 7, 0, 1, 7, 8, 8, 0, 7, 9, 2, 3, 1, 2, 6, 4, 0, 4, 8, 3, 7, 1,\n",
      "        0, 1, 1, 2, 3, 2, 1, 6, 7, 9, 4, 1, 1, 7, 5, 9, 7, 3, 7, 9, 0, 0, 9, 0, 5, 9, 8, 5, 0, 3, 0, 5, 5, 1, 8, 5, 3, 2, 1, 1, 9, 0, 2, 0,\n",
      "        5, 8, 0, 3, 3, 8, 3, 4, 7, 3, 6, 2, 5, 9, 5, 8, 6, 0, 4, 7, 3, 5, 7, 2, 5, 7, 8, 8, 1, 8, 6, 0, 6, 6, 9, 4, 5, 9, 2, 8, 8, 6, 8, 7,\n",
      "        3, 0, 3, 7, 7, 3, 3, 8, 7, 7, 6, 5, 8, 7, 9, 8, 0, 9, 0, 7, 8, 2, 7, 5, 3, 3, 2, 6, 3, 7, 4, 2, 3, 9, 3, 8, 9, 1, 3, 8, 9, 5, 6, 2,\n",
      "        2, 1, 3, 2, 4, 4, 5, 1, 3, 1, 4, 5, 8, 0, 1, 9, 2, 1, 8, 3, 9, 9, 2, 6, 2, 4, 4, 6, 8, 2, 4, 5, 4, 4, 8, 2, 2, 3, 7, 4, 5, 9, 6, 4,\n",
      "        2, 5, 6, 6, 7, 7, 9, 7, 9, 4, 8, 2, 8, 9, 3, 2, 6, 5, 7, 5, 6, 2, 0, 0, 5, 6, 8, 6, 2, 9, 3, 6, 4, 9, 2, 6])\n",
      "Using seed 205811062\n"
     ]
    },
    {
     "data": {
      "text/html": [
       "\n",
       "<style>\n",
       "    /* Turns off some styling */\n",
       "    progress {\n",
       "        /* gets rid of default border in Firefox and Opera. */\n",
       "        border: none;\n",
       "        /* Needs to be in here for Safari polyfill so background images work as expected. */\n",
       "        background-size: auto;\n",
       "    }\n",
       "    progress:not([value]), progress:not([value])::-webkit-progress-bar {\n",
       "        background: repeating-linear-gradient(45deg, #7e7e7e, #7e7e7e 10px, #5c5c5c 10px, #5c5c5c 20px);\n",
       "    }\n",
       "    .progress-bar-interrupted, .progress-bar-interrupted::-webkit-progress-bar {\n",
       "        background: #F44336;\n",
       "    }\n",
       "</style>\n"
      ],
      "text/plain": [
       "<IPython.core.display.HTML object>"
      ]
     },
     "metadata": {},
     "output_type": "display_data"
    },
    {
     "data": {
      "text/html": [
       "<table border=\"1\" class=\"dataframe\">\n",
       "  <thead>\n",
       "    <tr style=\"text-align: left;\">\n",
       "      <th>accuracy</th>\n",
       "      <th>loss</th>\n",
       "      <th>epoch</th>\n",
       "      <th>train</th>\n",
       "    </tr>\n",
       "  </thead>\n",
       "  <tbody>\n",
       "    <tr>\n",
       "      <td>0.454</td>\n",
       "      <td>1.021</td>\n",
       "      <td>0</td>\n",
       "      <td>train</td>\n",
       "    </tr>\n",
       "    <tr>\n",
       "      <td>0.762</td>\n",
       "      <td>0.712</td>\n",
       "      <td>0</td>\n",
       "      <td>eval</td>\n",
       "    </tr>\n",
       "    <tr>\n",
       "      <td>0.476</td>\n",
       "      <td>0.757</td>\n",
       "      <td>1</td>\n",
       "      <td>train</td>\n",
       "    </tr>\n",
       "    <tr>\n",
       "      <td>0.768</td>\n",
       "      <td>0.737</td>\n",
       "      <td>1</td>\n",
       "      <td>eval</td>\n",
       "    </tr>\n",
       "    <tr>\n",
       "      <td>0.473</td>\n",
       "      <td>0.671</td>\n",
       "      <td>2</td>\n",
       "      <td>train</td>\n",
       "    </tr>\n",
       "    <tr>\n",
       "      <td>0.921</td>\n",
       "      <td>0.246</td>\n",
       "      <td>2</td>\n",
       "      <td>eval</td>\n",
       "    </tr>\n",
       "    <tr>\n",
       "      <td>0.523</td>\n",
       "      <td>0.572</td>\n",
       "      <td>3</td>\n",
       "      <td>train</td>\n",
       "    </tr>\n",
       "    <tr>\n",
       "      <td>0.939</td>\n",
       "      <td>0.189</td>\n",
       "      <td>3</td>\n",
       "      <td>eval</td>\n",
       "    </tr>\n",
       "    <tr>\n",
       "      <td>0.477</td>\n",
       "      <td>0.474</td>\n",
       "      <td>4</td>\n",
       "      <td>train</td>\n",
       "    </tr>\n",
       "    <tr>\n",
       "      <td>0.944</td>\n",
       "      <td>0.179</td>\n",
       "      <td>4</td>\n",
       "      <td>eval</td>\n",
       "    </tr>\n",
       "  </tbody>\n",
       "</table>"
      ],
      "text/plain": [
       "<IPython.core.display.HTML object>"
      ]
     },
     "metadata": {},
     "output_type": "display_data"
    },
    {
     "data": {
      "image/png": "[encoded data removed]",
      "text/plain": [
       "<Figure size 600x400 with 1 Axes>"
      ]
     },
     "metadata": {},
     "output_type": "display_data"
    },
    {
     "name": "stdout",
     "output_type": "stream",
     "text": [
      "Fit 5 in: 140.94s, setup: 0.00s, 26.85 ± 0.42s per epoch, 0.11 ± 0.01s per batch\n",
      "Using seed 205811062\n",
      "Using seed 205811062\n",
      "TTA: 0.8757\n"
     ]
    }
   ],
   "source": [
    "rng.previous()\n",
    "tfms = nn.Sequential(transforms.RandomHorizontalFlip(0.65))\n",
    "augcb = BatchTransformCB(partial(tfm_batch, tfm_x=tfms), on_val=False)\n",
    "learn = run(timm.create_model('resnet18d', in_chans=1, num_classes=10, act_layer=nn.SiLU, pretrained=False), m=1, epochs=5,\n",
    "            leaky=0.0003, cbs=[upscale_cb(4, 'bilinear'), TopLossesCallback()], \n",
    "            train_cb=MixUpCB(0.4),\n",
    "            dls = CustomDataLoader.from_dd(tds.cached, bs, num_workers=0),\n",
    "            tta=True, opt_func=partial(optim.AdamW,weight_decay=0.0))"
   ]
  },
  {
   "cell_type": "code",
   "execution_count": null,
   "metadata": {},
   "outputs": [],
   "source": []
  }
 ],
 "metadata": {
  "jupytext": {
   "split_at_heading": true
  },
  "kernelspec": {
   "display_name": "Python 3 (ipykernel)",
   "language": "python",
   "name": "python3"
  },
  "widgets": {
   "application/vnd.jupyter.widget-state+json": {
    "1930ad4244ff4add98b2824f436d4cbf": {
     "model_module": "@jupyter-widgets/base",
     "model_module_version": "1.2.0",
     "model_name": "LayoutModel",
     "state": {
      "_model_module": "@jupyter-widgets/base",
      "_model_module_version": "1.2.0",
      "_model_name": "LayoutModel",
      "_view_count": null,
      "_view_module": "@jupyter-widgets/base",
      "_view_module_version": "1.2.0",
      "_view_name": "LayoutView",
      "align_content": null,
      "align_items": null,
      "align_self": null,
      "border": null,
      "bottom": null,
      "display": null,
      "flex": null,
      "flex_flow": null,
      "grid_area": null,
      "grid_auto_columns": null,
      "grid_auto_flow": null,
      "grid_auto_rows": null,
      "grid_column": null,
      "grid_gap": null,
      "grid_row": null,
      "grid_template_areas": null,
      "grid_template_columns": null,
      "grid_template_rows": null,
      "height": null,
      "justify_content": null,
      "justify_items": null,
      "left": null,
      "margin": null,
      "max_height": null,
      "max_width": null,
      "min_height": null,
      "min_width": null,
      "object_fit": null,
      "object_position": null,
      "order": null,
      "overflow": null,
      "overflow_x": null,
      "overflow_y": null,
      "padding": null,
      "right": null,
      "top": null,
      "visibility": null,
      "width": null
     }
    },
    "455e06ae1673469e983dcb5613cfabf9": {
     "model_module": "@jupyter-widgets/base",
     "model_module_version": "1.2.0",
     "model_name": "LayoutModel",
     "state": {
      "_model_module": "@jupyter-widgets/base",
      "_model_module_version": "1.2.0",
      "_model_name": "LayoutModel",
      "_view_count": null,
      "_view_module": "@jupyter-widgets/base",
      "_view_module_version": "1.2.0",
      "_view_name": "LayoutView",
      "align_content": null,
      "align_items": null,
      "align_self": null,
      "border": null,
      "bottom": null,
      "display": null,
      "flex": null,
      "flex_flow": null,
      "grid_area": null,
      "grid_auto_columns": null,
      "grid_auto_flow": null,
      "grid_auto_rows": null,
      "grid_column": null,
      "grid_gap": null,
      "grid_row": null,
      "grid_template_areas": null,
      "grid_template_columns": null,
      "grid_template_rows": null,
      "height": null,
      "justify_content": null,
      "justify_items": null,
      "left": null,
      "margin": null,
      "max_height": null,
      "max_width": null,
      "min_height": null,
      "min_width": null,
      "object_fit": null,
      "object_position": null,
      "order": null,
      "overflow": null,
      "overflow_x": null,
      "overflow_y": null,
      "padding": null,
      "right": null,
      "top": null,
      "visibility": null,
      "width": null
     }
    },
    "4f746a7fc9ff4528bce8936825eaaa5d": {
     "model_module": "@jupyter-widgets/controls",
     "model_module_version": "1.5.0",
     "model_name": "DescriptionStyleModel",
     "state": {
      "_model_module": "@jupyter-widgets/controls",
      "_model_module_version": "1.5.0",
      "_model_name": "DescriptionStyleModel",
      "_view_count": null,
      "_view_module": "@jupyter-widgets/base",
      "_view_module_version": "1.2.0",
      "_view_name": "StyleView",
      "description_width": ""
     }
    },
    "59c5fe4eed9743a4893acfbfbcf87ed5": {
     "model_module": "@jupyter-widgets/base",
     "model_module_version": "1.2.0",
     "model_name": "LayoutModel",
     "state": {
      "_model_module": "@jupyter-widgets/base",
      "_model_module_version": "1.2.0",
      "_model_name": "LayoutModel",
      "_view_count": null,
      "_view_module": "@jupyter-widgets/base",
      "_view_module_version": "1.2.0",
      "_view_name": "LayoutView",
      "align_content": null,
      "align_items": null,
      "align_self": null,
      "border": null,
      "bottom": null,
      "display": null,
      "flex": null,
      "flex_flow": null,
      "grid_area": null,
      "grid_auto_columns": null,
      "grid_auto_flow": null,
      "grid_auto_rows": null,
      "grid_column": null,
      "grid_gap": null,
      "grid_row": null,
      "grid_template_areas": null,
      "grid_template_columns": null,
      "grid_template_rows": null,
      "height": null,
      "justify_content": null,
      "justify_items": null,
      "left": null,
      "margin": null,
      "max_height": null,
      "max_width": null,
      "min_height": null,
      "min_width": null,
      "object_fit": null,
      "object_position": null,
      "order": null,
      "overflow": null,
      "overflow_x": null,
      "overflow_y": null,
      "padding": null,
      "right": null,
      "top": null,
      "visibility": null,
      "width": null
     }
    },
    "63c555524ffa4c4491e43ee5aaa55615": {
     "model_module": "@jupyter-widgets/base",
     "model_module_version": "1.2.0",
     "model_name": "LayoutModel",
     "state": {
      "_model_module": "@jupyter-widgets/base",
      "_model_module_version": "1.2.0",
      "_model_name": "LayoutModel",
      "_view_count": null,
      "_view_module": "@jupyter-widgets/base",
      "_view_module_version": "1.2.0",
      "_view_name": "LayoutView",
      "align_content": null,
      "align_items": null,
      "align_self": null,
      "border": null,
      "bottom": null,
      "display": null,
      "flex": null,
      "flex_flow": null,
      "grid_area": null,
      "grid_auto_columns": null,
      "grid_auto_flow": null,
      "grid_auto_rows": null,
      "grid_column": null,
      "grid_gap": null,
      "grid_row": null,
      "grid_template_areas": null,
      "grid_template_columns": null,
      "grid_template_rows": null,
      "height": null,
      "justify_content": null,
      "justify_items": null,
      "left": null,
      "margin": null,
      "max_height": null,
      "max_width": null,
      "min_height": null,
      "min_width": null,
      "object_fit": null,
      "object_position": null,
      "order": null,
      "overflow": null,
      "overflow_x": null,
      "overflow_y": null,
      "padding": null,
      "right": null,
      "top": null,
      "visibility": null,
      "width": null
     }
    },
    "6d2eec7fbedb4920afa640e39e518cfb": {
     "model_module": "@jupyter-widgets/controls",
     "model_module_version": "1.5.0",
     "model_name": "FloatProgressModel",
     "state": {
      "_dom_classes": [],
      "_model_module": "@jupyter-widgets/controls",
      "_model_module_version": "1.5.0",
      "_model_name": "FloatProgressModel",
      "_view_count": null,
      "_view_module": "@jupyter-widgets/controls",
      "_view_module_version": "1.5.0",
      "_view_name": "ProgressView",
      "bar_style": "success",
      "description": "",
      "description_tooltip": null,
      "layout": "IPY_MODEL_455e06ae1673469e983dcb5613cfabf9",
      "max": 2,
      "min": 0,
      "orientation": "horizontal",
      "style": "IPY_MODEL_bf9ac8d1d1754cf197ce246206c63f2e",
      "value": 2
     }
    },
    "6ee004a86352495682e8cdd2d4f76408": {
     "model_module": "@jupyter-widgets/controls",
     "model_module_version": "1.5.0",
     "model_name": "DescriptionStyleModel",
     "state": {
      "_model_module": "@jupyter-widgets/controls",
      "_model_module_version": "1.5.0",
      "_model_name": "DescriptionStyleModel",
      "_view_count": null,
      "_view_module": "@jupyter-widgets/base",
      "_view_module_version": "1.2.0",
      "_view_name": "StyleView",
      "description_width": ""
     }
    },
    "8f88307ff0a849fe918f4c90d7921d59": {
     "model_module": "@jupyter-widgets/controls",
     "model_module_version": "1.5.0",
     "model_name": "HTMLModel",
     "state": {
      "_dom_classes": [],
      "_model_module": "@jupyter-widgets/controls",
      "_model_module_version": "1.5.0",
      "_model_name": "HTMLModel",
      "_view_count": null,
      "_view_module": "@jupyter-widgets/controls",
      "_view_module_version": "1.5.0",
      "_view_name": "HTMLView",
      "description": "",
      "description_tooltip": null,
      "layout": "IPY_MODEL_59c5fe4eed9743a4893acfbfbcf87ed5",
      "placeholder": "​",
      "style": "IPY_MODEL_4f746a7fc9ff4528bce8936825eaaa5d",
      "value": " 2/2 [00:00&lt;00:00, 78.33it/s]"
     }
    },
    "a5425c6fb41c43948a0070d091c47160": {
     "model_module": "@jupyter-widgets/controls",
     "model_module_version": "1.5.0",
     "model_name": "HBoxModel",
     "state": {
      "_dom_classes": [],
      "_model_module": "@jupyter-widgets/controls",
      "_model_module_version": "1.5.0",
      "_model_name": "HBoxModel",
      "_view_count": null,
      "_view_module": "@jupyter-widgets/controls",
      "_view_module_version": "1.5.0",
      "_view_name": "HBoxView",
      "box_style": "",
      "children": [
       "IPY_MODEL_f9fabe3bf89c45578422ce72800f251b",
       "IPY_MODEL_6d2eec7fbedb4920afa640e39e518cfb",
       "IPY_MODEL_8f88307ff0a849fe918f4c90d7921d59"
      ],
      "layout": "IPY_MODEL_1930ad4244ff4add98b2824f436d4cbf"
     }
    },
    "bf9ac8d1d1754cf197ce246206c63f2e": {
     "model_module": "@jupyter-widgets/controls",
     "model_module_version": "1.5.0",
     "model_name": "ProgressStyleModel",
     "state": {
      "_model_module": "@jupyter-widgets/controls",
      "_model_module_version": "1.5.0",
      "_model_name": "ProgressStyleModel",
      "_view_count": null,
      "_view_module": "@jupyter-widgets/base",
      "_view_module_version": "1.2.0",
      "_view_name": "StyleView",
      "bar_color": null,
      "description_width": ""
     }
    },
    "f9fabe3bf89c45578422ce72800f251b": {
     "model_module": "@jupyter-widgets/controls",
     "model_module_version": "1.5.0",
     "model_name": "HTMLModel",
     "state": {
      "_dom_classes": [],
      "_model_module": "@jupyter-widgets/controls",
      "_model_module_version": "1.5.0",
      "_model_name": "HTMLModel",
      "_view_count": null,
      "_view_module": "@jupyter-widgets/controls",
      "_view_module_version": "1.5.0",
      "_view_name": "HTMLView",
      "description": "",
      "description_tooltip": null,
      "layout": "IPY_MODEL_63c555524ffa4c4491e43ee5aaa55615",
      "placeholder": "​",
      "style": "IPY_MODEL_6ee004a86352495682e8cdd2d4f76408",
      "value": "100%"
     }
    }
   }
  }
 },
 "nbformat": 4,
 "nbformat_minor": 4
}

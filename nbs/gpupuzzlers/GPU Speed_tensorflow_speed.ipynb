{
 "cells": [
  {
   "cell_type": "code",
   "execution_count": null,
   "id": "94948636-1723-4d78-bc34-8d058fa3b7e6",
   "metadata": {},
   "outputs": [
    {
     "name": "stdout",
     "output_type": "stream",
     "text": [
      "env: LD_LIBRARY_PATH=/usr/lib/wsl/lib:/home/piotr/miniconda3/envs/tf-env/lib/\n"
     ]
    }
   ],
   "source": [
    "%env LD_LIBRARY_PATH=/usr/lib/wsl/lib:/home/piotr/miniconda3/envs/tf-env/lib/"
   ]
  },
  {
   "cell_type": "code",
   "execution_count": null,
   "id": "5a13eb5c-d333-4012-997a-40471493d1d8",
   "metadata": {},
   "outputs": [],
   "source": []
  },
  {
   "cell_type": "code",
   "execution_count": null,
   "id": "6ede23e2-ec7d-4591-985f-77ece0def6e4",
   "metadata": {},
   "outputs": [
    {
     "name": "stdout",
     "output_type": "stream",
     "text": [
      "tf.Tensor(2031.5409, shape=(), dtype=float32)\n",
      "tf.Tensor(2031.5409, shape=(), dtype=float32)\n",
      "2031.5441641807556\n"
     ]
    }
   ],
   "source": [
    "import tensorflow as tf\n",
    "tf.compat.v1.enable_eager_execution()\n",
    "def first_sum(a_tensor):\n",
    "    with tf.device('/CPU:0'):\n",
    "        total = 0.0\n",
    "        for i in range(a_tensor.shape[0]):\n",
    "            total += a_tensor[i].cpu()\n",
    "    return str(total)\n",
    "\n",
    "def second_sum(a_tensor):\n",
    "    with tf.device('/GPU:0'):\n",
    "        total = tf.constant(0.0, dtype=a_tensor.dtype)\n",
    "        for i in range(a_tensor.shape[0]):\n",
    "            total += a_tensor[i]\n",
    "    return str(total)\n",
    "\n",
    "def third_sum(a_tensor):\n",
    "    total = 0.0\n",
    "    tensor_on_cpu = tf.identity(a_tensor).cpu()\n",
    "    tensor_on_cpu = tf.make_ndarray(tf.make_tensor_proto(tensor_on_cpu))\n",
    "    for i in range(tensor_on_cpu.shape[0]):\n",
    "        total += tensor_on_cpu[i]\n",
    "    return str(total)\n",
    "\n",
    "tf.random.set_seed(145)\n",
    "\n",
    "with tf.device('/GPU:0'):\n",
    "    data = tf.random.uniform((2**12,), dtype=tf.float32)\n",
    "\n",
    "\n",
    "# Call the functions\n",
    "print(first_sum(data))\n",
    "print(second_sum(data))\n",
    "print(third_sum(data))\n"
   ]
  },
  {
   "cell_type": "code",
   "execution_count": null,
   "id": "50fedad9-3bcd-484e-9a04-1c0ae1dcd81d",
   "metadata": {},
   "outputs": [
    {
     "name": "stdout",
     "output_type": "stream",
     "text": [
      "503 ms ± 512 µs per loop (mean ± std. dev. of 7 runs, 1 loop each)\n"
     ]
    }
   ],
   "source": [
    "%%timeit\n",
    "sum1 = first_sum(data)"
   ]
  },
  {
   "cell_type": "code",
   "execution_count": null,
   "id": "d4f65abf-d6c5-4ee3-9d06-6b910a95e530",
   "metadata": {},
   "outputs": [
    {
     "name": "stdout",
     "output_type": "stream",
     "text": [
      "642 ms ± 600 µs per loop (mean ± std. dev. of 7 runs, 1 loop each)\n"
     ]
    }
   ],
   "source": [
    "%%timeit\n",
    "sum2 = second_sum(data)"
   ]
  },
  {
   "cell_type": "code",
   "execution_count": null,
   "id": "c3c03928-7c82-45d8-b35b-831f02b82702",
   "metadata": {},
   "outputs": [
    {
     "name": "stdout",
     "output_type": "stream",
     "text": [
      "594 µs ± 4.62 µs per loop (mean ± std. dev. of 7 runs, 1,000 loops each)\n"
     ]
    }
   ],
   "source": [
    "%%timeit\n",
    "sum3 = third_sum(data)"
   ]
  },
  {
   "cell_type": "code",
   "execution_count": null,
   "id": "e438cb59-6631-40cf-927a-630c1620f6e1",
   "metadata": {},
   "outputs": [],
   "source": []
  }
 ],
 "metadata": {
  "kernelspec": {
   "display_name": "tf2.1",
   "language": "python",
   "name": "tf2.1"
  }
 },
 "nbformat": 4,
 "nbformat_minor": 5
}

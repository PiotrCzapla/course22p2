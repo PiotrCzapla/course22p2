{
 "cells": [
  {
   "cell_type": "code",
   "execution_count": null,
   "id": "4f333ba6-723b-415a-ba25-bf2674d949c5",
   "metadata": {},
   "outputs": [],
   "source": [
    "import ctypes\n",
    "\n",
    "class Nanosleep:\n",
    "    def __init__(self):\n",
    "        self.libc = ctypes.CDLL('libc.so.6')\n",
    "        class timespec(ctypes.Structure):\n",
    "            _fields_ = [(\"tv_sec\", ctypes.c_long),\n",
    "                        (\"tv_nsec\", ctypes.c_long)]\n",
    "        self.delay_time = timespec(0, 0)\n",
    "        self.libc.nanosleep.argtypes = [ctypes.POINTER(timespec), ctypes.POINTER(timespec)]\n",
    "        self.libc.nanosleep.restype = ctypes.c_int\n",
    "        \n",
    "    def __call__(self, nanoseconds):\n",
    "        self.delay_time.tv_sec = nanoseconds // 1000_000_000\n",
    "        self.delay_time.tv_nsec = (nanoseconds % 1000_000_000)\n",
    "        self.libc.nanosleep(ctypes.byref(self.delay_time), None)"
   ]
  },
  {
   "cell_type": "code",
   "execution_count": null,
   "id": "b4c6fb7a-0b5a-4208-abc6-d4cf7bc76900",
   "metadata": {},
   "outputs": [
    {
     "name": "stdout",
     "output_type": "stream",
     "text": [
      "Elapsed time: 1.00 seconds\n"
     ]
    }
   ],
   "source": [
    "import time\n",
    "\n",
    "# define the Nanosleep class here...\n",
    "\n",
    "# create an instance of the Nanosleep class\n",
    "ns = Nanosleep()\n",
    "\n",
    "# sleep for 1 second using the Nanosleep class\n",
    "start_time = time.time()\n",
    "ns(1000_000_000)\n",
    "end_time = time.time()\n",
    "\n",
    "# print the elapsed time\n",
    "print(\"Elapsed time: {:.2f} seconds\".format(end_time - start_time))"
   ]
  },
  {
   "cell_type": "code",
   "execution_count": null,
   "id": "e6c1cd92-d5dc-4be8-9d1e-1f22128c6eb8",
   "metadata": {},
   "outputs": [],
   "source": []
  },
  {
   "cell_type": "code",
   "execution_count": null,
   "id": "6ede23e2-ec7d-4591-985f-77ece0def6e4",
   "metadata": {},
   "outputs": [],
   "source": [
    "import torch\n",
    "import torchvision.models as models\n",
    "from torch.profiler import profile, record_function, ProfilerActivity\n",
    "\n",
    "\n",
    "\n",
    "def no_torch_pure_loop(a_tensor):\n",
    "    total = 1\n",
    "    for i in range(a_tensor.size()[0]):\n",
    "        total += 1\n",
    "\n",
    "def my_add(total, val): return total+val\n",
    "\n",
    "def no_torch_pycall(a_tensor):\n",
    "    total = 1\n",
    "    for i in range(a_tensor.size()[0]):\n",
    "        total = my_add(total, 1)\n",
    "\n",
    "def cpu_no_copy(a_tensor):\n",
    "    total = 1\n",
    "    for i in range(a_tensor.shape[0]):\n",
    "        total = a_tensor[i]\n",
    "\n",
    "def cpu_no_copy_nano_sleep(a_tensor):\n",
    "    total = 1\n",
    "    for i in range(a_tensor.shape[0]):\n",
    "        total = a_tensor[i]        \n",
    "        ns(0)\n",
    "\n",
    "def first_sum(a_tensor):\n",
    "    \"\"\"\n",
    "    needs to wait for 0.023 - 0.025 ms for each copy\n",
    "    then 0.005 ms for add on cpu and python\n",
    "    => 0.30ms * 2**12 = 122.88 ms\n",
    "    \"\"\"\n",
    "    total = 0.0\n",
    "    for i in range(a_tensor.size()[0]):\n",
    "        total += a_tensor[i].cpu()\n",
    "    return total\n",
    "\n",
    "def first_sum2(a_tensor):\n",
    "    total = torch.zeros(1, device='cuda')\n",
    "    for i in range(a_tensor.size()[0]):\n",
    "        total += a_tensor[i].to('cuda')\n",
    "    return total\n",
    "\n",
    "def second_sum(a_tensor):\n",
    "    \"\"\" \n",
    "    add_ 0.004 - 0.006 ms - \n",
    "    select - 0.001 ms\n",
    "    then after 1k operations get queued (happens after 4.8k events)\n",
    "    you have to wait with aten:add_ for 2.025 ms\n",
    "    \"\"\"\n",
    "    total = torch.zeros(1, device='cuda')\n",
    "    for i in range(a_tensor.size()[0]):\n",
    "        total += a_tensor[i]\n",
    "    return total\n",
    "\n",
    "def third_sum(a_tensor):\n",
    "    total = 0.0\n",
    "    tensor_on_cpu = a_tensor.cpu()\n",
    "    for i in range(tensor_on_cpu.size()[0]):\n",
    "        total += tensor_on_cpu[i]\n",
    "    return total\n",
    "\n",
    "\n",
    "def third_sum_clone(a_tensor):\n",
    "    total = 0.0\n",
    "    tensor_on_cpu = a_tensor.cpu()\n",
    "    for i in range(tensor_on_cpu.size()[0]):\n",
    "        total += torch.tensor(tensor_on_cpu[i].item())\n",
    "    return total\n",
    "\n",
    "torch.manual_seed(145) # Fun fact: 145 = 1! + 4! +5!\n",
    "data = torch.rand(2**12, device='cuda', dtype=torch.float64)"
   ]
  },
  {
   "cell_type": "code",
   "execution_count": null,
   "id": "dbba5ba8-630d-4f2c-a08d-23c0c6cf7dbe",
   "metadata": {},
   "outputs": [
    {
     "name": "stdout",
     "output_type": "stream",
     "text": [
      "210 µs ± 2.05 µs per loop (mean ± std. dev. of 7 runs, 1,000 loops each)\n"
     ]
    }
   ],
   "source": [
    "%%timeit\n",
    "no_torch_pycall(data)"
   ]
  },
  {
   "cell_type": "code",
   "execution_count": null,
   "id": "d0ce6e5a-724c-4bd2-85e6-57b85354f2d5",
   "metadata": {},
   "outputs": [
    {
     "name": "stdout",
     "output_type": "stream",
     "text": [
      "94.2 µs ± 1.72 µs per loop (mean ± std. dev. of 7 runs, 10,000 loops each)\n"
     ]
    }
   ],
   "source": [
    "%%timeit\n",
    "no_torch_pure_loop(data)"
   ]
  },
  {
   "cell_type": "code",
   "execution_count": null,
   "id": "1d65758a-93f0-46a2-a6c6-c2fc789c5fdf",
   "metadata": {},
   "outputs": [
    {
     "name": "stdout",
     "output_type": "stream",
     "text": [
      "35.1 µs ± 42.5 ns per loop (mean ± std. dev. of 7 runs, 10,000 loops each)\n"
     ]
    }
   ],
   "source": [
    "%%timeit \n",
    "tensor_on_cpu = data.cpu()"
   ]
  },
  {
   "cell_type": "code",
   "execution_count": null,
   "id": "d7a1f4bd-3e1c-41c1-b5d0-4bb738881cc6",
   "metadata": {},
   "outputs": [],
   "source": [
    "import numpy as np\n",
    "npdata = np.array(data.cpu())"
   ]
  },
  {
   "cell_type": "code",
   "execution_count": null,
   "id": "00f34c5f-67d8-4008-b41d-639d2d1ccd27",
   "metadata": {},
   "outputs": [
    {
     "name": "stdout",
     "output_type": "stream",
     "text": [
      "199 µs ± 675 ns per loop (mean ± std. dev. of 7 runs, 1,000 loops each)\n"
     ]
    }
   ],
   "source": [
    "%%timeit \n",
    "cpu_no_copy(npdata)"
   ]
  },
  {
   "cell_type": "code",
   "execution_count": null,
   "id": "3d57cd73-c6ce-47a3-9587-e337c6eb1bb8",
   "metadata": {},
   "outputs": [
    {
     "name": "stdout",
     "output_type": "stream",
     "text": [
      "2.9 ms ± 13.9 µs per loop (mean ± std. dev. of 7 runs, 100 loops each)\n"
     ]
    }
   ],
   "source": [
    "%%timeit \n",
    "cpu_no_copy(data_cpu)"
   ]
  },
  {
   "cell_type": "code",
   "execution_count": null,
   "id": "6d2868a7-8488-4794-b7f3-cb05f4ceeec0",
   "metadata": {},
   "outputs": [
    {
     "name": "stdout",
     "output_type": "stream",
     "text": [
      "273 ms ± 635 µs per loop (mean ± std. dev. of 7 runs, 1 loop each)\n"
     ]
    }
   ],
   "source": [
    "%%timeit \n",
    "cpu_no_copy_nano_sleep(data_cpu)"
   ]
  },
  {
   "cell_type": "code",
   "execution_count": null,
   "id": "b627977f-30ef-483f-b8d3-e0ab75fa6bf9",
   "metadata": {},
   "outputs": [
    {
     "name": "stdout",
     "output_type": "stream",
     "text": [
      "6.54 ms ± 28.5 µs per loop (mean ± std. dev. of 7 runs, 100 loops each)\n"
     ]
    }
   ],
   "source": [
    "%%timeit\n",
    "third_sum(data)"
   ]
  },
  {
   "cell_type": "code",
   "execution_count": null,
   "id": "fd542578-9547-4ad5-9cb8-e77a1c7f7a47",
   "metadata": {},
   "outputs": [
    {
     "name": "stdout",
     "output_type": "stream",
     "text": [
      "6.33 ms ± 12.2 µs per loop (mean ± std. dev. of 7 runs, 100 loops each)\n"
     ]
    }
   ],
   "source": [
    "%%timeit\n",
    "third_sum(data_cpu)"
   ]
  },
  {
   "cell_type": "code",
   "execution_count": null,
   "id": "0d441926-f530-4806-9ba6-e114211cfadf",
   "metadata": {},
   "outputs": [
    {
     "data": {
      "text/plain": [
       "122.88"
      ]
     },
     "execution_count": null,
     "metadata": {},
     "output_type": "execute_result"
    }
   ],
   "source": [
    "0.030 * 2**12"
   ]
  },
  {
   "cell_type": "code",
   "execution_count": null,
   "id": "50fedad9-3bcd-484e-9a04-1c0ae1dcd81d",
   "metadata": {},
   "outputs": [
    {
     "name": "stdout",
     "output_type": "stream",
     "text": [
      "123 ms ± 2.54 ms per loop (mean ± std. dev. of 7 runs, 10 loops each)\n"
     ]
    }
   ],
   "source": [
    "%%timeit\n",
    "sum1 = first_sum(data).cpu()"
   ]
  },
  {
   "cell_type": "code",
   "execution_count": null,
   "id": "995ce736-ce85-4632-aacd-5de1fbe447d3",
   "metadata": {},
   "outputs": [
    {
     "name": "stdout",
     "output_type": "stream",
     "text": [
      "208 ms ± 2.47 ms per loop (mean ± std. dev. of 7 runs, 1 loop each)\n"
     ]
    }
   ],
   "source": [
    "%%timeit\n",
    "sum1 = first_sum2(data_cpu).cpu()"
   ]
  },
  {
   "cell_type": "code",
   "execution_count": null,
   "id": "d4f65abf-d6c5-4ee3-9d06-6b910a95e530",
   "metadata": {},
   "outputs": [
    {
     "name": "stdout",
     "output_type": "stream",
     "text": [
      "1.65 ms ± 60.6 µs per loop (mean ± std. dev. of 7 runs, 1,000 loops each)\n"
     ]
    }
   ],
   "source": [
    "%%timeit\n",
    "sum2 = second_sum(data)"
   ]
  },
  {
   "cell_type": "code",
   "execution_count": null,
   "id": "f5aea174-6148-416a-94c3-d551ac3bab1e",
   "metadata": {},
   "outputs": [
    {
     "name": "stdout",
     "output_type": "stream",
     "text": [
      "2.26 ms ± 148 µs per loop (mean ± std. dev. of 7 runs, 100 loops each)\n"
     ]
    }
   ],
   "source": [
    "%%timeit\n",
    "sum2 = second_sum(data).cpu()"
   ]
  },
  {
   "cell_type": "code",
   "execution_count": null,
   "id": "c3c03928-7c82-45d8-b35b-831f02b82702",
   "metadata": {},
   "outputs": [
    {
     "name": "stdout",
     "output_type": "stream",
     "text": [
      "6.25 ms ± 17.4 µs per loop (mean ± std. dev. of 7 runs, 100 loops each)\n"
     ]
    }
   ],
   "source": [
    "%%timeit\n",
    "sum3 = third_sum(data)"
   ]
  },
  {
   "cell_type": "code",
   "execution_count": null,
   "id": "3b5680f1-d538-4782-b99f-3dd2557ad166",
   "metadata": {},
   "outputs": [
    {
     "name": "stdout",
     "output_type": "stream",
     "text": [
      "16.2 ms ± 76.5 µs per loop (mean ± std. dev. of 7 runs, 100 loops each)\n"
     ]
    }
   ],
   "source": [
    "%%timeit\n",
    "sum3 = third_sum_clone(data)"
   ]
  },
  {
   "cell_type": "code",
   "execution_count": null,
   "id": "97f4d76b-6ef8-426f-9df6-3ea6bc1ee099",
   "metadata": {},
   "outputs": [
    {
     "name": "stderr",
     "output_type": "stream",
     "text": [
      "STAGE:2023-02-16 08:29:29 15854:15854 ActivityProfilerController.cpp:294] Completed Stage: Warm Up\n",
      "STAGE:2023-02-16 08:29:30 15854:15854 ActivityProfilerController.cpp:300] Completed Stage: Collection\n",
      "STAGE:2023-02-16 08:29:30 15854:15854 output_json.cpp:417] Completed Stage: Post Processing\n"
     ]
    }
   ],
   "source": [
    "with profile(activities=[ProfilerActivity.CPU, ProfilerActivity.CUDA]) as prof:\n",
    "    sum1 = first_sum(data).cpu()\n",
    "\n",
    "prof.export_chrome_trace(\"trace_first_sum.json\")"
   ]
  },
  {
   "cell_type": "code",
   "execution_count": null,
   "id": "a8e37748-4d05-4e64-88e4-21487269485e",
   "metadata": {},
   "outputs": [
    {
     "name": "stderr",
     "output_type": "stream",
     "text": [
      "STAGE:2023-02-16 08:29:33 15854:15854 ActivityProfilerController.cpp:294] Completed Stage: Warm Up\n",
      "STAGE:2023-02-16 08:29:33 15854:15854 ActivityProfilerController.cpp:300] Completed Stage: Collection\n",
      "STAGE:2023-02-16 08:29:34 15854:15854 output_json.cpp:417] Completed Stage: Post Processing\n"
     ]
    }
   ],
   "source": [
    "data_cpu = data.cpu()\n",
    "with profile(activities=[ProfilerActivity.CPU, ProfilerActivity.CUDA]) as prof:\n",
    "    sum1 = first_sum2(data_cpu).cpu()\n",
    "\n",
    "prof.export_chrome_trace(\"trace_first_sum2.json\")"
   ]
  },
  {
   "cell_type": "code",
   "execution_count": null,
   "id": "9c38834d-39be-4908-bfce-e9fd7f054556",
   "metadata": {},
   "outputs": [
    {
     "name": "stderr",
     "output_type": "stream",
     "text": [
      "STAGE:2023-02-16 08:29:57 15854:15854 ActivityProfilerController.cpp:294] Completed Stage: Warm Up\n",
      "STAGE:2023-02-16 08:29:57 15854:15854 ActivityProfilerController.cpp:300] Completed Stage: Collection\n",
      "STAGE:2023-02-16 08:29:57 15854:15854 output_json.cpp:417] Completed Stage: Post Processing\n"
     ]
    }
   ],
   "source": [
    "with profile(activities=[ProfilerActivity.CPU, ProfilerActivity.CUDA]) as prof:\n",
    "    sum1 = second_sum(data).cpu()\n",
    "\n",
    "prof.export_chrome_trace(\"trace_second_sum.json\")"
   ]
  },
  {
   "cell_type": "code",
   "execution_count": null,
   "id": "fc5c99e1-e806-4a02-9930-94456364b6f3",
   "metadata": {},
   "outputs": [],
   "source": []
  }
 ],
 "metadata": {
  "kernelspec": {
   "display_name": "Python 3 (ipykernel)",
   "language": "python",
   "name": "python3"
  }
 },
 "nbformat": 4,
 "nbformat_minor": 5
}
